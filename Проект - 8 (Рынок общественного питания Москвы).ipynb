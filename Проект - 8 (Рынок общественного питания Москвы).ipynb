{
 "cells": [
  {
   "cell_type": "markdown",
   "metadata": {
    "toc": true
   },
   "source": [
    "<h1>Содержание<span class=\"tocSkip\"></span></h1>\n",
    "<div class=\"toc\"><ul class=\"toc-item\"><li><span><a href=\"#Предобработка-информации\" data-toc-modified-id=\"Предобработка-информации-1\"><span class=\"toc-item-num\">1&nbsp;&nbsp;</span>Предобработка информации</a></span><ul class=\"toc-item\"><li><span><a href=\"#Импорт-данных\" data-toc-modified-id=\"Импорт-данных-1.1\"><span class=\"toc-item-num\">1.1&nbsp;&nbsp;</span>Импорт данных</a></span></li><li><span><a href=\"#Поиск-и-удаление-дубликатов\" data-toc-modified-id=\"Поиск-и-удаление-дубликатов-1.2\"><span class=\"toc-item-num\">1.2&nbsp;&nbsp;</span>Поиск и удаление дубликатов</a></span></li></ul></li><li><span><a href=\"#Анализ-данных\" data-toc-modified-id=\"Анализ-данных-2\"><span class=\"toc-item-num\">2&nbsp;&nbsp;</span>Анализ данных</a></span><ul class=\"toc-item\"><li><span><a href=\"#Соотношение-видов-объектов-общественного-питания-по-количеству\" data-toc-modified-id=\"Соотношение-видов-объектов-общественного-питания-по-количеству-2.1\"><span class=\"toc-item-num\">2.1&nbsp;&nbsp;</span>Соотношение видов объектов общественного питания по количеству</a></span></li><li><span><a href=\"#Соотношение-сетевых-и-несетевых-заведений\" data-toc-modified-id=\"Соотношение-сетевых-и-несетевых-заведений-2.2\"><span class=\"toc-item-num\">2.2&nbsp;&nbsp;</span>Соотношение сетевых и несетевых заведений</a></span></li><li><span><a href=\"#Популярные-типы-объектов-для-сетевых-заведений\" data-toc-modified-id=\"Популярные-типы-объектов-для-сетевых-заведений-2.3\"><span class=\"toc-item-num\">2.3&nbsp;&nbsp;</span>Популярные типы объектов для сетевых заведений</a></span></li><li><span><a href=\"#Форматы-сетевых-заведений-по-числу-посадочных-мест\" data-toc-modified-id=\"Форматы-сетевых-заведений-по-числу-посадочных-мест-2.4\"><span class=\"toc-item-num\">2.4&nbsp;&nbsp;</span>Форматы сетевых заведений по числу посадочных мест</a></span></li><li><span><a href=\"#Среднее-количество-посадочных-мест-в-объектах-общественного-питания\" data-toc-modified-id=\"Среднее-количество-посадочных-мест-в-объектах-общественного-питания-2.5\"><span class=\"toc-item-num\">2.5&nbsp;&nbsp;</span>Среднее количество посадочных мест в объектах общественного питания</a></span></li><li><span><a href=\"#Адрес\" data-toc-modified-id=\"Адрес-2.6\"><span class=\"toc-item-num\">2.6&nbsp;&nbsp;</span>Адрес</a></span></li><li><span><a href=\"#Справочник-адресов-Москвы\" data-toc-modified-id=\"Справочник-адресов-Москвы-2.7\"><span class=\"toc-item-num\">2.7&nbsp;&nbsp;</span>Справочник адресов Москвы</a></span></li><li><span><a href=\"#Самые-популярные-улицы\" data-toc-modified-id=\"Самые-популярные-улицы-2.8\"><span class=\"toc-item-num\">2.8&nbsp;&nbsp;</span>Самые популярные улицы</a></span></li><li><span><a href=\"#Улицы-с-одним-объектом-общественного-питания\" data-toc-modified-id=\"Улицы-с-одним-объектом-общественного-питания-2.9\"><span class=\"toc-item-num\">2.9&nbsp;&nbsp;</span>Улицы с одним объектом общественного питания</a></span></li><li><span><a href=\"#Распределение-количества-посадочных-мест-для-популярных-улиц\" data-toc-modified-id=\"Распределение-количества-посадочных-мест-для-популярных-улиц-2.10\"><span class=\"toc-item-num\">2.10&nbsp;&nbsp;</span>Распределение количества посадочных мест для популярных улиц</a></span></li></ul></li><li><span><a href=\"#Выводы\" data-toc-modified-id=\"Выводы-3\"><span class=\"toc-item-num\">3&nbsp;&nbsp;</span>Выводы</a></span></li></ul></div>"
   ]
  },
  {
   "cell_type": "markdown",
   "metadata": {},
   "source": [
    "# Выбор сегмента для открытия небольшого кафе в Москве"
   ]
  },
  {
   "cell_type": "markdown",
   "metadata": {},
   "source": [
    "Принято решение открыть небольшое кафе в Москве. Оно оригинальное — гостей должны обслуживать роботы. Проект многообещающий, но дорогой. Вместе с партнёрами требуется помощь инвесторов. Их интересует текущее положение дел на рынке — сможете ли вы снискать популярность на долгое время, когда все зеваки насмотрятся на роботов-официантов?\n",
    "\n",
    "\n",
    "Для презентации инвесторам необходимо подготовить исследование рынка. Имеются открытые данные о заведениях общественного питания в Москве."
   ]
  },
  {
   "cell_type": "markdown",
   "metadata": {},
   "source": [
    "## Предобработка информации"
   ]
  },
  {
   "cell_type": "markdown",
   "metadata": {},
   "source": [
    "### Импорт данных"
   ]
  },
  {
   "cell_type": "code",
   "execution_count": 1,
   "metadata": {},
   "outputs": [],
   "source": [
    "#  импортируем необходимые библиотеки\n",
    "import pandas as pd\n",
    "import matplotlib.pyplot as plt\n",
    "import seaborn as sns\n",
    "import numpy as np\n",
    "from io import BytesIO\n",
    "import requests\n",
    "\n"
   ]
  },
  {
   "cell_type": "code",
   "execution_count": 2,
   "metadata": {},
   "outputs": [
    {
     "name": "stdout",
     "output_type": "stream",
     "text": [
      "<class 'pandas.core.frame.DataFrame'>\n",
      "RangeIndex: 15366 entries, 0 to 15365\n",
      "Data columns (total 6 columns):\n",
      "id             15366 non-null int64\n",
      "object_name    15366 non-null object\n",
      "chain          15366 non-null object\n",
      "object_type    15366 non-null object\n",
      "address        15366 non-null object\n",
      "number         15366 non-null int64\n",
      "dtypes: int64(2), object(4)\n",
      "memory usage: 720.4+ KB\n"
     ]
    }
   ],
   "source": [
    "df = pd.read_csv('/datasets/rest_data.csv')\n",
    "df.info()"
   ]
  },
  {
   "cell_type": "markdown",
   "metadata": {},
   "source": [
    "все ячейки заполнены"
   ]
  },
  {
   "cell_type": "code",
   "execution_count": 3,
   "metadata": {},
   "outputs": [
    {
     "data": {
      "text/html": [
       "<div>\n",
       "<style scoped>\n",
       "    .dataframe tbody tr th:only-of-type {\n",
       "        vertical-align: middle;\n",
       "    }\n",
       "\n",
       "    .dataframe tbody tr th {\n",
       "        vertical-align: top;\n",
       "    }\n",
       "\n",
       "    .dataframe thead th {\n",
       "        text-align: right;\n",
       "    }\n",
       "</style>\n",
       "<table border=\"1\" class=\"dataframe\">\n",
       "  <thead>\n",
       "    <tr style=\"text-align: right;\">\n",
       "      <th></th>\n",
       "      <th>id</th>\n",
       "      <th>object_name</th>\n",
       "      <th>chain</th>\n",
       "      <th>object_type</th>\n",
       "      <th>address</th>\n",
       "      <th>number</th>\n",
       "    </tr>\n",
       "  </thead>\n",
       "  <tbody>\n",
       "    <tr>\n",
       "      <td>0</td>\n",
       "      <td>151635</td>\n",
       "      <td>СМЕТАНА</td>\n",
       "      <td>нет</td>\n",
       "      <td>кафе</td>\n",
       "      <td>город Москва, улица Егора Абакумова, дом 9</td>\n",
       "      <td>48</td>\n",
       "    </tr>\n",
       "    <tr>\n",
       "      <td>1</td>\n",
       "      <td>77874</td>\n",
       "      <td>Родник</td>\n",
       "      <td>нет</td>\n",
       "      <td>кафе</td>\n",
       "      <td>город Москва, улица Талалихина, дом 2/1, корпус 1</td>\n",
       "      <td>35</td>\n",
       "    </tr>\n",
       "    <tr>\n",
       "      <td>2</td>\n",
       "      <td>24309</td>\n",
       "      <td>Кафе «Академия»</td>\n",
       "      <td>нет</td>\n",
       "      <td>кафе</td>\n",
       "      <td>город Москва, Абельмановская улица, дом 6</td>\n",
       "      <td>95</td>\n",
       "    </tr>\n",
       "    <tr>\n",
       "      <td>3</td>\n",
       "      <td>21894</td>\n",
       "      <td>ПИЦЦЕТОРИЯ</td>\n",
       "      <td>да</td>\n",
       "      <td>кафе</td>\n",
       "      <td>город Москва, Абрамцевская улица, дом 1</td>\n",
       "      <td>40</td>\n",
       "    </tr>\n",
       "    <tr>\n",
       "      <td>4</td>\n",
       "      <td>119365</td>\n",
       "      <td>Кафе «Вишневая метель»</td>\n",
       "      <td>нет</td>\n",
       "      <td>кафе</td>\n",
       "      <td>город Москва, Абрамцевская улица, дом 9, корпус 1</td>\n",
       "      <td>50</td>\n",
       "    </tr>\n",
       "    <tr>\n",
       "      <td>5</td>\n",
       "      <td>27429</td>\n",
       "      <td>СТОЛ. ПРИ ГОУ СОШ № 1051</td>\n",
       "      <td>нет</td>\n",
       "      <td>столовая</td>\n",
       "      <td>город Москва, Абрамцевская улица, дом 15, корп...</td>\n",
       "      <td>240</td>\n",
       "    </tr>\n",
       "    <tr>\n",
       "      <td>6</td>\n",
       "      <td>148815</td>\n",
       "      <td>Брусника</td>\n",
       "      <td>да</td>\n",
       "      <td>кафе</td>\n",
       "      <td>город Москва, переулок Сивцев Вражек, дом 6/2</td>\n",
       "      <td>10</td>\n",
       "    </tr>\n",
       "    <tr>\n",
       "      <td>7</td>\n",
       "      <td>20957</td>\n",
       "      <td>Буфет МТУСИ</td>\n",
       "      <td>нет</td>\n",
       "      <td>столовая</td>\n",
       "      <td>город Москва, Авиамоторная улица, дом 8, строе...</td>\n",
       "      <td>90</td>\n",
       "    </tr>\n",
       "    <tr>\n",
       "      <td>8</td>\n",
       "      <td>20958</td>\n",
       "      <td>КПФ СЕМЬЯ-1</td>\n",
       "      <td>нет</td>\n",
       "      <td>столовая</td>\n",
       "      <td>город Москва, Авиамоторная улица, дом 8, строе...</td>\n",
       "      <td>150</td>\n",
       "    </tr>\n",
       "    <tr>\n",
       "      <td>9</td>\n",
       "      <td>28858</td>\n",
       "      <td>Столовая МТУСИ</td>\n",
       "      <td>нет</td>\n",
       "      <td>столовая</td>\n",
       "      <td>город Москва, Авиамоторная улица, дом 8, строе...</td>\n",
       "      <td>120</td>\n",
       "    </tr>\n",
       "  </tbody>\n",
       "</table>\n",
       "</div>"
      ],
      "text/plain": [
       "       id               object_name chain object_type  \\\n",
       "0  151635                   СМЕТАНА   нет        кафе   \n",
       "1   77874                    Родник   нет        кафе   \n",
       "2   24309           Кафе «Академия»   нет        кафе   \n",
       "3   21894                ПИЦЦЕТОРИЯ    да        кафе   \n",
       "4  119365    Кафе «Вишневая метель»   нет        кафе   \n",
       "5   27429  СТОЛ. ПРИ ГОУ СОШ № 1051   нет    столовая   \n",
       "6  148815                  Брусника    да        кафе   \n",
       "7   20957               Буфет МТУСИ   нет    столовая   \n",
       "8   20958               КПФ СЕМЬЯ-1   нет    столовая   \n",
       "9   28858            Столовая МТУСИ   нет    столовая   \n",
       "\n",
       "                                             address  number  \n",
       "0         город Москва, улица Егора Абакумова, дом 9      48  \n",
       "1  город Москва, улица Талалихина, дом 2/1, корпус 1      35  \n",
       "2          город Москва, Абельмановская улица, дом 6      95  \n",
       "3            город Москва, Абрамцевская улица, дом 1      40  \n",
       "4  город Москва, Абрамцевская улица, дом 9, корпус 1      50  \n",
       "5  город Москва, Абрамцевская улица, дом 15, корп...     240  \n",
       "6      город Москва, переулок Сивцев Вражек, дом 6/2      10  \n",
       "7  город Москва, Авиамоторная улица, дом 8, строе...      90  \n",
       "8  город Москва, Авиамоторная улица, дом 8, строе...     150  \n",
       "9  город Москва, Авиамоторная улица, дом 8, строе...     120  "
      ]
     },
     "execution_count": 3,
     "metadata": {},
     "output_type": "execute_result"
    }
   ],
   "source": [
    "df.head(10)"
   ]
  },
  {
   "cell_type": "code",
   "execution_count": 4,
   "metadata": {},
   "outputs": [
    {
     "data": {
      "text/html": [
       "<div>\n",
       "<style scoped>\n",
       "    .dataframe tbody tr th:only-of-type {\n",
       "        vertical-align: middle;\n",
       "    }\n",
       "\n",
       "    .dataframe tbody tr th {\n",
       "        vertical-align: top;\n",
       "    }\n",
       "\n",
       "    .dataframe thead th {\n",
       "        text-align: right;\n",
       "    }\n",
       "</style>\n",
       "<table border=\"1\" class=\"dataframe\">\n",
       "  <thead>\n",
       "    <tr style=\"text-align: right;\">\n",
       "      <th></th>\n",
       "      <th>id</th>\n",
       "      <th>number</th>\n",
       "    </tr>\n",
       "  </thead>\n",
       "  <tbody>\n",
       "    <tr>\n",
       "      <td>count</td>\n",
       "      <td>15366.000000</td>\n",
       "      <td>15366.000000</td>\n",
       "    </tr>\n",
       "    <tr>\n",
       "      <td>mean</td>\n",
       "      <td>119720.066901</td>\n",
       "      <td>59.547182</td>\n",
       "    </tr>\n",
       "    <tr>\n",
       "      <td>std</td>\n",
       "      <td>73036.130732</td>\n",
       "      <td>74.736833</td>\n",
       "    </tr>\n",
       "    <tr>\n",
       "      <td>min</td>\n",
       "      <td>838.000000</td>\n",
       "      <td>0.000000</td>\n",
       "    </tr>\n",
       "    <tr>\n",
       "      <td>25%</td>\n",
       "      <td>28524.000000</td>\n",
       "      <td>12.000000</td>\n",
       "    </tr>\n",
       "    <tr>\n",
       "      <td>50%</td>\n",
       "      <td>144974.500000</td>\n",
       "      <td>40.000000</td>\n",
       "    </tr>\n",
       "    <tr>\n",
       "      <td>75%</td>\n",
       "      <td>184262.250000</td>\n",
       "      <td>80.000000</td>\n",
       "    </tr>\n",
       "    <tr>\n",
       "      <td>max</td>\n",
       "      <td>223439.000000</td>\n",
       "      <td>1700.000000</td>\n",
       "    </tr>\n",
       "  </tbody>\n",
       "</table>\n",
       "</div>"
      ],
      "text/plain": [
       "                  id        number\n",
       "count   15366.000000  15366.000000\n",
       "mean   119720.066901     59.547182\n",
       "std     73036.130732     74.736833\n",
       "min       838.000000      0.000000\n",
       "25%     28524.000000     12.000000\n",
       "50%    144974.500000     40.000000\n",
       "75%    184262.250000     80.000000\n",
       "max    223439.000000   1700.000000"
      ]
     },
     "execution_count": 4,
     "metadata": {},
     "output_type": "execute_result"
    }
   ],
   "source": [
    "df.describe()"
   ]
  },
  {
   "cell_type": "code",
   "execution_count": 5,
   "metadata": {},
   "outputs": [],
   "source": [
    "#  вводим условие для ширины столбца, чтобы текст отображался полностью\n",
    "pd.set_option('display.max_colwidth', -1)"
   ]
  },
  {
   "cell_type": "code",
   "execution_count": 6,
   "metadata": {},
   "outputs": [
    {
     "data": {
      "text/html": [
       "<div>\n",
       "<style scoped>\n",
       "    .dataframe tbody tr th:only-of-type {\n",
       "        vertical-align: middle;\n",
       "    }\n",
       "\n",
       "    .dataframe tbody tr th {\n",
       "        vertical-align: top;\n",
       "    }\n",
       "\n",
       "    .dataframe thead th {\n",
       "        text-align: right;\n",
       "    }\n",
       "</style>\n",
       "<table border=\"1\" class=\"dataframe\">\n",
       "  <thead>\n",
       "    <tr style=\"text-align: right;\">\n",
       "      <th></th>\n",
       "      <th>id</th>\n",
       "      <th>object_name</th>\n",
       "      <th>chain</th>\n",
       "      <th>object_type</th>\n",
       "      <th>address</th>\n",
       "      <th>number</th>\n",
       "    </tr>\n",
       "  </thead>\n",
       "  <tbody>\n",
       "    <tr>\n",
       "      <td>0</td>\n",
       "      <td>151635</td>\n",
       "      <td>СМЕТАНА</td>\n",
       "      <td>нет</td>\n",
       "      <td>кафе</td>\n",
       "      <td>город Москва, улица Егора Абакумова, дом 9</td>\n",
       "      <td>48</td>\n",
       "    </tr>\n",
       "    <tr>\n",
       "      <td>1</td>\n",
       "      <td>77874</td>\n",
       "      <td>Родник</td>\n",
       "      <td>нет</td>\n",
       "      <td>кафе</td>\n",
       "      <td>город Москва, улица Талалихина, дом 2/1, корпус 1</td>\n",
       "      <td>35</td>\n",
       "    </tr>\n",
       "    <tr>\n",
       "      <td>2</td>\n",
       "      <td>24309</td>\n",
       "      <td>Кафе «Академия»</td>\n",
       "      <td>нет</td>\n",
       "      <td>кафе</td>\n",
       "      <td>город Москва, Абельмановская улица, дом 6</td>\n",
       "      <td>95</td>\n",
       "    </tr>\n",
       "    <tr>\n",
       "      <td>3</td>\n",
       "      <td>21894</td>\n",
       "      <td>ПИЦЦЕТОРИЯ</td>\n",
       "      <td>да</td>\n",
       "      <td>кафе</td>\n",
       "      <td>город Москва, Абрамцевская улица, дом 1</td>\n",
       "      <td>40</td>\n",
       "    </tr>\n",
       "    <tr>\n",
       "      <td>4</td>\n",
       "      <td>119365</td>\n",
       "      <td>Кафе «Вишневая метель»</td>\n",
       "      <td>нет</td>\n",
       "      <td>кафе</td>\n",
       "      <td>город Москва, Абрамцевская улица, дом 9, корпус 1</td>\n",
       "      <td>50</td>\n",
       "    </tr>\n",
       "    <tr>\n",
       "      <td>5</td>\n",
       "      <td>27429</td>\n",
       "      <td>СТОЛ. ПРИ ГОУ СОШ № 1051</td>\n",
       "      <td>нет</td>\n",
       "      <td>столовая</td>\n",
       "      <td>город Москва, Абрамцевская улица, дом 15, корпус 1</td>\n",
       "      <td>240</td>\n",
       "    </tr>\n",
       "    <tr>\n",
       "      <td>6</td>\n",
       "      <td>148815</td>\n",
       "      <td>Брусника</td>\n",
       "      <td>да</td>\n",
       "      <td>кафе</td>\n",
       "      <td>город Москва, переулок Сивцев Вражек, дом 6/2</td>\n",
       "      <td>10</td>\n",
       "    </tr>\n",
       "    <tr>\n",
       "      <td>7</td>\n",
       "      <td>20957</td>\n",
       "      <td>Буфет МТУСИ</td>\n",
       "      <td>нет</td>\n",
       "      <td>столовая</td>\n",
       "      <td>город Москва, Авиамоторная улица, дом 8, строение 1</td>\n",
       "      <td>90</td>\n",
       "    </tr>\n",
       "    <tr>\n",
       "      <td>8</td>\n",
       "      <td>20958</td>\n",
       "      <td>КПФ СЕМЬЯ-1</td>\n",
       "      <td>нет</td>\n",
       "      <td>столовая</td>\n",
       "      <td>город Москва, Авиамоторная улица, дом 8, строение 1</td>\n",
       "      <td>150</td>\n",
       "    </tr>\n",
       "    <tr>\n",
       "      <td>9</td>\n",
       "      <td>28858</td>\n",
       "      <td>Столовая МТУСИ</td>\n",
       "      <td>нет</td>\n",
       "      <td>столовая</td>\n",
       "      <td>город Москва, Авиамоторная улица, дом 8, строение 1</td>\n",
       "      <td>120</td>\n",
       "    </tr>\n",
       "  </tbody>\n",
       "</table>\n",
       "</div>"
      ],
      "text/plain": [
       "       id               object_name chain object_type  \\\n",
       "0  151635  СМЕТАНА                   нет   кафе         \n",
       "1  77874   Родник                    нет   кафе         \n",
       "2  24309   Кафе «Академия»           нет   кафе         \n",
       "3  21894   ПИЦЦЕТОРИЯ                да    кафе         \n",
       "4  119365  Кафе «Вишневая метель»    нет   кафе         \n",
       "5  27429   СТОЛ. ПРИ ГОУ СОШ № 1051  нет   столовая     \n",
       "6  148815  Брусника                  да    кафе         \n",
       "7  20957   Буфет МТУСИ               нет   столовая     \n",
       "8  20958   КПФ СЕМЬЯ-1               нет   столовая     \n",
       "9  28858   Столовая МТУСИ            нет   столовая     \n",
       "\n",
       "                                               address  number  \n",
       "0  город Москва, улица Егора Абакумова, дом 9           48      \n",
       "1  город Москва, улица Талалихина, дом 2/1, корпус 1    35      \n",
       "2  город Москва, Абельмановская улица, дом 6            95      \n",
       "3  город Москва, Абрамцевская улица, дом 1              40      \n",
       "4  город Москва, Абрамцевская улица, дом 9, корпус 1    50      \n",
       "5  город Москва, Абрамцевская улица, дом 15, корпус 1   240     \n",
       "6  город Москва, переулок Сивцев Вражек, дом 6/2        10      \n",
       "7  город Москва, Авиамоторная улица, дом 8, строение 1  90      \n",
       "8  город Москва, Авиамоторная улица, дом 8, строение 1  150     \n",
       "9  город Москва, Авиамоторная улица, дом 8, строение 1  120     "
      ]
     },
     "execution_count": 6,
     "metadata": {},
     "output_type": "execute_result"
    }
   ],
   "source": [
    "df.head(10)"
   ]
  },
  {
   "cell_type": "markdown",
   "metadata": {},
   "source": [
    "### Поиск и удаление дубликатов"
   ]
  },
  {
   "cell_type": "code",
   "execution_count": 7,
   "metadata": {},
   "outputs": [],
   "source": [
    "#  приводим текст в ячейках к строчным буквам\n",
    "df['object_name'] = df['object_name'].str.lower()"
   ]
  },
  {
   "cell_type": "code",
   "execution_count": 8,
   "metadata": {},
   "outputs": [
    {
     "name": "stdout",
     "output_type": "stream",
     "text": [
      "В датасете обнаружено 85 дубликатов\n"
     ]
    }
   ],
   "source": [
    "#  выявляем наличие дубликатов\n",
    "print('В датасете обнаружено {} дубликатов'.format(\n",
    "    df[['object_name','chain','object_type','address','number']]\n",
    "    .duplicated()\n",
    "    .sum()\n",
    ")\n",
    "     )\n"
   ]
  },
  {
   "cell_type": "code",
   "execution_count": 9,
   "metadata": {},
   "outputs": [
    {
     "name": "stdout",
     "output_type": "stream",
     "text": [
      "<class 'pandas.core.frame.DataFrame'>\n",
      "Int64Index: 15281 entries, 0 to 15365\n",
      "Data columns (total 6 columns):\n",
      "id             15281 non-null int64\n",
      "object_name    15281 non-null object\n",
      "chain          15281 non-null object\n",
      "object_type    15281 non-null object\n",
      "address        15281 non-null object\n",
      "number         15281 non-null int64\n",
      "dtypes: int64(2), object(4)\n",
      "memory usage: 835.7+ KB\n"
     ]
    }
   ],
   "source": [
    "#  избавляемся от дубликатов\n",
    "df_un = df.drop_duplicates(subset = ['object_name','chain','object_type','address','number'],keep='first')\n",
    "df_un.info()"
   ]
  },
  {
   "cell_type": "code",
   "execution_count": 10,
   "metadata": {
    "scrolled": false
   },
   "outputs": [
    {
     "data": {
      "text/html": [
       "<div>\n",
       "<style scoped>\n",
       "    .dataframe tbody tr th:only-of-type {\n",
       "        vertical-align: middle;\n",
       "    }\n",
       "\n",
       "    .dataframe tbody tr th {\n",
       "        vertical-align: top;\n",
       "    }\n",
       "\n",
       "    .dataframe thead th {\n",
       "        text-align: right;\n",
       "    }\n",
       "</style>\n",
       "<table border=\"1\" class=\"dataframe\">\n",
       "  <thead>\n",
       "    <tr style=\"text-align: right;\">\n",
       "      <th></th>\n",
       "      <th>id</th>\n",
       "      <th>object_name</th>\n",
       "      <th>chain</th>\n",
       "      <th>object_type</th>\n",
       "      <th>address</th>\n",
       "      <th>number</th>\n",
       "    </tr>\n",
       "  </thead>\n",
       "  <tbody>\n",
       "    <tr>\n",
       "      <td>0</td>\n",
       "      <td>151635</td>\n",
       "      <td>сметана</td>\n",
       "      <td>нет</td>\n",
       "      <td>кафе</td>\n",
       "      <td>город Москва, улица Егора Абакумова, дом 9</td>\n",
       "      <td>48</td>\n",
       "    </tr>\n",
       "    <tr>\n",
       "      <td>1</td>\n",
       "      <td>77874</td>\n",
       "      <td>родник</td>\n",
       "      <td>нет</td>\n",
       "      <td>кафе</td>\n",
       "      <td>город Москва, улица Талалихина, дом 2/1, корпус 1</td>\n",
       "      <td>35</td>\n",
       "    </tr>\n",
       "    <tr>\n",
       "      <td>2</td>\n",
       "      <td>24309</td>\n",
       "      <td>кафе «академия»</td>\n",
       "      <td>нет</td>\n",
       "      <td>кафе</td>\n",
       "      <td>город Москва, Абельмановская улица, дом 6</td>\n",
       "      <td>95</td>\n",
       "    </tr>\n",
       "    <tr>\n",
       "      <td>3</td>\n",
       "      <td>21894</td>\n",
       "      <td>пиццетория</td>\n",
       "      <td>да</td>\n",
       "      <td>кафе</td>\n",
       "      <td>город Москва, Абрамцевская улица, дом 1</td>\n",
       "      <td>40</td>\n",
       "    </tr>\n",
       "    <tr>\n",
       "      <td>4</td>\n",
       "      <td>119365</td>\n",
       "      <td>кафе «вишневая метель»</td>\n",
       "      <td>нет</td>\n",
       "      <td>кафе</td>\n",
       "      <td>город Москва, Абрамцевская улица, дом 9, корпус 1</td>\n",
       "      <td>50</td>\n",
       "    </tr>\n",
       "  </tbody>\n",
       "</table>\n",
       "</div>"
      ],
      "text/plain": [
       "       id             object_name chain object_type  \\\n",
       "0  151635  сметана                 нет   кафе         \n",
       "1  77874   родник                  нет   кафе         \n",
       "2  24309   кафе «академия»         нет   кафе         \n",
       "3  21894   пиццетория              да    кафе         \n",
       "4  119365  кафе «вишневая метель»  нет   кафе         \n",
       "\n",
       "                                             address  number  \n",
       "0  город Москва, улица Егора Абакумова, дом 9         48      \n",
       "1  город Москва, улица Талалихина, дом 2/1, корпус 1  35      \n",
       "2  город Москва, Абельмановская улица, дом 6          95      \n",
       "3  город Москва, Абрамцевская улица, дом 1            40      \n",
       "4  город Москва, Абрамцевская улица, дом 9, корпус 1  50      "
      ]
     },
     "execution_count": 10,
     "metadata": {},
     "output_type": "execute_result"
    }
   ],
   "source": [
    "df_un.head()"
   ]
  },
  {
   "cell_type": "markdown",
   "metadata": {},
   "source": [
    "## Анализ данных"
   ]
  },
  {
   "cell_type": "markdown",
   "metadata": {},
   "source": [
    "### Соотношение видов объектов общественного питания по количеству"
   ]
  },
  {
   "cell_type": "code",
   "execution_count": 11,
   "metadata": {
    "scrolled": false
   },
   "outputs": [
    {
     "data": {
      "text/plain": [
       "Text(0.5, 0, 'Вид объекта')"
      ]
     },
     "execution_count": 11,
     "metadata": {},
     "output_type": "execute_result"
    },
    {
     "data": {
      "image/png": "[encoded data removed]",
      "text/plain": [
       "<Figure size 864x720 with 1 Axes>"
      ]
     },
     "metadata": {},
     "output_type": "display_data"
    }
   ],
   "source": [
    "#  строим круговую диаграмму соотношения видов объектов общественного питания в количественном выражении\n",
    "(\n",
    "    df_un['object_type']\n",
    "    .value_counts(normalize=True)\n",
    "    .plot(kind='pie',\n",
    "          startangle=45, \n",
    "          autopct='%1.1f%%', \n",
    "          figsize=(12,10)\n",
    "         )\n",
    ")\n",
    "plt.title('Соотношение видов объектов общественного питания')\n",
    "plt.ylabel('Доля, %')\n",
    "plt.xlabel('Вид объекта')"
   ]
  },
  {
   "cell_type": "markdown",
   "metadata": {},
   "source": [
    "Наибольшую долю занимают кафе, затем следуют столовые, рестораны и предприятия быстрого обслуживания"
   ]
  },
  {
   "cell_type": "code",
   "execution_count": 12,
   "metadata": {
    "scrolled": true
   },
   "outputs": [],
   "source": [
    "type_count = df_un['object_type'].value_counts(normalize=True).reset_index()"
   ]
  },
  {
   "cell_type": "code",
   "execution_count": null,
   "metadata": {},
   "outputs": [],
   "source": []
  },
  {
   "cell_type": "code",
   "execution_count": 13,
   "metadata": {},
   "outputs": [
    {
     "data": {
      "image/png": "[encoded data removed]",
      "text/plain": [
       "<Figure size 864x576 with 1 Axes>"
      ]
     },
     "metadata": {
      "needs_background": "light"
     },
     "output_type": "display_data"
    }
   ],
   "source": [
    "plt.figure(figsize=(12,8))\n",
    "barplot = sns.barplot(x='object_type',y='index',data=type_count)\n",
    "barplot.set_title('Соотношение видов объектов общественного питания')\n",
    "barplot.set_xlabel('Число заведений, ед.')\n",
    "barplot.set_ylabel('Вид объекта')\n",
    "barplot.grid()\n",
    "plt.show()"
   ]
  },
  {
   "cell_type": "markdown",
   "metadata": {},
   "source": [
    "### Соотношение сетевых и несетевых заведений"
   ]
  },
  {
   "cell_type": "code",
   "execution_count": 14,
   "metadata": {},
   "outputs": [],
   "source": [
    "chain_count = df_un['chain'].value_counts().reset_index()"
   ]
  },
  {
   "cell_type": "code",
   "execution_count": 15,
   "metadata": {},
   "outputs": [
    {
     "data": {
      "image/png": "[encoded data removed]",
      "text/plain": [
       "<Figure size 432x576 with 1 Axes>"
      ]
     },
     "metadata": {
      "needs_background": "light"
     },
     "output_type": "display_data"
    }
   ],
   "source": [
    "plt.figure(figsize=(6,8))\n",
    "barplot = sns.barplot(y='chain',x='index',data=chain_count)\n",
    "barplot.set_title('Соотношение сетевых и несетевых заведений')\n",
    "barplot.set_ylabel('Число заведений, ед.')\n",
    "barplot.set_xlabel('Сетевое заведение (да/нет)')\n",
    "barplot.grid()\n",
    "plt.show()"
   ]
  },
  {
   "cell_type": "markdown",
   "metadata": {},
   "source": [
    "В Москве преобладают (в 5 раз) несетевые заведения общественного питания"
   ]
  },
  {
   "cell_type": "markdown",
   "metadata": {},
   "source": [
    "### Популярные типы объектов для сетевых заведений"
   ]
  },
  {
   "cell_type": "code",
   "execution_count": 16,
   "metadata": {},
   "outputs": [],
   "source": [
    "#  формируем выборки по видам объектов для сетевых заведений и в целом\n",
    "chain_type = (\n",
    "    df_un[df_un['chain']=='да']['object_type']\n",
    "    .value_counts(normalize=True)\n",
    "    .reset_index()\n",
    ")\n",
    "\n",
    "type_count = (\n",
    "    df_un['object_type']\n",
    "    .value_counts(normalize=True)\n",
    "    .reset_index()\n",
    ")\n",
    "\n"
   ]
  },
  {
   "cell_type": "code",
   "execution_count": 17,
   "metadata": {},
   "outputs": [],
   "source": [
    "#  объединяем таблицы\n",
    "type_count_merged = type_count.merge(chain_type, on='index')\n",
    "type_count_merged.columns = ['object_type', 'ratio', 'ratio_chain']"
   ]
  },
  {
   "cell_type": "code",
   "execution_count": 18,
   "metadata": {
    "scrolled": false
   },
   "outputs": [
    {
     "data": {
      "text/html": [
       "<div>\n",
       "<style scoped>\n",
       "    .dataframe tbody tr th:only-of-type {\n",
       "        vertical-align: middle;\n",
       "    }\n",
       "\n",
       "    .dataframe tbody tr th {\n",
       "        vertical-align: top;\n",
       "    }\n",
       "\n",
       "    .dataframe thead th {\n",
       "        text-align: right;\n",
       "    }\n",
       "</style>\n",
       "<table border=\"1\" class=\"dataframe\">\n",
       "  <thead>\n",
       "    <tr style=\"text-align: right;\">\n",
       "      <th></th>\n",
       "      <th>object_type</th>\n",
       "      <th>ratio</th>\n",
       "      <th>ratio_chain</th>\n",
       "    </tr>\n",
       "  </thead>\n",
       "  <tbody>\n",
       "    <tr>\n",
       "      <td>0</td>\n",
       "      <td>кафе</td>\n",
       "      <td>0.397291</td>\n",
       "      <td>0.470985</td>\n",
       "    </tr>\n",
       "    <tr>\n",
       "      <td>1</td>\n",
       "      <td>столовая</td>\n",
       "      <td>0.169099</td>\n",
       "      <td>0.001012</td>\n",
       "    </tr>\n",
       "    <tr>\n",
       "      <td>2</td>\n",
       "      <td>ресторан</td>\n",
       "      <td>0.149336</td>\n",
       "      <td>0.183198</td>\n",
       "    </tr>\n",
       "    <tr>\n",
       "      <td>3</td>\n",
       "      <td>предприятие быстрого обслуживания</td>\n",
       "      <td>0.124141</td>\n",
       "      <td>0.265857</td>\n",
       "    </tr>\n",
       "    <tr>\n",
       "      <td>4</td>\n",
       "      <td>бар</td>\n",
       "      <td>0.055952</td>\n",
       "      <td>0.012483</td>\n",
       "    </tr>\n",
       "    <tr>\n",
       "      <td>5</td>\n",
       "      <td>буфет</td>\n",
       "      <td>0.037694</td>\n",
       "      <td>0.003711</td>\n",
       "    </tr>\n",
       "    <tr>\n",
       "      <td>6</td>\n",
       "      <td>кафетерий</td>\n",
       "      <td>0.025849</td>\n",
       "      <td>0.017544</td>\n",
       "    </tr>\n",
       "    <tr>\n",
       "      <td>7</td>\n",
       "      <td>закусочная</td>\n",
       "      <td>0.022773</td>\n",
       "      <td>0.018893</td>\n",
       "    </tr>\n",
       "    <tr>\n",
       "      <td>8</td>\n",
       "      <td>магазин (отдел кулинарии)</td>\n",
       "      <td>0.017865</td>\n",
       "      <td>0.026316</td>\n",
       "    </tr>\n",
       "  </tbody>\n",
       "</table>\n",
       "</div>"
      ],
      "text/plain": [
       "                         object_type     ratio  ratio_chain\n",
       "0  кафе                               0.397291  0.470985   \n",
       "1  столовая                           0.169099  0.001012   \n",
       "2  ресторан                           0.149336  0.183198   \n",
       "3  предприятие быстрого обслуживания  0.124141  0.265857   \n",
       "4  бар                                0.055952  0.012483   \n",
       "5  буфет                              0.037694  0.003711   \n",
       "6  кафетерий                          0.025849  0.017544   \n",
       "7  закусочная                         0.022773  0.018893   \n",
       "8  магазин (отдел кулинарии)          0.017865  0.026316   "
      ]
     },
     "execution_count": 18,
     "metadata": {},
     "output_type": "execute_result"
    }
   ],
   "source": [
    "type_count_merged"
   ]
  },
  {
   "cell_type": "code",
   "execution_count": 19,
   "metadata": {},
   "outputs": [
    {
     "data": {
      "image/png": "[encoded data removed]",
      "text/plain": [
       "<Figure size 864x576 with 1 Axes>"
      ]
     },
     "metadata": {
      "needs_background": "light"
     },
     "output_type": "display_data"
    }
   ],
   "source": [
    "#  строим графики\n",
    "\n",
    "\n",
    "labels = type_count_merged['object_type']\n",
    "ratio = type_count_merged['ratio']\n",
    "ratio_chain = type_count_merged['ratio_chain']\n",
    "\n",
    "x = np.arange(len(labels))  \n",
    "width = 0.35 \n",
    "\n",
    "fig, ax = plt.subplots(figsize=(12,8))\n",
    "\n",
    "rects1 = ax.bar(x - width/2, ratio, width, label='Общее распределение', alpha=0.9)\n",
    "rects2 = ax.bar(x + width/2, ratio_chain, width, label='Распределение среди сетей')\n",
    "# добавляем подписи к графикам\n",
    "ax.set_ylabel('Доля')\n",
    "ax.set_xlabel('Виды объектов')\n",
    "ax.set_title('Распределение видов объектов общественного питания среди сетей')\n",
    "ax.set_xticks(x)\n",
    "\n",
    "ax.set_xticklabels(labels, rotation = 45, wrap=True)\n",
    "ax.legend()\n",
    "ax.grid()\n",
    "\n",
    "fig.tight_layout()\n",
    "\n",
    "plt.show()"
   ]
  },
  {
   "cell_type": "markdown",
   "metadata": {},
   "source": [
    "Среди сетевых заведений популярностью пользуются кафе, а также предприятия быстрого обслуживания и рестораны. Обращает на себя внимание отсутствие столовых в лидерах среди сетей, сетевые заведения не именуют свои объекты столовыми"
   ]
  },
  {
   "cell_type": "markdown",
   "metadata": {},
   "source": [
    "### Форматы сетевых заведений по числу посадочных мест"
   ]
  },
  {
   "cell_type": "code",
   "execution_count": 20,
   "metadata": {
    "scrolled": false
   },
   "outputs": [
    {
     "data": {
      "image/png": "[encoded data removed]",
      "text/plain": [
       "<Figure size 864x576 with 1 Axes>"
      ]
     },
     "metadata": {
      "needs_background": "light"
     },
     "output_type": "display_data"
    }
   ],
   "source": [
    "df_un[df_un['chain'] == 'да']['number'].hist(bins=70, grid=True, figsize=(12,8))\n",
    "plt.ylabel('Частотность, ед.')\n",
    "plt.xlabel('Количество посадочных мест, ед.')\n",
    "plt.title('Гистограмма распределения количества посадочных мест в заведениях')\n",
    "plt.show()"
   ]
  },
  {
   "cell_type": "markdown",
   "metadata": {},
   "source": [
    "Гистограмма распределения количества посадочных мест в сетевых заведениях свидетельствует, что более заведений с малым количеством посдочных мест и мало заведений с большим количеством мест"
   ]
  },
  {
   "cell_type": "markdown",
   "metadata": {},
   "source": [
    "### Среднее количество посадочных мест в объектах общественного питания"
   ]
  },
  {
   "cell_type": "code",
   "execution_count": 21,
   "metadata": {},
   "outputs": [
    {
     "data": {
      "text/html": [
       "<div>\n",
       "<style scoped>\n",
       "    .dataframe tbody tr th:only-of-type {\n",
       "        vertical-align: middle;\n",
       "    }\n",
       "\n",
       "    .dataframe tbody tr th {\n",
       "        vertical-align: top;\n",
       "    }\n",
       "\n",
       "    .dataframe thead th {\n",
       "        text-align: right;\n",
       "    }\n",
       "</style>\n",
       "<table border=\"1\" class=\"dataframe\">\n",
       "  <thead>\n",
       "    <tr style=\"text-align: right;\">\n",
       "      <th></th>\n",
       "      <th>number</th>\n",
       "    </tr>\n",
       "    <tr>\n",
       "      <th>object_type</th>\n",
       "      <th></th>\n",
       "    </tr>\n",
       "  </thead>\n",
       "  <tbody>\n",
       "    <tr>\n",
       "      <td>столовая</td>\n",
       "      <td>103</td>\n",
       "    </tr>\n",
       "    <tr>\n",
       "      <td>ресторан</td>\n",
       "      <td>80</td>\n",
       "    </tr>\n",
       "    <tr>\n",
       "      <td>бар</td>\n",
       "      <td>35</td>\n",
       "    </tr>\n",
       "    <tr>\n",
       "      <td>буфет</td>\n",
       "      <td>32</td>\n",
       "    </tr>\n",
       "    <tr>\n",
       "      <td>кафе</td>\n",
       "      <td>30</td>\n",
       "    </tr>\n",
       "    <tr>\n",
       "      <td>предприятие быстрого обслуживания</td>\n",
       "      <td>6</td>\n",
       "    </tr>\n",
       "    <tr>\n",
       "      <td>кафетерий</td>\n",
       "      <td>6</td>\n",
       "    </tr>\n",
       "    <tr>\n",
       "      <td>магазин (отдел кулинарии)</td>\n",
       "      <td>0</td>\n",
       "    </tr>\n",
       "    <tr>\n",
       "      <td>закусочная</td>\n",
       "      <td>0</td>\n",
       "    </tr>\n",
       "  </tbody>\n",
       "</table>\n",
       "</div>"
      ],
      "text/plain": [
       "                                   number\n",
       "object_type                              \n",
       "столовая                           103   \n",
       "ресторан                           80    \n",
       "бар                                35    \n",
       "буфет                              32    \n",
       "кафе                               30    \n",
       "предприятие быстрого обслуживания  6     \n",
       "кафетерий                          6     \n",
       "магазин (отдел кулинарии)          0     \n",
       "закусочная                         0     "
      ]
     },
     "execution_count": 21,
     "metadata": {},
     "output_type": "execute_result"
    }
   ],
   "source": [
    "df_un.groupby('object_type')['number'].median().sort_values(ascending=False).to_frame()"
   ]
  },
  {
   "cell_type": "code",
   "execution_count": 22,
   "metadata": {},
   "outputs": [
    {
     "data": {
      "image/png": "[encoded data removed]",
      "text/plain": [
       "<Figure size 864x720 with 1 Axes>"
      ]
     },
     "metadata": {
      "needs_background": "light"
     },
     "output_type": "display_data"
    }
   ],
   "source": [
    "df_un.groupby('object_type')['number'].median().sort_values(ascending=True).plot.barh(grid=True, figsize=(12,10))\n",
    "plt.ylabel('Виды объектов')\n",
    "plt.xlabel('Среднее количество посадочных мест, ед.')\n",
    "plt.title('Распределение среднего количества посадочных мест по видам объектов общественного питания')\n",
    "plt.show()"
   ]
  },
  {
   "cell_type": "markdown",
   "metadata": {},
   "source": [
    "Самое большое количество посадочных мест предоставляют столовые и рестораны"
   ]
  },
  {
   "cell_type": "markdown",
   "metadata": {},
   "source": [
    "### Адрес"
   ]
  },
  {
   "cell_type": "code",
   "execution_count": 23,
   "metadata": {},
   "outputs": [],
   "source": [
    "#  проведем разбивку информации по иерархическом порядке (город, улица, дом) по отдельным столбцам\n",
    "df_address = df_un['address'].str.split(', ',n=2,expand=True)"
   ]
  },
  {
   "cell_type": "code",
   "execution_count": 24,
   "metadata": {},
   "outputs": [],
   "source": [
    "#  заменим столбец с адресом новыми столбцами\n",
    "df_address = df_un[['chain','object_type','number']].join(df_address)"
   ]
  },
  {
   "cell_type": "code",
   "execution_count": 25,
   "metadata": {},
   "outputs": [
    {
     "data": {
      "text/html": [
       "<div>\n",
       "<style scoped>\n",
       "    .dataframe tbody tr th:only-of-type {\n",
       "        vertical-align: middle;\n",
       "    }\n",
       "\n",
       "    .dataframe tbody tr th {\n",
       "        vertical-align: top;\n",
       "    }\n",
       "\n",
       "    .dataframe thead th {\n",
       "        text-align: right;\n",
       "    }\n",
       "</style>\n",
       "<table border=\"1\" class=\"dataframe\">\n",
       "  <thead>\n",
       "    <tr style=\"text-align: right;\">\n",
       "      <th></th>\n",
       "      <th>chain</th>\n",
       "      <th>object_type</th>\n",
       "      <th>number</th>\n",
       "      <th>0</th>\n",
       "      <th>1</th>\n",
       "      <th>2</th>\n",
       "    </tr>\n",
       "  </thead>\n",
       "  <tbody>\n",
       "    <tr>\n",
       "      <td>0</td>\n",
       "      <td>нет</td>\n",
       "      <td>кафе</td>\n",
       "      <td>48</td>\n",
       "      <td>город Москва</td>\n",
       "      <td>улица Егора Абакумова</td>\n",
       "      <td>дом 9</td>\n",
       "    </tr>\n",
       "    <tr>\n",
       "      <td>1</td>\n",
       "      <td>нет</td>\n",
       "      <td>кафе</td>\n",
       "      <td>35</td>\n",
       "      <td>город Москва</td>\n",
       "      <td>улица Талалихина</td>\n",
       "      <td>дом 2/1, корпус 1</td>\n",
       "    </tr>\n",
       "    <tr>\n",
       "      <td>2</td>\n",
       "      <td>нет</td>\n",
       "      <td>кафе</td>\n",
       "      <td>95</td>\n",
       "      <td>город Москва</td>\n",
       "      <td>Абельмановская улица</td>\n",
       "      <td>дом 6</td>\n",
       "    </tr>\n",
       "    <tr>\n",
       "      <td>3</td>\n",
       "      <td>да</td>\n",
       "      <td>кафе</td>\n",
       "      <td>40</td>\n",
       "      <td>город Москва</td>\n",
       "      <td>Абрамцевская улица</td>\n",
       "      <td>дом 1</td>\n",
       "    </tr>\n",
       "    <tr>\n",
       "      <td>4</td>\n",
       "      <td>нет</td>\n",
       "      <td>кафе</td>\n",
       "      <td>50</td>\n",
       "      <td>город Москва</td>\n",
       "      <td>Абрамцевская улица</td>\n",
       "      <td>дом 9, корпус 1</td>\n",
       "    </tr>\n",
       "  </tbody>\n",
       "</table>\n",
       "</div>"
      ],
      "text/plain": [
       "  chain object_type  number             0                      1  \\\n",
       "0  нет   кафе        48      город Москва  улица Егора Абакумова   \n",
       "1  нет   кафе        35      город Москва  улица Талалихина        \n",
       "2  нет   кафе        95      город Москва  Абельмановская улица    \n",
       "3  да    кафе        40      город Москва  Абрамцевская улица      \n",
       "4  нет   кафе        50      город Москва  Абрамцевская улица      \n",
       "\n",
       "                   2  \n",
       "0  дом 9              \n",
       "1  дом 2/1, корпус 1  \n",
       "2  дом 6              \n",
       "3  дом 1              \n",
       "4  дом 9, корпус 1    "
      ]
     },
     "execution_count": 25,
     "metadata": {},
     "output_type": "execute_result"
    }
   ],
   "source": [
    "df_address.head()"
   ]
  },
  {
   "cell_type": "code",
   "execution_count": 26,
   "metadata": {},
   "outputs": [
    {
     "name": "stdout",
     "output_type": "stream",
     "text": [
      "Доля строк с адресными данными в ином формате (не содержат слова \"город Москва\") составляет 0.5%\n"
     ]
    }
   ],
   "source": [
    "print('Доля строк с адресными данными в ином формате (не содержат слова \"город Москва\") составляет {:.1%}'\n",
    "      .format((df_address[df_address[0] != 'город Москва'][0].count())/(df_address.shape[0])))"
   ]
  },
  {
   "cell_type": "code",
   "execution_count": 27,
   "metadata": {},
   "outputs": [],
   "source": [
    "#  исключаем из выборки такие строки\n",
    "df_address = df_address[df_address[0] == 'город Москва']"
   ]
  },
  {
   "cell_type": "code",
   "execution_count": 28,
   "metadata": {
    "scrolled": true
   },
   "outputs": [
    {
     "data": {
      "text/plain": [
       "город Москва    15210\n",
       "Name: 0, dtype: int64"
      ]
     },
     "execution_count": 28,
     "metadata": {},
     "output_type": "execute_result"
    }
   ],
   "source": [
    "df_address[0].value_counts()"
   ]
  },
  {
   "cell_type": "markdown",
   "metadata": {},
   "source": [
    "### Справочник адресов Москвы"
   ]
  },
  {
   "cell_type": "code",
   "execution_count": 29,
   "metadata": {
    "scrolled": true
   },
   "outputs": [
    {
     "data": {
      "text/html": [
       "<div>\n",
       "<style scoped>\n",
       "    .dataframe tbody tr th:only-of-type {\n",
       "        vertical-align: middle;\n",
       "    }\n",
       "\n",
       "    .dataframe tbody tr th {\n",
       "        vertical-align: top;\n",
       "    }\n",
       "\n",
       "    .dataframe thead th {\n",
       "        text-align: right;\n",
       "    }\n",
       "</style>\n",
       "<table border=\"1\" class=\"dataframe\">\n",
       "  <thead>\n",
       "    <tr style=\"text-align: right;\">\n",
       "      <th></th>\n",
       "      <th>streetname</th>\n",
       "      <th>areaid</th>\n",
       "      <th>okrug</th>\n",
       "      <th>area</th>\n",
       "    </tr>\n",
       "  </thead>\n",
       "  <tbody>\n",
       "    <tr>\n",
       "      <td>0</td>\n",
       "      <td>Выставочный переулок</td>\n",
       "      <td>17</td>\n",
       "      <td>ЦАО</td>\n",
       "      <td>Пресненский район</td>\n",
       "    </tr>\n",
       "    <tr>\n",
       "      <td>1</td>\n",
       "      <td>улица Гашека</td>\n",
       "      <td>17</td>\n",
       "      <td>ЦАО</td>\n",
       "      <td>Пресненский район</td>\n",
       "    </tr>\n",
       "    <tr>\n",
       "      <td>2</td>\n",
       "      <td>Большая Никитская улица</td>\n",
       "      <td>17</td>\n",
       "      <td>ЦАО</td>\n",
       "      <td>Пресненский район</td>\n",
       "    </tr>\n",
       "    <tr>\n",
       "      <td>3</td>\n",
       "      <td>Глубокий переулок</td>\n",
       "      <td>17</td>\n",
       "      <td>ЦАО</td>\n",
       "      <td>Пресненский район</td>\n",
       "    </tr>\n",
       "    <tr>\n",
       "      <td>4</td>\n",
       "      <td>Большой Гнездниковский переулок</td>\n",
       "      <td>17</td>\n",
       "      <td>ЦАО</td>\n",
       "      <td>Пресненский район</td>\n",
       "    </tr>\n",
       "  </tbody>\n",
       "</table>\n",
       "</div>"
      ],
      "text/plain": [
       "                        streetname  areaid okrug               area\n",
       "0  Выставочный переулок             17      ЦАО   Пресненский район\n",
       "1  улица Гашека                     17      ЦАО   Пресненский район\n",
       "2  Большая Никитская улица          17      ЦАО   Пресненский район\n",
       "3  Глубокий переулок                17      ЦАО   Пресненский район\n",
       "4  Большой Гнездниковский переулок  17      ЦАО   Пресненский район"
      ]
     },
     "execution_count": 29,
     "metadata": {},
     "output_type": "execute_result"
    }
   ],
   "source": [
    "#  для соотнесения названий улиц с районами Москвы подгружаем внешние данные\n",
    "spreadsheet_id = '1CPDYDGjKCb6jGoQt9KR5WOvTspK-dHS3NUrVeqsyqJs'\n",
    "file_name = 'https://docs.google.com/spreadsheets/d/{}/export?format=csv'.format(spreadsheet_id)\n",
    "r = requests.get(file_name)\n",
    "cat = pd.read_csv(BytesIO(r.content))\n",
    "cat.head()"
   ]
  },
  {
   "cell_type": "code",
   "execution_count": 30,
   "metadata": {},
   "outputs": [],
   "source": [
    "cat = cat.groupby(['streetname'],as_index=False).last()"
   ]
  },
  {
   "cell_type": "code",
   "execution_count": 31,
   "metadata": {},
   "outputs": [],
   "source": [
    "df_address.columns=['chain','object_type','number','city','street','house']"
   ]
  },
  {
   "cell_type": "code",
   "execution_count": 32,
   "metadata": {},
   "outputs": [],
   "source": [
    "df_district=pd.merge(left=df_address,right=cat,how='inner',left_on='street',right_on='streetname',validate='m:1')"
   ]
  },
  {
   "cell_type": "code",
   "execution_count": 33,
   "metadata": {},
   "outputs": [],
   "source": [
    "#  объединяем данные\n",
    "df_exp=df_address.merge(cat,how='inner',left_on='street',right_on='streetname')"
   ]
  },
  {
   "cell_type": "code",
   "execution_count": 34,
   "metadata": {},
   "outputs": [
    {
     "name": "stdout",
     "output_type": "stream",
     "text": [
      "<class 'pandas.core.frame.DataFrame'>\n",
      "Int64Index: 14447 entries, 0 to 14446\n",
      "Data columns (total 10 columns):\n",
      "chain          14447 non-null object\n",
      "object_type    14447 non-null object\n",
      "number         14447 non-null int64\n",
      "city           14447 non-null object\n",
      "street         14447 non-null object\n",
      "house          14447 non-null object\n",
      "streetname     14447 non-null object\n",
      "areaid         14447 non-null int64\n",
      "okrug          14447 non-null object\n",
      "area           14447 non-null object\n",
      "dtypes: int64(2), object(8)\n",
      "memory usage: 1.2+ MB\n"
     ]
    }
   ],
   "source": [
    "df_exp.info()"
   ]
  },
  {
   "cell_type": "code",
   "execution_count": 35,
   "metadata": {},
   "outputs": [
    {
     "data": {
      "text/html": [
       "<div>\n",
       "<style scoped>\n",
       "    .dataframe tbody tr th:only-of-type {\n",
       "        vertical-align: middle;\n",
       "    }\n",
       "\n",
       "    .dataframe tbody tr th {\n",
       "        vertical-align: top;\n",
       "    }\n",
       "\n",
       "    .dataframe thead th {\n",
       "        text-align: right;\n",
       "    }\n",
       "</style>\n",
       "<table border=\"1\" class=\"dataframe\">\n",
       "  <thead>\n",
       "    <tr style=\"text-align: right;\">\n",
       "      <th></th>\n",
       "      <th>chain</th>\n",
       "      <th>object_type</th>\n",
       "      <th>number</th>\n",
       "      <th>city</th>\n",
       "      <th>street</th>\n",
       "      <th>house</th>\n",
       "      <th>streetname</th>\n",
       "      <th>areaid</th>\n",
       "      <th>okrug</th>\n",
       "      <th>area</th>\n",
       "    </tr>\n",
       "  </thead>\n",
       "  <tbody>\n",
       "    <tr>\n",
       "      <td>0</td>\n",
       "      <td>нет</td>\n",
       "      <td>кафе</td>\n",
       "      <td>48</td>\n",
       "      <td>город Москва</td>\n",
       "      <td>улица Егора Абакумова</td>\n",
       "      <td>дом 9</td>\n",
       "      <td>улица Егора Абакумова</td>\n",
       "      <td>86</td>\n",
       "      <td>СВАО</td>\n",
       "      <td>Ярославский Район</td>\n",
       "    </tr>\n",
       "    <tr>\n",
       "      <td>1</td>\n",
       "      <td>нет</td>\n",
       "      <td>закусочная</td>\n",
       "      <td>0</td>\n",
       "      <td>город Москва</td>\n",
       "      <td>улица Егора Абакумова</td>\n",
       "      <td>дом 14А</td>\n",
       "      <td>улица Егора Абакумова</td>\n",
       "      <td>86</td>\n",
       "      <td>СВАО</td>\n",
       "      <td>Ярославский Район</td>\n",
       "    </tr>\n",
       "    <tr>\n",
       "      <td>2</td>\n",
       "      <td>нет</td>\n",
       "      <td>кафетерий</td>\n",
       "      <td>12</td>\n",
       "      <td>город Москва</td>\n",
       "      <td>улица Егора Абакумова</td>\n",
       "      <td>дом 14А</td>\n",
       "      <td>улица Егора Абакумова</td>\n",
       "      <td>86</td>\n",
       "      <td>СВАО</td>\n",
       "      <td>Ярославский Район</td>\n",
       "    </tr>\n",
       "    <tr>\n",
       "      <td>3</td>\n",
       "      <td>нет</td>\n",
       "      <td>кафе</td>\n",
       "      <td>35</td>\n",
       "      <td>город Москва</td>\n",
       "      <td>улица Талалихина</td>\n",
       "      <td>дом 2/1, корпус 1</td>\n",
       "      <td>улица Талалихина</td>\n",
       "      <td>133</td>\n",
       "      <td>ЮЗАО</td>\n",
       "      <td>Район Южное Бутово</td>\n",
       "    </tr>\n",
       "    <tr>\n",
       "      <td>4</td>\n",
       "      <td>нет</td>\n",
       "      <td>кафе</td>\n",
       "      <td>78</td>\n",
       "      <td>город Москва</td>\n",
       "      <td>улица Талалихина</td>\n",
       "      <td>дом 31А/2</td>\n",
       "      <td>улица Талалихина</td>\n",
       "      <td>133</td>\n",
       "      <td>ЮЗАО</td>\n",
       "      <td>Район Южное Бутово</td>\n",
       "    </tr>\n",
       "  </tbody>\n",
       "</table>\n",
       "</div>"
      ],
      "text/plain": [
       "  chain object_type  number          city                 street  \\\n",
       "0  нет   кафе        48      город Москва  улица Егора Абакумова   \n",
       "1  нет   закусочная  0       город Москва  улица Егора Абакумова   \n",
       "2  нет   кафетерий   12      город Москва  улица Егора Абакумова   \n",
       "3  нет   кафе        35      город Москва  улица Талалихина        \n",
       "4  нет   кафе        78      город Москва  улица Талалихина        \n",
       "\n",
       "               house             streetname  areaid okrug                area  \n",
       "0  дом 9              улица Егора Абакумова  86      СВАО  Ярославский Район   \n",
       "1  дом 14А            улица Егора Абакумова  86      СВАО  Ярославский Район   \n",
       "2  дом 14А            улица Егора Абакумова  86      СВАО  Ярославский Район   \n",
       "3  дом 2/1, корпус 1  улица Талалихина       133     ЮЗАО  Район Южное Бутово  \n",
       "4  дом 31А/2          улица Талалихина       133     ЮЗАО  Район Южное Бутово  "
      ]
     },
     "execution_count": 35,
     "metadata": {},
     "output_type": "execute_result"
    }
   ],
   "source": [
    "df_district.head()"
   ]
  },
  {
   "cell_type": "code",
   "execution_count": 36,
   "metadata": {
    "scrolled": false
   },
   "outputs": [
    {
     "name": "stdout",
     "output_type": "stream",
     "text": [
      "<class 'pandas.core.frame.DataFrame'>\n",
      "Int64Index: 14447 entries, 0 to 14446\n",
      "Data columns (total 10 columns):\n",
      "chain          14447 non-null object\n",
      "object_type    14447 non-null object\n",
      "number         14447 non-null int64\n",
      "city           14447 non-null object\n",
      "street         14447 non-null object\n",
      "house          14447 non-null object\n",
      "streetname     14447 non-null object\n",
      "areaid         14447 non-null int64\n",
      "okrug          14447 non-null object\n",
      "area           14447 non-null object\n",
      "dtypes: int64(2), object(8)\n",
      "memory usage: 1.2+ MB\n"
     ]
    }
   ],
   "source": [
    "df_district.info()"
   ]
  },
  {
   "cell_type": "code",
   "execution_count": 37,
   "metadata": {},
   "outputs": [],
   "source": [
    "df_district = df_district[df_district['street'] != 'город Зеленоград']"
   ]
  },
  {
   "cell_type": "markdown",
   "metadata": {},
   "source": [
    "### Самые популярные улицы"
   ]
  },
  {
   "cell_type": "code",
   "execution_count": 38,
   "metadata": {},
   "outputs": [
    {
     "data": {
      "text/html": [
       "<div>\n",
       "<style scoped>\n",
       "    .dataframe tbody tr th:only-of-type {\n",
       "        vertical-align: middle;\n",
       "    }\n",
       "\n",
       "    .dataframe tbody tr th {\n",
       "        vertical-align: top;\n",
       "    }\n",
       "\n",
       "    .dataframe thead th {\n",
       "        text-align: right;\n",
       "    }\n",
       "</style>\n",
       "<table border=\"1\" class=\"dataframe\">\n",
       "  <thead>\n",
       "    <tr style=\"text-align: right;\">\n",
       "      <th></th>\n",
       "      <th>street</th>\n",
       "      <th>okrug</th>\n",
       "      <th>amount</th>\n",
       "      <th>area</th>\n",
       "    </tr>\n",
       "  </thead>\n",
       "  <tbody>\n",
       "    <tr>\n",
       "      <td>1341</td>\n",
       "      <td>проспект Мира</td>\n",
       "      <td>ЦАО</td>\n",
       "      <td>203</td>\n",
       "      <td>Мещанский район</td>\n",
       "    </tr>\n",
       "    <tr>\n",
       "      <td>961</td>\n",
       "      <td>Профсоюзная улица</td>\n",
       "      <td>ЮЗАО</td>\n",
       "      <td>181</td>\n",
       "      <td>Район Теплый Стан</td>\n",
       "    </tr>\n",
       "    <tr>\n",
       "      <td>657</td>\n",
       "      <td>Ленинградский проспект</td>\n",
       "      <td>САО</td>\n",
       "      <td>170</td>\n",
       "      <td>Район Сокол</td>\n",
       "    </tr>\n",
       "    <tr>\n",
       "      <td>947</td>\n",
       "      <td>Пресненская набережная</td>\n",
       "      <td>ЦАО</td>\n",
       "      <td>167</td>\n",
       "      <td>Пресненский район</td>\n",
       "    </tr>\n",
       "    <tr>\n",
       "      <td>383</td>\n",
       "      <td>Варшавское шоссе</td>\n",
       "      <td>ЮЗАО</td>\n",
       "      <td>161</td>\n",
       "      <td>Район Южное Бутово</td>\n",
       "    </tr>\n",
       "    <tr>\n",
       "      <td>660</td>\n",
       "      <td>Ленинский проспект</td>\n",
       "      <td>ЦАО</td>\n",
       "      <td>147</td>\n",
       "      <td>Район Якиманка</td>\n",
       "    </tr>\n",
       "    <tr>\n",
       "      <td>1339</td>\n",
       "      <td>проспект Вернадского</td>\n",
       "      <td>ЮЗАО</td>\n",
       "      <td>128</td>\n",
       "      <td>Ломоносовский район</td>\n",
       "    </tr>\n",
       "    <tr>\n",
       "      <td>648</td>\n",
       "      <td>Кутузовский проспект</td>\n",
       "      <td>ЗАО</td>\n",
       "      <td>114</td>\n",
       "      <td>Район Фили-Давыдково</td>\n",
       "    </tr>\n",
       "    <tr>\n",
       "      <td>575</td>\n",
       "      <td>Каширское шоссе</td>\n",
       "      <td>ЮАО</td>\n",
       "      <td>111</td>\n",
       "      <td>Район Орехово-Борисово Северное</td>\n",
       "    </tr>\n",
       "    <tr>\n",
       "      <td>580</td>\n",
       "      <td>Кировоградская улица</td>\n",
       "      <td>ЮАО</td>\n",
       "      <td>108</td>\n",
       "      <td>Район Чертаново Южное</td>\n",
       "    </tr>\n",
       "  </tbody>\n",
       "</table>\n",
       "</div>"
      ],
      "text/plain": [
       "                      street okrug  amount                             area\n",
       "1341  проспект Мира           ЦАО   203     Мещанский район                \n",
       "961   Профсоюзная улица       ЮЗАО  181     Район Теплый Стан              \n",
       "657   Ленинградский проспект  САО   170     Район Сокол                    \n",
       "947   Пресненская набережная  ЦАО   167     Пресненский район              \n",
       "383   Варшавское шоссе        ЮЗАО  161     Район Южное Бутово             \n",
       "660   Ленинский проспект      ЦАО   147     Район Якиманка                 \n",
       "1339  проспект Вернадского    ЮЗАО  128     Ломоносовский район            \n",
       "648   Кутузовский проспект    ЗАО   114     Район Фили-Давыдково           \n",
       "575   Каширское шоссе         ЮАО   111     Район Орехово-Борисово Северное\n",
       "580   Кировоградская улица    ЮАО   108     Район Чертаново Южное          "
      ]
     },
     "execution_count": 38,
     "metadata": {},
     "output_type": "execute_result"
    }
   ],
   "source": [
    "(\n",
    "    df_district\n",
    "    .groupby(['streetname','okrug'],as_index=False)\n",
    "    .agg({'object_type':'count','area':'first'})\n",
    "    .sort_values(by='object_type',ascending=False)\n",
    "    .head(10).rename(columns={'streetname':'street','okrug':'okrug','object_type':'amount','area':'area'})\n",
    ")"
   ]
  },
  {
   "cell_type": "code",
   "execution_count": 39,
   "metadata": {},
   "outputs": [
    {
     "data": {
      "text/plain": [
       "Text(0.5, 0, 'Административный округ')"
      ]
     },
     "execution_count": 39,
     "metadata": {},
     "output_type": "execute_result"
    },
    {
     "data": {
      "image/png": "[encoded data removed]",
      "text/plain": [
       "<Figure size 864x720 with 1 Axes>"
      ]
     },
     "metadata": {},
     "output_type": "display_data"
    }
   ],
   "source": [
    "(\n",
    "    df_district\n",
    "    .groupby(['streetname','okrug'],as_index=False)\n",
    "    .agg({'object_type':'count','area':'first'})\n",
    "    .sort_values(by='object_type',ascending=False)\n",
    "    .head(10)['okrug'].value_counts(normalize=True)\n",
    "    .plot(kind='pie',\n",
    "          startangle=45, \n",
    "          autopct='%1.0f%%', \n",
    "          figsize=(12,10\n",
    "                  )\n",
    "         )\n",
    ")\n",
    "plt.title('Географическое расположение популярных улиц по количеству заведений общественного питания')\n",
    "plt.ylabel('Доля, %')\n",
    "plt.xlabel('Административный округ')"
   ]
  },
  {
   "cell_type": "markdown",
   "metadata": {},
   "source": [
    "Улицы с наибольшим числом заведений общественного питания сконцентрированы в Центральном и Юго-Западном административных округах Москвы"
   ]
  },
  {
   "cell_type": "markdown",
   "metadata": {},
   "source": [
    "### Улицы с одним объектом общественного питания"
   ]
  },
  {
   "cell_type": "code",
   "execution_count": 40,
   "metadata": {
    "scrolled": true
   },
   "outputs": [
    {
     "data": {
      "text/html": [
       "<div>\n",
       "<style scoped>\n",
       "    .dataframe tbody tr th:only-of-type {\n",
       "        vertical-align: middle;\n",
       "    }\n",
       "\n",
       "    .dataframe tbody tr th {\n",
       "        vertical-align: top;\n",
       "    }\n",
       "\n",
       "    .dataframe thead th {\n",
       "        text-align: right;\n",
       "    }\n",
       "</style>\n",
       "<table border=\"1\" class=\"dataframe\">\n",
       "  <thead>\n",
       "    <tr style=\"text-align: right;\">\n",
       "      <th></th>\n",
       "      <th></th>\n",
       "      <th>number</th>\n",
       "      <th>area</th>\n",
       "    </tr>\n",
       "    <tr>\n",
       "      <th>streetname</th>\n",
       "      <th>okrug</th>\n",
       "      <th></th>\n",
       "      <th></th>\n",
       "    </tr>\n",
       "  </thead>\n",
       "  <tbody>\n",
       "    <tr>\n",
       "      <td>1-й Балтийский переулок</td>\n",
       "      <td>САО</td>\n",
       "      <td>1</td>\n",
       "      <td>Район Аэропорт</td>\n",
       "    </tr>\n",
       "    <tr>\n",
       "      <td>1-й Басманный переулок</td>\n",
       "      <td>ЦАО</td>\n",
       "      <td>1</td>\n",
       "      <td>Красносельский район</td>\n",
       "    </tr>\n",
       "    <tr>\n",
       "      <td>1-й Ботанический проезд</td>\n",
       "      <td>СВАО</td>\n",
       "      <td>1</td>\n",
       "      <td>Район Свиблово</td>\n",
       "    </tr>\n",
       "    <tr>\n",
       "      <td>1-й Вешняковский проезд</td>\n",
       "      <td>ЮВАО</td>\n",
       "      <td>1</td>\n",
       "      <td>Рязанский район</td>\n",
       "    </tr>\n",
       "    <tr>\n",
       "      <td>1-й Голутвинский переулок</td>\n",
       "      <td>ЦАО</td>\n",
       "      <td>1</td>\n",
       "      <td>Район Якиманка</td>\n",
       "    </tr>\n",
       "    <tr>\n",
       "      <td>1-й Зачатьевский переулок</td>\n",
       "      <td>ЦАО</td>\n",
       "      <td>1</td>\n",
       "      <td>Район Хамовники</td>\n",
       "    </tr>\n",
       "    <tr>\n",
       "      <td>1-й Кирпичный переулок</td>\n",
       "      <td>ВАО</td>\n",
       "      <td>1</td>\n",
       "      <td>Район Соколиная Гора</td>\n",
       "    </tr>\n",
       "    <tr>\n",
       "      <td>1-й Кожевнический переулок</td>\n",
       "      <td>ЮАО</td>\n",
       "      <td>1</td>\n",
       "      <td>Даниловский район</td>\n",
       "    </tr>\n",
       "    <tr>\n",
       "      <td>1-й Кожуховский проезд</td>\n",
       "      <td>ЮАО</td>\n",
       "      <td>1</td>\n",
       "      <td>Даниловский район</td>\n",
       "    </tr>\n",
       "    <tr>\n",
       "      <td>1-й Коптельский переулок</td>\n",
       "      <td>ЦАО</td>\n",
       "      <td>1</td>\n",
       "      <td>Мещанский район</td>\n",
       "    </tr>\n",
       "  </tbody>\n",
       "</table>\n",
       "</div>"
      ],
      "text/plain": [
       "                                  number                  area\n",
       "streetname                 okrug                              \n",
       "1-й Балтийский переулок    САО    1       Район Аэропорт      \n",
       "1-й Басманный переулок     ЦАО    1       Красносельский район\n",
       "1-й Ботанический проезд    СВАО   1       Район Свиблово      \n",
       "1-й Вешняковский проезд    ЮВАО   1       Рязанский район     \n",
       "1-й Голутвинский переулок  ЦАО    1       Район Якиманка      \n",
       "1-й Зачатьевский переулок  ЦАО    1       Район Хамовники     \n",
       "1-й Кирпичный переулок     ВАО    1       Район Соколиная Гора\n",
       "1-й Кожевнический переулок ЮАО    1       Даниловский район   \n",
       "1-й Кожуховский проезд     ЮАО    1       Даниловский район   \n",
       "1-й Коптельский переулок   ЦАО    1       Мещанский район     "
      ]
     },
     "execution_count": 40,
     "metadata": {},
     "output_type": "execute_result"
    }
   ],
   "source": [
    "(\n",
    "    df_district\n",
    "    .groupby(['streetname','okrug'])\n",
    "    .agg({'number':'count','area':'first'})\n",
    "    .query('number == 1')\n",
    "    .head(10)\n",
    ")"
   ]
  },
  {
   "cell_type": "code",
   "execution_count": 41,
   "metadata": {
    "scrolled": true
   },
   "outputs": [
    {
     "name": "stdout",
     "output_type": "stream",
     "text": [
      "Всего 517 заведений общественного питания являются единственными на соответствующей улице\n"
     ]
    }
   ],
   "source": [
    "print(\n",
    "    'Всего {} заведений общественного питания являются единственными на соответствующей улице'\n",
    "    .format(df_district\n",
    "    .groupby(['streetname'])\n",
    "    .agg({'number':'count','area':'first'})\n",
    "    .query('number == 1')['number']\n",
    "    .sum()\n",
    "))"
   ]
  },
  {
   "cell_type": "code",
   "execution_count": 42,
   "metadata": {
    "scrolled": true
   },
   "outputs": [
    {
     "name": "stdout",
     "output_type": "stream",
     "text": [
      "В 96 из 125 районов Москвы имются улицы с единственным на данной улице заведением общественного питания\n"
     ]
    }
   ],
   "source": [
    "print(\n",
    "    'В {} из 125 районов Москвы имются улицы с единственным на данной улице заведением общественного питания'\n",
    "    .format(df_district\n",
    "    .groupby(['streetname'])\n",
    "    .agg({'number':'count','area':'first'})\n",
    "    .query('number == 1')['area']\n",
    "    .nunique()\n",
    ")\n",
    ")"
   ]
  },
  {
   "cell_type": "markdown",
   "metadata": {},
   "source": [
    "### Распределение количества посадочных мест для популярных улиц"
   ]
  },
  {
   "cell_type": "code",
   "execution_count": 43,
   "metadata": {},
   "outputs": [],
   "source": [
    "#  рассчитываем среднее число посадочных мест в заведениях на популярных улицах\n",
    "amount_seats_top_streets = (\n",
    "    df_district\n",
    "    .groupby(['streetname'])\n",
    "    .agg({'object_type':'count',\n",
    "          'number':'median',\n",
    "          'area':'first'})\n",
    "    .sort_values(by='object_type',\n",
    "                 ascending=False)\n",
    "    .head(20)['number']\n",
    "    .median()\n",
    ")"
   ]
  },
  {
   "cell_type": "code",
   "execution_count": 44,
   "metadata": {},
   "outputs": [],
   "source": [
    "#  рассчитываем среднее число посадочных мест в сетевых заведениях на популярных улицах\n",
    "amount_seats_top_streets_chain = (\n",
    "    df_district[df_district['chain']=='да']\n",
    "    .groupby(['streetname'])\n",
    "    .agg({'object_type':'count',\n",
    "          'number':'median',\n",
    "          'area':'first'})\n",
    "    .sort_values(by='object_type',\n",
    "                 ascending=False)\n",
    "    .head(20)['number']\n",
    "    .median()\n",
    ")"
   ]
  },
  {
   "cell_type": "code",
   "execution_count": 45,
   "metadata": {},
   "outputs": [
    {
     "data": {
      "image/png": "[encoded data removed]",
      "text/plain": [
       "<Figure size 864x720 with 1 Axes>"
      ]
     },
     "metadata": {
      "needs_background": "light"
     },
     "output_type": "display_data"
    }
   ],
   "source": [
    "#  строим график\n",
    "(\n",
    "    df_district\n",
    "    .groupby(['streetname'])\n",
    "    .agg({'object_type':'count',\n",
    "          'number':'median',\n",
    "          'area':'first'})\n",
    "    .sort_values(by='object_type',\n",
    "                 ascending=False)\n",
    "    .head(20)['number']\n",
    "    .plot\n",
    "    .barh(grid=True, figsize=(12,10))\n",
    ")\n",
    "#  откладываем на графике средние значения количества посадочных мест\n",
    "plt.axvline(amount_seats_top_streets,\n",
    "            label='mean',\n",
    "            color='blue')\n",
    "plt.axvline(amount_seats_top_streets_chain,\n",
    "            label='chain', \n",
    "            color='red')\n",
    "plt.gca().invert_yaxis()\n",
    "plt.ylabel('Улица')\n",
    "plt.xlabel('Среднее количество посадочных мест, ед.')\n",
    "plt.title('Распределение среднего количества посадочных мест в заведениях на отдельных улицах')\n",
    "plt.legend()\n",
    "plt.show()"
   ]
  },
  {
   "cell_type": "markdown",
   "metadata": {},
   "source": [
    "Среди 20 самых популярных улиц по количеству заведений общественного питания среднее количество посадочных мест составляет 35-40 мест"
   ]
  },
  {
   "cell_type": "code",
   "execution_count": 46,
   "metadata": {
    "scrolled": true
   },
   "outputs": [
    {
     "name": "stdout",
     "output_type": "stream",
     "text": [
      "Среди 20 самых популярных улиц по количеству заведений общественного питания среднее количество посадочных мест составляет 32 места (для сетевых - 39 мест)\n"
     ]
    }
   ],
   "source": [
    "print('Среди 20 самых популярных улиц ' \n",
    "      'по количеству заведений общественного '\n",
    "      'питания среднее количество посадочных мест составляет '\n",
    "      '{:.0f} места (для сетевых - {:.0f} мест)'\n",
    "      .format(amount_seats_top_streets, amount_seats_top_streets_chain))"
   ]
  },
  {
   "cell_type": "markdown",
   "metadata": {},
   "source": [
    "## Выводы"
   ]
  },
  {
   "cell_type": "markdown",
   "metadata": {},
   "source": [
    "По итогам проведенного анализа заведений общественного питания Москвы выявлено следующее\n",
    "\n",
    "\n",
    "Популярными форматами общественного питания являются кафе, рестораны и предпрития быстрого питания. На рынке общественного питания преобладают несетевые заведения (в 5 раз)\n",
    "\n",
    "\n",
    "Большинство объектов ориентированы на небольшое количество посадочным мест. Средние значения числа посадочных мест для кафе (30 мест) соизмеримы со средними показателями количества мест, в заведениях на улицах с большим количеством объектов общественного питания (35 мест)\n",
    "\n",
    "\n",
    "Для размещения кафе рекомендуется рассмотреть районы с наиболее популярными улицами в Центральном и Юго-Западном административных округах Москвы, вместимость установить на уровне 20-30 посадочных мест"
   ]
  },
  {
   "cell_type": "markdown",
   "metadata": {},
   "source": [
    "Презентация: https://disk.yandex.ru/i/JzkrhBcrJLpfPA"
   ]
  }
 ],
 "metadata": {
  "ExecuteTimeLog": [
   {
    "duration": 865,
    "start_time": "2021-10-28T09:26:00.827Z"
   },
   {
    "duration": 14,
    "start_time": "2021-10-28T09:26:01.695Z"
   },
   {
    "duration": 17,
    "start_time": "2021-10-28T09:26:29.565Z"
   },
   {
    "duration": 30,
    "start_time": "2021-10-28T09:30:00.491Z"
   },
   {
    "duration": 22,
    "start_time": "2021-10-28T09:30:33.105Z"
   },
   {
    "duration": 3,
    "start_time": "2021-10-28T09:35:46.835Z"
   },
   {
    "duration": 14,
    "start_time": "2021-10-28T09:36:06.512Z"
   },
   {
    "duration": 788,
    "start_time": "2021-10-28T09:36:36.883Z"
   },
   {
    "duration": 12,
    "start_time": "2021-10-28T09:36:37.674Z"
   },
   {
    "duration": 18,
    "start_time": "2021-10-28T09:36:37.689Z"
   },
   {
    "duration": 27,
    "start_time": "2021-10-28T09:36:37.729Z"
   },
   {
    "duration": 4,
    "start_time": "2021-10-28T09:36:37.759Z"
   },
   {
    "duration": 25,
    "start_time": "2021-10-28T09:36:37.766Z"
   },
   {
    "duration": 311,
    "start_time": "2021-10-28T09:40:49.495Z"
   },
   {
    "duration": 5655,
    "start_time": "2021-10-28T09:42:41.873Z"
   },
   {
    "duration": 20,
    "start_time": "2021-10-28T09:42:55.562Z"
   },
   {
    "duration": 16,
    "start_time": "2021-10-28T09:43:13.162Z"
   },
   {
    "duration": 24,
    "start_time": "2021-10-28T09:43:30.099Z"
   },
   {
    "duration": 38,
    "start_time": "2021-10-28T10:08:38.346Z"
   },
   {
    "duration": 40,
    "start_time": "2021-10-28T10:09:01.414Z"
   },
   {
    "duration": 30,
    "start_time": "2021-10-28T10:10:21.605Z"
   },
   {
    "duration": 249,
    "start_time": "2021-10-28T10:11:50.006Z"
   },
   {
    "duration": 253,
    "start_time": "2021-10-28T10:12:20.751Z"
   },
   {
    "duration": 25,
    "start_time": "2021-10-28T10:17:42.182Z"
   },
   {
    "duration": 29,
    "start_time": "2021-10-28T10:22:34.592Z"
   },
   {
    "duration": 27,
    "start_time": "2021-10-28T10:26:59.306Z"
   },
   {
    "duration": 15,
    "start_time": "2021-10-28T10:28:24.657Z"
   },
   {
    "duration": 61,
    "start_time": "2021-10-28T10:29:44.218Z"
   },
   {
    "duration": 11,
    "start_time": "2021-10-28T10:29:44.282Z"
   },
   {
    "duration": 50,
    "start_time": "2021-10-28T10:29:44.295Z"
   },
   {
    "duration": 17,
    "start_time": "2021-10-28T10:29:44.349Z"
   },
   {
    "duration": 36,
    "start_time": "2021-10-28T10:29:44.368Z"
   },
   {
    "duration": 37,
    "start_time": "2021-10-28T10:29:44.406Z"
   },
   {
    "duration": 50,
    "start_time": "2021-10-28T10:29:44.445Z"
   },
   {
    "duration": 25,
    "start_time": "2021-10-28T10:29:44.497Z"
   },
   {
    "duration": 40,
    "start_time": "2021-10-28T10:29:44.530Z"
   },
   {
    "duration": 13,
    "start_time": "2021-10-28T10:29:44.573Z"
   },
   {
    "duration": 31,
    "start_time": "2021-10-28T10:30:12.509Z"
   },
   {
    "duration": 15,
    "start_time": "2021-10-28T10:30:16.944Z"
   },
   {
    "duration": 58,
    "start_time": "2021-10-28T10:30:26.564Z"
   },
   {
    "duration": 13,
    "start_time": "2021-10-28T10:30:26.625Z"
   },
   {
    "duration": 30,
    "start_time": "2021-10-28T10:30:26.642Z"
   },
   {
    "duration": 15,
    "start_time": "2021-10-28T10:30:26.675Z"
   },
   {
    "duration": 38,
    "start_time": "2021-10-28T10:30:26.692Z"
   },
   {
    "duration": 20,
    "start_time": "2021-10-28T10:30:26.732Z"
   },
   {
    "duration": 37,
    "start_time": "2021-10-28T10:30:26.754Z"
   },
   {
    "duration": 57,
    "start_time": "2021-10-28T10:30:26.793Z"
   },
   {
    "duration": 29,
    "start_time": "2021-10-28T10:30:26.855Z"
   },
   {
    "duration": 48,
    "start_time": "2021-10-28T10:30:26.888Z"
   },
   {
    "duration": 9,
    "start_time": "2021-10-28T10:35:05.287Z"
   },
   {
    "duration": 227,
    "start_time": "2021-10-28T10:39:51.810Z"
   },
   {
    "duration": 251,
    "start_time": "2021-10-28T10:40:00.698Z"
   },
   {
    "duration": 6,
    "start_time": "2021-10-28T10:40:04.784Z"
   },
   {
    "duration": 523,
    "start_time": "2021-10-28T10:40:07.366Z"
   },
   {
    "duration": 6,
    "start_time": "2021-10-28T10:40:24.553Z"
   },
   {
    "duration": 843,
    "start_time": "2021-10-28T10:41:58.306Z"
   },
   {
    "duration": 65,
    "start_time": "2021-10-28T10:42:03.945Z"
   },
   {
    "duration": 12,
    "start_time": "2021-10-28T10:42:04.013Z"
   },
   {
    "duration": 17,
    "start_time": "2021-10-28T10:42:04.031Z"
   },
   {
    "duration": 6,
    "start_time": "2021-10-28T10:42:04.051Z"
   },
   {
    "duration": 21,
    "start_time": "2021-10-28T10:42:04.059Z"
   },
   {
    "duration": 21,
    "start_time": "2021-10-28T10:42:04.130Z"
   },
   {
    "duration": 31,
    "start_time": "2021-10-28T10:42:04.153Z"
   },
   {
    "duration": 55,
    "start_time": "2021-10-28T10:42:04.188Z"
   },
   {
    "duration": 28,
    "start_time": "2021-10-28T10:42:04.246Z"
   },
   {
    "duration": 14,
    "start_time": "2021-10-28T10:42:04.276Z"
   },
   {
    "duration": 45,
    "start_time": "2021-10-28T10:42:04.293Z"
   },
   {
    "duration": 9,
    "start_time": "2021-10-28T10:42:04.341Z"
   },
   {
    "duration": 348,
    "start_time": "2021-10-28T10:42:04.353Z"
   },
   {
    "duration": 7,
    "start_time": "2021-10-28T10:43:36.187Z"
   },
   {
    "duration": 316,
    "start_time": "2021-10-28T10:44:02.017Z"
   },
   {
    "duration": 297,
    "start_time": "2021-10-28T10:44:40.087Z"
   },
   {
    "duration": 306,
    "start_time": "2021-10-28T10:44:48.407Z"
   },
   {
    "duration": 5,
    "start_time": "2021-10-28T10:47:25.301Z"
   },
   {
    "duration": 58,
    "start_time": "2021-10-28T10:47:34.552Z"
   },
   {
    "duration": 16,
    "start_time": "2021-10-28T10:47:34.613Z"
   },
   {
    "duration": 19,
    "start_time": "2021-10-28T10:47:34.633Z"
   },
   {
    "duration": 8,
    "start_time": "2021-10-28T10:47:34.658Z"
   },
   {
    "duration": 23,
    "start_time": "2021-10-28T10:47:34.670Z"
   },
   {
    "duration": 47,
    "start_time": "2021-10-28T10:47:34.696Z"
   },
   {
    "duration": 34,
    "start_time": "2021-10-28T10:47:34.745Z"
   },
   {
    "duration": 50,
    "start_time": "2021-10-28T10:47:34.781Z"
   },
   {
    "duration": 35,
    "start_time": "2021-10-28T10:47:34.836Z"
   },
   {
    "duration": 13,
    "start_time": "2021-10-28T10:47:34.874Z"
   },
   {
    "duration": 45,
    "start_time": "2021-10-28T10:47:34.890Z"
   },
   {
    "duration": 13,
    "start_time": "2021-10-28T10:47:34.938Z"
   },
   {
    "duration": 398,
    "start_time": "2021-10-28T10:47:34.954Z"
   },
   {
    "duration": 5,
    "start_time": "2021-10-28T10:47:41.077Z"
   },
   {
    "duration": 6,
    "start_time": "2021-10-28T10:48:08.033Z"
   },
   {
    "duration": 14,
    "start_time": "2021-10-28T10:51:47.249Z"
   },
   {
    "duration": 9,
    "start_time": "2021-10-28T10:52:05.604Z"
   },
   {
    "duration": 11,
    "start_time": "2021-10-28T10:52:08.372Z"
   },
   {
    "duration": 454,
    "start_time": "2021-10-28T10:53:02.997Z"
   },
   {
    "duration": 464,
    "start_time": "2021-10-28T10:53:18.236Z"
   },
   {
    "duration": 1581,
    "start_time": "2021-10-28T10:53:53.999Z"
   },
   {
    "duration": 12,
    "start_time": "2021-10-28T10:53:55.582Z"
   },
   {
    "duration": 36,
    "start_time": "2021-10-28T10:53:55.597Z"
   },
   {
    "duration": 8,
    "start_time": "2021-10-28T10:53:55.637Z"
   },
   {
    "duration": 18,
    "start_time": "2021-10-28T10:53:55.647Z"
   },
   {
    "duration": 16,
    "start_time": "2021-10-28T10:53:55.668Z"
   },
   {
    "duration": 68,
    "start_time": "2021-10-28T10:53:55.687Z"
   },
   {
    "duration": 25,
    "start_time": "2021-10-28T10:53:55.757Z"
   },
   {
    "duration": 75,
    "start_time": "2021-10-28T10:53:55.786Z"
   },
   {
    "duration": 16,
    "start_time": "2021-10-28T10:53:55.865Z"
   },
   {
    "duration": 45,
    "start_time": "2021-10-28T10:53:55.884Z"
   },
   {
    "duration": 15,
    "start_time": "2021-10-28T10:53:55.932Z"
   },
   {
    "duration": 526,
    "start_time": "2021-10-28T10:53:55.950Z"
   },
   {
    "duration": 457,
    "start_time": "2021-10-28T11:43:06.486Z"
   },
   {
    "duration": 463,
    "start_time": "2021-10-28T11:44:29.081Z"
   },
   {
    "duration": 529,
    "start_time": "2021-10-28T11:55:31.964Z"
   },
   {
    "duration": 526,
    "start_time": "2021-10-28T11:55:53.635Z"
   },
   {
    "duration": 876,
    "start_time": "2021-10-28T11:58:06.609Z"
   },
   {
    "duration": 740,
    "start_time": "2021-10-28T11:58:28.700Z"
   },
   {
    "duration": 604,
    "start_time": "2021-10-28T11:58:45.297Z"
   },
   {
    "duration": 245,
    "start_time": "2021-10-28T12:00:56.482Z"
   },
   {
    "duration": 12,
    "start_time": "2021-10-28T12:01:00.861Z"
   },
   {
    "duration": 12,
    "start_time": "2021-10-28T12:01:03.135Z"
   },
   {
    "duration": 405,
    "start_time": "2021-10-28T12:02:28.779Z"
   },
   {
    "duration": 381,
    "start_time": "2021-10-28T12:02:57.685Z"
   },
   {
    "duration": 399,
    "start_time": "2021-10-28T12:03:09.617Z"
   },
   {
    "duration": 437,
    "start_time": "2021-10-28T12:03:22.749Z"
   },
   {
    "duration": 300,
    "start_time": "2021-10-28T12:03:28.517Z"
   },
   {
    "duration": 45,
    "start_time": "2021-10-28T12:28:44.320Z"
   },
   {
    "duration": 29,
    "start_time": "2021-10-28T12:29:00.097Z"
   },
   {
    "duration": 15,
    "start_time": "2021-10-28T12:31:11.638Z"
   },
   {
    "duration": 5950,
    "start_time": "2021-10-28T12:31:24.427Z"
   },
   {
    "duration": 22,
    "start_time": "2021-10-28T12:32:15.379Z"
   },
   {
    "duration": 5840,
    "start_time": "2021-10-28T12:32:18.245Z"
   },
   {
    "duration": 5,
    "start_time": "2021-10-28T12:33:47.707Z"
   },
   {
    "duration": 13,
    "start_time": "2021-10-28T12:33:51.322Z"
   },
   {
    "duration": 30,
    "start_time": "2021-10-28T12:36:45.030Z"
   },
   {
    "duration": 293,
    "start_time": "2021-10-28T12:37:31.815Z"
   },
   {
    "duration": 63,
    "start_time": "2021-10-28T12:37:54.875Z"
   },
   {
    "duration": 13,
    "start_time": "2021-10-28T12:37:54.940Z"
   },
   {
    "duration": 19,
    "start_time": "2021-10-28T12:37:54.957Z"
   },
   {
    "duration": 4,
    "start_time": "2021-10-28T12:37:54.979Z"
   },
   {
    "duration": 53,
    "start_time": "2021-10-28T12:37:54.985Z"
   },
   {
    "duration": 20,
    "start_time": "2021-10-28T12:37:55.041Z"
   },
   {
    "duration": 67,
    "start_time": "2021-10-28T12:37:55.064Z"
   },
   {
    "duration": 29,
    "start_time": "2021-10-28T12:37:55.137Z"
   },
   {
    "duration": 60,
    "start_time": "2021-10-28T12:37:55.170Z"
   },
   {
    "duration": 17,
    "start_time": "2021-10-28T12:37:55.233Z"
   },
   {
    "duration": 11,
    "start_time": "2021-10-28T12:37:55.254Z"
   },
   {
    "duration": 17,
    "start_time": "2021-10-28T12:37:55.268Z"
   },
   {
    "duration": 556,
    "start_time": "2021-10-28T12:37:55.288Z"
   },
   {
    "duration": 12,
    "start_time": "2021-10-28T12:37:55.847Z"
   },
   {
    "duration": 15,
    "start_time": "2021-10-28T12:37:55.862Z"
   },
   {
    "duration": 326,
    "start_time": "2021-10-28T12:37:55.880Z"
   },
   {
    "duration": 277,
    "start_time": "2021-10-28T12:37:56.209Z"
   },
   {
    "duration": 63,
    "start_time": "2021-10-28T12:37:56.425Z"
   },
   {
    "duration": 46,
    "start_time": "2021-10-28T12:37:56.443Z"
   },
   {
    "duration": 29,
    "start_time": "2021-10-28T12:38:15.849Z"
   },
   {
    "duration": 12,
    "start_time": "2021-10-28T12:38:38.079Z"
   },
   {
    "duration": 13,
    "start_time": "2021-10-28T12:38:38.896Z"
   },
   {
    "duration": 18,
    "start_time": "2021-10-28T12:39:49.440Z"
   },
   {
    "duration": 10,
    "start_time": "2021-10-28T12:40:44.254Z"
   },
   {
    "duration": 15,
    "start_time": "2021-10-28T12:40:47.168Z"
   },
   {
    "duration": 8,
    "start_time": "2021-10-28T12:41:01.015Z"
   },
   {
    "duration": 16,
    "start_time": "2021-10-28T12:41:03.574Z"
   },
   {
    "duration": 16,
    "start_time": "2021-10-28T12:41:18.626Z"
   },
   {
    "duration": 63,
    "start_time": "2021-10-28T12:41:31.844Z"
   },
   {
    "duration": 20,
    "start_time": "2021-10-28T12:41:31.910Z"
   },
   {
    "duration": 15,
    "start_time": "2021-10-28T12:41:31.933Z"
   },
   {
    "duration": 13,
    "start_time": "2021-10-28T12:41:31.951Z"
   },
   {
    "duration": 68,
    "start_time": "2021-10-28T12:41:31.967Z"
   },
   {
    "duration": 23,
    "start_time": "2021-10-28T12:41:32.037Z"
   },
   {
    "duration": 38,
    "start_time": "2021-10-28T12:41:32.062Z"
   },
   {
    "duration": 39,
    "start_time": "2021-10-28T12:41:32.104Z"
   },
   {
    "duration": 28,
    "start_time": "2021-10-28T12:41:32.146Z"
   },
   {
    "duration": 13,
    "start_time": "2021-10-28T12:41:32.177Z"
   },
   {
    "duration": 43,
    "start_time": "2021-10-28T12:41:32.192Z"
   },
   {
    "duration": 13,
    "start_time": "2021-10-28T12:41:32.237Z"
   },
   {
    "duration": 502,
    "start_time": "2021-10-28T12:41:32.253Z"
   },
   {
    "duration": 8,
    "start_time": "2021-10-28T12:41:32.758Z"
   },
   {
    "duration": 12,
    "start_time": "2021-10-28T12:41:32.769Z"
   },
   {
    "duration": 314,
    "start_time": "2021-10-28T12:41:32.784Z"
   },
   {
    "duration": 41,
    "start_time": "2021-10-28T12:41:33.101Z"
   },
   {
    "duration": 8,
    "start_time": "2021-10-28T12:41:33.145Z"
   },
   {
    "duration": 19,
    "start_time": "2021-10-28T12:41:33.156Z"
   },
   {
    "duration": 17,
    "start_time": "2021-10-28T13:26:54.902Z"
   },
   {
    "duration": 13,
    "start_time": "2021-10-28T13:27:06.592Z"
   },
   {
    "duration": 269,
    "start_time": "2021-10-28T13:38:08.045Z"
   },
   {
    "duration": 436,
    "start_time": "2021-10-28T13:38:48.998Z"
   },
   {
    "duration": 523,
    "start_time": "2021-10-28T13:39:21.717Z"
   },
   {
    "duration": 20,
    "start_time": "2021-10-28T13:42:00.488Z"
   },
   {
    "duration": 411,
    "start_time": "2021-10-28T13:58:01.369Z"
   },
   {
    "duration": 16,
    "start_time": "2021-10-28T14:03:20.474Z"
   },
   {
    "duration": 246,
    "start_time": "2021-10-28T14:04:23.058Z"
   },
   {
    "duration": 24,
    "start_time": "2021-10-28T14:04:31.861Z"
   },
   {
    "duration": 24,
    "start_time": "2021-10-28T14:05:20.154Z"
   },
   {
    "duration": 15,
    "start_time": "2021-10-28T14:06:49.055Z"
   },
   {
    "duration": 16,
    "start_time": "2021-10-28T14:06:56.749Z"
   },
   {
    "duration": 16,
    "start_time": "2021-10-28T14:20:35.424Z"
   },
   {
    "duration": 65,
    "start_time": "2021-10-28T14:25:37.076Z"
   },
   {
    "duration": 16,
    "start_time": "2021-10-28T14:25:37.145Z"
   },
   {
    "duration": 16,
    "start_time": "2021-10-28T14:25:37.165Z"
   },
   {
    "duration": 68,
    "start_time": "2021-10-28T14:25:37.184Z"
   },
   {
    "duration": 4,
    "start_time": "2021-10-28T14:25:37.255Z"
   },
   {
    "duration": 68,
    "start_time": "2021-10-28T14:25:37.262Z"
   },
   {
    "duration": 19,
    "start_time": "2021-10-28T14:25:37.334Z"
   },
   {
    "duration": 26,
    "start_time": "2021-10-28T14:25:37.357Z"
   },
   {
    "duration": 59,
    "start_time": "2021-10-28T14:25:37.386Z"
   },
   {
    "duration": 28,
    "start_time": "2021-10-28T14:25:37.447Z"
   },
   {
    "duration": 13,
    "start_time": "2021-10-28T14:25:37.477Z"
   },
   {
    "duration": 43,
    "start_time": "2021-10-28T14:25:37.492Z"
   },
   {
    "duration": 13,
    "start_time": "2021-10-28T14:25:37.537Z"
   },
   {
    "duration": 490,
    "start_time": "2021-10-28T14:25:37.552Z"
   },
   {
    "duration": 10,
    "start_time": "2021-10-28T14:25:38.044Z"
   },
   {
    "duration": 16,
    "start_time": "2021-10-28T14:25:38.056Z"
   },
   {
    "duration": 312,
    "start_time": "2021-10-28T14:25:38.075Z"
   },
   {
    "duration": 40,
    "start_time": "2021-10-28T14:25:38.389Z"
   },
   {
    "duration": 8,
    "start_time": "2021-10-28T14:25:38.432Z"
   },
   {
    "duration": 19,
    "start_time": "2021-10-28T14:25:38.443Z"
   },
   {
    "duration": 19,
    "start_time": "2021-10-28T14:25:38.464Z"
   },
   {
    "duration": 420,
    "start_time": "2021-10-28T14:25:38.530Z"
   },
   {
    "duration": 19,
    "start_time": "2021-10-28T14:25:38.954Z"
   },
   {
    "duration": 496,
    "start_time": "2021-10-28T14:25:38.975Z"
   },
   {
    "duration": 14,
    "start_time": "2021-10-28T14:25:39.473Z"
   },
   {
    "duration": 21,
    "start_time": "2021-10-28T14:25:39.490Z"
   },
   {
    "duration": 61,
    "start_time": "2021-10-28T14:38:13.651Z"
   },
   {
    "duration": 13,
    "start_time": "2021-10-28T14:38:19.094Z"
   },
   {
    "duration": 38,
    "start_time": "2021-10-28T14:39:02.478Z"
   },
   {
    "duration": 16,
    "start_time": "2021-10-28T14:39:08.830Z"
   },
   {
    "duration": 111,
    "start_time": "2021-10-28T14:40:15.258Z"
   },
   {
    "duration": 448,
    "start_time": "2021-10-28T14:41:20.188Z"
   },
   {
    "duration": 224,
    "start_time": "2021-10-28T14:41:29.104Z"
   },
   {
    "duration": 242,
    "start_time": "2021-10-28T14:41:34.549Z"
   },
   {
    "duration": 246,
    "start_time": "2021-10-28T14:41:42.660Z"
   },
   {
    "duration": 233,
    "start_time": "2021-10-28T14:41:47.530Z"
   },
   {
    "duration": 219,
    "start_time": "2021-10-28T14:41:53.839Z"
   },
   {
    "duration": 9,
    "start_time": "2021-10-28T14:42:08.054Z"
   },
   {
    "duration": 10,
    "start_time": "2021-10-28T14:42:27.047Z"
   },
   {
    "duration": 59,
    "start_time": "2021-10-28T14:42:44.038Z"
   },
   {
    "duration": 33,
    "start_time": "2021-10-28T14:42:44.099Z"
   },
   {
    "duration": 17,
    "start_time": "2021-10-28T14:42:44.135Z"
   },
   {
    "duration": 22,
    "start_time": "2021-10-28T14:42:44.156Z"
   },
   {
    "duration": 49,
    "start_time": "2021-10-28T14:42:44.180Z"
   },
   {
    "duration": 18,
    "start_time": "2021-10-28T14:42:44.233Z"
   },
   {
    "duration": 27,
    "start_time": "2021-10-28T14:42:44.254Z"
   },
   {
    "duration": 61,
    "start_time": "2021-10-28T14:42:44.284Z"
   },
   {
    "duration": 25,
    "start_time": "2021-10-28T14:42:44.351Z"
   },
   {
    "duration": 67,
    "start_time": "2021-10-28T14:42:44.380Z"
   },
   {
    "duration": 14,
    "start_time": "2021-10-28T14:42:44.451Z"
   },
   {
    "duration": 13,
    "start_time": "2021-10-28T14:42:44.469Z"
   },
   {
    "duration": 52,
    "start_time": "2021-10-28T14:42:44.485Z"
   },
   {
    "duration": 593,
    "start_time": "2021-10-28T14:42:44.540Z"
   },
   {
    "duration": 8,
    "start_time": "2021-10-28T14:42:45.135Z"
   },
   {
    "duration": 27,
    "start_time": "2021-10-28T14:42:45.146Z"
   },
   {
    "duration": 426,
    "start_time": "2021-10-28T14:42:45.176Z"
   },
   {
    "duration": 40,
    "start_time": "2021-10-28T14:42:45.606Z"
   },
   {
    "duration": 9,
    "start_time": "2021-10-28T14:42:45.648Z"
   },
   {
    "duration": 21,
    "start_time": "2021-10-28T14:42:45.659Z"
   },
   {
    "duration": 49,
    "start_time": "2021-10-28T14:42:45.682Z"
   },
   {
    "duration": 432,
    "start_time": "2021-10-28T14:42:45.734Z"
   },
   {
    "duration": 19,
    "start_time": "2021-10-28T14:42:46.168Z"
   },
   {
    "duration": 479,
    "start_time": "2021-10-28T14:42:46.189Z"
   },
   {
    "duration": 14,
    "start_time": "2021-10-28T14:42:46.671Z"
   },
   {
    "duration": 50,
    "start_time": "2021-10-28T14:42:46.688Z"
   },
   {
    "duration": 62,
    "start_time": "2021-10-28T14:42:46.743Z"
   },
   {
    "duration": 59,
    "start_time": "2021-10-28T16:08:21.757Z"
   },
   {
    "duration": 11,
    "start_time": "2021-10-28T16:08:21.819Z"
   },
   {
    "duration": 25,
    "start_time": "2021-10-28T16:08:21.833Z"
   },
   {
    "duration": 26,
    "start_time": "2021-10-28T16:08:21.860Z"
   },
   {
    "duration": 8,
    "start_time": "2021-10-28T16:08:21.889Z"
   },
   {
    "duration": 17,
    "start_time": "2021-10-28T16:08:21.929Z"
   },
   {
    "duration": 24,
    "start_time": "2021-10-28T16:08:21.949Z"
   },
   {
    "duration": 57,
    "start_time": "2021-10-28T16:08:21.975Z"
   },
   {
    "duration": 25,
    "start_time": "2021-10-28T16:08:22.039Z"
   },
   {
    "duration": 68,
    "start_time": "2021-10-28T16:08:22.068Z"
   },
   {
    "duration": 14,
    "start_time": "2021-10-28T16:08:22.140Z"
   },
   {
    "duration": 17,
    "start_time": "2021-10-28T16:08:22.157Z"
   },
   {
    "duration": 23,
    "start_time": "2021-10-28T16:08:22.177Z"
   },
   {
    "duration": 481,
    "start_time": "2021-10-28T16:08:22.229Z"
   },
   {
    "duration": 19,
    "start_time": "2021-10-28T16:08:22.713Z"
   },
   {
    "duration": 20,
    "start_time": "2021-10-28T16:08:22.734Z"
   },
   {
    "duration": 298,
    "start_time": "2021-10-28T16:08:22.757Z"
   },
   {
    "duration": 24,
    "start_time": "2021-10-28T16:08:23.057Z"
   },
   {
    "duration": 9,
    "start_time": "2021-10-28T16:08:23.083Z"
   },
   {
    "duration": 44,
    "start_time": "2021-10-28T16:08:23.094Z"
   },
   {
    "duration": 12,
    "start_time": "2021-10-28T16:08:23.140Z"
   },
   {
    "duration": 478,
    "start_time": "2021-10-28T16:08:23.154Z"
   },
   {
    "duration": 21,
    "start_time": "2021-10-28T16:08:23.634Z"
   },
   {
    "duration": 410,
    "start_time": "2021-10-28T16:08:23.658Z"
   },
   {
    "duration": 15,
    "start_time": "2021-10-28T16:08:24.071Z"
   },
   {
    "duration": 52,
    "start_time": "2021-10-28T16:08:24.089Z"
   },
   {
    "duration": 152,
    "start_time": "2021-10-28T16:08:24.146Z"
   },
   {
    "duration": 18,
    "start_time": "2021-10-28T16:08:29.522Z"
   },
   {
    "duration": 20,
    "start_time": "2021-10-28T16:09:10.139Z"
   },
   {
    "duration": 9,
    "start_time": "2021-10-28T16:09:12.321Z"
   },
   {
    "duration": 231,
    "start_time": "2021-10-28T16:09:33.726Z"
   },
   {
    "duration": 58,
    "start_time": "2021-10-28T16:09:45.899Z"
   },
   {
    "duration": 57,
    "start_time": "2021-10-28T16:09:56.682Z"
   },
   {
    "duration": 18,
    "start_time": "2021-10-28T16:09:58.901Z"
   },
   {
    "duration": 4296,
    "start_time": "2021-10-28T16:10:32.246Z"
   },
   {
    "duration": 61,
    "start_time": "2021-10-28T16:10:39.156Z"
   },
   {
    "duration": 19,
    "start_time": "2021-10-28T16:10:41.954Z"
   },
   {
    "duration": 22,
    "start_time": "2021-10-28T16:10:46.983Z"
   },
   {
    "duration": 109,
    "start_time": "2021-10-28T16:11:37.443Z"
   },
   {
    "duration": 24,
    "start_time": "2021-10-28T16:11:40.241Z"
   },
   {
    "duration": 61,
    "start_time": "2021-10-28T16:11:50.288Z"
   },
   {
    "duration": 10,
    "start_time": "2021-10-28T16:11:50.352Z"
   },
   {
    "duration": 15,
    "start_time": "2021-10-28T16:11:50.365Z"
   },
   {
    "duration": 58,
    "start_time": "2021-10-28T16:11:50.382Z"
   },
   {
    "duration": 3,
    "start_time": "2021-10-28T16:11:50.443Z"
   },
   {
    "duration": 23,
    "start_time": "2021-10-28T16:11:50.448Z"
   },
   {
    "duration": 18,
    "start_time": "2021-10-28T16:11:50.473Z"
   },
   {
    "duration": 58,
    "start_time": "2021-10-28T16:11:50.493Z"
   },
   {
    "duration": 22,
    "start_time": "2021-10-28T16:11:50.555Z"
   },
   {
    "duration": 60,
    "start_time": "2021-10-28T16:11:50.580Z"
   },
   {
    "duration": 15,
    "start_time": "2021-10-28T16:11:50.642Z"
   },
   {
    "duration": 17,
    "start_time": "2021-10-28T16:11:50.660Z"
   },
   {
    "duration": 13,
    "start_time": "2021-10-28T16:11:50.679Z"
   },
   {
    "duration": 504,
    "start_time": "2021-10-28T16:11:50.695Z"
   },
   {
    "duration": 8,
    "start_time": "2021-10-28T16:11:51.201Z"
   },
   {
    "duration": 23,
    "start_time": "2021-10-28T16:11:51.212Z"
   },
   {
    "duration": 291,
    "start_time": "2021-10-28T16:11:51.238Z"
   },
   {
    "duration": 22,
    "start_time": "2021-10-28T16:11:51.531Z"
   },
   {
    "duration": 8,
    "start_time": "2021-10-28T16:11:51.555Z"
   },
   {
    "duration": 15,
    "start_time": "2021-10-28T16:11:51.565Z"
   },
   {
    "duration": 54,
    "start_time": "2021-10-28T16:11:51.582Z"
   },
   {
    "duration": 416,
    "start_time": "2021-10-28T16:11:51.639Z"
   },
   {
    "duration": 21,
    "start_time": "2021-10-28T16:11:52.057Z"
   },
   {
    "duration": 446,
    "start_time": "2021-10-28T16:11:52.080Z"
   },
   {
    "duration": 15,
    "start_time": "2021-10-28T16:11:52.529Z"
   },
   {
    "duration": 22,
    "start_time": "2021-10-28T16:11:52.546Z"
   },
   {
    "duration": 6077,
    "start_time": "2021-10-28T16:11:52.573Z"
   },
   {
    "duration": -334,
    "start_time": "2021-10-28T16:11:58.987Z"
   },
   {
    "duration": 60,
    "start_time": "2021-10-28T16:12:21.740Z"
   },
   {
    "duration": 19,
    "start_time": "2021-10-28T16:12:30.756Z"
   },
   {
    "duration": 293,
    "start_time": "2021-10-28T16:13:43.569Z"
   },
   {
    "duration": 131,
    "start_time": "2021-10-28T16:20:14.146Z"
   },
   {
    "duration": 14,
    "start_time": "2021-10-28T16:20:16.898Z"
   },
   {
    "duration": 45,
    "start_time": "2021-10-28T16:20:43.620Z"
   },
   {
    "duration": 13,
    "start_time": "2021-10-28T16:20:48.600Z"
   },
   {
    "duration": 4,
    "start_time": "2021-10-28T16:21:30.737Z"
   },
   {
    "duration": 19,
    "start_time": "2021-10-28T16:24:10.360Z"
   },
   {
    "duration": 8,
    "start_time": "2021-10-28T16:24:36.623Z"
   },
   {
    "duration": 26,
    "start_time": "2021-10-28T16:24:38.634Z"
   },
   {
    "duration": 16,
    "start_time": "2021-10-28T16:24:49.740Z"
   },
   {
    "duration": 64,
    "start_time": "2021-10-28T16:29:14.396Z"
   },
   {
    "duration": 14,
    "start_time": "2021-10-28T16:29:18.426Z"
   },
   {
    "duration": 4,
    "start_time": "2021-10-28T16:29:35.419Z"
   },
   {
    "duration": 8,
    "start_time": "2021-10-28T16:29:38.321Z"
   },
   {
    "duration": 20,
    "start_time": "2021-10-28T16:29:41.015Z"
   },
   {
    "duration": 61,
    "start_time": "2021-10-28T16:29:46.061Z"
   },
   {
    "duration": 12,
    "start_time": "2021-10-28T16:29:46.124Z"
   },
   {
    "duration": 15,
    "start_time": "2021-10-28T16:29:46.139Z"
   },
   {
    "duration": 22,
    "start_time": "2021-10-28T16:29:46.157Z"
   },
   {
    "duration": 48,
    "start_time": "2021-10-28T16:29:46.182Z"
   },
   {
    "duration": 16,
    "start_time": "2021-10-28T16:29:46.233Z"
   },
   {
    "duration": 21,
    "start_time": "2021-10-28T16:29:46.251Z"
   },
   {
    "duration": 62,
    "start_time": "2021-10-28T16:29:46.275Z"
   },
   {
    "duration": 21,
    "start_time": "2021-10-28T16:29:46.342Z"
   },
   {
    "duration": 27,
    "start_time": "2021-10-28T16:29:46.366Z"
   },
   {
    "duration": 42,
    "start_time": "2021-10-28T16:29:46.397Z"
   },
   {
    "duration": 8,
    "start_time": "2021-10-28T16:29:46.442Z"
   },
   {
    "duration": 15,
    "start_time": "2021-10-28T16:29:46.452Z"
   },
   {
    "duration": 518,
    "start_time": "2021-10-28T16:29:46.470Z"
   },
   {
    "duration": 8,
    "start_time": "2021-10-28T16:29:46.990Z"
   },
   {
    "duration": 28,
    "start_time": "2021-10-28T16:29:47.001Z"
   },
   {
    "duration": 301,
    "start_time": "2021-10-28T16:29:47.031Z"
   },
   {
    "duration": 23,
    "start_time": "2021-10-28T16:29:47.334Z"
   },
   {
    "duration": 9,
    "start_time": "2021-10-28T16:29:47.359Z"
   },
   {
    "duration": 15,
    "start_time": "2021-10-28T16:29:47.370Z"
   },
   {
    "duration": 56,
    "start_time": "2021-10-28T16:29:47.387Z"
   },
   {
    "duration": 416,
    "start_time": "2021-10-28T16:29:47.446Z"
   },
   {
    "duration": 22,
    "start_time": "2021-10-28T16:29:47.865Z"
   },
   {
    "duration": 554,
    "start_time": "2021-10-28T16:29:47.890Z"
   },
   {
    "duration": 14,
    "start_time": "2021-10-28T16:29:48.447Z"
   },
   {
    "duration": 23,
    "start_time": "2021-10-28T16:29:48.463Z"
   },
   {
    "duration": 87,
    "start_time": "2021-10-28T16:29:48.490Z"
   },
   {
    "duration": 14,
    "start_time": "2021-10-28T16:29:48.579Z"
   },
   {
    "duration": 5,
    "start_time": "2021-10-28T16:29:48.596Z"
   },
   {
    "duration": 7,
    "start_time": "2021-10-28T16:29:48.630Z"
   },
   {
    "duration": 18,
    "start_time": "2021-10-28T16:29:48.640Z"
   },
   {
    "duration": 4,
    "start_time": "2021-10-28T16:30:07.584Z"
   },
   {
    "duration": 9,
    "start_time": "2021-10-28T16:30:11.119Z"
   },
   {
    "duration": 20,
    "start_time": "2021-10-28T16:30:12.229Z"
   },
   {
    "duration": 62,
    "start_time": "2021-10-28T16:30:16.850Z"
   },
   {
    "duration": 21,
    "start_time": "2021-10-28T16:30:16.914Z"
   },
   {
    "duration": 21,
    "start_time": "2021-10-28T16:30:16.938Z"
   },
   {
    "duration": 30,
    "start_time": "2021-10-28T16:30:16.962Z"
   },
   {
    "duration": 34,
    "start_time": "2021-10-28T16:30:16.995Z"
   },
   {
    "duration": 30,
    "start_time": "2021-10-28T16:30:17.031Z"
   },
   {
    "duration": 25,
    "start_time": "2021-10-28T16:30:17.064Z"
   },
   {
    "duration": 41,
    "start_time": "2021-10-28T16:30:17.092Z"
   },
   {
    "duration": 21,
    "start_time": "2021-10-28T16:30:17.137Z"
   },
   {
    "duration": 29,
    "start_time": "2021-10-28T16:30:17.161Z"
   },
   {
    "duration": 45,
    "start_time": "2021-10-28T16:30:17.192Z"
   },
   {
    "duration": 13,
    "start_time": "2021-10-28T16:30:17.239Z"
   },
   {
    "duration": 27,
    "start_time": "2021-10-28T16:30:17.254Z"
   },
   {
    "duration": 486,
    "start_time": "2021-10-28T16:30:17.284Z"
   },
   {
    "duration": 9,
    "start_time": "2021-10-28T16:30:17.773Z"
   },
   {
    "duration": 20,
    "start_time": "2021-10-28T16:30:17.784Z"
   },
   {
    "duration": 298,
    "start_time": "2021-10-28T16:30:17.830Z"
   },
   {
    "duration": 22,
    "start_time": "2021-10-28T16:30:18.131Z"
   },
   {
    "duration": 14,
    "start_time": "2021-10-28T16:30:18.156Z"
   },
   {
    "duration": 33,
    "start_time": "2021-10-28T16:30:18.172Z"
   },
   {
    "duration": 31,
    "start_time": "2021-10-28T16:30:18.207Z"
   },
   {
    "duration": 421,
    "start_time": "2021-10-28T16:30:18.240Z"
   },
   {
    "duration": 19,
    "start_time": "2021-10-28T16:30:18.664Z"
   },
   {
    "duration": 451,
    "start_time": "2021-10-28T16:30:18.686Z"
   },
   {
    "duration": 15,
    "start_time": "2021-10-28T16:30:19.140Z"
   },
   {
    "duration": 23,
    "start_time": "2021-10-28T16:30:19.158Z"
   },
   {
    "duration": 90,
    "start_time": "2021-10-28T16:30:19.185Z"
   },
   {
    "duration": 13,
    "start_time": "2021-10-28T16:30:19.278Z"
   },
   {
    "duration": 8,
    "start_time": "2021-10-28T16:30:19.293Z"
   },
   {
    "duration": 9,
    "start_time": "2021-10-28T16:30:19.329Z"
   },
   {
    "duration": 16,
    "start_time": "2021-10-28T16:30:19.340Z"
   },
   {
    "duration": 254,
    "start_time": "2021-10-28T16:30:57.303Z"
   },
   {
    "duration": 61,
    "start_time": "2021-10-28T16:31:10.502Z"
   },
   {
    "duration": 11,
    "start_time": "2021-10-28T16:31:10.566Z"
   },
   {
    "duration": 49,
    "start_time": "2021-10-28T16:31:10.580Z"
   },
   {
    "duration": 22,
    "start_time": "2021-10-28T16:31:10.632Z"
   },
   {
    "duration": 3,
    "start_time": "2021-10-28T16:31:10.656Z"
   },
   {
    "duration": 16,
    "start_time": "2021-10-28T16:31:10.661Z"
   },
   {
    "duration": 56,
    "start_time": "2021-10-28T16:31:10.679Z"
   },
   {
    "duration": 29,
    "start_time": "2021-10-28T16:31:10.738Z"
   },
   {
    "duration": 21,
    "start_time": "2021-10-28T16:31:10.772Z"
   },
   {
    "duration": 51,
    "start_time": "2021-10-28T16:31:10.796Z"
   },
   {
    "duration": 13,
    "start_time": "2021-10-28T16:31:10.850Z"
   },
   {
    "duration": 9,
    "start_time": "2021-10-28T16:31:10.865Z"
   },
   {
    "duration": 57,
    "start_time": "2021-10-28T16:31:10.877Z"
   },
   {
    "duration": 593,
    "start_time": "2021-10-28T16:31:10.937Z"
   },
   {
    "duration": 11,
    "start_time": "2021-10-28T16:31:11.533Z"
   },
   {
    "duration": 14,
    "start_time": "2021-10-28T16:31:11.547Z"
   },
   {
    "duration": 315,
    "start_time": "2021-10-28T16:31:11.564Z"
   },
   {
    "duration": 46,
    "start_time": "2021-10-28T16:31:11.883Z"
   },
   {
    "duration": 10,
    "start_time": "2021-10-28T16:31:11.932Z"
   },
   {
    "duration": 18,
    "start_time": "2021-10-28T16:31:11.946Z"
   },
   {
    "duration": 16,
    "start_time": "2021-10-28T16:31:11.967Z"
   },
   {
    "duration": 421,
    "start_time": "2021-10-28T16:31:12.029Z"
   },
   {
    "duration": 21,
    "start_time": "2021-10-28T16:31:12.453Z"
   },
   {
    "duration": 461,
    "start_time": "2021-10-28T16:31:12.477Z"
   },
   {
    "duration": 19,
    "start_time": "2021-10-28T16:31:12.941Z"
   },
   {
    "duration": 25,
    "start_time": "2021-10-28T16:31:12.963Z"
   },
   {
    "duration": 180,
    "start_time": "2021-10-28T16:31:13.034Z"
   },
   {
    "duration": 23,
    "start_time": "2021-10-28T16:31:13.217Z"
   },
   {
    "duration": 4,
    "start_time": "2021-10-28T16:31:13.242Z"
   },
   {
    "duration": 12,
    "start_time": "2021-10-28T16:31:13.248Z"
   },
   {
    "duration": 16,
    "start_time": "2021-10-28T16:31:13.262Z"
   },
   {
    "duration": 243,
    "start_time": "2021-10-28T16:31:13.281Z"
   },
   {
    "duration": 282,
    "start_time": "2021-10-28T16:31:28.310Z"
   },
   {
    "duration": 12,
    "start_time": "2021-10-28T16:32:39.004Z"
   },
   {
    "duration": 31,
    "start_time": "2021-10-28T16:34:11.478Z"
   },
   {
    "duration": 8,
    "start_time": "2021-10-28T16:36:53.365Z"
   },
   {
    "duration": 29,
    "start_time": "2021-10-28T16:37:09.105Z"
   },
   {
    "duration": 61,
    "start_time": "2021-10-28T16:37:20.953Z"
   },
   {
    "duration": 19,
    "start_time": "2021-10-28T16:37:21.018Z"
   },
   {
    "duration": 17,
    "start_time": "2021-10-28T16:37:21.042Z"
   },
   {
    "duration": 73,
    "start_time": "2021-10-28T16:37:21.062Z"
   },
   {
    "duration": 3,
    "start_time": "2021-10-28T16:37:21.137Z"
   },
   {
    "duration": 22,
    "start_time": "2021-10-28T16:37:21.142Z"
   },
   {
    "duration": 18,
    "start_time": "2021-10-28T16:37:21.167Z"
   },
   {
    "duration": 58,
    "start_time": "2021-10-28T16:37:21.189Z"
   },
   {
    "duration": 22,
    "start_time": "2021-10-28T16:37:21.251Z"
   },
   {
    "duration": 56,
    "start_time": "2021-10-28T16:37:21.275Z"
   },
   {
    "duration": 14,
    "start_time": "2021-10-28T16:37:21.333Z"
   },
   {
    "duration": 18,
    "start_time": "2021-10-28T16:37:21.349Z"
   },
   {
    "duration": 24,
    "start_time": "2021-10-28T16:37:21.369Z"
   },
   {
    "duration": 501,
    "start_time": "2021-10-28T16:37:21.396Z"
   },
   {
    "duration": 10,
    "start_time": "2021-10-28T16:37:21.899Z"
   },
   {
    "duration": 31,
    "start_time": "2021-10-28T16:37:21.911Z"
   },
   {
    "duration": 294,
    "start_time": "2021-10-28T16:37:21.944Z"
   },
   {
    "duration": 23,
    "start_time": "2021-10-28T16:37:22.240Z"
   },
   {
    "duration": 8,
    "start_time": "2021-10-28T16:37:22.265Z"
   },
   {
    "duration": 16,
    "start_time": "2021-10-28T16:37:22.275Z"
   },
   {
    "duration": 11,
    "start_time": "2021-10-28T16:37:22.330Z"
   },
   {
    "duration": 413,
    "start_time": "2021-10-28T16:37:22.344Z"
   },
   {
    "duration": 19,
    "start_time": "2021-10-28T16:37:22.761Z"
   },
   {
    "duration": 452,
    "start_time": "2021-10-28T16:37:22.782Z"
   },
   {
    "duration": 14,
    "start_time": "2021-10-28T16:37:23.237Z"
   },
   {
    "duration": 24,
    "start_time": "2021-10-28T16:37:23.253Z"
   },
   {
    "duration": 94,
    "start_time": "2021-10-28T16:37:23.279Z"
   },
   {
    "duration": 15,
    "start_time": "2021-10-28T16:37:23.375Z"
   },
   {
    "duration": 36,
    "start_time": "2021-10-28T16:37:23.393Z"
   },
   {
    "duration": 8,
    "start_time": "2021-10-28T16:37:23.432Z"
   },
   {
    "duration": 22,
    "start_time": "2021-10-28T16:37:23.443Z"
   },
   {
    "duration": 27,
    "start_time": "2021-10-28T16:37:23.468Z"
   },
   {
    "duration": 18,
    "start_time": "2021-10-28T16:37:23.529Z"
   },
   {
    "duration": 29,
    "start_time": "2021-10-28T16:37:23.549Z"
   },
   {
    "duration": 8,
    "start_time": "2021-10-28T16:37:58.262Z"
   },
   {
    "duration": 28,
    "start_time": "2021-10-28T16:38:00.733Z"
   },
   {
    "duration": 73,
    "start_time": "2021-10-28T16:41:22.165Z"
   },
   {
    "duration": 9,
    "start_time": "2021-10-28T16:44:02.431Z"
   },
   {
    "duration": 28,
    "start_time": "2021-10-28T16:44:04.496Z"
   },
   {
    "duration": 26,
    "start_time": "2021-10-28T16:44:16.052Z"
   },
   {
    "duration": 8,
    "start_time": "2021-10-28T16:44:56.385Z"
   },
   {
    "duration": 27,
    "start_time": "2021-10-28T16:44:59.549Z"
   },
   {
    "duration": 71,
    "start_time": "2021-10-28T16:45:14.649Z"
   },
   {
    "duration": 13,
    "start_time": "2021-10-28T16:45:14.730Z"
   },
   {
    "duration": 21,
    "start_time": "2021-10-28T16:45:14.746Z"
   },
   {
    "duration": 60,
    "start_time": "2021-10-28T16:45:14.769Z"
   },
   {
    "duration": 3,
    "start_time": "2021-10-28T16:45:14.832Z"
   },
   {
    "duration": 23,
    "start_time": "2021-10-28T16:45:14.837Z"
   },
   {
    "duration": 21,
    "start_time": "2021-10-28T16:45:14.863Z"
   },
   {
    "duration": 68,
    "start_time": "2021-10-28T16:45:14.886Z"
   },
   {
    "duration": 22,
    "start_time": "2021-10-28T16:45:14.960Z"
   },
   {
    "duration": 55,
    "start_time": "2021-10-28T16:45:14.986Z"
   },
   {
    "duration": 12,
    "start_time": "2021-10-28T16:45:15.044Z"
   },
   {
    "duration": 10,
    "start_time": "2021-10-28T16:45:15.059Z"
   },
   {
    "duration": 11,
    "start_time": "2021-10-28T16:45:15.072Z"
   },
   {
    "duration": 630,
    "start_time": "2021-10-28T16:45:15.086Z"
   },
   {
    "duration": 16,
    "start_time": "2021-10-28T16:45:15.720Z"
   },
   {
    "duration": 16,
    "start_time": "2021-10-28T16:45:15.739Z"
   },
   {
    "duration": 384,
    "start_time": "2021-10-28T16:45:15.759Z"
   },
   {
    "duration": 21,
    "start_time": "2021-10-28T16:45:16.146Z"
   },
   {
    "duration": 7,
    "start_time": "2021-10-28T16:45:16.170Z"
   },
   {
    "duration": 52,
    "start_time": "2021-10-28T16:45:16.179Z"
   },
   {
    "duration": 18,
    "start_time": "2021-10-28T16:45:16.235Z"
   },
   {
    "duration": 645,
    "start_time": "2021-10-28T16:45:16.256Z"
   },
   {
    "duration": 33,
    "start_time": "2021-10-28T16:45:16.903Z"
   },
   {
    "duration": 418,
    "start_time": "2021-10-28T16:45:16.939Z"
   },
   {
    "duration": 14,
    "start_time": "2021-10-28T16:45:17.359Z"
   },
   {
    "duration": 54,
    "start_time": "2021-10-28T16:45:17.376Z"
   },
   {
    "duration": 56,
    "start_time": "2021-10-28T16:45:17.435Z"
   },
   {
    "duration": 37,
    "start_time": "2021-10-28T16:45:17.494Z"
   },
   {
    "duration": 5,
    "start_time": "2021-10-28T16:45:17.533Z"
   },
   {
    "duration": 11,
    "start_time": "2021-10-28T16:45:17.540Z"
   },
   {
    "duration": 16,
    "start_time": "2021-10-28T16:45:17.554Z"
   },
   {
    "duration": 61,
    "start_time": "2021-10-28T16:45:17.572Z"
   },
   {
    "duration": 15,
    "start_time": "2021-10-28T16:45:17.636Z"
   },
   {
    "duration": 27,
    "start_time": "2021-10-28T16:45:17.654Z"
   },
   {
    "duration": 82,
    "start_time": "2021-10-28T16:46:25.337Z"
   },
   {
    "duration": 8,
    "start_time": "2021-10-28T16:46:39.203Z"
   },
   {
    "duration": 250,
    "start_time": "2021-10-28T16:48:42.172Z"
   },
   {
    "duration": 246,
    "start_time": "2021-10-28T16:49:03.410Z"
   },
   {
    "duration": 11,
    "start_time": "2021-10-28T16:49:21.012Z"
   },
   {
    "duration": 28,
    "start_time": "2021-10-28T16:49:24.997Z"
   },
   {
    "duration": 10,
    "start_time": "2021-10-28T16:50:41.792Z"
   },
   {
    "duration": 10,
    "start_time": "2021-10-28T16:50:55.745Z"
   },
   {
    "duration": 17,
    "start_time": "2021-10-28T16:51:24.275Z"
   },
   {
    "duration": 16,
    "start_time": "2021-10-28T16:51:39.314Z"
   },
   {
    "duration": 153,
    "start_time": "2021-10-28T16:56:16.397Z"
   },
   {
    "duration": 9,
    "start_time": "2021-10-28T16:56:20.718Z"
   },
   {
    "duration": 63,
    "start_time": "2021-10-28T16:56:35.642Z"
   },
   {
    "duration": 19,
    "start_time": "2021-10-28T16:56:38.352Z"
   },
   {
    "duration": 47,
    "start_time": "2021-10-28T16:56:46.423Z"
   },
   {
    "duration": 13,
    "start_time": "2021-10-28T16:56:49.425Z"
   },
   {
    "duration": 51,
    "start_time": "2021-10-28T16:57:10.222Z"
   },
   {
    "duration": 62,
    "start_time": "2021-10-28T16:57:20.565Z"
   },
   {
    "duration": 14,
    "start_time": "2021-10-28T16:57:22.974Z"
   },
   {
    "duration": 59,
    "start_time": "2021-10-28T16:59:36.577Z"
   },
   {
    "duration": 19,
    "start_time": "2021-10-28T16:59:39.114Z"
   },
   {
    "duration": 162,
    "start_time": "2021-10-28T16:59:49.135Z"
   },
   {
    "duration": 61,
    "start_time": "2021-10-28T17:00:30.483Z"
   },
   {
    "duration": 12,
    "start_time": "2021-10-28T17:00:30.547Z"
   },
   {
    "duration": 43,
    "start_time": "2021-10-28T17:00:30.562Z"
   },
   {
    "duration": 36,
    "start_time": "2021-10-28T17:00:30.608Z"
   },
   {
    "duration": 3,
    "start_time": "2021-10-28T17:00:30.647Z"
   },
   {
    "duration": 27,
    "start_time": "2021-10-28T17:00:30.653Z"
   },
   {
    "duration": 46,
    "start_time": "2021-10-28T17:00:30.683Z"
   },
   {
    "duration": 50,
    "start_time": "2021-10-28T17:00:30.733Z"
   },
   {
    "duration": 29,
    "start_time": "2021-10-28T17:00:30.787Z"
   },
   {
    "duration": 44,
    "start_time": "2021-10-28T17:00:30.818Z"
   },
   {
    "duration": 18,
    "start_time": "2021-10-28T17:00:30.864Z"
   },
   {
    "duration": 36,
    "start_time": "2021-10-28T17:00:30.884Z"
   },
   {
    "duration": 22,
    "start_time": "2021-10-28T17:00:30.922Z"
   },
   {
    "duration": 482,
    "start_time": "2021-10-28T17:00:30.946Z"
   },
   {
    "duration": 9,
    "start_time": "2021-10-28T17:00:31.430Z"
   },
   {
    "duration": 18,
    "start_time": "2021-10-28T17:00:31.441Z"
   },
   {
    "duration": 307,
    "start_time": "2021-10-28T17:00:31.461Z"
   },
   {
    "duration": 23,
    "start_time": "2021-10-28T17:00:31.770Z"
   },
   {
    "duration": 8,
    "start_time": "2021-10-28T17:00:31.795Z"
   },
   {
    "duration": 14,
    "start_time": "2021-10-28T17:00:31.830Z"
   },
   {
    "duration": 21,
    "start_time": "2021-10-28T17:00:31.847Z"
   },
   {
    "duration": 462,
    "start_time": "2021-10-28T17:00:31.870Z"
   },
   {
    "duration": 19,
    "start_time": "2021-10-28T17:00:32.337Z"
   },
   {
    "duration": 414,
    "start_time": "2021-10-28T17:00:32.359Z"
   },
   {
    "duration": 13,
    "start_time": "2021-10-28T17:00:32.775Z"
   },
   {
    "duration": 48,
    "start_time": "2021-10-28T17:00:32.791Z"
   },
   {
    "duration": 52,
    "start_time": "2021-10-28T17:00:32.841Z"
   },
   {
    "duration": 38,
    "start_time": "2021-10-28T17:00:32.896Z"
   },
   {
    "duration": 6,
    "start_time": "2021-10-28T17:00:32.937Z"
   },
   {
    "duration": 13,
    "start_time": "2021-10-28T17:00:32.945Z"
   },
   {
    "duration": 17,
    "start_time": "2021-10-28T17:00:32.960Z"
   },
   {
    "duration": 57,
    "start_time": "2021-10-28T17:00:32.979Z"
   },
   {
    "duration": 54,
    "start_time": "2021-10-28T17:00:33.039Z"
   },
   {
    "duration": 10,
    "start_time": "2021-10-28T17:00:33.095Z"
   },
   {
    "duration": 11,
    "start_time": "2021-10-28T17:00:33.129Z"
   },
   {
    "duration": 245,
    "start_time": "2021-10-28T17:00:33.144Z"
   },
   {
    "duration": 33,
    "start_time": "2021-10-28T17:01:22.105Z"
   },
   {
    "duration": 10,
    "start_time": "2021-10-28T17:01:25.974Z"
   },
   {
    "duration": 10,
    "start_time": "2021-10-28T17:01:36.656Z"
   },
   {
    "duration": 14,
    "start_time": "2021-10-28T17:01:57.821Z"
   },
   {
    "duration": 2198,
    "start_time": "2021-10-28T17:03:46.221Z"
   },
   {
    "duration": 2308,
    "start_time": "2021-10-28T17:04:06.553Z"
   },
   {
    "duration": 25,
    "start_time": "2021-10-28T17:04:25.173Z"
   },
   {
    "duration": 76,
    "start_time": "2021-10-28T17:06:12.341Z"
   },
   {
    "duration": 31,
    "start_time": "2021-10-28T17:06:20.185Z"
   },
   {
    "duration": 35,
    "start_time": "2021-10-28T17:06:39.737Z"
   },
   {
    "duration": 237,
    "start_time": "2021-10-28T17:08:13.894Z"
   },
   {
    "duration": 10,
    "start_time": "2021-10-28T17:08:23.958Z"
   },
   {
    "duration": 60,
    "start_time": "2021-10-28T17:08:29.407Z"
   },
   {
    "duration": 11,
    "start_time": "2021-10-28T17:08:29.469Z"
   },
   {
    "duration": 49,
    "start_time": "2021-10-28T17:08:29.483Z"
   },
   {
    "duration": 24,
    "start_time": "2021-10-28T17:08:29.534Z"
   },
   {
    "duration": 4,
    "start_time": "2021-10-28T17:08:29.560Z"
   },
   {
    "duration": 17,
    "start_time": "2021-10-28T17:08:29.566Z"
   },
   {
    "duration": 56,
    "start_time": "2021-10-28T17:08:29.585Z"
   },
   {
    "duration": 32,
    "start_time": "2021-10-28T17:08:29.647Z"
   },
   {
    "duration": 62,
    "start_time": "2021-10-28T17:08:29.683Z"
   },
   {
    "duration": 29,
    "start_time": "2021-10-28T17:08:29.748Z"
   },
   {
    "duration": 49,
    "start_time": "2021-10-28T17:08:29.780Z"
   },
   {
    "duration": 8,
    "start_time": "2021-10-28T17:08:29.832Z"
   },
   {
    "duration": 21,
    "start_time": "2021-10-28T17:08:29.842Z"
   },
   {
    "duration": 600,
    "start_time": "2021-10-28T17:08:29.866Z"
   },
   {
    "duration": 8,
    "start_time": "2021-10-28T17:08:30.468Z"
   },
   {
    "duration": 35,
    "start_time": "2021-10-28T17:08:30.478Z"
   },
   {
    "duration": 297,
    "start_time": "2021-10-28T17:08:30.515Z"
   },
   {
    "duration": 28,
    "start_time": "2021-10-28T17:08:30.815Z"
   },
   {
    "duration": 13,
    "start_time": "2021-10-28T17:08:30.845Z"
   },
   {
    "duration": 22,
    "start_time": "2021-10-28T17:08:30.861Z"
   },
   {
    "duration": 44,
    "start_time": "2021-10-28T17:08:30.885Z"
   },
   {
    "duration": 425,
    "start_time": "2021-10-28T17:08:30.931Z"
   },
   {
    "duration": 21,
    "start_time": "2021-10-28T17:08:31.364Z"
   },
   {
    "duration": 460,
    "start_time": "2021-10-28T17:08:31.389Z"
   },
   {
    "duration": 16,
    "start_time": "2021-10-28T17:08:31.852Z"
   },
   {
    "duration": 24,
    "start_time": "2021-10-28T17:08:31.871Z"
   },
   {
    "duration": 244,
    "start_time": "2021-10-28T17:08:31.897Z"
   },
   {
    "duration": 14,
    "start_time": "2021-10-28T17:08:32.143Z"
   },
   {
    "duration": 7,
    "start_time": "2021-10-28T17:08:32.159Z"
   },
   {
    "duration": 17,
    "start_time": "2021-10-28T17:08:32.169Z"
   },
   {
    "duration": 46,
    "start_time": "2021-10-28T17:08:32.188Z"
   },
   {
    "duration": 14,
    "start_time": "2021-10-28T17:08:32.237Z"
   },
   {
    "duration": 57,
    "start_time": "2021-10-28T17:08:32.253Z"
   },
   {
    "duration": 10,
    "start_time": "2021-10-28T17:08:32.329Z"
   },
   {
    "duration": 23,
    "start_time": "2021-10-28T17:08:32.341Z"
   },
   {
    "duration": 26,
    "start_time": "2021-10-28T17:08:32.367Z"
   },
   {
    "duration": 13,
    "start_time": "2021-10-28T17:09:59.477Z"
   },
   {
    "duration": 13,
    "start_time": "2021-10-28T17:11:28.100Z"
   },
   {
    "duration": 29,
    "start_time": "2021-10-28T17:12:03.291Z"
   },
   {
    "duration": 108,
    "start_time": "2021-10-28T17:14:05.322Z"
   },
   {
    "duration": 12,
    "start_time": "2021-10-28T17:14:05.433Z"
   },
   {
    "duration": 16,
    "start_time": "2021-10-28T17:14:05.449Z"
   },
   {
    "duration": 28,
    "start_time": "2021-10-28T17:14:05.467Z"
   },
   {
    "duration": 4,
    "start_time": "2021-10-28T17:14:05.530Z"
   },
   {
    "duration": 20,
    "start_time": "2021-10-28T17:14:05.536Z"
   },
   {
    "duration": 17,
    "start_time": "2021-10-28T17:14:05.559Z"
   },
   {
    "duration": 64,
    "start_time": "2021-10-28T17:14:05.578Z"
   },
   {
    "duration": 21,
    "start_time": "2021-10-28T17:14:05.647Z"
   },
   {
    "duration": 58,
    "start_time": "2021-10-28T17:14:05.671Z"
   },
   {
    "duration": 12,
    "start_time": "2021-10-28T17:14:05.732Z"
   },
   {
    "duration": 15,
    "start_time": "2021-10-28T17:14:05.747Z"
   },
   {
    "duration": 16,
    "start_time": "2021-10-28T17:14:05.765Z"
   },
   {
    "duration": 499,
    "start_time": "2021-10-28T17:14:05.784Z"
   },
   {
    "duration": 11,
    "start_time": "2021-10-28T17:14:06.286Z"
   },
   {
    "duration": 31,
    "start_time": "2021-10-28T17:14:06.300Z"
   },
   {
    "duration": 305,
    "start_time": "2021-10-28T17:14:06.333Z"
   },
   {
    "duration": 24,
    "start_time": "2021-10-28T17:14:06.641Z"
   },
   {
    "duration": 7,
    "start_time": "2021-10-28T17:14:06.668Z"
   },
   {
    "duration": 53,
    "start_time": "2021-10-28T17:14:06.678Z"
   },
   {
    "duration": 14,
    "start_time": "2021-10-28T17:14:06.733Z"
   },
   {
    "duration": 413,
    "start_time": "2021-10-28T17:14:06.750Z"
   },
   {
    "duration": 23,
    "start_time": "2021-10-28T17:14:07.166Z"
   },
   {
    "duration": 447,
    "start_time": "2021-10-28T17:14:07.193Z"
   },
   {
    "duration": 16,
    "start_time": "2021-10-28T17:14:07.642Z"
   },
   {
    "duration": 22,
    "start_time": "2021-10-28T17:14:07.660Z"
   },
   {
    "duration": 93,
    "start_time": "2021-10-28T17:14:07.688Z"
   },
   {
    "duration": 14,
    "start_time": "2021-10-28T17:14:07.784Z"
   },
   {
    "duration": 29,
    "start_time": "2021-10-28T17:14:07.800Z"
   },
   {
    "duration": 7,
    "start_time": "2021-10-28T17:14:07.832Z"
   },
   {
    "duration": 22,
    "start_time": "2021-10-28T17:14:07.842Z"
   },
   {
    "duration": 74,
    "start_time": "2021-10-28T17:14:07.867Z"
   },
   {
    "duration": 12,
    "start_time": "2021-10-28T17:14:07.943Z"
   },
   {
    "duration": 41,
    "start_time": "2021-10-28T17:14:07.957Z"
   },
   {
    "duration": 38,
    "start_time": "2021-10-28T17:14:08.000Z"
   },
   {
    "duration": 23,
    "start_time": "2021-10-28T17:14:08.041Z"
   },
   {
    "duration": 13,
    "start_time": "2021-10-28T17:14:08.066Z"
   },
   {
    "duration": 14,
    "start_time": "2021-10-28T17:14:17.051Z"
   },
   {
    "duration": 18,
    "start_time": "2021-10-28T17:15:35.863Z"
   },
   {
    "duration": 238,
    "start_time": "2021-10-28T17:18:27.868Z"
   },
   {
    "duration": 243,
    "start_time": "2021-10-28T17:18:31.558Z"
   },
   {
    "duration": 14,
    "start_time": "2021-10-28T17:18:36.915Z"
   },
   {
    "duration": 7,
    "start_time": "2021-10-28T17:18:40.673Z"
   },
   {
    "duration": 11,
    "start_time": "2021-10-28T17:18:43.227Z"
   },
   {
    "duration": 5525,
    "start_time": "2021-10-28T17:35:50.022Z"
   },
   {
    "duration": 5571,
    "start_time": "2021-10-28T17:36:05.472Z"
   },
   {
    "duration": 12,
    "start_time": "2021-10-28T17:36:17.180Z"
   },
   {
    "duration": 244,
    "start_time": "2021-10-28T17:36:22.228Z"
   },
   {
    "duration": 7,
    "start_time": "2021-10-28T17:37:32.892Z"
   },
   {
    "duration": 11,
    "start_time": "2021-10-28T17:37:54.000Z"
   },
   {
    "duration": 5,
    "start_time": "2021-10-28T17:42:49.430Z"
   },
   {
    "duration": 239,
    "start_time": "2021-10-28T17:44:14.094Z"
   },
   {
    "duration": 5,
    "start_time": "2021-10-28T17:44:41.465Z"
   },
   {
    "duration": 15,
    "start_time": "2021-10-28T17:44:46.090Z"
   },
   {
    "duration": 14,
    "start_time": "2021-10-28T17:45:28.282Z"
   },
   {
    "duration": 16,
    "start_time": "2021-10-28T17:45:34.872Z"
   },
   {
    "duration": 65,
    "start_time": "2021-10-28T17:45:44.647Z"
   },
   {
    "duration": 12,
    "start_time": "2021-10-28T17:45:44.730Z"
   },
   {
    "duration": 15,
    "start_time": "2021-10-28T17:45:44.745Z"
   },
   {
    "duration": 25,
    "start_time": "2021-10-28T17:45:44.762Z"
   },
   {
    "duration": 3,
    "start_time": "2021-10-28T17:45:44.829Z"
   },
   {
    "duration": 15,
    "start_time": "2021-10-28T17:45:44.835Z"
   },
   {
    "duration": 15,
    "start_time": "2021-10-28T17:45:44.852Z"
   },
   {
    "duration": 69,
    "start_time": "2021-10-28T17:45:44.874Z"
   },
   {
    "duration": 21,
    "start_time": "2021-10-28T17:45:44.947Z"
   },
   {
    "duration": 28,
    "start_time": "2021-10-28T17:45:44.970Z"
   },
   {
    "duration": 14,
    "start_time": "2021-10-28T17:45:45.030Z"
   },
   {
    "duration": 15,
    "start_time": "2021-10-28T17:45:45.046Z"
   },
   {
    "duration": 18,
    "start_time": "2021-10-28T17:45:45.063Z"
   },
   {
    "duration": 637,
    "start_time": "2021-10-28T17:45:45.084Z"
   },
   {
    "duration": 13,
    "start_time": "2021-10-28T17:45:45.723Z"
   },
   {
    "duration": 11,
    "start_time": "2021-10-28T17:45:45.738Z"
   },
   {
    "duration": 305,
    "start_time": "2021-10-28T17:45:45.751Z"
   },
   {
    "duration": 22,
    "start_time": "2021-10-28T17:45:46.058Z"
   },
   {
    "duration": 8,
    "start_time": "2021-10-28T17:45:46.082Z"
   },
   {
    "duration": 45,
    "start_time": "2021-10-28T17:45:46.092Z"
   },
   {
    "duration": 17,
    "start_time": "2021-10-28T17:45:46.140Z"
   },
   {
    "duration": 738,
    "start_time": "2021-10-28T17:45:46.160Z"
   },
   {
    "duration": 37,
    "start_time": "2021-10-28T17:45:46.905Z"
   },
   {
    "duration": 568,
    "start_time": "2021-10-28T17:45:46.946Z"
   },
   {
    "duration": 24,
    "start_time": "2021-10-28T17:45:47.517Z"
   },
   {
    "duration": 23,
    "start_time": "2021-10-28T17:45:47.544Z"
   },
   {
    "duration": 94,
    "start_time": "2021-10-28T17:45:47.570Z"
   },
   {
    "duration": 14,
    "start_time": "2021-10-28T17:45:47.666Z"
   },
   {
    "duration": 10,
    "start_time": "2021-10-28T17:45:47.683Z"
   },
   {
    "duration": 44,
    "start_time": "2021-10-28T17:45:47.695Z"
   },
   {
    "duration": 16,
    "start_time": "2021-10-28T17:45:47.743Z"
   },
   {
    "duration": 76,
    "start_time": "2021-10-28T17:45:47.761Z"
   },
   {
    "duration": 11,
    "start_time": "2021-10-28T17:45:47.840Z"
   },
   {
    "duration": 39,
    "start_time": "2021-10-28T17:45:47.854Z"
   },
   {
    "duration": 11,
    "start_time": "2021-10-28T17:45:47.930Z"
   },
   {
    "duration": 12,
    "start_time": "2021-10-28T17:45:47.944Z"
   },
   {
    "duration": 10,
    "start_time": "2021-10-28T17:45:47.958Z"
   },
   {
    "duration": 58,
    "start_time": "2021-10-28T17:45:47.970Z"
   },
   {
    "duration": 4,
    "start_time": "2021-10-28T17:45:48.031Z"
   },
   {
    "duration": 15,
    "start_time": "2021-10-28T17:45:48.038Z"
   },
   {
    "duration": 13,
    "start_time": "2021-10-28T17:45:48.056Z"
   },
   {
    "duration": 6151,
    "start_time": "2021-10-28T17:46:57.192Z"
   },
   {
    "duration": -89,
    "start_time": "2021-10-28T17:47:03.435Z"
   },
   {
    "duration": 61,
    "start_time": "2021-10-28T17:47:04.941Z"
   },
   {
    "duration": 27,
    "start_time": "2021-10-28T17:47:05.004Z"
   },
   {
    "duration": 16,
    "start_time": "2021-10-28T17:47:05.034Z"
   },
   {
    "duration": 23,
    "start_time": "2021-10-28T17:47:05.053Z"
   },
   {
    "duration": 52,
    "start_time": "2021-10-28T17:47:05.079Z"
   },
   {
    "duration": 16,
    "start_time": "2021-10-28T17:47:05.134Z"
   },
   {
    "duration": 18,
    "start_time": "2021-10-28T17:47:05.153Z"
   },
   {
    "duration": 70,
    "start_time": "2021-10-28T17:47:05.175Z"
   },
   {
    "duration": 22,
    "start_time": "2021-10-28T17:47:05.248Z"
   },
   {
    "duration": 56,
    "start_time": "2021-10-28T17:47:05.273Z"
   },
   {
    "duration": 14,
    "start_time": "2021-10-28T17:47:05.331Z"
   },
   {
    "duration": 15,
    "start_time": "2021-10-28T17:47:05.348Z"
   },
   {
    "duration": 12,
    "start_time": "2021-10-28T17:47:05.365Z"
   },
   {
    "duration": 615,
    "start_time": "2021-10-28T17:47:05.379Z"
   },
   {
    "duration": 8,
    "start_time": "2021-10-28T17:47:05.997Z"
   },
   {
    "duration": 9,
    "start_time": "2021-10-28T17:47:06.028Z"
   },
   {
    "duration": 291,
    "start_time": "2021-10-28T17:47:06.039Z"
   },
   {
    "duration": 22,
    "start_time": "2021-10-28T17:47:06.333Z"
   },
   {
    "duration": 8,
    "start_time": "2021-10-28T17:47:06.357Z"
   },
   {
    "duration": 18,
    "start_time": "2021-10-28T17:47:06.367Z"
   },
   {
    "duration": 50,
    "start_time": "2021-10-28T17:47:06.387Z"
   },
   {
    "duration": 639,
    "start_time": "2021-10-28T17:47:06.440Z"
   },
   {
    "duration": 45,
    "start_time": "2021-10-28T17:47:07.086Z"
   },
   {
    "duration": 553,
    "start_time": "2021-10-28T17:47:07.133Z"
   },
   {
    "duration": 14,
    "start_time": "2021-10-28T17:47:07.689Z"
   },
   {
    "duration": 44,
    "start_time": "2021-10-28T17:47:07.705Z"
   },
   {
    "duration": 81,
    "start_time": "2021-10-28T17:47:07.752Z"
   },
   {
    "duration": 15,
    "start_time": "2021-10-28T17:47:07.836Z"
   },
   {
    "duration": 5,
    "start_time": "2021-10-28T17:47:07.854Z"
   },
   {
    "duration": 11,
    "start_time": "2021-10-28T17:47:07.863Z"
   },
   {
    "duration": 88,
    "start_time": "2021-10-28T17:47:07.878Z"
   },
   {
    "duration": 65,
    "start_time": "2021-10-28T17:47:07.969Z"
   },
   {
    "duration": 16,
    "start_time": "2021-10-28T17:47:08.037Z"
   },
   {
    "duration": 272,
    "start_time": "2021-10-28T17:47:08.057Z"
   },
   {
    "duration": 17,
    "start_time": "2021-10-28T17:47:08.332Z"
   },
   {
    "duration": 17,
    "start_time": "2021-10-28T17:47:08.353Z"
   },
   {
    "duration": 915,
    "start_time": "2021-10-28T17:47:08.374Z"
   },
   {
    "duration": -85,
    "start_time": "2021-10-28T17:47:09.376Z"
   },
   {
    "duration": -92,
    "start_time": "2021-10-28T17:47:09.385Z"
   },
   {
    "duration": -93,
    "start_time": "2021-10-28T17:47:09.387Z"
   },
   {
    "duration": -94,
    "start_time": "2021-10-28T17:47:09.390Z"
   },
   {
    "duration": 236,
    "start_time": "2021-10-28T17:47:57.989Z"
   },
   {
    "duration": 271,
    "start_time": "2021-10-28T17:48:08.165Z"
   },
   {
    "duration": 61,
    "start_time": "2021-10-28T17:48:12.260Z"
   },
   {
    "duration": 11,
    "start_time": "2021-10-28T17:48:12.324Z"
   },
   {
    "duration": 15,
    "start_time": "2021-10-28T17:48:12.338Z"
   },
   {
    "duration": 23,
    "start_time": "2021-10-28T17:48:12.357Z"
   },
   {
    "duration": 48,
    "start_time": "2021-10-28T17:48:12.383Z"
   },
   {
    "duration": 19,
    "start_time": "2021-10-28T17:48:12.433Z"
   },
   {
    "duration": 20,
    "start_time": "2021-10-28T17:48:12.455Z"
   },
   {
    "duration": 66,
    "start_time": "2021-10-28T17:48:12.481Z"
   },
   {
    "duration": 24,
    "start_time": "2021-10-28T17:48:12.551Z"
   },
   {
    "duration": 62,
    "start_time": "2021-10-28T17:48:12.578Z"
   },
   {
    "duration": 13,
    "start_time": "2021-10-28T17:48:12.642Z"
   },
   {
    "duration": 9,
    "start_time": "2021-10-28T17:48:12.657Z"
   },
   {
    "duration": 10,
    "start_time": "2021-10-28T17:48:12.669Z"
   },
   {
    "duration": 520,
    "start_time": "2021-10-28T17:48:12.682Z"
   },
   {
    "duration": 8,
    "start_time": "2021-10-28T17:48:13.205Z"
   },
   {
    "duration": 22,
    "start_time": "2021-10-28T17:48:13.215Z"
   },
   {
    "duration": 300,
    "start_time": "2021-10-28T17:48:13.241Z"
   },
   {
    "duration": 27,
    "start_time": "2021-10-28T17:48:13.545Z"
   },
   {
    "duration": 10,
    "start_time": "2021-10-28T17:48:13.574Z"
   },
   {
    "duration": 58,
    "start_time": "2021-10-28T17:48:13.588Z"
   },
   {
    "duration": 19,
    "start_time": "2021-10-28T17:48:13.649Z"
   },
   {
    "duration": 620,
    "start_time": "2021-10-28T17:48:13.671Z"
   },
   {
    "duration": 42,
    "start_time": "2021-10-28T17:48:14.300Z"
   },
   {
    "duration": 555,
    "start_time": "2021-10-28T17:48:14.346Z"
   },
   {
    "duration": 37,
    "start_time": "2021-10-28T17:48:14.904Z"
   },
   {
    "duration": 31,
    "start_time": "2021-10-28T17:48:14.944Z"
   },
   {
    "duration": 124,
    "start_time": "2021-10-28T17:48:14.978Z"
   },
   {
    "duration": 26,
    "start_time": "2021-10-28T17:48:15.105Z"
   },
   {
    "duration": 9,
    "start_time": "2021-10-28T17:48:15.134Z"
   },
   {
    "duration": 15,
    "start_time": "2021-10-28T17:48:15.146Z"
   },
   {
    "duration": 67,
    "start_time": "2021-10-28T17:48:15.164Z"
   },
   {
    "duration": 33,
    "start_time": "2021-10-28T17:48:15.233Z"
   },
   {
    "duration": 12,
    "start_time": "2021-10-28T17:48:15.269Z"
   },
   {
    "duration": 77,
    "start_time": "2021-10-28T17:48:15.284Z"
   },
   {
    "duration": 13,
    "start_time": "2021-10-28T17:48:15.363Z"
   },
   {
    "duration": 56,
    "start_time": "2021-10-28T17:48:15.379Z"
   },
   {
    "duration": 12,
    "start_time": "2021-10-28T17:48:15.438Z"
   },
   {
    "duration": 13,
    "start_time": "2021-10-28T17:48:15.453Z"
   },
   {
    "duration": 6,
    "start_time": "2021-10-28T17:48:15.469Z"
   },
   {
    "duration": 66,
    "start_time": "2021-10-28T17:48:15.479Z"
   },
   {
    "duration": 25,
    "start_time": "2021-10-28T17:48:15.548Z"
   },
   {
    "duration": 5084,
    "start_time": "2021-10-28T17:50:10.325Z"
   },
   {
    "duration": 255,
    "start_time": "2021-10-28T17:50:23.715Z"
   },
   {
    "duration": 9,
    "start_time": "2021-10-28T17:50:42.425Z"
   },
   {
    "duration": 61,
    "start_time": "2021-10-28T17:50:46.802Z"
   },
   {
    "duration": 17,
    "start_time": "2021-10-28T17:50:46.866Z"
   },
   {
    "duration": 54,
    "start_time": "2021-10-28T17:50:46.886Z"
   },
   {
    "duration": 34,
    "start_time": "2021-10-28T17:50:46.943Z"
   },
   {
    "duration": 3,
    "start_time": "2021-10-28T17:50:46.980Z"
   },
   {
    "duration": 50,
    "start_time": "2021-10-28T17:50:46.986Z"
   },
   {
    "duration": 21,
    "start_time": "2021-10-28T17:50:47.039Z"
   },
   {
    "duration": 26,
    "start_time": "2021-10-28T17:50:47.064Z"
   },
   {
    "duration": 49,
    "start_time": "2021-10-28T17:50:47.093Z"
   },
   {
    "duration": 27,
    "start_time": "2021-10-28T17:50:47.145Z"
   },
   {
    "duration": 12,
    "start_time": "2021-10-28T17:50:47.174Z"
   },
   {
    "duration": 49,
    "start_time": "2021-10-28T17:50:47.189Z"
   },
   {
    "duration": 9,
    "start_time": "2021-10-28T17:50:47.241Z"
   },
   {
    "duration": 530,
    "start_time": "2021-10-28T17:50:47.253Z"
   },
   {
    "duration": 9,
    "start_time": "2021-10-28T17:50:47.786Z"
   },
   {
    "duration": 34,
    "start_time": "2021-10-28T17:50:47.798Z"
   },
   {
    "duration": 309,
    "start_time": "2021-10-28T17:50:47.834Z"
   },
   {
    "duration": 23,
    "start_time": "2021-10-28T17:50:48.145Z"
   },
   {
    "duration": 8,
    "start_time": "2021-10-28T17:50:48.170Z"
   },
   {
    "duration": 50,
    "start_time": "2021-10-28T17:50:48.180Z"
   },
   {
    "duration": 16,
    "start_time": "2021-10-28T17:50:48.233Z"
   },
   {
    "duration": 486,
    "start_time": "2021-10-28T17:50:48.252Z"
   },
   {
    "duration": 19,
    "start_time": "2021-10-28T17:50:48.744Z"
   },
   {
    "duration": 408,
    "start_time": "2021-10-28T17:50:48.766Z"
   },
   {
    "duration": 14,
    "start_time": "2021-10-28T17:50:49.177Z"
   },
   {
    "duration": 43,
    "start_time": "2021-10-28T17:50:49.194Z"
   },
   {
    "duration": 52,
    "start_time": "2021-10-28T17:50:49.239Z"
   },
   {
    "duration": 39,
    "start_time": "2021-10-28T17:50:49.293Z"
   },
   {
    "duration": 8,
    "start_time": "2021-10-28T17:50:49.334Z"
   },
   {
    "duration": 10,
    "start_time": "2021-10-28T17:50:49.344Z"
   },
   {
    "duration": 17,
    "start_time": "2021-10-28T17:50:49.356Z"
   },
   {
    "duration": 77,
    "start_time": "2021-10-28T17:50:49.376Z"
   },
   {
    "duration": 17,
    "start_time": "2021-10-28T17:50:49.456Z"
   },
   {
    "duration": 210,
    "start_time": "2021-10-28T17:50:49.475Z"
   },
   {
    "duration": 21,
    "start_time": "2021-10-28T17:50:49.688Z"
   },
   {
    "duration": 27,
    "start_time": "2021-10-28T17:50:49.711Z"
   },
   {
    "duration": 18,
    "start_time": "2021-10-28T17:50:49.740Z"
   },
   {
    "duration": 22,
    "start_time": "2021-10-28T17:50:49.760Z"
   },
   {
    "duration": 19,
    "start_time": "2021-10-28T17:50:49.784Z"
   },
   {
    "duration": 23,
    "start_time": "2021-10-28T17:50:49.806Z"
   },
   {
    "duration": 26,
    "start_time": "2021-10-28T17:50:49.832Z"
   },
   {
    "duration": 247,
    "start_time": "2021-10-28T17:58:49.478Z"
   },
   {
    "duration": 1916,
    "start_time": "2021-10-28T17:59:18.168Z"
   },
   {
    "duration": 60,
    "start_time": "2021-10-28T17:59:27.825Z"
   },
   {
    "duration": 48,
    "start_time": "2021-10-28T17:59:27.887Z"
   },
   {
    "duration": 26,
    "start_time": "2021-10-28T17:59:27.937Z"
   },
   {
    "duration": 43,
    "start_time": "2021-10-28T17:59:27.965Z"
   },
   {
    "duration": 22,
    "start_time": "2021-10-28T17:59:28.010Z"
   },
   {
    "duration": 42,
    "start_time": "2021-10-28T17:59:28.035Z"
   },
   {
    "duration": 29,
    "start_time": "2021-10-28T17:59:28.079Z"
   },
   {
    "duration": 54,
    "start_time": "2021-10-28T17:59:28.111Z"
   },
   {
    "duration": 24,
    "start_time": "2021-10-28T17:59:28.168Z"
   },
   {
    "duration": 47,
    "start_time": "2021-10-28T17:59:28.194Z"
   },
   {
    "duration": 13,
    "start_time": "2021-10-28T17:59:28.244Z"
   },
   {
    "duration": 26,
    "start_time": "2021-10-28T17:59:28.260Z"
   },
   {
    "duration": 68,
    "start_time": "2021-10-28T17:59:28.288Z"
   },
   {
    "duration": 522,
    "start_time": "2021-10-28T17:59:28.358Z"
   },
   {
    "duration": 9,
    "start_time": "2021-10-28T17:59:28.883Z"
   },
   {
    "duration": 37,
    "start_time": "2021-10-28T17:59:28.895Z"
   },
   {
    "duration": 446,
    "start_time": "2021-10-28T17:59:28.935Z"
   },
   {
    "duration": 27,
    "start_time": "2021-10-28T17:59:29.384Z"
   },
   {
    "duration": 12,
    "start_time": "2021-10-28T17:59:29.430Z"
   },
   {
    "duration": 39,
    "start_time": "2021-10-28T17:59:29.445Z"
   },
   {
    "duration": 45,
    "start_time": "2021-10-28T17:59:29.488Z"
   },
   {
    "duration": 522,
    "start_time": "2021-10-28T17:59:29.537Z"
   },
   {
    "duration": 22,
    "start_time": "2021-10-28T17:59:30.067Z"
   },
   {
    "duration": 458,
    "start_time": "2021-10-28T17:59:30.093Z"
   },
   {
    "duration": 16,
    "start_time": "2021-10-28T17:59:30.554Z"
   },
   {
    "duration": 35,
    "start_time": "2021-10-28T17:59:30.573Z"
   },
   {
    "duration": 56,
    "start_time": "2021-10-28T17:59:30.630Z"
   },
   {
    "duration": 42,
    "start_time": "2021-10-28T17:59:30.688Z"
   },
   {
    "duration": 23,
    "start_time": "2021-10-28T17:59:30.733Z"
   },
   {
    "duration": 21,
    "start_time": "2021-10-28T17:59:30.759Z"
   },
   {
    "duration": 24,
    "start_time": "2021-10-28T17:59:30.782Z"
   },
   {
    "duration": 46,
    "start_time": "2021-10-28T17:59:30.808Z"
   },
   {
    "duration": 14,
    "start_time": "2021-10-28T17:59:30.857Z"
   },
   {
    "duration": 83,
    "start_time": "2021-10-28T17:59:30.873Z"
   },
   {
    "duration": 13,
    "start_time": "2021-10-28T17:59:30.958Z"
   },
   {
    "duration": 21,
    "start_time": "2021-10-28T17:59:30.974Z"
   },
   {
    "duration": 32,
    "start_time": "2021-10-28T17:59:30.997Z"
   },
   {
    "duration": 30,
    "start_time": "2021-10-28T17:59:31.031Z"
   },
   {
    "duration": 20,
    "start_time": "2021-10-28T17:59:31.063Z"
   },
   {
    "duration": 44,
    "start_time": "2021-10-28T17:59:31.085Z"
   },
   {
    "duration": 36,
    "start_time": "2021-10-28T17:59:31.131Z"
   },
   {
    "duration": 1818,
    "start_time": "2021-10-28T17:59:31.170Z"
   },
   {
    "duration": 74,
    "start_time": "2021-10-28T18:08:51.753Z"
   },
   {
    "duration": 71,
    "start_time": "2021-10-28T18:08:59.386Z"
   },
   {
    "duration": 87,
    "start_time": "2021-10-28T18:09:58.024Z"
   },
   {
    "duration": 78,
    "start_time": "2021-10-28T18:11:15.902Z"
   },
   {
    "duration": 64,
    "start_time": "2021-10-28T18:11:30.104Z"
   },
   {
    "duration": 12,
    "start_time": "2021-10-28T18:11:30.170Z"
   },
   {
    "duration": 56,
    "start_time": "2021-10-28T18:11:30.185Z"
   },
   {
    "duration": 37,
    "start_time": "2021-10-28T18:11:30.244Z"
   },
   {
    "duration": 5,
    "start_time": "2021-10-28T18:11:30.283Z"
   },
   {
    "duration": 47,
    "start_time": "2021-10-28T18:11:30.290Z"
   },
   {
    "duration": 30,
    "start_time": "2021-10-28T18:11:30.341Z"
   },
   {
    "duration": 44,
    "start_time": "2021-10-28T18:11:30.375Z"
   },
   {
    "duration": 27,
    "start_time": "2021-10-28T18:11:30.422Z"
   },
   {
    "duration": 29,
    "start_time": "2021-10-28T18:11:30.451Z"
   },
   {
    "duration": 13,
    "start_time": "2021-10-28T18:11:30.483Z"
   },
   {
    "duration": 12,
    "start_time": "2021-10-28T18:11:30.530Z"
   },
   {
    "duration": 27,
    "start_time": "2021-10-28T18:11:30.545Z"
   },
   {
    "duration": 505,
    "start_time": "2021-10-28T18:11:30.576Z"
   },
   {
    "duration": 10,
    "start_time": "2021-10-28T18:11:31.084Z"
   },
   {
    "duration": 32,
    "start_time": "2021-10-28T18:11:31.097Z"
   },
   {
    "duration": 294,
    "start_time": "2021-10-28T18:11:31.132Z"
   },
   {
    "duration": 23,
    "start_time": "2021-10-28T18:11:31.428Z"
   },
   {
    "duration": 9,
    "start_time": "2021-10-28T18:11:31.454Z"
   },
   {
    "duration": 26,
    "start_time": "2021-10-28T18:11:31.465Z"
   },
   {
    "duration": 43,
    "start_time": "2021-10-28T18:11:31.494Z"
   },
   {
    "duration": 434,
    "start_time": "2021-10-28T18:11:31.539Z"
   },
   {
    "duration": 22,
    "start_time": "2021-10-28T18:11:31.978Z"
   },
   {
    "duration": 596,
    "start_time": "2021-10-28T18:11:32.004Z"
   },
   {
    "duration": 32,
    "start_time": "2021-10-28T18:11:32.603Z"
   },
   {
    "duration": 32,
    "start_time": "2021-10-28T18:11:32.638Z"
   },
   {
    "duration": 110,
    "start_time": "2021-10-28T18:11:32.673Z"
   },
   {
    "duration": 20,
    "start_time": "2021-10-28T18:11:32.786Z"
   },
   {
    "duration": 5,
    "start_time": "2021-10-28T18:11:32.829Z"
   },
   {
    "duration": 15,
    "start_time": "2021-10-28T18:11:32.837Z"
   },
   {
    "duration": 24,
    "start_time": "2021-10-28T18:11:32.856Z"
   },
   {
    "duration": 73,
    "start_time": "2021-10-28T18:11:32.882Z"
   },
   {
    "duration": 13,
    "start_time": "2021-10-28T18:11:32.957Z"
   },
   {
    "duration": 204,
    "start_time": "2021-10-28T18:11:32.972Z"
   },
   {
    "duration": 14,
    "start_time": "2021-10-28T18:11:33.178Z"
   },
   {
    "duration": 39,
    "start_time": "2021-10-28T18:11:33.195Z"
   },
   {
    "duration": 12,
    "start_time": "2021-10-28T18:11:33.236Z"
   },
   {
    "duration": 9,
    "start_time": "2021-10-28T18:11:33.250Z"
   },
   {
    "duration": 8,
    "start_time": "2021-10-28T18:11:33.262Z"
   },
   {
    "duration": 57,
    "start_time": "2021-10-28T18:11:33.272Z"
   },
   {
    "duration": 13,
    "start_time": "2021-10-28T18:11:33.332Z"
   },
   {
    "duration": 7,
    "start_time": "2021-10-28T18:11:33.347Z"
   },
   {
    "duration": 77,
    "start_time": "2021-10-28T18:11:33.357Z"
   },
   {
    "duration": 81,
    "start_time": "2021-10-28T18:12:16.509Z"
   },
   {
    "duration": 74,
    "start_time": "2021-10-28T18:12:48.967Z"
   },
   {
    "duration": 80,
    "start_time": "2021-10-28T18:12:57.626Z"
   },
   {
    "duration": 1083,
    "start_time": "2021-10-28T18:14:18.623Z"
   },
   {
    "duration": 823,
    "start_time": "2021-10-28T18:15:36.916Z"
   },
   {
    "duration": 820,
    "start_time": "2021-10-28T18:17:37.253Z"
   },
   {
    "duration": 940,
    "start_time": "2021-10-28T18:17:44.453Z"
   },
   {
    "duration": 1283,
    "start_time": "2021-10-28T18:18:56.507Z"
   },
   {
    "duration": 1051,
    "start_time": "2021-10-28T18:19:09.910Z"
   },
   {
    "duration": 4777,
    "start_time": "2021-10-28T18:19:20.949Z"
   },
   {
    "duration": 58,
    "start_time": "2021-10-28T18:19:33.647Z"
   },
   {
    "duration": 25,
    "start_time": "2021-10-28T18:19:33.708Z"
   },
   {
    "duration": 15,
    "start_time": "2021-10-28T18:19:33.735Z"
   },
   {
    "duration": 26,
    "start_time": "2021-10-28T18:19:33.752Z"
   },
   {
    "duration": 4,
    "start_time": "2021-10-28T18:19:33.780Z"
   },
   {
    "duration": 15,
    "start_time": "2021-10-28T18:19:33.831Z"
   },
   {
    "duration": 17,
    "start_time": "2021-10-28T18:19:33.849Z"
   },
   {
    "duration": 66,
    "start_time": "2021-10-28T18:19:33.870Z"
   },
   {
    "duration": 21,
    "start_time": "2021-10-28T18:19:33.939Z"
   },
   {
    "duration": 27,
    "start_time": "2021-10-28T18:19:33.963Z"
   },
   {
    "duration": 49,
    "start_time": "2021-10-28T18:19:33.993Z"
   },
   {
    "duration": 10,
    "start_time": "2021-10-28T18:19:34.044Z"
   },
   {
    "duration": 13,
    "start_time": "2021-10-28T18:19:34.056Z"
   },
   {
    "duration": 625,
    "start_time": "2021-10-28T18:19:34.071Z"
   },
   {
    "duration": 8,
    "start_time": "2021-10-28T18:19:34.699Z"
   },
   {
    "duration": 28,
    "start_time": "2021-10-28T18:19:34.710Z"
   },
   {
    "duration": 298,
    "start_time": "2021-10-28T18:19:34.741Z"
   },
   {
    "duration": 25,
    "start_time": "2021-10-28T18:19:35.042Z"
   },
   {
    "duration": 8,
    "start_time": "2021-10-28T18:19:35.069Z"
   },
   {
    "duration": 50,
    "start_time": "2021-10-28T18:19:35.079Z"
   },
   {
    "duration": 12,
    "start_time": "2021-10-28T18:19:35.132Z"
   },
   {
    "duration": 416,
    "start_time": "2021-10-28T18:19:35.147Z"
   },
   {
    "duration": 18,
    "start_time": "2021-10-28T18:19:35.569Z"
   },
   {
    "duration": 443,
    "start_time": "2021-10-28T18:19:35.591Z"
   },
   {
    "duration": 14,
    "start_time": "2021-10-28T18:19:36.037Z"
   },
   {
    "duration": 25,
    "start_time": "2021-10-28T18:19:36.054Z"
   },
   {
    "duration": 88,
    "start_time": "2021-10-28T18:19:36.081Z"
   },
   {
    "duration": 19,
    "start_time": "2021-10-28T18:19:36.172Z"
   },
   {
    "duration": 36,
    "start_time": "2021-10-28T18:19:36.193Z"
   },
   {
    "duration": 24,
    "start_time": "2021-10-28T18:19:36.232Z"
   },
   {
    "duration": 35,
    "start_time": "2021-10-28T18:19:36.259Z"
   },
   {
    "duration": 51,
    "start_time": "2021-10-28T18:19:36.296Z"
   },
   {
    "duration": 11,
    "start_time": "2021-10-28T18:19:36.349Z"
   },
   {
    "duration": 67,
    "start_time": "2021-10-28T18:19:36.363Z"
   },
   {
    "duration": 14,
    "start_time": "2021-10-28T18:19:36.433Z"
   },
   {
    "duration": 29,
    "start_time": "2021-10-28T18:19:36.449Z"
   },
   {
    "duration": 11,
    "start_time": "2021-10-28T18:19:36.480Z"
   },
   {
    "duration": 12,
    "start_time": "2021-10-28T18:19:36.494Z"
   },
   {
    "duration": 24,
    "start_time": "2021-10-28T18:19:36.509Z"
   },
   {
    "duration": 19,
    "start_time": "2021-10-28T18:19:36.536Z"
   },
   {
    "duration": 15,
    "start_time": "2021-10-28T18:19:36.558Z"
   },
   {
    "duration": 7,
    "start_time": "2021-10-28T18:19:36.575Z"
   },
   {
    "duration": 4766,
    "start_time": "2021-10-28T18:19:36.584Z"
   },
   {
    "duration": 941,
    "start_time": "2021-10-28T18:20:31.099Z"
   },
   {
    "duration": 240,
    "start_time": "2021-10-28T18:22:47.201Z"
   },
   {
    "duration": 253,
    "start_time": "2021-10-28T18:23:35.398Z"
   },
   {
    "duration": 60,
    "start_time": "2021-10-28T18:23:39.367Z"
   },
   {
    "duration": 12,
    "start_time": "2021-10-28T18:23:39.430Z"
   },
   {
    "duration": 16,
    "start_time": "2021-10-28T18:23:39.445Z"
   },
   {
    "duration": 67,
    "start_time": "2021-10-28T18:23:39.465Z"
   },
   {
    "duration": 5,
    "start_time": "2021-10-28T18:23:39.535Z"
   },
   {
    "duration": 28,
    "start_time": "2021-10-28T18:23:39.543Z"
   },
   {
    "duration": 25,
    "start_time": "2021-10-28T18:23:39.574Z"
   },
   {
    "duration": 54,
    "start_time": "2021-10-28T18:23:39.604Z"
   },
   {
    "duration": 23,
    "start_time": "2021-10-28T18:23:39.661Z"
   },
   {
    "duration": 63,
    "start_time": "2021-10-28T18:23:39.687Z"
   },
   {
    "duration": 13,
    "start_time": "2021-10-28T18:23:39.752Z"
   },
   {
    "duration": 9,
    "start_time": "2021-10-28T18:23:39.768Z"
   },
   {
    "duration": 48,
    "start_time": "2021-10-28T18:23:39.780Z"
   },
   {
    "duration": 600,
    "start_time": "2021-10-28T18:23:39.831Z"
   },
   {
    "duration": 9,
    "start_time": "2021-10-28T18:23:40.434Z"
   },
   {
    "duration": 12,
    "start_time": "2021-10-28T18:23:40.445Z"
   },
   {
    "duration": 308,
    "start_time": "2021-10-28T18:23:40.460Z"
   },
   {
    "duration": 22,
    "start_time": "2021-10-28T18:23:40.771Z"
   },
   {
    "duration": 35,
    "start_time": "2021-10-28T18:23:40.796Z"
   },
   {
    "duration": 21,
    "start_time": "2021-10-28T18:23:40.834Z"
   },
   {
    "duration": 18,
    "start_time": "2021-10-28T18:23:40.858Z"
   },
   {
    "duration": 463,
    "start_time": "2021-10-28T18:23:40.879Z"
   },
   {
    "duration": 18,
    "start_time": "2021-10-28T18:23:41.347Z"
   },
   {
    "duration": 485,
    "start_time": "2021-10-28T18:23:41.368Z"
   },
   {
    "duration": 15,
    "start_time": "2021-10-28T18:23:41.856Z"
   },
   {
    "duration": 59,
    "start_time": "2021-10-28T18:23:41.873Z"
   },
   {
    "duration": 206,
    "start_time": "2021-10-28T18:23:41.934Z"
   },
   {
    "duration": 14,
    "start_time": "2021-10-28T18:23:42.142Z"
   },
   {
    "duration": 6,
    "start_time": "2021-10-28T18:23:42.158Z"
   },
   {
    "duration": 13,
    "start_time": "2021-10-28T18:23:42.166Z"
   },
   {
    "duration": 53,
    "start_time": "2021-10-28T18:23:42.182Z"
   },
   {
    "duration": 31,
    "start_time": "2021-10-28T18:23:42.237Z"
   },
   {
    "duration": 11,
    "start_time": "2021-10-28T18:23:42.271Z"
   },
   {
    "duration": 75,
    "start_time": "2021-10-28T18:23:42.285Z"
   },
   {
    "duration": 16,
    "start_time": "2021-10-28T18:23:42.363Z"
   },
   {
    "duration": 47,
    "start_time": "2021-10-28T18:23:42.382Z"
   },
   {
    "duration": 10,
    "start_time": "2021-10-28T18:23:42.432Z"
   },
   {
    "duration": 8,
    "start_time": "2021-10-28T18:23:42.445Z"
   },
   {
    "duration": 13,
    "start_time": "2021-10-28T18:23:42.456Z"
   },
   {
    "duration": 16,
    "start_time": "2021-10-28T18:23:42.471Z"
   },
   {
    "duration": 12,
    "start_time": "2021-10-28T18:23:42.530Z"
   },
   {
    "duration": 4,
    "start_time": "2021-10-28T18:23:42.545Z"
   },
   {
    "duration": 843,
    "start_time": "2021-10-28T18:23:42.551Z"
   },
   {
    "duration": 243,
    "start_time": "2021-10-28T18:23:43.396Z"
   },
   {
    "duration": 13,
    "start_time": "2021-10-28T18:24:11.697Z"
   },
   {
    "duration": 254,
    "start_time": "2021-10-28T18:24:16.616Z"
   },
   {
    "duration": 13,
    "start_time": "2021-10-28T18:24:56.683Z"
   },
   {
    "duration": 1349,
    "start_time": "2021-10-28T18:28:13.948Z"
   },
   {
    "duration": 9,
    "start_time": "2021-10-28T18:28:55.327Z"
   },
   {
    "duration": 22,
    "start_time": "2021-10-28T18:29:04.276Z"
   },
   {
    "duration": 9,
    "start_time": "2021-10-28T18:29:22.169Z"
   },
   {
    "duration": 23,
    "start_time": "2021-10-28T18:29:25.067Z"
   },
   {
    "duration": 9,
    "start_time": "2021-10-28T18:30:18.635Z"
   },
   {
    "duration": 1742,
    "start_time": "2021-10-28T19:41:53.291Z"
   },
   {
    "duration": 5579,
    "start_time": "2021-10-28T19:42:28.153Z"
   },
   {
    "duration": 17,
    "start_time": "2021-10-28T19:43:09.917Z"
   },
   {
    "duration": 2275,
    "start_time": "2021-10-28T19:44:19.190Z"
   },
   {
    "duration": 2269,
    "start_time": "2021-10-28T19:44:31.123Z"
   },
   {
    "duration": 4,
    "start_time": "2021-10-28T19:44:48.689Z"
   },
   {
    "duration": 6,
    "start_time": "2021-10-28T19:45:03.224Z"
   },
   {
    "duration": 1540,
    "start_time": "2021-10-28T19:45:23.114Z"
   },
   {
    "duration": 13,
    "start_time": "2021-10-28T19:45:24.657Z"
   },
   {
    "duration": 16,
    "start_time": "2021-10-28T19:45:24.673Z"
   },
   {
    "duration": 53,
    "start_time": "2021-10-28T19:45:24.692Z"
   },
   {
    "duration": 4,
    "start_time": "2021-10-28T19:45:24.747Z"
   },
   {
    "duration": 16,
    "start_time": "2021-10-28T19:45:24.753Z"
   },
   {
    "duration": 14,
    "start_time": "2021-10-28T19:45:24.771Z"
   },
   {
    "duration": 29,
    "start_time": "2021-10-28T19:45:24.830Z"
   },
   {
    "duration": 23,
    "start_time": "2021-10-28T19:45:24.864Z"
   },
   {
    "duration": 66,
    "start_time": "2021-10-28T19:45:24.890Z"
   },
   {
    "duration": 17,
    "start_time": "2021-10-28T19:45:24.959Z"
   },
   {
    "duration": 54,
    "start_time": "2021-10-28T19:45:24.979Z"
   },
   {
    "duration": 13,
    "start_time": "2021-10-28T19:45:25.036Z"
   },
   {
    "duration": 511,
    "start_time": "2021-10-28T19:45:25.051Z"
   },
   {
    "duration": 8,
    "start_time": "2021-10-28T19:45:25.564Z"
   },
   {
    "duration": 14,
    "start_time": "2021-10-28T19:45:25.574Z"
   },
   {
    "duration": 310,
    "start_time": "2021-10-28T19:45:25.591Z"
   },
   {
    "duration": 31,
    "start_time": "2021-10-28T19:45:25.903Z"
   },
   {
    "duration": 18,
    "start_time": "2021-10-28T19:45:25.936Z"
   },
   {
    "duration": 13,
    "start_time": "2021-10-28T19:45:25.957Z"
   },
   {
    "duration": 31,
    "start_time": "2021-10-28T19:45:25.973Z"
   },
   {
    "duration": 447,
    "start_time": "2021-10-28T19:45:26.007Z"
   },
   {
    "duration": 19,
    "start_time": "2021-10-28T19:45:26.459Z"
   },
   {
    "duration": 451,
    "start_time": "2021-10-28T19:45:26.481Z"
   },
   {
    "duration": 18,
    "start_time": "2021-10-28T19:45:26.935Z"
   },
   {
    "duration": 27,
    "start_time": "2021-10-28T19:45:26.956Z"
   },
   {
    "duration": 94,
    "start_time": "2021-10-28T19:45:26.986Z"
   },
   {
    "duration": 15,
    "start_time": "2021-10-28T19:45:27.082Z"
   },
   {
    "duration": 31,
    "start_time": "2021-10-28T19:45:27.099Z"
   },
   {
    "duration": 14,
    "start_time": "2021-10-28T19:45:27.132Z"
   },
   {
    "duration": 17,
    "start_time": "2021-10-28T19:45:27.148Z"
   },
   {
    "duration": 72,
    "start_time": "2021-10-28T19:45:27.168Z"
   },
   {
    "duration": 13,
    "start_time": "2021-10-28T19:45:27.242Z"
   },
   {
    "duration": 146,
    "start_time": "2021-10-28T19:45:27.257Z"
   },
   {
    "duration": 12,
    "start_time": "2021-10-28T19:45:27.405Z"
   },
   {
    "duration": 21,
    "start_time": "2021-10-28T19:45:27.419Z"
   },
   {
    "duration": 11,
    "start_time": "2021-10-28T19:45:27.442Z"
   },
   {
    "duration": 10,
    "start_time": "2021-10-28T19:45:27.455Z"
   },
   {
    "duration": 13,
    "start_time": "2021-10-28T19:45:27.467Z"
   },
   {
    "duration": 48,
    "start_time": "2021-10-28T19:45:27.483Z"
   },
   {
    "duration": 23,
    "start_time": "2021-10-28T19:45:27.534Z"
   },
   {
    "duration": 1216,
    "start_time": "2021-10-28T19:45:27.560Z"
   },
   {
    "duration": 13,
    "start_time": "2021-10-28T19:45:28.779Z"
   },
   {
    "duration": 36,
    "start_time": "2021-10-28T19:45:28.794Z"
   },
   {
    "duration": 4,
    "start_time": "2021-10-28T19:45:28.834Z"
   },
   {
    "duration": 12,
    "start_time": "2021-10-28T19:45:28.841Z"
   },
   {
    "duration": 14,
    "start_time": "2021-10-28T19:47:06.753Z"
   },
   {
    "duration": 8,
    "start_time": "2021-10-28T19:47:09.574Z"
   },
   {
    "duration": 10,
    "start_time": "2021-10-28T19:48:03.857Z"
   },
   {
    "duration": 7,
    "start_time": "2021-10-28T19:48:06.527Z"
   },
   {
    "duration": 7,
    "start_time": "2021-10-28T19:48:14.760Z"
   },
   {
    "duration": 8,
    "start_time": "2021-10-28T19:48:34.328Z"
   },
   {
    "duration": 8,
    "start_time": "2021-10-28T19:48:53.118Z"
   },
   {
    "duration": 12,
    "start_time": "2021-10-28T19:49:51.949Z"
   },
   {
    "duration": 14,
    "start_time": "2021-10-28T19:49:55.322Z"
   },
   {
    "duration": 14,
    "start_time": "2021-10-28T19:50:51.662Z"
   },
   {
    "duration": 29,
    "start_time": "2021-10-28T19:51:52.770Z"
   },
   {
    "duration": 9,
    "start_time": "2021-10-28T19:54:54.254Z"
   },
   {
    "duration": 10,
    "start_time": "2021-10-28T19:55:06.898Z"
   },
   {
    "duration": 56,
    "start_time": "2021-10-28T19:55:46.235Z"
   },
   {
    "duration": 35,
    "start_time": "2021-10-28T19:55:46.294Z"
   },
   {
    "duration": 331,
    "start_time": "2021-10-28T19:55:46.332Z"
   },
   {
    "duration": 24,
    "start_time": "2021-10-28T19:55:46.666Z"
   },
   {
    "duration": 4,
    "start_time": "2021-10-28T19:55:46.693Z"
   },
   {
    "duration": 44,
    "start_time": "2021-10-28T19:55:46.699Z"
   },
   {
    "duration": 18,
    "start_time": "2021-10-28T19:55:46.745Z"
   },
   {
    "duration": 27,
    "start_time": "2021-10-28T19:55:46.768Z"
   },
   {
    "duration": 24,
    "start_time": "2021-10-28T19:55:46.831Z"
   },
   {
    "duration": 29,
    "start_time": "2021-10-28T19:55:46.857Z"
   },
   {
    "duration": 50,
    "start_time": "2021-10-28T19:55:46.889Z"
   },
   {
    "duration": 10,
    "start_time": "2021-10-28T19:55:46.942Z"
   },
   {
    "duration": 12,
    "start_time": "2021-10-28T19:55:46.955Z"
   },
   {
    "duration": 498,
    "start_time": "2021-10-28T19:55:46.969Z"
   },
   {
    "duration": 8,
    "start_time": "2021-10-28T19:55:47.470Z"
   },
   {
    "duration": 15,
    "start_time": "2021-10-28T19:55:47.481Z"
   },
   {
    "duration": 397,
    "start_time": "2021-10-28T19:55:47.498Z"
   },
   {
    "duration": 36,
    "start_time": "2021-10-28T19:55:47.897Z"
   },
   {
    "duration": 7,
    "start_time": "2021-10-28T19:55:47.935Z"
   },
   {
    "duration": 16,
    "start_time": "2021-10-28T19:55:47.945Z"
   },
   {
    "duration": 16,
    "start_time": "2021-10-28T19:55:47.964Z"
   },
   {
    "duration": 470,
    "start_time": "2021-10-28T19:55:47.983Z"
   },
   {
    "duration": 20,
    "start_time": "2021-10-28T19:55:48.459Z"
   },
   {
    "duration": 447,
    "start_time": "2021-10-28T19:55:48.482Z"
   },
   {
    "duration": 15,
    "start_time": "2021-10-28T19:55:48.931Z"
   },
   {
    "duration": 24,
    "start_time": "2021-10-28T19:55:48.948Z"
   },
   {
    "duration": 88,
    "start_time": "2021-10-28T19:55:48.974Z"
   },
   {
    "duration": 15,
    "start_time": "2021-10-28T19:55:49.064Z"
   },
   {
    "duration": 24,
    "start_time": "2021-10-28T19:55:49.081Z"
   },
   {
    "duration": 21,
    "start_time": "2021-10-28T19:55:49.108Z"
   },
   {
    "duration": 18,
    "start_time": "2021-10-28T19:55:49.131Z"
   },
   {
    "duration": 41,
    "start_time": "2021-10-28T19:55:49.152Z"
   },
   {
    "duration": 41,
    "start_time": "2021-10-28T19:55:49.196Z"
   },
   {
    "duration": 58,
    "start_time": "2021-10-28T19:55:49.240Z"
   },
   {
    "duration": 29,
    "start_time": "2021-10-28T19:55:49.300Z"
   },
   {
    "duration": 18,
    "start_time": "2021-10-28T19:55:49.333Z"
   },
   {
    "duration": 11,
    "start_time": "2021-10-28T19:55:49.354Z"
   },
   {
    "duration": 9,
    "start_time": "2021-10-28T19:55:49.368Z"
   },
   {
    "duration": 50,
    "start_time": "2021-10-28T19:55:49.379Z"
   },
   {
    "duration": 18,
    "start_time": "2021-10-28T19:55:49.431Z"
   },
   {
    "duration": 15,
    "start_time": "2021-10-28T19:55:49.451Z"
   },
   {
    "duration": 1060,
    "start_time": "2021-10-28T19:55:49.468Z"
   },
   {
    "duration": 9,
    "start_time": "2021-10-28T19:55:50.530Z"
   },
   {
    "duration": 26,
    "start_time": "2021-10-28T19:55:50.541Z"
   },
   {
    "duration": 16,
    "start_time": "2021-10-28T19:55:50.570Z"
   },
   {
    "duration": 42,
    "start_time": "2021-10-28T19:55:50.589Z"
   },
   {
    "duration": 10,
    "start_time": "2021-10-28T19:55:50.633Z"
   },
   {
    "duration": 7,
    "start_time": "2021-10-28T19:58:07.869Z"
   },
   {
    "duration": 10,
    "start_time": "2021-10-28T19:58:10.719Z"
   },
   {
    "duration": 60,
    "start_time": "2021-10-28T19:58:21.838Z"
   },
   {
    "duration": 30,
    "start_time": "2021-10-28T19:58:21.901Z"
   },
   {
    "duration": 18,
    "start_time": "2021-10-28T19:58:21.934Z"
   },
   {
    "duration": 22,
    "start_time": "2021-10-28T19:58:21.955Z"
   },
   {
    "duration": 4,
    "start_time": "2021-10-28T19:58:21.979Z"
   },
   {
    "duration": 15,
    "start_time": "2021-10-28T19:58:22.029Z"
   },
   {
    "duration": 16,
    "start_time": "2021-10-28T19:58:22.046Z"
   },
   {
    "duration": 68,
    "start_time": "2021-10-28T19:58:22.064Z"
   },
   {
    "duration": 23,
    "start_time": "2021-10-28T19:58:22.135Z"
   },
   {
    "duration": 29,
    "start_time": "2021-10-28T19:58:22.161Z"
   },
   {
    "duration": 15,
    "start_time": "2021-10-28T19:58:22.229Z"
   },
   {
    "duration": 9,
    "start_time": "2021-10-28T19:58:22.246Z"
   },
   {
    "duration": 13,
    "start_time": "2021-10-28T19:58:22.257Z"
   },
   {
    "duration": 503,
    "start_time": "2021-10-28T19:58:22.272Z"
   },
   {
    "duration": 8,
    "start_time": "2021-10-28T19:58:22.777Z"
   },
   {
    "duration": 15,
    "start_time": "2021-10-28T19:58:22.787Z"
   },
   {
    "duration": 316,
    "start_time": "2021-10-28T19:58:22.804Z"
   },
   {
    "duration": 24,
    "start_time": "2021-10-28T19:58:23.123Z"
   },
   {
    "duration": 7,
    "start_time": "2021-10-28T19:58:23.150Z"
   },
   {
    "duration": 19,
    "start_time": "2021-10-28T19:58:23.159Z"
   },
   {
    "duration": 54,
    "start_time": "2021-10-28T19:58:23.180Z"
   },
   {
    "duration": 514,
    "start_time": "2021-10-28T19:58:23.236Z"
   },
   {
    "duration": 20,
    "start_time": "2021-10-28T19:58:23.753Z"
   },
   {
    "duration": 452,
    "start_time": "2021-10-28T19:58:23.775Z"
   },
   {
    "duration": 14,
    "start_time": "2021-10-28T19:58:24.230Z"
   },
   {
    "duration": 23,
    "start_time": "2021-10-28T19:58:24.247Z"
   },
   {
    "duration": 92,
    "start_time": "2021-10-28T19:58:24.275Z"
   },
   {
    "duration": 15,
    "start_time": "2021-10-28T19:58:24.370Z"
   },
   {
    "duration": 5,
    "start_time": "2021-10-28T19:58:24.387Z"
   },
   {
    "duration": 40,
    "start_time": "2021-10-28T19:58:24.394Z"
   },
   {
    "duration": 18,
    "start_time": "2021-10-28T19:58:24.436Z"
   },
   {
    "duration": 33,
    "start_time": "2021-10-28T19:58:24.457Z"
   },
   {
    "duration": 44,
    "start_time": "2021-10-28T19:58:24.493Z"
   },
   {
    "duration": 37,
    "start_time": "2021-10-28T19:58:24.540Z"
   },
   {
    "duration": 13,
    "start_time": "2021-10-28T19:58:24.580Z"
   },
   {
    "duration": 13,
    "start_time": "2021-10-28T19:58:24.629Z"
   },
   {
    "duration": 9,
    "start_time": "2021-10-28T19:58:24.644Z"
   },
   {
    "duration": 8,
    "start_time": "2021-10-28T19:58:24.655Z"
   },
   {
    "duration": 6,
    "start_time": "2021-10-28T19:58:24.665Z"
   },
   {
    "duration": 57,
    "start_time": "2021-10-28T19:58:24.673Z"
   },
   {
    "duration": 14,
    "start_time": "2021-10-28T19:58:24.732Z"
   },
   {
    "duration": 900,
    "start_time": "2021-10-28T19:58:24.748Z"
   },
   {
    "duration": 9,
    "start_time": "2021-10-28T19:58:25.650Z"
   },
   {
    "duration": 23,
    "start_time": "2021-10-28T19:58:25.661Z"
   },
   {
    "duration": 46,
    "start_time": "2021-10-28T19:58:25.686Z"
   },
   {
    "duration": 16,
    "start_time": "2021-10-28T19:58:25.735Z"
   },
   {
    "duration": 16,
    "start_time": "2021-10-28T19:58:25.754Z"
   },
   {
    "duration": 9,
    "start_time": "2021-10-28T19:58:54.212Z"
   },
   {
    "duration": 10,
    "start_time": "2021-10-28T19:58:56.461Z"
   },
   {
    "duration": 78,
    "start_time": "2021-10-28T19:59:39.278Z"
   },
   {
    "duration": 8,
    "start_time": "2021-10-28T19:59:53.026Z"
   },
   {
    "duration": 10,
    "start_time": "2021-10-28T19:59:55.230Z"
   },
   {
    "duration": 380,
    "start_time": "2021-10-28T20:07:51.266Z"
   },
   {
    "duration": 214,
    "start_time": "2021-10-28T20:08:06.325Z"
   },
   {
    "duration": 4189,
    "start_time": "2021-10-28T20:08:24.603Z"
   },
   {
    "duration": 214,
    "start_time": "2021-10-28T20:08:45.377Z"
   },
   {
    "duration": 221,
    "start_time": "2021-10-28T20:08:51.729Z"
   },
   {
    "duration": 15,
    "start_time": "2021-10-28T20:13:23.442Z"
   },
   {
    "duration": 11,
    "start_time": "2021-10-28T20:13:27.613Z"
   },
   {
    "duration": 7,
    "start_time": "2021-10-28T20:15:12.504Z"
   },
   {
    "duration": 9,
    "start_time": "2021-10-28T20:15:13.912Z"
   },
   {
    "duration": 10,
    "start_time": "2021-10-28T20:19:25.847Z"
   },
   {
    "duration": 8,
    "start_time": "2021-10-28T20:19:42.798Z"
   },
   {
    "duration": 16,
    "start_time": "2021-10-28T20:20:38.184Z"
   },
   {
    "duration": 5,
    "start_time": "2021-10-28T20:21:29.506Z"
   },
   {
    "duration": 60,
    "start_time": "2021-10-28T20:21:40.289Z"
   },
   {
    "duration": 13,
    "start_time": "2021-10-28T20:21:40.351Z"
   },
   {
    "duration": 14,
    "start_time": "2021-10-28T20:21:40.367Z"
   },
   {
    "duration": 64,
    "start_time": "2021-10-28T20:21:40.384Z"
   },
   {
    "duration": 3,
    "start_time": "2021-10-28T20:21:40.450Z"
   },
   {
    "duration": 22,
    "start_time": "2021-10-28T20:21:40.455Z"
   },
   {
    "duration": 63,
    "start_time": "2021-10-28T20:21:40.479Z"
   },
   {
    "duration": 30,
    "start_time": "2021-10-28T20:21:40.546Z"
   },
   {
    "duration": 52,
    "start_time": "2021-10-28T20:21:40.580Z"
   },
   {
    "duration": 31,
    "start_time": "2021-10-28T20:21:40.634Z"
   },
   {
    "duration": 14,
    "start_time": "2021-10-28T20:21:40.667Z"
   },
   {
    "duration": 49,
    "start_time": "2021-10-28T20:21:40.683Z"
   },
   {
    "duration": 16,
    "start_time": "2021-10-28T20:21:40.734Z"
   },
   {
    "duration": 527,
    "start_time": "2021-10-28T20:21:40.753Z"
   },
   {
    "duration": 9,
    "start_time": "2021-10-28T20:21:41.283Z"
   },
   {
    "duration": 26,
    "start_time": "2021-10-28T20:21:41.295Z"
   },
   {
    "duration": 275,
    "start_time": "2021-10-28T20:21:41.324Z"
   },
   {
    "duration": 27,
    "start_time": "2021-10-28T20:21:41.602Z"
   },
   {
    "duration": 8,
    "start_time": "2021-10-28T20:21:41.631Z"
   },
   {
    "duration": 19,
    "start_time": "2021-10-28T20:21:41.642Z"
   },
   {
    "duration": 17,
    "start_time": "2021-10-28T20:21:41.663Z"
   },
   {
    "duration": 574,
    "start_time": "2021-10-28T20:21:41.682Z"
   },
   {
    "duration": 21,
    "start_time": "2021-10-28T20:21:42.261Z"
   },
   {
    "duration": 485,
    "start_time": "2021-10-28T20:21:42.285Z"
   },
   {
    "duration": 16,
    "start_time": "2021-10-28T20:21:42.772Z"
   },
   {
    "duration": 52,
    "start_time": "2021-10-28T20:21:42.790Z"
   },
   {
    "duration": 57,
    "start_time": "2021-10-28T20:21:42.845Z"
   },
   {
    "duration": 37,
    "start_time": "2021-10-28T20:21:42.905Z"
   },
   {
    "duration": 7,
    "start_time": "2021-10-28T20:21:42.945Z"
   },
   {
    "duration": 13,
    "start_time": "2021-10-28T20:21:42.955Z"
   },
   {
    "duration": 65,
    "start_time": "2021-10-28T20:21:42.970Z"
   },
   {
    "duration": 34,
    "start_time": "2021-10-28T20:21:43.038Z"
   },
   {
    "duration": 12,
    "start_time": "2021-10-28T20:21:43.075Z"
   },
   {
    "duration": 71,
    "start_time": "2021-10-28T20:21:43.090Z"
   },
   {
    "duration": 12,
    "start_time": "2021-10-28T20:21:43.164Z"
   },
   {
    "duration": 16,
    "start_time": "2021-10-28T20:21:43.178Z"
   },
   {
    "duration": 35,
    "start_time": "2021-10-28T20:21:43.197Z"
   },
   {
    "duration": 12,
    "start_time": "2021-10-28T20:21:43.234Z"
   },
   {
    "duration": 11,
    "start_time": "2021-10-28T20:21:43.248Z"
   },
   {
    "duration": 17,
    "start_time": "2021-10-28T20:21:43.262Z"
   },
   {
    "duration": 13,
    "start_time": "2021-10-28T20:21:43.281Z"
   },
   {
    "duration": 1142,
    "start_time": "2021-10-28T20:21:43.330Z"
   },
   {
    "duration": 69,
    "start_time": "2021-10-28T20:21:44.474Z"
   },
   {
    "duration": -846,
    "start_time": "2021-10-28T20:21:45.391Z"
   },
   {
    "duration": -852,
    "start_time": "2021-10-28T20:21:45.399Z"
   },
   {
    "duration": -861,
    "start_time": "2021-10-28T20:21:45.409Z"
   },
   {
    "duration": -866,
    "start_time": "2021-10-28T20:21:45.416Z"
   },
   {
    "duration": -873,
    "start_time": "2021-10-28T20:21:45.424Z"
   },
   {
    "duration": -879,
    "start_time": "2021-10-28T20:21:45.431Z"
   },
   {
    "duration": 9,
    "start_time": "2021-10-28T20:22:10.986Z"
   },
   {
    "duration": 60,
    "start_time": "2021-10-28T20:22:18.170Z"
   },
   {
    "duration": 18,
    "start_time": "2021-10-28T20:22:18.234Z"
   },
   {
    "duration": 23,
    "start_time": "2021-10-28T20:22:18.256Z"
   },
   {
    "duration": 28,
    "start_time": "2021-10-28T20:22:18.329Z"
   },
   {
    "duration": 4,
    "start_time": "2021-10-28T20:22:18.359Z"
   },
   {
    "duration": 30,
    "start_time": "2021-10-28T20:22:18.366Z"
   },
   {
    "duration": 45,
    "start_time": "2021-10-28T20:22:18.399Z"
   },
   {
    "duration": 36,
    "start_time": "2021-10-28T20:22:18.446Z"
   },
   {
    "duration": 45,
    "start_time": "2021-10-28T20:22:18.488Z"
   },
   {
    "duration": 31,
    "start_time": "2021-10-28T20:22:18.538Z"
   },
   {
    "duration": 15,
    "start_time": "2021-10-28T20:22:18.572Z"
   },
   {
    "duration": 10,
    "start_time": "2021-10-28T20:22:18.631Z"
   },
   {
    "duration": 35,
    "start_time": "2021-10-28T20:22:18.644Z"
   },
   {
    "duration": 469,
    "start_time": "2021-10-28T20:22:18.682Z"
   },
   {
    "duration": 10,
    "start_time": "2021-10-28T20:22:19.154Z"
   },
   {
    "duration": 15,
    "start_time": "2021-10-28T20:22:19.167Z"
   },
   {
    "duration": 310,
    "start_time": "2021-10-28T20:22:19.185Z"
   },
   {
    "duration": 42,
    "start_time": "2021-10-28T20:22:19.498Z"
   },
   {
    "duration": 10,
    "start_time": "2021-10-28T20:22:19.543Z"
   },
   {
    "duration": 29,
    "start_time": "2021-10-28T20:22:19.555Z"
   },
   {
    "duration": 15,
    "start_time": "2021-10-28T20:22:19.586Z"
   },
   {
    "duration": 560,
    "start_time": "2021-10-28T20:22:19.603Z"
   },
   {
    "duration": 19,
    "start_time": "2021-10-28T20:22:20.165Z"
   },
   {
    "duration": 463,
    "start_time": "2021-10-28T20:22:20.187Z"
   },
   {
    "duration": 15,
    "start_time": "2021-10-28T20:22:20.653Z"
   },
   {
    "duration": 26,
    "start_time": "2021-10-28T20:22:20.670Z"
   },
   {
    "duration": 403,
    "start_time": "2021-10-28T20:22:20.701Z"
   },
   {
    "duration": 24,
    "start_time": "2021-10-28T20:22:21.107Z"
   },
   {
    "duration": 15,
    "start_time": "2021-10-28T20:22:21.133Z"
   },
   {
    "duration": 23,
    "start_time": "2021-10-28T20:22:21.150Z"
   },
   {
    "duration": 24,
    "start_time": "2021-10-28T20:22:21.175Z"
   },
   {
    "duration": 46,
    "start_time": "2021-10-28T20:22:21.201Z"
   },
   {
    "duration": 13,
    "start_time": "2021-10-28T20:22:21.249Z"
   },
   {
    "duration": 74,
    "start_time": "2021-10-28T20:22:21.265Z"
   },
   {
    "duration": 12,
    "start_time": "2021-10-28T20:22:21.342Z"
   },
   {
    "duration": 29,
    "start_time": "2021-10-28T20:22:21.357Z"
   },
   {
    "duration": 26,
    "start_time": "2021-10-28T20:22:21.388Z"
   },
   {
    "duration": 24,
    "start_time": "2021-10-28T20:22:21.416Z"
   },
   {
    "duration": 14,
    "start_time": "2021-10-28T20:22:21.443Z"
   },
   {
    "duration": 31,
    "start_time": "2021-10-28T20:22:21.459Z"
   },
   {
    "duration": 35,
    "start_time": "2021-10-28T20:22:21.492Z"
   },
   {
    "duration": 740,
    "start_time": "2021-10-28T20:22:21.529Z"
   },
   {
    "duration": 9,
    "start_time": "2021-10-28T20:22:22.272Z"
   },
   {
    "duration": 18,
    "start_time": "2021-10-28T20:22:22.283Z"
   },
   {
    "duration": 25,
    "start_time": "2021-10-28T20:22:22.304Z"
   },
   {
    "duration": 21,
    "start_time": "2021-10-28T20:22:22.332Z"
   },
   {
    "duration": 28,
    "start_time": "2021-10-28T20:22:22.356Z"
   },
   {
    "duration": 241,
    "start_time": "2021-10-28T20:22:22.387Z"
   },
   {
    "duration": 229,
    "start_time": "2021-10-28T20:23:11.549Z"
   },
   {
    "duration": 269,
    "start_time": "2021-10-28T20:23:24.280Z"
   },
   {
    "duration": 2269,
    "start_time": "2021-10-28T20:24:46.113Z"
   },
   {
    "duration": 58,
    "start_time": "2021-10-28T20:24:55.584Z"
   },
   {
    "duration": 15,
    "start_time": "2021-10-28T20:24:55.645Z"
   },
   {
    "duration": 16,
    "start_time": "2021-10-28T20:24:55.664Z"
   },
   {
    "duration": 68,
    "start_time": "2021-10-28T20:24:55.683Z"
   },
   {
    "duration": 4,
    "start_time": "2021-10-28T20:24:55.753Z"
   },
   {
    "duration": 15,
    "start_time": "2021-10-28T20:24:55.759Z"
   },
   {
    "duration": 67,
    "start_time": "2021-10-28T20:24:55.776Z"
   },
   {
    "duration": 30,
    "start_time": "2021-10-28T20:24:55.848Z"
   },
   {
    "duration": 50,
    "start_time": "2021-10-28T20:24:55.881Z"
   },
   {
    "duration": 29,
    "start_time": "2021-10-28T20:24:55.933Z"
   },
   {
    "duration": 13,
    "start_time": "2021-10-28T20:24:55.965Z"
   },
   {
    "duration": 8,
    "start_time": "2021-10-28T20:24:55.981Z"
   },
   {
    "duration": 9,
    "start_time": "2021-10-28T20:24:56.030Z"
   },
   {
    "duration": 482,
    "start_time": "2021-10-28T20:24:56.042Z"
   },
   {
    "duration": 10,
    "start_time": "2021-10-28T20:24:56.529Z"
   },
   {
    "duration": 18,
    "start_time": "2021-10-28T20:24:56.541Z"
   },
   {
    "duration": 298,
    "start_time": "2021-10-28T20:24:56.561Z"
   },
   {
    "duration": 23,
    "start_time": "2021-10-28T20:24:56.861Z"
   },
   {
    "duration": 8,
    "start_time": "2021-10-28T20:24:56.886Z"
   },
   {
    "duration": 43,
    "start_time": "2021-10-28T20:24:56.896Z"
   },
   {
    "duration": 17,
    "start_time": "2021-10-28T20:24:56.942Z"
   },
   {
    "duration": 503,
    "start_time": "2021-10-28T20:24:56.962Z"
   },
   {
    "duration": 19,
    "start_time": "2021-10-28T20:24:57.474Z"
   },
   {
    "duration": 461,
    "start_time": "2021-10-28T20:24:57.496Z"
   },
   {
    "duration": 14,
    "start_time": "2021-10-28T20:24:57.959Z"
   },
   {
    "duration": 27,
    "start_time": "2021-10-28T20:24:57.976Z"
   },
   {
    "duration": 56,
    "start_time": "2021-10-28T20:24:58.030Z"
   },
   {
    "duration": 14,
    "start_time": "2021-10-28T20:24:58.088Z"
   },
   {
    "duration": 26,
    "start_time": "2021-10-28T20:24:58.104Z"
   },
   {
    "duration": 10,
    "start_time": "2021-10-28T20:24:58.133Z"
   },
   {
    "duration": 16,
    "start_time": "2021-10-28T20:24:58.146Z"
   },
   {
    "duration": 78,
    "start_time": "2021-10-28T20:24:58.164Z"
   },
   {
    "duration": 11,
    "start_time": "2021-10-28T20:24:58.245Z"
   },
   {
    "duration": 40,
    "start_time": "2021-10-28T20:24:58.258Z"
   },
   {
    "duration": 36,
    "start_time": "2021-10-28T20:24:58.301Z"
   },
   {
    "duration": 14,
    "start_time": "2021-10-28T20:24:58.340Z"
   },
   {
    "duration": 8,
    "start_time": "2021-10-28T20:24:58.356Z"
   },
   {
    "duration": 14,
    "start_time": "2021-10-28T20:24:58.366Z"
   },
   {
    "duration": 9,
    "start_time": "2021-10-28T20:24:58.382Z"
   },
   {
    "duration": 14,
    "start_time": "2021-10-28T20:24:58.429Z"
   },
   {
    "duration": 14,
    "start_time": "2021-10-28T20:24:58.445Z"
   },
   {
    "duration": 774,
    "start_time": "2021-10-28T20:24:58.462Z"
   },
   {
    "duration": 10,
    "start_time": "2021-10-28T20:24:59.238Z"
   },
   {
    "duration": 16,
    "start_time": "2021-10-28T20:24:59.250Z"
   },
   {
    "duration": 14,
    "start_time": "2021-10-28T20:24:59.268Z"
   },
   {
    "duration": 8,
    "start_time": "2021-10-28T20:24:59.284Z"
   },
   {
    "duration": 37,
    "start_time": "2021-10-28T20:24:59.294Z"
   },
   {
    "duration": 2186,
    "start_time": "2021-10-28T20:24:59.333Z"
   },
   {
    "duration": 14,
    "start_time": "2021-10-28T20:25:21.692Z"
   },
   {
    "duration": 336,
    "start_time": "2021-10-28T20:26:16.968Z"
   },
   {
    "duration": 15,
    "start_time": "2021-10-28T20:26:41.046Z"
   },
   {
    "duration": 4247,
    "start_time": "2021-10-28T20:27:53.947Z"
   },
   {
    "duration": 2359,
    "start_time": "2021-10-28T20:28:26.879Z"
   },
   {
    "duration": 59,
    "start_time": "2021-10-28T20:28:49.496Z"
   },
   {
    "duration": 14,
    "start_time": "2021-10-28T20:28:49.558Z"
   },
   {
    "duration": 15,
    "start_time": "2021-10-28T20:28:49.575Z"
   },
   {
    "duration": 22,
    "start_time": "2021-10-28T20:28:49.631Z"
   },
   {
    "duration": 4,
    "start_time": "2021-10-28T20:28:49.655Z"
   },
   {
    "duration": 69,
    "start_time": "2021-10-28T20:28:49.661Z"
   },
   {
    "duration": 16,
    "start_time": "2021-10-28T20:28:49.732Z"
   },
   {
    "duration": 28,
    "start_time": "2021-10-28T20:28:49.752Z"
   },
   {
    "duration": 64,
    "start_time": "2021-10-28T20:28:49.783Z"
   },
   {
    "duration": 28,
    "start_time": "2021-10-28T20:28:49.849Z"
   },
   {
    "duration": 13,
    "start_time": "2021-10-28T20:28:49.880Z"
   },
   {
    "duration": 42,
    "start_time": "2021-10-28T20:28:49.895Z"
   },
   {
    "duration": 10,
    "start_time": "2021-10-28T20:28:49.940Z"
   },
   {
    "duration": 490,
    "start_time": "2021-10-28T20:28:49.953Z"
   },
   {
    "duration": 9,
    "start_time": "2021-10-28T20:28:50.445Z"
   },
   {
    "duration": 13,
    "start_time": "2021-10-28T20:28:50.457Z"
   },
   {
    "duration": 304,
    "start_time": "2021-10-28T20:28:50.473Z"
   },
   {
    "duration": 24,
    "start_time": "2021-10-28T20:28:50.779Z"
   },
   {
    "duration": 27,
    "start_time": "2021-10-28T20:28:50.805Z"
   },
   {
    "duration": 15,
    "start_time": "2021-10-28T20:28:50.834Z"
   },
   {
    "duration": 13,
    "start_time": "2021-10-28T20:28:50.852Z"
   },
   {
    "duration": 487,
    "start_time": "2021-10-28T20:28:50.868Z"
   },
   {
    "duration": 20,
    "start_time": "2021-10-28T20:28:51.365Z"
   },
   {
    "duration": 448,
    "start_time": "2021-10-28T20:28:51.390Z"
   },
   {
    "duration": 14,
    "start_time": "2021-10-28T20:28:51.840Z"
   },
   {
    "duration": 27,
    "start_time": "2021-10-28T20:28:51.856Z"
   },
   {
    "duration": 82,
    "start_time": "2021-10-28T20:28:51.885Z"
   },
   {
    "duration": 14,
    "start_time": "2021-10-28T20:28:51.970Z"
   },
   {
    "duration": 5,
    "start_time": "2021-10-28T20:28:51.986Z"
   },
   {
    "duration": 37,
    "start_time": "2021-10-28T20:28:51.994Z"
   },
   {
    "duration": 17,
    "start_time": "2021-10-28T20:28:52.034Z"
   },
   {
    "duration": 41,
    "start_time": "2021-10-28T20:28:52.054Z"
   },
   {
    "duration": 12,
    "start_time": "2021-10-28T20:28:52.130Z"
   },
   {
    "duration": 39,
    "start_time": "2021-10-28T20:28:52.144Z"
   },
   {
    "duration": 44,
    "start_time": "2021-10-28T20:28:52.186Z"
   },
   {
    "duration": 28,
    "start_time": "2021-10-28T20:28:52.233Z"
   },
   {
    "duration": 13,
    "start_time": "2021-10-28T20:28:52.264Z"
   },
   {
    "duration": 19,
    "start_time": "2021-10-28T20:28:52.279Z"
   },
   {
    "duration": 29,
    "start_time": "2021-10-28T20:28:52.300Z"
   },
   {
    "duration": 20,
    "start_time": "2021-10-28T20:28:52.332Z"
   },
   {
    "duration": 22,
    "start_time": "2021-10-28T20:28:52.355Z"
   },
   {
    "duration": 865,
    "start_time": "2021-10-28T20:28:52.380Z"
   },
   {
    "duration": 8,
    "start_time": "2021-10-28T20:28:53.247Z"
   },
   {
    "duration": 22,
    "start_time": "2021-10-28T20:28:53.257Z"
   },
   {
    "duration": 24,
    "start_time": "2021-10-28T20:28:53.281Z"
   },
   {
    "duration": 24,
    "start_time": "2021-10-28T20:28:53.307Z"
   },
   {
    "duration": 9,
    "start_time": "2021-10-28T20:28:53.334Z"
   },
   {
    "duration": 17,
    "start_time": "2021-10-28T20:28:53.345Z"
   },
   {
    "duration": 2388,
    "start_time": "2021-10-28T20:28:53.364Z"
   },
   {
    "duration": -819,
    "start_time": "2021-10-28T20:28:56.573Z"
   },
   {
    "duration": 1516,
    "start_time": "2021-10-28T20:29:08.340Z"
   },
   {
    "duration": 12,
    "start_time": "2021-10-28T20:29:09.858Z"
   },
   {
    "duration": 16,
    "start_time": "2021-10-28T20:29:09.873Z"
   },
   {
    "duration": 54,
    "start_time": "2021-10-28T20:29:09.891Z"
   },
   {
    "duration": 3,
    "start_time": "2021-10-28T20:29:09.948Z"
   },
   {
    "duration": 17,
    "start_time": "2021-10-28T20:29:09.953Z"
   },
   {
    "duration": 59,
    "start_time": "2021-10-28T20:29:09.972Z"
   },
   {
    "duration": 36,
    "start_time": "2021-10-28T20:29:10.036Z"
   },
   {
    "duration": 56,
    "start_time": "2021-10-28T20:29:10.077Z"
   },
   {
    "duration": 26,
    "start_time": "2021-10-28T20:29:10.135Z"
   },
   {
    "duration": 12,
    "start_time": "2021-10-28T20:29:10.164Z"
   },
   {
    "duration": 10,
    "start_time": "2021-10-28T20:29:10.179Z"
   },
   {
    "duration": 50,
    "start_time": "2021-10-28T20:29:10.191Z"
   },
   {
    "duration": 489,
    "start_time": "2021-10-28T20:29:10.244Z"
   },
   {
    "duration": 8,
    "start_time": "2021-10-28T20:29:10.736Z"
   },
   {
    "duration": 12,
    "start_time": "2021-10-28T20:29:10.746Z"
   },
   {
    "duration": 295,
    "start_time": "2021-10-28T20:29:10.761Z"
   },
   {
    "duration": 22,
    "start_time": "2021-10-28T20:29:11.058Z"
   },
   {
    "duration": 11,
    "start_time": "2021-10-28T20:29:11.082Z"
   },
   {
    "duration": 39,
    "start_time": "2021-10-28T20:29:11.096Z"
   },
   {
    "duration": 22,
    "start_time": "2021-10-28T20:29:11.137Z"
   },
   {
    "duration": 461,
    "start_time": "2021-10-28T20:29:11.161Z"
   },
   {
    "duration": 19,
    "start_time": "2021-10-28T20:29:11.630Z"
   },
   {
    "duration": 405,
    "start_time": "2021-10-28T20:29:11.652Z"
   },
   {
    "duration": 14,
    "start_time": "2021-10-28T20:29:12.059Z"
   },
   {
    "duration": 54,
    "start_time": "2021-10-28T20:29:12.076Z"
   },
   {
    "duration": 53,
    "start_time": "2021-10-28T20:29:12.133Z"
   },
   {
    "duration": 39,
    "start_time": "2021-10-28T20:29:12.189Z"
   },
   {
    "duration": 4,
    "start_time": "2021-10-28T20:29:12.231Z"
   },
   {
    "duration": 24,
    "start_time": "2021-10-28T20:29:12.237Z"
   },
   {
    "duration": 36,
    "start_time": "2021-10-28T20:29:12.263Z"
   },
   {
    "duration": 54,
    "start_time": "2021-10-28T20:29:12.301Z"
   },
   {
    "duration": 11,
    "start_time": "2021-10-28T20:29:12.357Z"
   },
   {
    "duration": 133,
    "start_time": "2021-10-28T20:29:12.371Z"
   },
   {
    "duration": 12,
    "start_time": "2021-10-28T20:29:12.506Z"
   },
   {
    "duration": 15,
    "start_time": "2021-10-28T20:29:12.529Z"
   },
   {
    "duration": 10,
    "start_time": "2021-10-28T20:29:12.546Z"
   },
   {
    "duration": 10,
    "start_time": "2021-10-28T20:29:12.558Z"
   },
   {
    "duration": 6,
    "start_time": "2021-10-28T20:29:12.571Z"
   },
   {
    "duration": 55,
    "start_time": "2021-10-28T20:29:12.579Z"
   },
   {
    "duration": 13,
    "start_time": "2021-10-28T20:29:12.637Z"
   },
   {
    "duration": 988,
    "start_time": "2021-10-28T20:29:12.652Z"
   },
   {
    "duration": 8,
    "start_time": "2021-10-28T20:29:13.643Z"
   },
   {
    "duration": 8,
    "start_time": "2021-10-28T20:29:13.654Z"
   },
   {
    "duration": 14,
    "start_time": "2021-10-28T20:29:13.665Z"
   },
   {
    "duration": 47,
    "start_time": "2021-10-28T20:29:13.682Z"
   },
   {
    "duration": 3,
    "start_time": "2021-10-28T20:29:13.732Z"
   },
   {
    "duration": 19,
    "start_time": "2021-10-28T20:29:13.738Z"
   },
   {
    "duration": 2368,
    "start_time": "2021-10-28T20:29:13.760Z"
   },
   {
    "duration": -924,
    "start_time": "2021-10-28T20:29:17.056Z"
   },
   {
    "duration": 354,
    "start_time": "2021-10-29T16:08:46.781Z"
   },
   {
    "duration": 1495,
    "start_time": "2021-10-29T16:08:59.018Z"
   },
   {
    "duration": 14,
    "start_time": "2021-10-29T16:09:00.516Z"
   },
   {
    "duration": 23,
    "start_time": "2021-10-29T16:09:00.534Z"
   },
   {
    "duration": 47,
    "start_time": "2021-10-29T16:09:00.560Z"
   },
   {
    "duration": 8,
    "start_time": "2021-10-29T16:09:00.609Z"
   },
   {
    "duration": 17,
    "start_time": "2021-10-29T16:09:00.620Z"
   },
   {
    "duration": 23,
    "start_time": "2021-10-29T16:09:00.640Z"
   },
   {
    "duration": 40,
    "start_time": "2021-10-29T16:09:00.666Z"
   },
   {
    "duration": 22,
    "start_time": "2021-10-29T16:09:00.710Z"
   },
   {
    "duration": 60,
    "start_time": "2021-10-29T16:09:00.734Z"
   },
   {
    "duration": 14,
    "start_time": "2021-10-29T16:09:00.797Z"
   },
   {
    "duration": 20,
    "start_time": "2021-10-29T16:09:00.813Z"
   },
   {
    "duration": 17,
    "start_time": "2021-10-29T16:09:00.835Z"
   },
   {
    "duration": 496,
    "start_time": "2021-10-29T16:09:00.855Z"
   },
   {
    "duration": 9,
    "start_time": "2021-10-29T16:09:01.353Z"
   },
   {
    "duration": 23,
    "start_time": "2021-10-29T16:09:01.364Z"
   },
   {
    "duration": 293,
    "start_time": "2021-10-29T16:09:01.389Z"
   },
   {
    "duration": 22,
    "start_time": "2021-10-29T16:09:01.684Z"
   },
   {
    "duration": 12,
    "start_time": "2021-10-29T16:09:01.709Z"
   },
   {
    "duration": 14,
    "start_time": "2021-10-29T16:09:01.724Z"
   },
   {
    "duration": 43,
    "start_time": "2021-10-29T16:09:01.740Z"
   },
   {
    "duration": 432,
    "start_time": "2021-10-29T16:09:01.785Z"
   },
   {
    "duration": 21,
    "start_time": "2021-10-29T16:09:02.221Z"
   },
   {
    "duration": 454,
    "start_time": "2021-10-29T16:09:02.245Z"
   },
   {
    "duration": 15,
    "start_time": "2021-10-29T16:09:02.702Z"
   },
   {
    "duration": 29,
    "start_time": "2021-10-29T16:09:02.719Z"
   },
   {
    "duration": 73,
    "start_time": "2021-10-29T16:09:02.750Z"
   },
   {
    "duration": 14,
    "start_time": "2021-10-29T16:09:02.826Z"
   },
   {
    "duration": 9,
    "start_time": "2021-10-29T16:09:02.842Z"
   },
   {
    "duration": 32,
    "start_time": "2021-10-29T16:09:02.853Z"
   },
   {
    "duration": 32,
    "start_time": "2021-10-29T16:09:02.888Z"
   },
   {
    "duration": 40,
    "start_time": "2021-10-29T16:09:02.922Z"
   },
   {
    "duration": 19,
    "start_time": "2021-10-29T16:09:02.965Z"
   },
   {
    "duration": 118,
    "start_time": "2021-10-29T16:09:02.986Z"
   },
   {
    "duration": 11,
    "start_time": "2021-10-29T16:09:03.106Z"
   },
   {
    "duration": 14,
    "start_time": "2021-10-29T16:09:03.120Z"
   },
   {
    "duration": 8,
    "start_time": "2021-10-29T16:09:03.136Z"
   },
   {
    "duration": 37,
    "start_time": "2021-10-29T16:09:03.146Z"
   },
   {
    "duration": 4,
    "start_time": "2021-10-29T16:09:03.186Z"
   },
   {
    "duration": 15,
    "start_time": "2021-10-29T16:09:03.192Z"
   },
   {
    "duration": 15,
    "start_time": "2021-10-29T16:09:03.209Z"
   },
   {
    "duration": 1203,
    "start_time": "2021-10-29T16:09:03.227Z"
   },
   {
    "duration": 9,
    "start_time": "2021-10-29T16:09:04.432Z"
   },
   {
    "duration": 9,
    "start_time": "2021-10-29T16:09:04.444Z"
   },
   {
    "duration": 14,
    "start_time": "2021-10-29T16:09:04.456Z"
   },
   {
    "duration": 13,
    "start_time": "2021-10-29T16:09:04.473Z"
   },
   {
    "duration": 15,
    "start_time": "2021-10-29T16:09:04.489Z"
   },
   {
    "duration": 627,
    "start_time": "2021-10-29T16:09:04.506Z"
   },
   {
    "duration": -238,
    "start_time": "2021-10-29T16:09:05.373Z"
   },
   {
    "duration": -247,
    "start_time": "2021-10-29T16:09:05.384Z"
   },
   {
    "duration": 7026,
    "start_time": "2021-10-29T16:11:13.405Z"
   },
   {
    "duration": 2842,
    "start_time": "2021-10-29T16:13:50.491Z"
   },
   {
    "duration": 62,
    "start_time": "2021-10-29T16:14:02.264Z"
   },
   {
    "duration": 12,
    "start_time": "2021-10-29T16:14:02.329Z"
   },
   {
    "duration": 52,
    "start_time": "2021-10-29T16:14:02.344Z"
   },
   {
    "duration": 28,
    "start_time": "2021-10-29T16:14:02.398Z"
   },
   {
    "duration": 4,
    "start_time": "2021-10-29T16:14:02.429Z"
   },
   {
    "duration": 53,
    "start_time": "2021-10-29T16:14:02.436Z"
   },
   {
    "duration": 37,
    "start_time": "2021-10-29T16:14:02.492Z"
   },
   {
    "duration": 51,
    "start_time": "2021-10-29T16:14:02.535Z"
   },
   {
    "duration": 30,
    "start_time": "2021-10-29T16:14:02.590Z"
   },
   {
    "duration": 60,
    "start_time": "2021-10-29T16:14:02.623Z"
   },
   {
    "duration": 13,
    "start_time": "2021-10-29T16:14:02.686Z"
   },
   {
    "duration": 23,
    "start_time": "2021-10-29T16:14:02.701Z"
   },
   {
    "duration": 19,
    "start_time": "2021-10-29T16:14:02.726Z"
   },
   {
    "duration": 481,
    "start_time": "2021-10-29T16:14:02.747Z"
   },
   {
    "duration": 8,
    "start_time": "2021-10-29T16:14:03.231Z"
   },
   {
    "duration": 20,
    "start_time": "2021-10-29T16:14:03.241Z"
   },
   {
    "duration": 290,
    "start_time": "2021-10-29T16:14:03.263Z"
   },
   {
    "duration": 34,
    "start_time": "2021-10-29T16:14:03.555Z"
   },
   {
    "duration": 8,
    "start_time": "2021-10-29T16:14:03.591Z"
   },
   {
    "duration": 18,
    "start_time": "2021-10-29T16:14:03.601Z"
   },
   {
    "duration": 12,
    "start_time": "2021-10-29T16:14:03.622Z"
   },
   {
    "duration": 453,
    "start_time": "2021-10-29T16:14:03.637Z"
   },
   {
    "duration": 20,
    "start_time": "2021-10-29T16:14:04.096Z"
   },
   {
    "duration": 457,
    "start_time": "2021-10-29T16:14:04.120Z"
   },
   {
    "duration": 14,
    "start_time": "2021-10-29T16:14:04.580Z"
   },
   {
    "duration": 24,
    "start_time": "2021-10-29T16:14:04.597Z"
   },
   {
    "duration": 86,
    "start_time": "2021-10-29T16:14:04.624Z"
   },
   {
    "duration": 15,
    "start_time": "2021-10-29T16:14:04.712Z"
   },
   {
    "duration": 8,
    "start_time": "2021-10-29T16:14:04.730Z"
   },
   {
    "duration": 46,
    "start_time": "2021-10-29T16:14:04.740Z"
   },
   {
    "duration": 18,
    "start_time": "2021-10-29T16:14:04.788Z"
   },
   {
    "duration": 37,
    "start_time": "2021-10-29T16:14:04.809Z"
   },
   {
    "duration": 38,
    "start_time": "2021-10-29T16:14:04.848Z"
   },
   {
    "duration": 133,
    "start_time": "2021-10-29T16:14:04.888Z"
   },
   {
    "duration": 12,
    "start_time": "2021-10-29T16:14:05.024Z"
   },
   {
    "duration": 17,
    "start_time": "2021-10-29T16:14:05.039Z"
   },
   {
    "duration": 25,
    "start_time": "2021-10-29T16:14:05.058Z"
   },
   {
    "duration": 10,
    "start_time": "2021-10-29T16:14:05.086Z"
   },
   {
    "duration": 13,
    "start_time": "2021-10-29T16:14:05.099Z"
   },
   {
    "duration": 17,
    "start_time": "2021-10-29T16:14:05.115Z"
   },
   {
    "duration": 18,
    "start_time": "2021-10-29T16:14:05.134Z"
   },
   {
    "duration": 989,
    "start_time": "2021-10-29T16:14:05.154Z"
   },
   {
    "duration": 9,
    "start_time": "2021-10-29T16:14:06.145Z"
   },
   {
    "duration": 11,
    "start_time": "2021-10-29T16:14:06.156Z"
   },
   {
    "duration": 2856,
    "start_time": "2021-10-29T16:14:06.170Z"
   },
   {
    "duration": -218,
    "start_time": "2021-10-29T16:14:09.246Z"
   },
   {
    "duration": -220,
    "start_time": "2021-10-29T16:14:09.250Z"
   },
   {
    "duration": -221,
    "start_time": "2021-10-29T16:14:09.252Z"
   },
   {
    "duration": -223,
    "start_time": "2021-10-29T16:14:09.255Z"
   },
   {
    "duration": -224,
    "start_time": "2021-10-29T16:14:09.258Z"
   },
   {
    "duration": -225,
    "start_time": "2021-10-29T16:14:09.260Z"
   },
   {
    "duration": 2956,
    "start_time": "2021-10-29T16:14:26.886Z"
   },
   {
    "duration": 17,
    "start_time": "2021-10-29T16:14:49.093Z"
   },
   {
    "duration": 2894,
    "start_time": "2021-10-29T16:15:22.741Z"
   },
   {
    "duration": 2929,
    "start_time": "2021-10-29T16:16:35.766Z"
   },
   {
    "duration": 7,
    "start_time": "2021-10-29T16:16:55.127Z"
   },
   {
    "duration": 16,
    "start_time": "2021-10-29T16:23:45.527Z"
   },
   {
    "duration": 6,
    "start_time": "2021-10-29T16:23:58.567Z"
   },
   {
    "duration": 20,
    "start_time": "2021-10-29T16:24:23.080Z"
   },
   {
    "duration": 6,
    "start_time": "2021-10-29T16:24:33.262Z"
   },
   {
    "duration": 21,
    "start_time": "2021-10-29T16:24:34.590Z"
   },
   {
    "duration": 6,
    "start_time": "2021-10-29T16:24:41.373Z"
   },
   {
    "duration": 19,
    "start_time": "2021-10-29T16:24:46.907Z"
   },
   {
    "duration": 20,
    "start_time": "2021-10-29T16:24:57.404Z"
   },
   {
    "duration": 27,
    "start_time": "2021-10-29T16:25:03.841Z"
   },
   {
    "duration": 92,
    "start_time": "2021-10-29T16:25:13.257Z"
   },
   {
    "duration": 23,
    "start_time": "2021-10-29T16:25:18.160Z"
   },
   {
    "duration": 13,
    "start_time": "2021-10-29T16:30:02.179Z"
   },
   {
    "duration": 13,
    "start_time": "2021-10-29T16:30:17.797Z"
   },
   {
    "duration": 15,
    "start_time": "2021-10-29T16:30:21.225Z"
   },
   {
    "duration": 67,
    "start_time": "2021-10-29T16:30:24.877Z"
   },
   {
    "duration": 41,
    "start_time": "2021-10-29T16:30:24.946Z"
   },
   {
    "duration": 13,
    "start_time": "2021-10-29T16:30:24.990Z"
   },
   {
    "duration": 24,
    "start_time": "2021-10-29T16:30:25.006Z"
   },
   {
    "duration": 3,
    "start_time": "2021-10-29T16:30:25.032Z"
   },
   {
    "duration": 58,
    "start_time": "2021-10-29T16:30:25.038Z"
   },
   {
    "duration": 16,
    "start_time": "2021-10-29T16:30:25.098Z"
   },
   {
    "duration": 26,
    "start_time": "2021-10-29T16:30:25.118Z"
   },
   {
    "duration": 50,
    "start_time": "2021-10-29T16:30:25.146Z"
   },
   {
    "duration": 26,
    "start_time": "2021-10-29T16:30:25.199Z"
   },
   {
    "duration": 13,
    "start_time": "2021-10-29T16:30:25.227Z"
   },
   {
    "duration": 43,
    "start_time": "2021-10-29T16:30:25.242Z"
   },
   {
    "duration": 13,
    "start_time": "2021-10-29T16:30:25.287Z"
   },
   {
    "duration": 474,
    "start_time": "2021-10-29T16:30:25.302Z"
   },
   {
    "duration": 8,
    "start_time": "2021-10-29T16:30:25.782Z"
   },
   {
    "duration": 17,
    "start_time": "2021-10-29T16:30:25.793Z"
   },
   {
    "duration": 277,
    "start_time": "2021-10-29T16:30:25.812Z"
   },
   {
    "duration": 24,
    "start_time": "2021-10-29T16:30:26.091Z"
   },
   {
    "duration": 8,
    "start_time": "2021-10-29T16:30:26.117Z"
   },
   {
    "duration": 16,
    "start_time": "2021-10-29T16:30:26.127Z"
   },
   {
    "duration": 43,
    "start_time": "2021-10-29T16:30:26.146Z"
   },
   {
    "duration": 424,
    "start_time": "2021-10-29T16:30:26.191Z"
   },
   {
    "duration": 20,
    "start_time": "2021-10-29T16:30:26.620Z"
   },
   {
    "duration": 463,
    "start_time": "2021-10-29T16:30:26.643Z"
   },
   {
    "duration": 14,
    "start_time": "2021-10-29T16:30:27.108Z"
   },
   {
    "duration": 21,
    "start_time": "2021-10-29T16:30:27.124Z"
   },
   {
    "duration": 74,
    "start_time": "2021-10-29T16:30:27.148Z"
   },
   {
    "duration": 13,
    "start_time": "2021-10-29T16:30:27.225Z"
   },
   {
    "duration": 5,
    "start_time": "2021-10-29T16:30:27.240Z"
   },
   {
    "duration": 35,
    "start_time": "2021-10-29T16:30:27.247Z"
   },
   {
    "duration": 18,
    "start_time": "2021-10-29T16:30:27.285Z"
   },
   {
    "duration": 34,
    "start_time": "2021-10-29T16:30:27.305Z"
   },
   {
    "duration": 47,
    "start_time": "2021-10-29T16:30:27.341Z"
   },
   {
    "duration": 39,
    "start_time": "2021-10-29T16:30:27.390Z"
   },
   {
    "duration": 12,
    "start_time": "2021-10-29T16:30:27.431Z"
   },
   {
    "duration": 42,
    "start_time": "2021-10-29T16:30:27.445Z"
   },
   {
    "duration": 8,
    "start_time": "2021-10-29T16:30:27.489Z"
   },
   {
    "duration": 7,
    "start_time": "2021-10-29T16:30:27.499Z"
   },
   {
    "duration": 5,
    "start_time": "2021-10-29T16:30:27.509Z"
   },
   {
    "duration": 14,
    "start_time": "2021-10-29T16:30:27.516Z"
   },
   {
    "duration": 12,
    "start_time": "2021-10-29T16:30:27.533Z"
   },
   {
    "duration": 1330,
    "start_time": "2021-10-29T16:30:27.582Z"
   },
   {
    "duration": 9,
    "start_time": "2021-10-29T16:30:28.914Z"
   },
   {
    "duration": 10,
    "start_time": "2021-10-29T16:30:28.925Z"
   },
   {
    "duration": 19,
    "start_time": "2021-10-29T16:30:28.937Z"
   },
   {
    "duration": 28,
    "start_time": "2021-10-29T16:30:28.958Z"
   },
   {
    "duration": 23,
    "start_time": "2021-10-29T16:30:28.988Z"
   },
   {
    "duration": 3,
    "start_time": "2021-10-29T16:30:29.013Z"
   },
   {
    "duration": 8,
    "start_time": "2021-10-29T16:30:29.018Z"
   },
   {
    "duration": 10,
    "start_time": "2021-10-29T16:30:29.028Z"
   },
   {
    "duration": 294,
    "start_time": "2021-10-29T16:30:29.040Z"
   },
   {
    "duration": -32,
    "start_time": "2021-10-29T16:30:29.369Z"
   },
   {
    "duration": 16,
    "start_time": "2021-10-29T16:32:23.515Z"
   },
   {
    "duration": 6,
    "start_time": "2021-10-29T16:32:48.725Z"
   },
   {
    "duration": 12,
    "start_time": "2021-10-29T16:33:00.842Z"
   },
   {
    "duration": 1562,
    "start_time": "2021-11-01T19:35:59.645Z"
   },
   {
    "duration": 13,
    "start_time": "2021-11-01T19:36:01.210Z"
   },
   {
    "duration": 16,
    "start_time": "2021-11-01T19:36:01.226Z"
   },
   {
    "duration": 23,
    "start_time": "2021-11-01T19:36:01.269Z"
   },
   {
    "duration": 7,
    "start_time": "2021-11-01T19:36:01.295Z"
   },
   {
    "duration": 20,
    "start_time": "2021-11-01T19:36:01.304Z"
   },
   {
    "duration": 40,
    "start_time": "2021-11-01T19:36:01.327Z"
   },
   {
    "duration": 37,
    "start_time": "2021-11-01T19:36:01.371Z"
   },
   {
    "duration": 22,
    "start_time": "2021-11-01T19:36:01.412Z"
   },
   {
    "duration": 52,
    "start_time": "2021-11-01T19:36:01.436Z"
   },
   {
    "duration": 13,
    "start_time": "2021-11-01T19:36:01.491Z"
   },
   {
    "duration": 12,
    "start_time": "2021-11-01T19:36:01.507Z"
   },
   {
    "duration": 18,
    "start_time": "2021-11-01T19:36:01.521Z"
   },
   {
    "duration": 520,
    "start_time": "2021-11-01T19:36:01.542Z"
   },
   {
    "duration": 8,
    "start_time": "2021-11-01T19:36:02.068Z"
   },
   {
    "duration": 19,
    "start_time": "2021-11-01T19:36:02.078Z"
   },
   {
    "duration": 293,
    "start_time": "2021-11-01T19:36:02.099Z"
   },
   {
    "duration": 22,
    "start_time": "2021-11-01T19:36:02.395Z"
   },
   {
    "duration": 13,
    "start_time": "2021-11-01T19:36:02.420Z"
   },
   {
    "duration": 34,
    "start_time": "2021-11-01T19:36:02.436Z"
   },
   {
    "duration": 12,
    "start_time": "2021-11-01T19:36:02.473Z"
   },
   {
    "duration": 429,
    "start_time": "2021-11-01T19:36:02.487Z"
   },
   {
    "duration": 19,
    "start_time": "2021-11-01T19:36:02.924Z"
   },
   {
    "duration": 438,
    "start_time": "2021-11-01T19:36:02.946Z"
   },
   {
    "duration": 16,
    "start_time": "2021-11-01T19:36:03.387Z"
   },
   {
    "duration": 25,
    "start_time": "2021-11-01T19:36:03.407Z"
   },
   {
    "duration": 93,
    "start_time": "2021-11-01T19:36:03.434Z"
   },
   {
    "duration": 37,
    "start_time": "2021-11-01T19:36:03.530Z"
   },
   {
    "duration": 4,
    "start_time": "2021-11-01T19:36:03.570Z"
   },
   {
    "duration": 12,
    "start_time": "2021-11-01T19:36:03.577Z"
   },
   {
    "duration": 30,
    "start_time": "2021-11-01T19:36:03.591Z"
   },
   {
    "duration": 51,
    "start_time": "2021-11-01T19:36:03.623Z"
   },
   {
    "duration": 12,
    "start_time": "2021-11-01T19:36:03.677Z"
   },
   {
    "duration": 122,
    "start_time": "2021-11-01T19:36:03.691Z"
   },
   {
    "duration": 12,
    "start_time": "2021-11-01T19:36:03.815Z"
   },
   {
    "duration": 14,
    "start_time": "2021-11-01T19:36:03.829Z"
   },
   {
    "duration": 29,
    "start_time": "2021-11-01T19:36:03.845Z"
   },
   {
    "duration": 13,
    "start_time": "2021-11-01T19:36:03.876Z"
   },
   {
    "duration": 13,
    "start_time": "2021-11-01T19:36:03.892Z"
   },
   {
    "duration": 17,
    "start_time": "2021-11-01T19:36:03.908Z"
   },
   {
    "duration": 18,
    "start_time": "2021-11-01T19:36:03.927Z"
   },
   {
    "duration": 922,
    "start_time": "2021-11-01T19:36:03.947Z"
   },
   {
    "duration": 9,
    "start_time": "2021-11-01T19:36:04.871Z"
   },
   {
    "duration": 10,
    "start_time": "2021-11-01T19:36:04.883Z"
   },
   {
    "duration": 17,
    "start_time": "2021-11-01T19:36:04.895Z"
   },
   {
    "duration": 19,
    "start_time": "2021-11-01T19:36:04.914Z"
   },
   {
    "duration": 2,
    "start_time": "2021-11-01T19:36:04.968Z"
   },
   {
    "duration": 8,
    "start_time": "2021-11-01T19:36:04.972Z"
   },
   {
    "duration": 6,
    "start_time": "2021-11-01T19:36:04.982Z"
   },
   {
    "duration": 503,
    "start_time": "2021-11-01T19:36:04.991Z"
   },
   {
    "duration": -274,
    "start_time": "2021-11-01T19:36:05.770Z"
   },
   {
    "duration": 31,
    "start_time": "2021-11-01T19:37:16.137Z"
   },
   {
    "duration": 17,
    "start_time": "2021-11-01T19:37:39.166Z"
   },
   {
    "duration": 58,
    "start_time": "2021-11-01T19:37:54.214Z"
   },
   {
    "duration": 11,
    "start_time": "2021-11-01T19:37:54.275Z"
   },
   {
    "duration": 13,
    "start_time": "2021-11-01T19:37:54.290Z"
   },
   {
    "duration": 75,
    "start_time": "2021-11-01T19:37:54.306Z"
   },
   {
    "duration": 3,
    "start_time": "2021-11-01T19:37:54.383Z"
   },
   {
    "duration": 22,
    "start_time": "2021-11-01T19:37:54.389Z"
   },
   {
    "duration": 15,
    "start_time": "2021-11-01T19:37:54.414Z"
   },
   {
    "duration": 56,
    "start_time": "2021-11-01T19:37:54.433Z"
   },
   {
    "duration": 20,
    "start_time": "2021-11-01T19:37:54.492Z"
   },
   {
    "duration": 25,
    "start_time": "2021-11-01T19:37:54.514Z"
   },
   {
    "duration": 13,
    "start_time": "2021-11-01T19:37:54.568Z"
   },
   {
    "duration": 12,
    "start_time": "2021-11-01T19:37:54.583Z"
   },
   {
    "duration": 13,
    "start_time": "2021-11-01T19:37:54.597Z"
   },
   {
    "duration": 507,
    "start_time": "2021-11-01T19:37:54.612Z"
   },
   {
    "duration": 9,
    "start_time": "2021-11-01T19:37:55.121Z"
   },
   {
    "duration": 13,
    "start_time": "2021-11-01T19:37:55.132Z"
   },
   {
    "duration": 286,
    "start_time": "2021-11-01T19:37:55.169Z"
   },
   {
    "duration": 29,
    "start_time": "2021-11-01T19:37:55.457Z"
   },
   {
    "duration": 8,
    "start_time": "2021-11-01T19:37:55.489Z"
   },
   {
    "duration": 16,
    "start_time": "2021-11-01T19:37:55.499Z"
   },
   {
    "duration": 12,
    "start_time": "2021-11-01T19:37:55.518Z"
   },
   {
    "duration": 473,
    "start_time": "2021-11-01T19:37:55.533Z"
   },
   {
    "duration": 21,
    "start_time": "2021-11-01T19:37:56.011Z"
   },
   {
    "duration": 459,
    "start_time": "2021-11-01T19:37:56.036Z"
   },
   {
    "duration": 15,
    "start_time": "2021-11-01T19:37:56.498Z"
   },
   {
    "duration": 22,
    "start_time": "2021-11-01T19:37:56.515Z"
   },
   {
    "duration": 80,
    "start_time": "2021-11-01T19:37:56.540Z"
   },
   {
    "duration": 13,
    "start_time": "2021-11-01T19:37:56.623Z"
   },
   {
    "duration": 6,
    "start_time": "2021-11-01T19:37:56.667Z"
   },
   {
    "duration": 11,
    "start_time": "2021-11-01T19:37:56.676Z"
   },
   {
    "duration": 24,
    "start_time": "2021-11-01T19:37:56.689Z"
   },
   {
    "duration": 66,
    "start_time": "2021-11-01T19:37:56.716Z"
   },
   {
    "duration": 11,
    "start_time": "2021-11-01T19:37:56.785Z"
   },
   {
    "duration": 138,
    "start_time": "2021-11-01T19:37:56.798Z"
   },
   {
    "duration": 11,
    "start_time": "2021-11-01T19:37:56.939Z"
   },
   {
    "duration": 20,
    "start_time": "2021-11-01T19:37:56.953Z"
   },
   {
    "duration": 9,
    "start_time": "2021-11-01T19:37:56.975Z"
   },
   {
    "duration": 10,
    "start_time": "2021-11-01T19:37:56.987Z"
   },
   {
    "duration": 10,
    "start_time": "2021-11-01T19:37:56.999Z"
   },
   {
    "duration": 18,
    "start_time": "2021-11-01T19:37:57.011Z"
   },
   {
    "duration": 46,
    "start_time": "2021-11-01T19:37:57.031Z"
   },
   {
    "duration": 747,
    "start_time": "2021-11-01T19:37:57.079Z"
   },
   {
    "duration": 8,
    "start_time": "2021-11-01T19:37:57.829Z"
   },
   {
    "duration": 8,
    "start_time": "2021-11-01T19:37:57.839Z"
   },
   {
    "duration": 18,
    "start_time": "2021-11-01T19:37:57.849Z"
   },
   {
    "duration": 11,
    "start_time": "2021-11-01T19:37:57.869Z"
   },
   {
    "duration": 2,
    "start_time": "2021-11-01T19:37:57.883Z"
   },
   {
    "duration": 7,
    "start_time": "2021-11-01T19:37:57.888Z"
   },
   {
    "duration": 11,
    "start_time": "2021-11-01T19:37:57.897Z"
   },
   {
    "duration": 296,
    "start_time": "2021-11-01T19:37:57.911Z"
   },
   {
    "duration": -42,
    "start_time": "2021-11-01T19:37:58.252Z"
   },
   {
    "duration": 9,
    "start_time": "2021-11-01T19:40:51.225Z"
   },
   {
    "duration": 10,
    "start_time": "2021-11-01T19:40:54.578Z"
   },
   {
    "duration": 8,
    "start_time": "2021-11-01T19:41:51.605Z"
   },
   {
    "duration": 6,
    "start_time": "2021-11-01T19:41:55.498Z"
   },
   {
    "duration": 7,
    "start_time": "2021-11-01T19:42:13.072Z"
   },
   {
    "duration": 7,
    "start_time": "2021-11-01T19:42:15.555Z"
   },
   {
    "duration": 431,
    "start_time": "2021-11-01T19:54:03.286Z"
   },
   {
    "duration": 159,
    "start_time": "2021-11-01T19:56:42.957Z"
   },
   {
    "duration": 254,
    "start_time": "2021-11-01T19:57:36.598Z"
   },
   {
    "duration": 261,
    "start_time": "2021-11-01T19:57:48.747Z"
   },
   {
    "duration": 274,
    "start_time": "2021-11-01T19:59:09.433Z"
   },
   {
    "duration": 303,
    "start_time": "2021-11-01T20:05:00.547Z"
   },
   {
    "duration": 298,
    "start_time": "2021-11-01T20:08:05.757Z"
   },
   {
    "duration": 261,
    "start_time": "2021-11-01T20:08:14.760Z"
   },
   {
    "duration": 263,
    "start_time": "2021-11-01T20:08:36.829Z"
   },
   {
    "duration": 297,
    "start_time": "2021-11-01T20:13:45.867Z"
   },
   {
    "duration": 7,
    "start_time": "2021-11-01T20:13:54.968Z"
   },
   {
    "duration": 10,
    "start_time": "2021-11-01T20:14:08.690Z"
   },
   {
    "duration": 7,
    "start_time": "2021-11-01T20:15:05.281Z"
   },
   {
    "duration": 57,
    "start_time": "2021-11-01T20:15:37.154Z"
   },
   {
    "duration": 14,
    "start_time": "2021-11-01T20:15:37.213Z"
   },
   {
    "duration": 18,
    "start_time": "2021-11-01T20:15:37.270Z"
   },
   {
    "duration": 26,
    "start_time": "2021-11-01T20:15:37.291Z"
   },
   {
    "duration": 5,
    "start_time": "2021-11-01T20:15:37.320Z"
   },
   {
    "duration": 18,
    "start_time": "2021-11-01T20:15:37.368Z"
   },
   {
    "duration": 18,
    "start_time": "2021-11-01T20:15:37.389Z"
   },
   {
    "duration": 64,
    "start_time": "2021-11-01T20:15:37.413Z"
   },
   {
    "duration": 23,
    "start_time": "2021-11-01T20:15:37.480Z"
   },
   {
    "duration": 29,
    "start_time": "2021-11-01T20:15:37.506Z"
   },
   {
    "duration": 14,
    "start_time": "2021-11-01T20:15:37.568Z"
   },
   {
    "duration": 283,
    "start_time": "2021-11-01T20:15:37.584Z"
   },
   {
    "duration": 5,
    "start_time": "2021-11-01T20:15:37.869Z"
   },
   {
    "duration": 298,
    "start_time": "2021-11-01T20:15:37.876Z"
   },
   {
    "duration": -70,
    "start_time": "2021-11-01T20:15:38.248Z"
   },
   {
    "duration": -72,
    "start_time": "2021-11-01T20:15:38.251Z"
   },
   {
    "duration": -74,
    "start_time": "2021-11-01T20:15:38.254Z"
   },
   {
    "duration": -74,
    "start_time": "2021-11-01T20:15:38.256Z"
   },
   {
    "duration": -76,
    "start_time": "2021-11-01T20:15:38.259Z"
   },
   {
    "duration": -77,
    "start_time": "2021-11-01T20:15:38.261Z"
   },
   {
    "duration": -79,
    "start_time": "2021-11-01T20:15:38.264Z"
   },
   {
    "duration": -79,
    "start_time": "2021-11-01T20:15:38.266Z"
   },
   {
    "duration": -81,
    "start_time": "2021-11-01T20:15:38.269Z"
   },
   {
    "duration": -82,
    "start_time": "2021-11-01T20:15:38.271Z"
   },
   {
    "duration": -83,
    "start_time": "2021-11-01T20:15:38.273Z"
   },
   {
    "duration": -84,
    "start_time": "2021-11-01T20:15:38.275Z"
   },
   {
    "duration": -84,
    "start_time": "2021-11-01T20:15:38.277Z"
   },
   {
    "duration": -85,
    "start_time": "2021-11-01T20:15:38.279Z"
   },
   {
    "duration": -97,
    "start_time": "2021-11-01T20:15:38.292Z"
   },
   {
    "duration": -98,
    "start_time": "2021-11-01T20:15:38.294Z"
   },
   {
    "duration": -101,
    "start_time": "2021-11-01T20:15:38.298Z"
   },
   {
    "duration": -101,
    "start_time": "2021-11-01T20:15:38.300Z"
   },
   {
    "duration": -104,
    "start_time": "2021-11-01T20:15:38.304Z"
   },
   {
    "duration": -110,
    "start_time": "2021-11-01T20:15:38.311Z"
   },
   {
    "duration": -111,
    "start_time": "2021-11-01T20:15:38.314Z"
   },
   {
    "duration": -112,
    "start_time": "2021-11-01T20:15:38.316Z"
   },
   {
    "duration": -114,
    "start_time": "2021-11-01T20:15:38.319Z"
   },
   {
    "duration": -120,
    "start_time": "2021-11-01T20:15:38.327Z"
   },
   {
    "duration": -122,
    "start_time": "2021-11-01T20:15:38.330Z"
   },
   {
    "duration": -123,
    "start_time": "2021-11-01T20:15:38.332Z"
   },
   {
    "duration": -124,
    "start_time": "2021-11-01T20:15:38.335Z"
   },
   {
    "duration": -125,
    "start_time": "2021-11-01T20:15:38.337Z"
   },
   {
    "duration": -72,
    "start_time": "2021-11-01T20:15:38.340Z"
   },
   {
    "duration": -74,
    "start_time": "2021-11-01T20:15:38.343Z"
   },
   {
    "duration": -74,
    "start_time": "2021-11-01T20:15:38.345Z"
   },
   {
    "duration": -81,
    "start_time": "2021-11-01T20:15:38.353Z"
   },
   {
    "duration": -83,
    "start_time": "2021-11-01T20:15:38.356Z"
   },
   {
    "duration": -84,
    "start_time": "2021-11-01T20:15:38.359Z"
   },
   {
    "duration": -85,
    "start_time": "2021-11-01T20:15:38.362Z"
   },
   {
    "duration": -89,
    "start_time": "2021-11-01T20:15:38.368Z"
   },
   {
    "duration": -90,
    "start_time": "2021-11-01T20:15:38.371Z"
   },
   {
    "duration": 7,
    "start_time": "2021-11-01T20:16:06.619Z"
   },
   {
    "duration": 7,
    "start_time": "2021-11-01T20:16:11.172Z"
   },
   {
    "duration": 288,
    "start_time": "2021-11-01T20:16:54.395Z"
   },
   {
    "duration": 7,
    "start_time": "2021-11-01T20:17:37.572Z"
   },
   {
    "duration": 407,
    "start_time": "2021-11-01T20:17:39.733Z"
   },
   {
    "duration": 9,
    "start_time": "2021-11-01T20:17:57.912Z"
   },
   {
    "duration": 313,
    "start_time": "2021-11-01T20:18:00.151Z"
   },
   {
    "duration": 124,
    "start_time": "2021-11-02T13:11:05.908Z"
   },
   {
    "duration": 1604,
    "start_time": "2021-11-02T13:11:11.147Z"
   },
   {
    "duration": 13,
    "start_time": "2021-11-02T13:11:12.754Z"
   },
   {
    "duration": 32,
    "start_time": "2021-11-02T13:11:12.770Z"
   },
   {
    "duration": 22,
    "start_time": "2021-11-02T13:11:12.805Z"
   },
   {
    "duration": 3,
    "start_time": "2021-11-02T13:11:12.829Z"
   },
   {
    "duration": 19,
    "start_time": "2021-11-02T13:11:12.834Z"
   },
   {
    "duration": 56,
    "start_time": "2021-11-02T13:11:12.855Z"
   },
   {
    "duration": 27,
    "start_time": "2021-11-02T13:11:12.915Z"
   },
   {
    "duration": 21,
    "start_time": "2021-11-02T13:11:12.945Z"
   },
   {
    "duration": 55,
    "start_time": "2021-11-02T13:11:12.969Z"
   },
   {
    "duration": 16,
    "start_time": "2021-11-02T13:11:13.027Z"
   },
   {
    "duration": 298,
    "start_time": "2021-11-02T13:11:13.046Z"
   },
   {
    "duration": 130,
    "start_time": "2021-11-02T13:11:13.347Z"
   },
   {
    "duration": -41,
    "start_time": "2021-11-02T13:11:13.522Z"
   },
   {
    "duration": -58,
    "start_time": "2021-11-02T13:11:13.540Z"
   },
   {
    "duration": -61,
    "start_time": "2021-11-02T13:11:13.544Z"
   },
   {
    "duration": -62,
    "start_time": "2021-11-02T13:11:13.547Z"
   },
   {
    "duration": -69,
    "start_time": "2021-11-02T13:11:13.555Z"
   },
   {
    "duration": -72,
    "start_time": "2021-11-02T13:11:13.559Z"
   },
   {
    "duration": -72,
    "start_time": "2021-11-02T13:11:13.561Z"
   },
   {
    "duration": -74,
    "start_time": "2021-11-02T13:11:13.564Z"
   },
   {
    "duration": -76,
    "start_time": "2021-11-02T13:11:13.567Z"
   },
   {
    "duration": -77,
    "start_time": "2021-11-02T13:11:13.570Z"
   },
   {
    "duration": -79,
    "start_time": "2021-11-02T13:11:13.573Z"
   },
   {
    "duration": -81,
    "start_time": "2021-11-02T13:11:13.576Z"
   },
   {
    "duration": -83,
    "start_time": "2021-11-02T13:11:13.579Z"
   },
   {
    "duration": -91,
    "start_time": "2021-11-02T13:11:13.588Z"
   },
   {
    "duration": -92,
    "start_time": "2021-11-02T13:11:13.591Z"
   },
   {
    "duration": -93,
    "start_time": "2021-11-02T13:11:13.593Z"
   },
   {
    "duration": -95,
    "start_time": "2021-11-02T13:11:13.596Z"
   },
   {
    "duration": -96,
    "start_time": "2021-11-02T13:11:13.598Z"
   },
   {
    "duration": -97,
    "start_time": "2021-11-02T13:11:13.600Z"
   },
   {
    "duration": -98,
    "start_time": "2021-11-02T13:11:13.603Z"
   },
   {
    "duration": -105,
    "start_time": "2021-11-02T13:11:13.611Z"
   },
   {
    "duration": -107,
    "start_time": "2021-11-02T13:11:13.614Z"
   },
   {
    "duration": -127,
    "start_time": "2021-11-02T13:11:13.635Z"
   },
   {
    "duration": -134,
    "start_time": "2021-11-02T13:11:13.643Z"
   },
   {
    "duration": -140,
    "start_time": "2021-11-02T13:11:13.651Z"
   },
   {
    "duration": -142,
    "start_time": "2021-11-02T13:11:13.654Z"
   },
   {
    "duration": -153,
    "start_time": "2021-11-02T13:11:13.666Z"
   },
   {
    "duration": -160,
    "start_time": "2021-11-02T13:11:13.674Z"
   },
   {
    "duration": -161,
    "start_time": "2021-11-02T13:11:13.677Z"
   },
   {
    "duration": -177,
    "start_time": "2021-11-02T13:11:13.694Z"
   },
   {
    "duration": -178,
    "start_time": "2021-11-02T13:11:13.696Z"
   },
   {
    "duration": -179,
    "start_time": "2021-11-02T13:11:13.699Z"
   },
   {
    "duration": -193,
    "start_time": "2021-11-02T13:11:13.714Z"
   },
   {
    "duration": -195,
    "start_time": "2021-11-02T13:11:13.717Z"
   },
   {
    "duration": -196,
    "start_time": "2021-11-02T13:11:13.720Z"
   },
   {
    "duration": -202,
    "start_time": "2021-11-02T13:11:13.727Z"
   },
   {
    "duration": -202,
    "start_time": "2021-11-02T13:11:13.729Z"
   },
   {
    "duration": -204,
    "start_time": "2021-11-02T13:11:13.732Z"
   },
   {
    "duration": 7,
    "start_time": "2021-11-02T13:11:34.361Z"
   },
   {
    "duration": 508,
    "start_time": "2021-11-02T13:11:37.283Z"
   },
   {
    "duration": 13,
    "start_time": "2021-11-02T13:12:06.007Z"
   },
   {
    "duration": 409,
    "start_time": "2021-11-02T13:12:08.967Z"
   },
   {
    "duration": 9,
    "start_time": "2021-11-02T13:12:35.898Z"
   },
   {
    "duration": 485,
    "start_time": "2021-11-02T13:12:36.910Z"
   },
   {
    "duration": 61,
    "start_time": "2021-11-02T13:13:41.895Z"
   },
   {
    "duration": 11,
    "start_time": "2021-11-02T13:13:41.959Z"
   },
   {
    "duration": 14,
    "start_time": "2021-11-02T13:13:42.002Z"
   },
   {
    "duration": 24,
    "start_time": "2021-11-02T13:13:42.019Z"
   },
   {
    "duration": 3,
    "start_time": "2021-11-02T13:13:42.046Z"
   },
   {
    "duration": 54,
    "start_time": "2021-11-02T13:13:42.051Z"
   },
   {
    "duration": 18,
    "start_time": "2021-11-02T13:13:42.107Z"
   },
   {
    "duration": 28,
    "start_time": "2021-11-02T13:13:42.129Z"
   },
   {
    "duration": 50,
    "start_time": "2021-11-02T13:13:42.159Z"
   },
   {
    "duration": 27,
    "start_time": "2021-11-02T13:13:42.211Z"
   },
   {
    "duration": 13,
    "start_time": "2021-11-02T13:13:42.242Z"
   },
   {
    "duration": 296,
    "start_time": "2021-11-02T13:13:42.258Z"
   },
   {
    "duration": 9,
    "start_time": "2021-11-02T13:13:42.556Z"
   },
   {
    "duration": 497,
    "start_time": "2021-11-02T13:13:42.568Z"
   },
   {
    "duration": 314,
    "start_time": "2021-11-02T13:13:43.067Z"
   },
   {
    "duration": 17,
    "start_time": "2021-11-02T13:13:43.384Z"
   },
   {
    "duration": 348,
    "start_time": "2021-11-02T13:13:43.404Z"
   },
   {
    "duration": 23,
    "start_time": "2021-11-02T13:13:43.755Z"
   },
   {
    "duration": 23,
    "start_time": "2021-11-02T13:13:43.780Z"
   },
   {
    "duration": 20,
    "start_time": "2021-11-02T13:13:43.806Z"
   },
   {
    "duration": 21,
    "start_time": "2021-11-02T13:13:43.829Z"
   },
   {
    "duration": 453,
    "start_time": "2021-11-02T13:13:43.853Z"
   },
   {
    "duration": 20,
    "start_time": "2021-11-02T13:13:44.312Z"
   },
   {
    "duration": 434,
    "start_time": "2021-11-02T13:13:44.335Z"
   },
   {
    "duration": 14,
    "start_time": "2021-11-02T13:13:44.772Z"
   },
   {
    "duration": 33,
    "start_time": "2021-11-02T13:13:44.788Z"
   },
   {
    "duration": 52,
    "start_time": "2021-11-02T13:13:44.824Z"
   },
   {
    "duration": 13,
    "start_time": "2021-11-02T13:13:44.901Z"
   },
   {
    "duration": 7,
    "start_time": "2021-11-02T13:13:44.917Z"
   },
   {
    "duration": 15,
    "start_time": "2021-11-02T13:13:44.926Z"
   },
   {
    "duration": 22,
    "start_time": "2021-11-02T13:13:44.943Z"
   },
   {
    "duration": 69,
    "start_time": "2021-11-02T13:13:44.968Z"
   },
   {
    "duration": 13,
    "start_time": "2021-11-02T13:13:45.039Z"
   },
   {
    "duration": 63,
    "start_time": "2021-11-02T13:13:45.054Z"
   },
   {
    "duration": 12,
    "start_time": "2021-11-02T13:13:45.120Z"
   },
   {
    "duration": 16,
    "start_time": "2021-11-02T13:13:45.135Z"
   },
   {
    "duration": 10,
    "start_time": "2021-11-02T13:13:45.153Z"
   },
   {
    "duration": 36,
    "start_time": "2021-11-02T13:13:45.166Z"
   },
   {
    "duration": 10,
    "start_time": "2021-11-02T13:13:45.205Z"
   },
   {
    "duration": 15,
    "start_time": "2021-11-02T13:13:45.217Z"
   },
   {
    "duration": 15,
    "start_time": "2021-11-02T13:13:45.234Z"
   },
   {
    "duration": 1283,
    "start_time": "2021-11-02T13:13:45.252Z"
   },
   {
    "duration": 8,
    "start_time": "2021-11-02T13:13:46.538Z"
   },
   {
    "duration": 8,
    "start_time": "2021-11-02T13:13:46.548Z"
   },
   {
    "duration": 17,
    "start_time": "2021-11-02T13:13:46.558Z"
   },
   {
    "duration": 30,
    "start_time": "2021-11-02T13:13:46.578Z"
   },
   {
    "duration": 4,
    "start_time": "2021-11-02T13:13:46.610Z"
   },
   {
    "duration": 6,
    "start_time": "2021-11-02T13:13:46.616Z"
   },
   {
    "duration": 5,
    "start_time": "2021-11-02T13:13:46.624Z"
   },
   {
    "duration": 404,
    "start_time": "2021-11-02T13:13:46.632Z"
   },
   {
    "duration": -42,
    "start_time": "2021-11-02T13:13:47.080Z"
   },
   {
    "duration": 462,
    "start_time": "2021-11-02T13:19:27.593Z"
   },
   {
    "duration": 400,
    "start_time": "2021-11-02T13:20:32.518Z"
   },
   {
    "duration": 13,
    "start_time": "2021-11-02T13:21:37.786Z"
   },
   {
    "duration": 121,
    "start_time": "2021-11-02T13:22:13.713Z"
   },
   {
    "duration": 238,
    "start_time": "2021-11-02T13:22:42.366Z"
   },
   {
    "duration": 231,
    "start_time": "2021-11-02T13:22:49.532Z"
   },
   {
    "duration": 243,
    "start_time": "2021-11-02T13:23:07.881Z"
   },
   {
    "duration": 263,
    "start_time": "2021-11-02T13:23:22.925Z"
   },
   {
    "duration": 304,
    "start_time": "2021-11-02T14:47:59.552Z"
   },
   {
    "duration": 301,
    "start_time": "2021-11-02T14:48:08.023Z"
   },
   {
    "duration": 305,
    "start_time": "2021-11-02T14:48:15.854Z"
   },
   {
    "duration": 315,
    "start_time": "2021-11-02T14:48:21.579Z"
   },
   {
    "duration": 5,
    "start_time": "2021-11-02T14:59:10.414Z"
   },
   {
    "duration": 306,
    "start_time": "2021-11-02T14:59:37.263Z"
   },
   {
    "duration": 7,
    "start_time": "2021-11-02T14:59:53.794Z"
   },
   {
    "duration": 10,
    "start_time": "2021-11-02T15:00:19.819Z"
   },
   {
    "duration": 10545,
    "start_time": "2021-11-02T15:13:12.242Z"
   },
   {
    "duration": 10995,
    "start_time": "2021-11-02T15:14:32.355Z"
   },
   {
    "duration": 392,
    "start_time": "2021-11-02T15:15:19.167Z"
   },
   {
    "duration": 12,
    "start_time": "2021-11-02T15:15:25.881Z"
   },
   {
    "duration": 10984,
    "start_time": "2021-11-02T15:15:43.591Z"
   },
   {
    "duration": 11669,
    "start_time": "2021-11-02T15:21:05.759Z"
   },
   {
    "duration": 10615,
    "start_time": "2021-11-02T15:21:48.015Z"
   },
   {
    "duration": 413,
    "start_time": "2021-11-02T15:34:55.559Z"
   },
   {
    "duration": 8,
    "start_time": "2021-11-02T15:35:17.903Z"
   },
   {
    "duration": 12,
    "start_time": "2021-11-02T15:35:43.543Z"
   },
   {
    "duration": 18,
    "start_time": "2021-11-02T15:36:15.279Z"
   },
   {
    "duration": 7,
    "start_time": "2021-11-02T15:36:52.054Z"
   },
   {
    "duration": 13,
    "start_time": "2021-11-02T15:36:59.785Z"
   },
   {
    "duration": 10,
    "start_time": "2021-11-02T15:37:01.358Z"
   },
   {
    "duration": 382,
    "start_time": "2021-11-02T15:38:39.348Z"
   },
   {
    "duration": 369,
    "start_time": "2021-11-02T15:40:19.884Z"
   },
   {
    "duration": 418,
    "start_time": "2021-11-02T15:41:15.836Z"
   },
   {
    "duration": 425,
    "start_time": "2021-11-02T15:41:32.361Z"
   },
   {
    "duration": 438,
    "start_time": "2021-11-02T15:42:00.194Z"
   },
   {
    "duration": 384,
    "start_time": "2021-11-02T15:43:28.485Z"
   },
   {
    "duration": 381,
    "start_time": "2021-11-02T15:44:50.838Z"
   },
   {
    "duration": 286,
    "start_time": "2021-11-02T15:48:42.934Z"
   },
   {
    "duration": 376,
    "start_time": "2021-11-02T15:48:57.785Z"
   },
   {
    "duration": 399,
    "start_time": "2021-11-02T15:49:11.206Z"
   },
   {
    "duration": 368,
    "start_time": "2021-11-02T15:49:17.741Z"
   },
   {
    "duration": 409,
    "start_time": "2021-11-02T15:51:19.727Z"
   },
   {
    "duration": 375,
    "start_time": "2021-11-02T16:14:20.343Z"
   },
   {
    "duration": 11,
    "start_time": "2021-11-02T16:14:46.059Z"
   },
   {
    "duration": 5,
    "start_time": "2021-11-02T16:15:39.329Z"
   },
   {
    "duration": 390,
    "start_time": "2021-11-02T16:15:47.181Z"
   },
   {
    "duration": 14,
    "start_time": "2021-11-02T16:16:15.487Z"
   },
   {
    "duration": 18,
    "start_time": "2021-11-02T16:17:09.605Z"
   },
   {
    "duration": 380,
    "start_time": "2021-11-02T16:17:38.849Z"
   },
   {
    "duration": 20,
    "start_time": "2021-11-02T16:17:54.104Z"
   },
   {
    "duration": 11,
    "start_time": "2021-11-02T16:18:57.397Z"
   },
   {
    "duration": 70,
    "start_time": "2021-11-02T16:19:03.595Z"
   },
   {
    "duration": 12,
    "start_time": "2021-11-02T16:19:03.701Z"
   },
   {
    "duration": 17,
    "start_time": "2021-11-02T16:19:03.716Z"
   },
   {
    "duration": 24,
    "start_time": "2021-11-02T16:19:03.736Z"
   },
   {
    "duration": 40,
    "start_time": "2021-11-02T16:19:03.762Z"
   },
   {
    "duration": 22,
    "start_time": "2021-11-02T16:19:03.804Z"
   },
   {
    "duration": 22,
    "start_time": "2021-11-02T16:19:03.829Z"
   },
   {
    "duration": 50,
    "start_time": "2021-11-02T16:19:03.855Z"
   },
   {
    "duration": 21,
    "start_time": "2021-11-02T16:19:03.908Z"
   },
   {
    "duration": 31,
    "start_time": "2021-11-02T16:19:03.931Z"
   },
   {
    "duration": 44,
    "start_time": "2021-11-02T16:19:03.964Z"
   },
   {
    "duration": 280,
    "start_time": "2021-11-02T16:19:04.010Z"
   },
   {
    "duration": 9,
    "start_time": "2021-11-02T16:19:04.300Z"
   },
   {
    "duration": 502,
    "start_time": "2021-11-02T16:19:04.312Z"
   },
   {
    "duration": 301,
    "start_time": "2021-11-02T16:19:04.817Z"
   },
   {
    "duration": 9,
    "start_time": "2021-11-02T16:19:05.120Z"
   },
   {
    "duration": 300,
    "start_time": "2021-11-02T16:19:05.131Z"
   },
   {
    "duration": 23,
    "start_time": "2021-11-02T16:19:05.433Z"
   },
   {
    "duration": 7,
    "start_time": "2021-11-02T16:19:05.459Z"
   },
   {
    "duration": 37,
    "start_time": "2021-11-02T16:19:05.469Z"
   },
   {
    "duration": 325,
    "start_time": "2021-11-02T16:19:05.508Z"
   },
   {
    "duration": 5,
    "start_time": "2021-11-02T16:19:05.836Z"
   },
   {
    "duration": 12,
    "start_time": "2021-11-02T16:19:05.848Z"
   },
   {
    "duration": 44,
    "start_time": "2021-11-02T16:19:05.863Z"
   },
   {
    "duration": 16,
    "start_time": "2021-11-02T16:19:05.910Z"
   },
   {
    "duration": 436,
    "start_time": "2021-11-02T16:19:05.928Z"
   },
   {
    "duration": 20,
    "start_time": "2021-11-02T16:19:06.366Z"
   },
   {
    "duration": 410,
    "start_time": "2021-11-02T16:19:06.400Z"
   },
   {
    "duration": 15,
    "start_time": "2021-11-02T16:19:06.812Z"
   },
   {
    "duration": 26,
    "start_time": "2021-11-02T16:19:06.829Z"
   },
   {
    "duration": 87,
    "start_time": "2021-11-02T16:19:06.858Z"
   },
   {
    "duration": 15,
    "start_time": "2021-11-02T16:19:06.948Z"
   },
   {
    "duration": 5,
    "start_time": "2021-11-02T16:19:06.966Z"
   },
   {
    "duration": 9,
    "start_time": "2021-11-02T16:19:07.002Z"
   },
   {
    "duration": 19,
    "start_time": "2021-11-02T16:19:07.014Z"
   },
   {
    "duration": 64,
    "start_time": "2021-11-02T16:19:07.036Z"
   },
   {
    "duration": 13,
    "start_time": "2021-11-02T16:19:07.103Z"
   },
   {
    "duration": 390,
    "start_time": "2021-11-02T16:19:07.118Z"
   },
   {
    "duration": 12,
    "start_time": "2021-11-02T16:19:07.511Z"
   },
   {
    "duration": 14,
    "start_time": "2021-11-02T16:19:07.525Z"
   },
   {
    "duration": 11,
    "start_time": "2021-11-02T16:19:07.541Z"
   },
   {
    "duration": 9,
    "start_time": "2021-11-02T16:19:07.555Z"
   },
   {
    "duration": 35,
    "start_time": "2021-11-02T16:19:07.567Z"
   },
   {
    "duration": 18,
    "start_time": "2021-11-02T16:19:07.605Z"
   },
   {
    "duration": 13,
    "start_time": "2021-11-02T16:19:07.625Z"
   },
   {
    "duration": 929,
    "start_time": "2021-11-02T16:19:07.640Z"
   },
   {
    "duration": 9,
    "start_time": "2021-11-02T16:19:08.571Z"
   },
   {
    "duration": 8,
    "start_time": "2021-11-02T16:19:08.582Z"
   },
   {
    "duration": 17,
    "start_time": "2021-11-02T16:19:08.593Z"
   },
   {
    "duration": 12,
    "start_time": "2021-11-02T16:19:08.612Z"
   },
   {
    "duration": 3,
    "start_time": "2021-11-02T16:19:08.627Z"
   },
   {
    "duration": 6,
    "start_time": "2021-11-02T16:19:08.632Z"
   },
   {
    "duration": 6,
    "start_time": "2021-11-02T16:19:08.641Z"
   },
   {
    "duration": 396,
    "start_time": "2021-11-02T16:19:08.650Z"
   },
   {
    "duration": -53,
    "start_time": "2021-11-02T16:19:09.101Z"
   },
   {
    "duration": 387,
    "start_time": "2021-11-02T16:20:16.406Z"
   },
   {
    "duration": 14,
    "start_time": "2021-11-02T16:21:02.337Z"
   },
   {
    "duration": 15,
    "start_time": "2021-11-02T16:21:05.908Z"
   },
   {
    "duration": 301,
    "start_time": "2021-11-02T16:29:46.524Z"
   },
   {
    "duration": 736,
    "start_time": "2021-11-02T16:32:35.714Z"
   },
   {
    "duration": 524,
    "start_time": "2021-11-02T16:32:56.303Z"
   },
   {
    "duration": 454,
    "start_time": "2021-11-02T16:38:01.514Z"
   },
   {
    "duration": 449,
    "start_time": "2021-11-02T16:38:31.968Z"
   },
   {
    "duration": 451,
    "start_time": "2021-11-02T16:38:57.585Z"
   },
   {
    "duration": 366,
    "start_time": "2021-11-02T16:43:17.607Z"
   },
   {
    "duration": 14,
    "start_time": "2021-11-02T16:44:09.796Z"
   },
   {
    "duration": 481,
    "start_time": "2021-11-02T16:45:19.095Z"
   },
   {
    "duration": 122,
    "start_time": "2021-11-02T16:45:27.206Z"
   },
   {
    "duration": 373,
    "start_time": "2021-11-02T16:45:37.130Z"
   },
   {
    "duration": 5,
    "start_time": "2021-11-02T16:45:49.820Z"
   },
   {
    "duration": 6,
    "start_time": "2021-11-02T16:45:53.025Z"
   },
   {
    "duration": 16,
    "start_time": "2021-11-02T16:45:59.607Z"
   },
   {
    "duration": 15,
    "start_time": "2021-11-02T16:46:02.149Z"
   },
   {
    "duration": 442,
    "start_time": "2021-11-02T16:46:56.490Z"
   },
   {
    "duration": 374,
    "start_time": "2021-11-02T16:47:17.930Z"
   },
   {
    "duration": 25,
    "start_time": "2021-11-02T16:49:58.896Z"
   },
   {
    "duration": 11176,
    "start_time": "2021-11-02T16:50:41.230Z"
   },
   {
    "duration": -286,
    "start_time": "2021-11-02T16:51:11.614Z"
   },
   {
    "duration": 60,
    "start_time": "2021-11-02T16:52:34.232Z"
   },
   {
    "duration": 13,
    "start_time": "2021-11-02T16:52:34.295Z"
   },
   {
    "duration": 14,
    "start_time": "2021-11-02T16:52:34.311Z"
   },
   {
    "duration": 34,
    "start_time": "2021-11-02T16:52:34.328Z"
   },
   {
    "duration": 36,
    "start_time": "2021-11-02T16:52:34.365Z"
   },
   {
    "duration": 23,
    "start_time": "2021-11-02T16:52:34.404Z"
   },
   {
    "duration": 15,
    "start_time": "2021-11-02T16:52:34.430Z"
   },
   {
    "duration": 54,
    "start_time": "2021-11-02T16:52:34.449Z"
   },
   {
    "duration": 23,
    "start_time": "2021-11-02T16:52:34.506Z"
   },
   {
    "duration": 28,
    "start_time": "2021-11-02T16:52:34.532Z"
   },
   {
    "duration": 41,
    "start_time": "2021-11-02T16:52:34.562Z"
   },
   {
    "duration": 277,
    "start_time": "2021-11-02T16:52:34.605Z"
   },
   {
    "duration": 17,
    "start_time": "2021-11-02T16:52:34.884Z"
   },
   {
    "duration": 610,
    "start_time": "2021-11-02T16:52:34.904Z"
   },
   {
    "duration": 313,
    "start_time": "2021-11-02T16:52:35.517Z"
   },
   {
    "duration": 9,
    "start_time": "2021-11-02T16:52:35.832Z"
   },
   {
    "duration": 291,
    "start_time": "2021-11-02T16:52:35.843Z"
   },
   {
    "duration": 22,
    "start_time": "2021-11-02T16:52:36.137Z"
   },
   {
    "duration": 7,
    "start_time": "2021-11-02T16:52:36.162Z"
   },
   {
    "duration": 38,
    "start_time": "2021-11-02T16:52:36.172Z"
   },
   {
    "duration": 12,
    "start_time": "2021-11-02T16:52:36.212Z"
   },
   {
    "duration": 376,
    "start_time": "2021-11-02T16:52:36.227Z"
   },
   {
    "duration": -47,
    "start_time": "2021-11-02T16:52:36.654Z"
   },
   {
    "duration": -48,
    "start_time": "2021-11-02T16:52:36.657Z"
   },
   {
    "duration": -56,
    "start_time": "2021-11-02T16:52:36.666Z"
   },
   {
    "duration": -57,
    "start_time": "2021-11-02T16:52:36.669Z"
   },
   {
    "duration": -59,
    "start_time": "2021-11-02T16:52:36.672Z"
   },
   {
    "duration": -60,
    "start_time": "2021-11-02T16:52:36.675Z"
   },
   {
    "duration": -61,
    "start_time": "2021-11-02T16:52:36.678Z"
   },
   {
    "duration": -68,
    "start_time": "2021-11-02T16:52:36.686Z"
   },
   {
    "duration": -69,
    "start_time": "2021-11-02T16:52:36.689Z"
   },
   {
    "duration": -70,
    "start_time": "2021-11-02T16:52:36.692Z"
   },
   {
    "duration": -71,
    "start_time": "2021-11-02T16:52:36.694Z"
   },
   {
    "duration": -72,
    "start_time": "2021-11-02T16:52:36.696Z"
   },
   {
    "duration": -72,
    "start_time": "2021-11-02T16:52:36.698Z"
   },
   {
    "duration": -73,
    "start_time": "2021-11-02T16:52:36.700Z"
   },
   {
    "duration": -74,
    "start_time": "2021-11-02T16:52:36.703Z"
   },
   {
    "duration": -75,
    "start_time": "2021-11-02T16:52:36.705Z"
   },
   {
    "duration": -76,
    "start_time": "2021-11-02T16:52:36.708Z"
   },
   {
    "duration": -77,
    "start_time": "2021-11-02T16:52:36.710Z"
   },
   {
    "duration": -78,
    "start_time": "2021-11-02T16:52:36.712Z"
   },
   {
    "duration": -96,
    "start_time": "2021-11-02T16:52:36.732Z"
   },
   {
    "duration": -98,
    "start_time": "2021-11-02T16:52:36.735Z"
   },
   {
    "duration": -98,
    "start_time": "2021-11-02T16:52:36.737Z"
   },
   {
    "duration": -105,
    "start_time": "2021-11-02T16:52:36.745Z"
   },
   {
    "duration": -106,
    "start_time": "2021-11-02T16:52:36.748Z"
   },
   {
    "duration": -108,
    "start_time": "2021-11-02T16:52:36.751Z"
   },
   {
    "duration": -58,
    "start_time": "2021-11-02T16:52:36.758Z"
   },
   {
    "duration": -59,
    "start_time": "2021-11-02T16:52:36.761Z"
   },
   {
    "duration": -60,
    "start_time": "2021-11-02T16:52:36.763Z"
   },
   {
    "duration": -73,
    "start_time": "2021-11-02T16:52:36.778Z"
   },
   {
    "duration": -74,
    "start_time": "2021-11-02T16:52:36.780Z"
   },
   {
    "duration": -75,
    "start_time": "2021-11-02T16:52:36.783Z"
   },
   {
    "duration": -77,
    "start_time": "2021-11-02T16:52:36.786Z"
   },
   {
    "duration": -78,
    "start_time": "2021-11-02T16:52:36.789Z"
   },
   {
    "duration": -79,
    "start_time": "2021-11-02T16:52:36.792Z"
   },
   {
    "duration": 379,
    "start_time": "2021-11-02T17:19:02.011Z"
   },
   {
    "duration": 1591,
    "start_time": "2021-11-02T17:19:18.391Z"
   },
   {
    "duration": 16,
    "start_time": "2021-11-02T17:24:38.522Z"
   },
   {
    "duration": 568,
    "start_time": "2021-11-02T17:29:35.164Z"
   },
   {
    "duration": 21,
    "start_time": "2021-11-02T17:29:54.110Z"
   },
   {
    "duration": 24,
    "start_time": "2021-11-02T17:30:28.140Z"
   },
   {
    "duration": 17,
    "start_time": "2021-11-02T17:30:54.824Z"
   },
   {
    "duration": 14,
    "start_time": "2021-11-02T17:36:08.475Z"
   },
   {
    "duration": 384,
    "start_time": "2021-11-02T17:36:10.939Z"
   },
   {
    "duration": 483,
    "start_time": "2021-11-02T17:37:15.854Z"
   },
   {
    "duration": 468,
    "start_time": "2021-11-02T17:37:39.264Z"
   },
   {
    "duration": 7,
    "start_time": "2021-11-02T18:15:15.367Z"
   },
   {
    "duration": 7,
    "start_time": "2021-11-02T18:15:18.307Z"
   },
   {
    "duration": 13,
    "start_time": "2021-11-02T18:15:34.560Z"
   },
   {
    "duration": 16,
    "start_time": "2021-11-02T18:15:46.161Z"
   },
   {
    "duration": 6,
    "start_time": "2021-11-02T18:16:54.808Z"
   },
   {
    "duration": 6,
    "start_time": "2021-11-02T18:16:56.912Z"
   },
   {
    "duration": 16,
    "start_time": "2021-11-02T18:17:00.602Z"
   },
   {
    "duration": 11,
    "start_time": "2021-11-02T18:19:05.806Z"
   },
   {
    "duration": 9,
    "start_time": "2021-11-02T18:19:10.013Z"
   },
   {
    "duration": 12,
    "start_time": "2021-11-02T18:19:12.294Z"
   },
   {
    "duration": 976,
    "start_time": "2021-11-02T18:33:28.552Z"
   },
   {
    "duration": 824,
    "start_time": "2021-11-02T18:33:59.176Z"
   },
   {
    "duration": 493,
    "start_time": "2021-11-02T18:34:08.614Z"
   },
   {
    "duration": 537,
    "start_time": "2021-11-02T18:35:02.439Z"
   },
   {
    "duration": 638,
    "start_time": "2021-11-02T18:40:09.589Z"
   },
   {
    "duration": 976,
    "start_time": "2021-11-02T18:44:46.056Z"
   },
   {
    "duration": 1004,
    "start_time": "2021-11-02T18:45:06.364Z"
   },
   {
    "duration": 1049,
    "start_time": "2021-11-02T18:45:21.014Z"
   },
   {
    "duration": 638,
    "start_time": "2021-11-02T18:45:46.554Z"
   },
   {
    "duration": 388,
    "start_time": "2021-11-02T18:48:34.027Z"
   },
   {
    "duration": 832,
    "start_time": "2021-11-02T18:49:38.916Z"
   },
   {
    "duration": 699,
    "start_time": "2021-11-02T18:49:56.662Z"
   },
   {
    "duration": 380,
    "start_time": "2021-11-02T19:10:10.897Z"
   },
   {
    "duration": 383,
    "start_time": "2021-11-02T19:11:05.182Z"
   },
   {
    "duration": 390,
    "start_time": "2021-11-02T19:12:10.516Z"
   },
   {
    "duration": 70,
    "start_time": "2021-11-02T19:15:10.575Z"
   },
   {
    "duration": 12,
    "start_time": "2021-11-02T19:15:10.648Z"
   },
   {
    "duration": 39,
    "start_time": "2021-11-02T19:15:10.663Z"
   },
   {
    "duration": 23,
    "start_time": "2021-11-02T19:15:10.705Z"
   },
   {
    "duration": 17,
    "start_time": "2021-11-02T19:15:10.730Z"
   },
   {
    "duration": 54,
    "start_time": "2021-11-02T19:15:10.750Z"
   },
   {
    "duration": 16,
    "start_time": "2021-11-02T19:15:10.806Z"
   },
   {
    "duration": 72,
    "start_time": "2021-11-02T19:15:10.828Z"
   },
   {
    "duration": 31,
    "start_time": "2021-11-02T19:15:10.904Z"
   },
   {
    "duration": 78,
    "start_time": "2021-11-02T19:15:10.938Z"
   },
   {
    "duration": 15,
    "start_time": "2021-11-02T19:15:11.019Z"
   },
   {
    "duration": 319,
    "start_time": "2021-11-02T19:15:11.037Z"
   },
   {
    "duration": 13,
    "start_time": "2021-11-02T19:15:11.359Z"
   },
   {
    "duration": 748,
    "start_time": "2021-11-02T19:15:11.374Z"
   },
   {
    "duration": 324,
    "start_time": "2021-11-02T19:15:12.124Z"
   },
   {
    "duration": 10,
    "start_time": "2021-11-02T19:15:12.450Z"
   },
   {
    "duration": 294,
    "start_time": "2021-11-02T19:15:12.461Z"
   },
   {
    "duration": 44,
    "start_time": "2021-11-02T19:15:12.758Z"
   },
   {
    "duration": 8,
    "start_time": "2021-11-02T19:15:12.805Z"
   },
   {
    "duration": 24,
    "start_time": "2021-11-02T19:15:12.816Z"
   },
   {
    "duration": 493,
    "start_time": "2021-11-02T19:15:12.843Z"
   },
   {
    "duration": 15,
    "start_time": "2021-11-02T19:15:13.339Z"
   },
   {
    "duration": 8,
    "start_time": "2021-11-02T19:15:13.363Z"
   },
   {
    "duration": 6,
    "start_time": "2021-11-02T19:15:13.402Z"
   },
   {
    "duration": 13,
    "start_time": "2021-11-02T19:15:13.411Z"
   },
   {
    "duration": 19,
    "start_time": "2021-11-02T19:15:13.426Z"
   },
   {
    "duration": 404,
    "start_time": "2021-11-02T19:15:13.447Z"
   },
   {
    "duration": 214,
    "start_time": "2021-11-02T19:15:13.641Z"
   },
   {
    "duration": 207,
    "start_time": "2021-11-02T19:15:13.650Z"
   },
   {
    "duration": 201,
    "start_time": "2021-11-02T19:15:13.657Z"
   },
   {
    "duration": 195,
    "start_time": "2021-11-02T19:15:13.665Z"
   },
   {
    "duration": 192,
    "start_time": "2021-11-02T19:15:13.670Z"
   },
   {
    "duration": 187,
    "start_time": "2021-11-02T19:15:13.677Z"
   },
   {
    "duration": 184,
    "start_time": "2021-11-02T19:15:13.682Z"
   },
   {
    "duration": 177,
    "start_time": "2021-11-02T19:15:13.690Z"
   },
   {
    "duration": 171,
    "start_time": "2021-11-02T19:15:13.698Z"
   },
   {
    "duration": 165,
    "start_time": "2021-11-02T19:15:13.706Z"
   },
   {
    "duration": 159,
    "start_time": "2021-11-02T19:15:13.713Z"
   },
   {
    "duration": 154,
    "start_time": "2021-11-02T19:15:13.720Z"
   },
   {
    "duration": 147,
    "start_time": "2021-11-02T19:15:13.728Z"
   },
   {
    "duration": 124,
    "start_time": "2021-11-02T19:15:13.752Z"
   },
   {
    "duration": 119,
    "start_time": "2021-11-02T19:15:13.759Z"
   },
   {
    "duration": 115,
    "start_time": "2021-11-02T19:15:13.764Z"
   },
   {
    "duration": 108,
    "start_time": "2021-11-02T19:15:13.772Z"
   },
   {
    "duration": 102,
    "start_time": "2021-11-02T19:15:13.779Z"
   },
   {
    "duration": 93,
    "start_time": "2021-11-02T19:15:13.790Z"
   },
   {
    "duration": 89,
    "start_time": "2021-11-02T19:15:13.795Z"
   },
   {
    "duration": 83,
    "start_time": "2021-11-02T19:15:13.802Z"
   },
   {
    "duration": 78,
    "start_time": "2021-11-02T19:15:13.809Z"
   },
   {
    "duration": 84,
    "start_time": "2021-11-02T19:15:13.817Z"
   },
   {
    "duration": 78,
    "start_time": "2021-11-02T19:15:13.825Z"
   },
   {
    "duration": 71,
    "start_time": "2021-11-02T19:15:13.834Z"
   },
   {
    "duration": 28,
    "start_time": "2021-11-02T19:15:13.879Z"
   },
   {
    "duration": -10,
    "start_time": "2021-11-02T19:15:13.919Z"
   },
   {
    "duration": -31,
    "start_time": "2021-11-02T19:15:13.942Z"
   },
   {
    "duration": -94,
    "start_time": "2021-11-02T19:15:14.006Z"
   },
   {
    "duration": -133,
    "start_time": "2021-11-02T19:15:14.047Z"
   },
   {
    "duration": -171,
    "start_time": "2021-11-02T19:15:14.087Z"
   },
   {
    "duration": -202,
    "start_time": "2021-11-02T19:15:14.120Z"
   },
   {
    "duration": -220,
    "start_time": "2021-11-02T19:15:14.140Z"
   },
   {
    "duration": -230,
    "start_time": "2021-11-02T19:15:14.152Z"
   },
   {
    "duration": -242,
    "start_time": "2021-11-02T19:15:14.169Z"
   },
   {
    "duration": -259,
    "start_time": "2021-11-02T19:15:14.188Z"
   },
   {
    "duration": -279,
    "start_time": "2021-11-02T19:15:14.210Z"
   },
   {
    "duration": -285,
    "start_time": "2021-11-02T19:15:14.218Z"
   },
   {
    "duration": 709,
    "start_time": "2021-11-02T19:31:54.822Z"
   },
   {
    "duration": 709,
    "start_time": "2021-11-02T19:33:18.955Z"
   },
   {
    "duration": 725,
    "start_time": "2021-11-02T19:36:31.557Z"
   },
   {
    "duration": 757,
    "start_time": "2021-11-02T19:39:45.410Z"
   },
   {
    "duration": 721,
    "start_time": "2021-11-02T19:39:58.645Z"
   },
   {
    "duration": 756,
    "start_time": "2021-11-02T19:40:08.848Z"
   },
   {
    "duration": 719,
    "start_time": "2021-11-02T19:40:58.004Z"
   },
   {
    "duration": 916,
    "start_time": "2021-11-02T19:42:01.526Z"
   },
   {
    "duration": 763,
    "start_time": "2021-11-02T19:43:18.776Z"
   },
   {
    "duration": 797,
    "start_time": "2021-11-02T19:43:34.813Z"
   },
   {
    "duration": 732,
    "start_time": "2021-11-02T19:44:43.250Z"
   },
   {
    "duration": 898,
    "start_time": "2021-11-02T19:46:50.815Z"
   },
   {
    "duration": 516,
    "start_time": "2021-11-02T19:48:59.413Z"
   },
   {
    "duration": 492,
    "start_time": "2021-11-02T19:49:50.526Z"
   },
   {
    "duration": 721,
    "start_time": "2021-11-02T19:51:07.527Z"
   },
   {
    "duration": 518,
    "start_time": "2021-11-02T19:51:22.829Z"
   },
   {
    "duration": 512,
    "start_time": "2021-11-02T19:51:31.760Z"
   },
   {
    "duration": 1158,
    "start_time": "2021-11-02T19:52:05.722Z"
   },
   {
    "duration": 610,
    "start_time": "2021-11-02T19:52:27.571Z"
   },
   {
    "duration": 598,
    "start_time": "2021-11-02T19:53:35.574Z"
   },
   {
    "duration": 598,
    "start_time": "2021-11-02T19:55:03.815Z"
   },
   {
    "duration": 627,
    "start_time": "2021-11-02T20:05:57.076Z"
   },
   {
    "duration": 686,
    "start_time": "2021-11-02T20:10:24.939Z"
   },
   {
    "duration": 905,
    "start_time": "2021-11-02T20:11:46.450Z"
   },
   {
    "duration": 762,
    "start_time": "2021-11-02T20:12:16.517Z"
   },
   {
    "duration": 772,
    "start_time": "2021-11-02T20:12:58.043Z"
   },
   {
    "duration": 597,
    "start_time": "2021-11-02T20:13:15.717Z"
   },
   {
    "duration": 600,
    "start_time": "2021-11-02T20:20:09.433Z"
   },
   {
    "duration": 735,
    "start_time": "2021-11-02T20:23:28.876Z"
   },
   {
    "duration": 615,
    "start_time": "2021-11-02T20:23:38.908Z"
   },
   {
    "duration": 591,
    "start_time": "2021-11-02T20:23:55.634Z"
   },
   {
    "duration": 610,
    "start_time": "2021-11-02T20:24:07.651Z"
   },
   {
    "duration": 627,
    "start_time": "2021-11-02T20:24:15.805Z"
   },
   {
    "duration": 1144,
    "start_time": "2021-11-02T20:26:44.908Z"
   },
   {
    "duration": 8,
    "start_time": "2021-11-02T20:29:21.367Z"
   },
   {
    "duration": 668,
    "start_time": "2021-11-02T20:29:34.977Z"
   },
   {
    "duration": 6,
    "start_time": "2021-11-02T20:29:46.533Z"
   },
   {
    "duration": 8,
    "start_time": "2021-11-02T20:29:59.619Z"
   },
   {
    "duration": 732,
    "start_time": "2021-11-02T20:30:05.693Z"
   },
   {
    "duration": 693,
    "start_time": "2021-11-02T20:30:15.032Z"
   },
   {
    "duration": 707,
    "start_time": "2021-11-02T20:30:37.695Z"
   },
   {
    "duration": 59,
    "start_time": "2021-11-02T20:30:51.816Z"
   },
   {
    "duration": 12,
    "start_time": "2021-11-02T20:30:51.877Z"
   },
   {
    "duration": 20,
    "start_time": "2021-11-02T20:30:51.892Z"
   },
   {
    "duration": 22,
    "start_time": "2021-11-02T20:30:51.914Z"
   },
   {
    "duration": 3,
    "start_time": "2021-11-02T20:30:51.939Z"
   },
   {
    "duration": 59,
    "start_time": "2021-11-02T20:30:51.945Z"
   },
   {
    "duration": 16,
    "start_time": "2021-11-02T20:30:52.006Z"
   },
   {
    "duration": 31,
    "start_time": "2021-11-02T20:30:52.026Z"
   },
   {
    "duration": 23,
    "start_time": "2021-11-02T20:30:52.101Z"
   },
   {
    "duration": 27,
    "start_time": "2021-11-02T20:30:52.126Z"
   },
   {
    "duration": 45,
    "start_time": "2021-11-02T20:30:52.156Z"
   },
   {
    "duration": 274,
    "start_time": "2021-11-02T20:30:52.204Z"
   },
   {
    "duration": 19,
    "start_time": "2021-11-02T20:30:52.481Z"
   },
   {
    "duration": 610,
    "start_time": "2021-11-02T20:30:52.503Z"
   },
   {
    "duration": 304,
    "start_time": "2021-11-02T20:30:53.115Z"
   },
   {
    "duration": 9,
    "start_time": "2021-11-02T20:30:53.421Z"
   },
   {
    "duration": 310,
    "start_time": "2021-11-02T20:30:53.433Z"
   },
   {
    "duration": 25,
    "start_time": "2021-11-02T20:30:53.746Z"
   },
   {
    "duration": 8,
    "start_time": "2021-11-02T20:30:53.773Z"
   },
   {
    "duration": 14,
    "start_time": "2021-11-02T20:30:53.801Z"
   },
   {
    "duration": 499,
    "start_time": "2021-11-02T20:30:53.817Z"
   },
   {
    "duration": 13,
    "start_time": "2021-11-02T20:30:54.319Z"
   },
   {
    "duration": 6,
    "start_time": "2021-11-02T20:30:54.338Z"
   },
   {
    "duration": 9,
    "start_time": "2021-11-02T20:30:54.347Z"
   },
   {
    "duration": 43,
    "start_time": "2021-11-02T20:30:54.358Z"
   },
   {
    "duration": 12,
    "start_time": "2021-11-02T20:30:54.403Z"
   },
   {
    "duration": 632,
    "start_time": "2021-11-02T20:30:54.417Z"
   },
   {
    "duration": 487,
    "start_time": "2021-11-02T20:30:55.051Z"
   },
   {
    "duration": -103,
    "start_time": "2021-11-02T20:30:55.643Z"
   },
   {
    "duration": -114,
    "start_time": "2021-11-02T20:30:55.656Z"
   },
   {
    "duration": -124,
    "start_time": "2021-11-02T20:30:55.667Z"
   },
   {
    "duration": -135,
    "start_time": "2021-11-02T20:30:55.680Z"
   },
   {
    "duration": -143,
    "start_time": "2021-11-02T20:30:55.689Z"
   },
   {
    "duration": -153,
    "start_time": "2021-11-02T20:30:55.700Z"
   },
   {
    "duration": -160,
    "start_time": "2021-11-02T20:30:55.708Z"
   },
   {
    "duration": -169,
    "start_time": "2021-11-02T20:30:55.719Z"
   },
   {
    "duration": -194,
    "start_time": "2021-11-02T20:30:55.745Z"
   },
   {
    "duration": -208,
    "start_time": "2021-11-02T20:30:55.760Z"
   },
   {
    "duration": -216,
    "start_time": "2021-11-02T20:30:55.769Z"
   },
   {
    "duration": -224,
    "start_time": "2021-11-02T20:30:55.779Z"
   },
   {
    "duration": -232,
    "start_time": "2021-11-02T20:30:55.788Z"
   },
   {
    "duration": -240,
    "start_time": "2021-11-02T20:30:55.797Z"
   },
   {
    "duration": -248,
    "start_time": "2021-11-02T20:30:55.807Z"
   },
   {
    "duration": -258,
    "start_time": "2021-11-02T20:30:55.818Z"
   },
   {
    "duration": -267,
    "start_time": "2021-11-02T20:30:55.828Z"
   },
   {
    "duration": -276,
    "start_time": "2021-11-02T20:30:55.839Z"
   },
   {
    "duration": -302,
    "start_time": "2021-11-02T20:30:55.866Z"
   },
   {
    "duration": -311,
    "start_time": "2021-11-02T20:30:55.876Z"
   },
   {
    "duration": -317,
    "start_time": "2021-11-02T20:30:55.884Z"
   },
   {
    "duration": -326,
    "start_time": "2021-11-02T20:30:55.894Z"
   },
   {
    "duration": -334,
    "start_time": "2021-11-02T20:30:55.903Z"
   },
   {
    "duration": -342,
    "start_time": "2021-11-02T20:30:55.913Z"
   },
   {
    "duration": -349,
    "start_time": "2021-11-02T20:30:55.921Z"
   },
   {
    "duration": -332,
    "start_time": "2021-11-02T20:30:55.932Z"
   },
   {
    "duration": -339,
    "start_time": "2021-11-02T20:30:55.940Z"
   },
   {
    "duration": -348,
    "start_time": "2021-11-02T20:30:55.951Z"
   },
   {
    "duration": -355,
    "start_time": "2021-11-02T20:30:55.959Z"
   },
   {
    "duration": -383,
    "start_time": "2021-11-02T20:30:55.989Z"
   },
   {
    "duration": -391,
    "start_time": "2021-11-02T20:30:55.998Z"
   },
   {
    "duration": -397,
    "start_time": "2021-11-02T20:30:56.006Z"
   },
   {
    "duration": -402,
    "start_time": "2021-11-02T20:30:56.012Z"
   },
   {
    "duration": -404,
    "start_time": "2021-11-02T20:30:56.016Z"
   },
   {
    "duration": -407,
    "start_time": "2021-11-02T20:30:56.021Z"
   },
   {
    "duration": -411,
    "start_time": "2021-11-02T20:30:56.026Z"
   },
   {
    "duration": -414,
    "start_time": "2021-11-02T20:30:56.031Z"
   },
   {
    "duration": -419,
    "start_time": "2021-11-02T20:30:56.037Z"
   },
   {
    "duration": 654,
    "start_time": "2021-11-02T20:34:30.803Z"
   },
   {
    "duration": 638,
    "start_time": "2021-11-02T20:34:57.372Z"
   },
   {
    "duration": 695,
    "start_time": "2021-11-02T20:35:36.581Z"
   },
   {
    "duration": 63,
    "start_time": "2021-11-02T20:40:54.364Z"
   },
   {
    "duration": 12,
    "start_time": "2021-11-02T20:40:54.429Z"
   },
   {
    "duration": 15,
    "start_time": "2021-11-02T20:40:54.444Z"
   },
   {
    "duration": 62,
    "start_time": "2021-11-02T20:40:54.461Z"
   },
   {
    "duration": 4,
    "start_time": "2021-11-02T20:40:54.525Z"
   },
   {
    "duration": 17,
    "start_time": "2021-11-02T20:40:54.531Z"
   },
   {
    "duration": 65,
    "start_time": "2021-11-02T20:40:54.550Z"
   },
   {
    "duration": 31,
    "start_time": "2021-11-02T20:40:54.619Z"
   },
   {
    "duration": 21,
    "start_time": "2021-11-02T20:40:54.653Z"
   },
   {
    "duration": 51,
    "start_time": "2021-11-02T20:40:54.676Z"
   },
   {
    "duration": 13,
    "start_time": "2021-11-02T20:40:54.729Z"
   },
   {
    "duration": 290,
    "start_time": "2021-11-02T20:40:54.744Z"
   },
   {
    "duration": 9,
    "start_time": "2021-11-02T20:40:55.037Z"
   },
   {
    "duration": 507,
    "start_time": "2021-11-02T20:40:55.048Z"
   },
   {
    "duration": 307,
    "start_time": "2021-11-02T20:40:55.557Z"
   },
   {
    "duration": 9,
    "start_time": "2021-11-02T20:40:55.867Z"
   },
   {
    "duration": 287,
    "start_time": "2021-11-02T20:40:55.879Z"
   },
   {
    "duration": 34,
    "start_time": "2021-11-02T20:40:56.169Z"
   },
   {
    "duration": 8,
    "start_time": "2021-11-02T20:40:56.206Z"
   },
   {
    "duration": 15,
    "start_time": "2021-11-02T20:40:56.217Z"
   },
   {
    "duration": 502,
    "start_time": "2021-11-02T20:40:56.235Z"
   },
   {
    "duration": 13,
    "start_time": "2021-11-02T20:40:56.740Z"
   },
   {
    "duration": 8,
    "start_time": "2021-11-02T20:40:56.758Z"
   },
   {
    "duration": 6,
    "start_time": "2021-11-02T20:40:56.769Z"
   },
   {
    "duration": 29,
    "start_time": "2021-11-02T20:40:56.777Z"
   },
   {
    "duration": 13,
    "start_time": "2021-11-02T20:40:56.809Z"
   },
   {
    "duration": 682,
    "start_time": "2021-11-02T20:40:56.825Z"
   },
   {
    "duration": 13,
    "start_time": "2021-11-02T20:40:57.510Z"
   },
   {
    "duration": 426,
    "start_time": "2021-11-02T20:40:57.526Z"
   },
   {
    "duration": 19,
    "start_time": "2021-11-02T20:40:57.954Z"
   },
   {
    "duration": 437,
    "start_time": "2021-11-02T20:40:57.975Z"
   },
   {
    "duration": 15,
    "start_time": "2021-11-02T20:40:58.415Z"
   },
   {
    "duration": 22,
    "start_time": "2021-11-02T20:40:58.433Z"
   },
   {
    "duration": 82,
    "start_time": "2021-11-02T20:40:58.457Z"
   },
   {
    "duration": 13,
    "start_time": "2021-11-02T20:40:58.542Z"
   },
   {
    "duration": 5,
    "start_time": "2021-11-02T20:40:58.558Z"
   },
   {
    "duration": 38,
    "start_time": "2021-11-02T20:40:58.565Z"
   },
   {
    "duration": 21,
    "start_time": "2021-11-02T20:40:58.606Z"
   },
   {
    "duration": 35,
    "start_time": "2021-11-02T20:40:58.630Z"
   },
   {
    "duration": 44,
    "start_time": "2021-11-02T20:40:58.668Z"
   },
   {
    "duration": 45,
    "start_time": "2021-11-02T20:40:58.715Z"
   },
   {
    "duration": 38,
    "start_time": "2021-11-02T20:40:58.764Z"
   },
   {
    "duration": 16,
    "start_time": "2021-11-02T20:40:58.806Z"
   },
   {
    "duration": 9,
    "start_time": "2021-11-02T20:40:58.825Z"
   },
   {
    "duration": 9,
    "start_time": "2021-11-02T20:40:58.836Z"
   },
   {
    "duration": 7,
    "start_time": "2021-11-02T20:40:58.848Z"
   },
   {
    "duration": 52,
    "start_time": "2021-11-02T20:40:58.857Z"
   },
   {
    "duration": 18,
    "start_time": "2021-11-02T20:40:58.911Z"
   },
   {
    "duration": 1198,
    "start_time": "2021-11-02T20:40:58.931Z"
   },
   {
    "duration": 9,
    "start_time": "2021-11-02T20:41:00.132Z"
   },
   {
    "duration": 23,
    "start_time": "2021-11-02T20:41:00.144Z"
   },
   {
    "duration": 24,
    "start_time": "2021-11-02T20:41:00.169Z"
   },
   {
    "duration": 16,
    "start_time": "2021-11-02T20:41:00.195Z"
   },
   {
    "duration": 18,
    "start_time": "2021-11-02T20:41:00.214Z"
   },
   {
    "duration": 14,
    "start_time": "2021-11-02T20:41:00.235Z"
   },
   {
    "duration": 24,
    "start_time": "2021-11-02T20:41:00.252Z"
   },
   {
    "duration": 400,
    "start_time": "2021-11-02T20:41:00.279Z"
   },
   {
    "duration": -103,
    "start_time": "2021-11-02T20:41:00.786Z"
   },
   {
    "duration": -109,
    "start_time": "2021-11-02T20:41:00.794Z"
   },
   {
    "duration": -117,
    "start_time": "2021-11-02T20:41:00.804Z"
   },
   {
    "duration": 1518,
    "start_time": "2021-11-03T09:00:58.054Z"
   },
   {
    "duration": 12,
    "start_time": "2021-11-03T09:00:59.574Z"
   },
   {
    "duration": 19,
    "start_time": "2021-11-03T09:00:59.589Z"
   },
   {
    "duration": 49,
    "start_time": "2021-11-03T09:00:59.611Z"
   },
   {
    "duration": 4,
    "start_time": "2021-11-03T09:00:59.663Z"
   },
   {
    "duration": 19,
    "start_time": "2021-11-03T09:00:59.670Z"
   },
   {
    "duration": 53,
    "start_time": "2021-11-03T09:00:59.692Z"
   },
   {
    "duration": 27,
    "start_time": "2021-11-03T09:00:59.748Z"
   },
   {
    "duration": 20,
    "start_time": "2021-11-03T09:00:59.779Z"
   },
   {
    "duration": 28,
    "start_time": "2021-11-03T09:00:59.838Z"
   },
   {
    "duration": 13,
    "start_time": "2021-11-03T09:00:59.868Z"
   },
   {
    "duration": 290,
    "start_time": "2021-11-03T09:00:59.883Z"
   },
   {
    "duration": 8,
    "start_time": "2021-11-03T09:01:00.175Z"
   },
   {
    "duration": 523,
    "start_time": "2021-11-03T09:01:00.186Z"
   },
   {
    "duration": 24,
    "start_time": "2021-11-03T09:01:00.711Z"
   },
   {
    "duration": 292,
    "start_time": "2021-11-03T09:01:00.738Z"
   },
   {
    "duration": 78,
    "start_time": "2021-11-03T09:01:01.038Z"
   },
   {
    "duration": -55,
    "start_time": "2021-11-03T09:01:01.176Z"
   },
   {
    "duration": -59,
    "start_time": "2021-11-03T09:01:01.181Z"
   },
   {
    "duration": -69,
    "start_time": "2021-11-03T09:01:01.192Z"
   },
   {
    "duration": -71,
    "start_time": "2021-11-03T09:01:01.196Z"
   },
   {
    "duration": -74,
    "start_time": "2021-11-03T09:01:01.200Z"
   },
   {
    "duration": -84,
    "start_time": "2021-11-03T09:01:01.211Z"
   },
   {
    "duration": -85,
    "start_time": "2021-11-03T09:01:01.214Z"
   },
   {
    "duration": -94,
    "start_time": "2021-11-03T09:01:01.225Z"
   },
   {
    "duration": -96,
    "start_time": "2021-11-03T09:01:01.228Z"
   },
   {
    "duration": -99,
    "start_time": "2021-11-03T09:01:01.232Z"
   },
   {
    "duration": -106,
    "start_time": "2021-11-03T09:01:01.244Z"
   },
   {
    "duration": -108,
    "start_time": "2021-11-03T09:01:01.247Z"
   },
   {
    "duration": -108,
    "start_time": "2021-11-03T09:01:01.249Z"
   },
   {
    "duration": -116,
    "start_time": "2021-11-03T09:01:01.260Z"
   },
   {
    "duration": -119,
    "start_time": "2021-11-03T09:01:01.264Z"
   },
   {
    "duration": -120,
    "start_time": "2021-11-03T09:01:01.267Z"
   },
   {
    "duration": -130,
    "start_time": "2021-11-03T09:01:01.278Z"
   },
   {
    "duration": -149,
    "start_time": "2021-11-03T09:01:01.298Z"
   },
   {
    "duration": -160,
    "start_time": "2021-11-03T09:01:01.310Z"
   },
   {
    "duration": -162,
    "start_time": "2021-11-03T09:01:01.314Z"
   },
   {
    "duration": -166,
    "start_time": "2021-11-03T09:01:01.319Z"
   },
   {
    "duration": -177,
    "start_time": "2021-11-03T09:01:01.331Z"
   },
   {
    "duration": -185,
    "start_time": "2021-11-03T09:01:01.340Z"
   },
   {
    "duration": -187,
    "start_time": "2021-11-03T09:01:01.344Z"
   },
   {
    "duration": -188,
    "start_time": "2021-11-03T09:01:01.346Z"
   },
   {
    "duration": -202,
    "start_time": "2021-11-03T09:01:01.361Z"
   },
   {
    "duration": -204,
    "start_time": "2021-11-03T09:01:01.364Z"
   },
   {
    "duration": -205,
    "start_time": "2021-11-03T09:01:01.367Z"
   },
   {
    "duration": -207,
    "start_time": "2021-11-03T09:01:01.370Z"
   },
   {
    "duration": -230,
    "start_time": "2021-11-03T09:01:01.394Z"
   },
   {
    "duration": -234,
    "start_time": "2021-11-03T09:01:01.399Z"
   },
   {
    "duration": -236,
    "start_time": "2021-11-03T09:01:01.402Z"
   },
   {
    "duration": -237,
    "start_time": "2021-11-03T09:01:01.405Z"
   },
   {
    "duration": -238,
    "start_time": "2021-11-03T09:01:01.407Z"
   },
   {
    "duration": -242,
    "start_time": "2021-11-03T09:01:01.412Z"
   },
   {
    "duration": -185,
    "start_time": "2021-11-03T09:01:01.416Z"
   },
   {
    "duration": -189,
    "start_time": "2021-11-03T09:01:01.421Z"
   },
   {
    "duration": -189,
    "start_time": "2021-11-03T09:01:01.423Z"
   },
   {
    "duration": 61,
    "start_time": "2021-11-03T09:01:40.972Z"
   },
   {
    "duration": 12,
    "start_time": "2021-11-03T09:01:41.035Z"
   },
   {
    "duration": 19,
    "start_time": "2021-11-03T09:01:41.050Z"
   },
   {
    "duration": 72,
    "start_time": "2021-11-03T09:01:41.071Z"
   },
   {
    "duration": 3,
    "start_time": "2021-11-03T09:01:41.146Z"
   },
   {
    "duration": 27,
    "start_time": "2021-11-03T09:01:41.151Z"
   },
   {
    "duration": 59,
    "start_time": "2021-11-03T09:01:41.181Z"
   },
   {
    "duration": 25,
    "start_time": "2021-11-03T09:01:41.244Z"
   },
   {
    "duration": 21,
    "start_time": "2021-11-03T09:01:41.272Z"
   },
   {
    "duration": 60,
    "start_time": "2021-11-03T09:01:41.295Z"
   },
   {
    "duration": 13,
    "start_time": "2021-11-03T09:01:41.357Z"
   },
   {
    "duration": 288,
    "start_time": "2021-11-03T09:01:41.373Z"
   },
   {
    "duration": 9,
    "start_time": "2021-11-03T09:01:41.663Z"
   },
   {
    "duration": 507,
    "start_time": "2021-11-03T09:01:41.675Z"
   },
   {
    "duration": 8,
    "start_time": "2021-11-03T09:01:42.185Z"
   },
   {
    "duration": 285,
    "start_time": "2021-11-03T09:01:42.195Z"
   },
   {
    "duration": 12,
    "start_time": "2021-11-03T09:01:42.482Z"
   },
   {
    "duration": 382,
    "start_time": "2021-11-03T09:01:42.497Z"
   },
   {
    "duration": -269,
    "start_time": "2021-11-03T09:01:43.153Z"
   },
   {
    "duration": -269,
    "start_time": "2021-11-03T09:01:43.155Z"
   },
   {
    "duration": -270,
    "start_time": "2021-11-03T09:01:43.158Z"
   },
   {
    "duration": -270,
    "start_time": "2021-11-03T09:01:43.161Z"
   },
   {
    "duration": -272,
    "start_time": "2021-11-03T09:01:43.164Z"
   },
   {
    "duration": -273,
    "start_time": "2021-11-03T09:01:43.167Z"
   },
   {
    "duration": -273,
    "start_time": "2021-11-03T09:01:43.169Z"
   },
   {
    "duration": -274,
    "start_time": "2021-11-03T09:01:43.172Z"
   },
   {
    "duration": -274,
    "start_time": "2021-11-03T09:01:43.175Z"
   },
   {
    "duration": -281,
    "start_time": "2021-11-03T09:01:43.184Z"
   },
   {
    "duration": -283,
    "start_time": "2021-11-03T09:01:43.188Z"
   },
   {
    "duration": -284,
    "start_time": "2021-11-03T09:01:43.191Z"
   },
   {
    "duration": -285,
    "start_time": "2021-11-03T09:01:43.194Z"
   },
   {
    "duration": -285,
    "start_time": "2021-11-03T09:01:43.196Z"
   },
   {
    "duration": -285,
    "start_time": "2021-11-03T09:01:43.198Z"
   },
   {
    "duration": -286,
    "start_time": "2021-11-03T09:01:43.201Z"
   },
   {
    "duration": -285,
    "start_time": "2021-11-03T09:01:43.203Z"
   },
   {
    "duration": -286,
    "start_time": "2021-11-03T09:01:43.206Z"
   },
   {
    "duration": -280,
    "start_time": "2021-11-03T09:01:43.209Z"
   },
   {
    "duration": -280,
    "start_time": "2021-11-03T09:01:43.211Z"
   },
   {
    "duration": -280,
    "start_time": "2021-11-03T09:01:43.213Z"
   },
   {
    "duration": -281,
    "start_time": "2021-11-03T09:01:43.216Z"
   },
   {
    "duration": -280,
    "start_time": "2021-11-03T09:01:43.218Z"
   },
   {
    "duration": -280,
    "start_time": "2021-11-03T09:01:43.220Z"
   },
   {
    "duration": -281,
    "start_time": "2021-11-03T09:01:43.223Z"
   },
   {
    "duration": -281,
    "start_time": "2021-11-03T09:01:43.225Z"
   },
   {
    "duration": -281,
    "start_time": "2021-11-03T09:01:43.227Z"
   },
   {
    "duration": -281,
    "start_time": "2021-11-03T09:01:43.230Z"
   },
   {
    "duration": -282,
    "start_time": "2021-11-03T09:01:43.232Z"
   },
   {
    "duration": -283,
    "start_time": "2021-11-03T09:01:43.235Z"
   },
   {
    "duration": -283,
    "start_time": "2021-11-03T09:01:43.237Z"
   },
   {
    "duration": -292,
    "start_time": "2021-11-03T09:01:43.248Z"
   },
   {
    "duration": -293,
    "start_time": "2021-11-03T09:01:43.251Z"
   },
   {
    "duration": -292,
    "start_time": "2021-11-03T09:01:43.253Z"
   },
   {
    "duration": -294,
    "start_time": "2021-11-03T09:01:43.256Z"
   },
   {
    "duration": -294,
    "start_time": "2021-11-03T09:01:43.259Z"
   },
   {
    "duration": -295,
    "start_time": "2021-11-03T09:01:43.262Z"
   },
   {
    "duration": 86,
    "start_time": "2021-11-03T09:01:57.175Z"
   },
   {
    "duration": 11,
    "start_time": "2021-11-03T09:01:57.263Z"
   },
   {
    "duration": 19,
    "start_time": "2021-11-03T09:01:57.277Z"
   },
   {
    "duration": 46,
    "start_time": "2021-11-03T09:01:57.299Z"
   },
   {
    "duration": 3,
    "start_time": "2021-11-03T09:01:57.348Z"
   },
   {
    "duration": 23,
    "start_time": "2021-11-03T09:01:57.353Z"
   },
   {
    "duration": 17,
    "start_time": "2021-11-03T09:01:57.378Z"
   },
   {
    "duration": 53,
    "start_time": "2021-11-03T09:01:57.398Z"
   },
   {
    "duration": 22,
    "start_time": "2021-11-03T09:01:57.455Z"
   },
   {
    "duration": 50,
    "start_time": "2021-11-03T09:01:57.480Z"
   },
   {
    "duration": 14,
    "start_time": "2021-11-03T09:01:57.533Z"
   },
   {
    "duration": 282,
    "start_time": "2021-11-03T09:01:57.550Z"
   },
   {
    "duration": 10,
    "start_time": "2021-11-03T09:01:57.835Z"
   },
   {
    "duration": 569,
    "start_time": "2021-11-03T09:01:57.848Z"
   },
   {
    "duration": 13,
    "start_time": "2021-11-03T09:01:58.421Z"
   },
   {
    "duration": 293,
    "start_time": "2021-11-03T09:01:58.436Z"
   },
   {
    "duration": 13,
    "start_time": "2021-11-03T09:01:58.731Z"
   },
   {
    "duration": 24,
    "start_time": "2021-11-03T09:01:58.746Z"
   },
   {
    "duration": 10,
    "start_time": "2021-11-03T09:01:58.773Z"
   },
   {
    "duration": 16,
    "start_time": "2021-11-03T09:01:58.786Z"
   },
   {
    "duration": 18,
    "start_time": "2021-11-03T09:01:58.804Z"
   },
   {
    "duration": 695,
    "start_time": "2021-11-03T09:01:58.829Z"
   },
   {
    "duration": 12,
    "start_time": "2021-11-03T09:01:59.529Z"
   },
   {
    "duration": 437,
    "start_time": "2021-11-03T09:01:59.543Z"
   },
   {
    "duration": 21,
    "start_time": "2021-11-03T09:01:59.983Z"
   },
   {
    "duration": 627,
    "start_time": "2021-11-03T09:02:00.007Z"
   },
   {
    "duration": 21,
    "start_time": "2021-11-03T09:02:00.642Z"
   },
   {
    "duration": 61,
    "start_time": "2021-11-03T09:02:00.669Z"
   },
   {
    "duration": 52,
    "start_time": "2021-11-03T09:02:00.733Z"
   },
   {
    "duration": 18,
    "start_time": "2021-11-03T09:02:00.787Z"
   },
   {
    "duration": 26,
    "start_time": "2021-11-03T09:02:00.807Z"
   },
   {
    "duration": 33,
    "start_time": "2021-11-03T09:02:00.835Z"
   },
   {
    "duration": 36,
    "start_time": "2021-11-03T09:02:00.870Z"
   },
   {
    "duration": 46,
    "start_time": "2021-11-03T09:02:00.909Z"
   },
   {
    "duration": 14,
    "start_time": "2021-11-03T09:02:00.957Z"
   },
   {
    "duration": 63,
    "start_time": "2021-11-03T09:02:00.973Z"
   },
   {
    "duration": 12,
    "start_time": "2021-11-03T09:02:01.038Z"
   },
   {
    "duration": 31,
    "start_time": "2021-11-03T09:02:01.053Z"
   },
   {
    "duration": 38,
    "start_time": "2021-11-03T09:02:01.086Z"
   },
   {
    "duration": 26,
    "start_time": "2021-11-03T09:02:01.127Z"
   },
   {
    "duration": 26,
    "start_time": "2021-11-03T09:02:01.156Z"
   },
   {
    "duration": 39,
    "start_time": "2021-11-03T09:02:01.184Z"
   },
   {
    "duration": 41,
    "start_time": "2021-11-03T09:02:01.225Z"
   },
   {
    "duration": 1393,
    "start_time": "2021-11-03T09:02:01.268Z"
   },
   {
    "duration": 9,
    "start_time": "2021-11-03T09:02:02.663Z"
   },
   {
    "duration": 18,
    "start_time": "2021-11-03T09:02:02.674Z"
   },
   {
    "duration": 34,
    "start_time": "2021-11-03T09:02:02.694Z"
   },
   {
    "duration": 25,
    "start_time": "2021-11-03T09:02:02.731Z"
   },
   {
    "duration": 11,
    "start_time": "2021-11-03T09:02:02.759Z"
   },
   {
    "duration": 16,
    "start_time": "2021-11-03T09:02:02.773Z"
   },
   {
    "duration": 20,
    "start_time": "2021-11-03T09:02:02.792Z"
   },
   {
    "duration": 287,
    "start_time": "2021-11-03T09:02:02.814Z"
   },
   {
    "duration": -41,
    "start_time": "2021-11-03T09:02:03.145Z"
   },
   {
    "duration": -43,
    "start_time": "2021-11-03T09:02:03.148Z"
   },
   {
    "duration": -50,
    "start_time": "2021-11-03T09:02:03.157Z"
   },
   {
    "duration": 304,
    "start_time": "2021-11-03T10:06:26.474Z"
   },
   {
    "duration": 236,
    "start_time": "2021-11-03T10:15:14.416Z"
   },
   {
    "duration": 9396,
    "start_time": "2021-11-03T10:15:21.500Z"
   },
   {
    "duration": 421,
    "start_time": "2021-11-03T10:18:44.922Z"
   },
   {
    "duration": 308,
    "start_time": "2021-11-03T10:44:04.572Z"
   },
   {
    "duration": 1023,
    "start_time": "2021-11-03T10:44:28.069Z"
   },
   {
    "duration": 468,
    "start_time": "2021-11-03T10:44:59.334Z"
   },
   {
    "duration": 553,
    "start_time": "2021-11-03T11:55:25.421Z"
   },
   {
    "duration": 15,
    "start_time": "2021-11-03T12:06:07.855Z"
   },
   {
    "duration": 1221,
    "start_time": "2021-11-03T15:30:39.517Z"
   },
   {
    "duration": 9,
    "start_time": "2021-11-03T15:30:40.740Z"
   },
   {
    "duration": 11,
    "start_time": "2021-11-03T15:30:40.751Z"
   },
   {
    "duration": 16,
    "start_time": "2021-11-03T15:30:40.764Z"
   },
   {
    "duration": 2,
    "start_time": "2021-11-03T15:30:40.782Z"
   },
   {
    "duration": 14,
    "start_time": "2021-11-03T15:30:40.786Z"
   },
   {
    "duration": 12,
    "start_time": "2021-11-03T15:30:40.802Z"
   },
   {
    "duration": 19,
    "start_time": "2021-11-03T15:30:40.845Z"
   },
   {
    "duration": 13,
    "start_time": "2021-11-03T15:30:40.865Z"
   },
   {
    "duration": 17,
    "start_time": "2021-11-03T15:30:40.879Z"
   },
   {
    "duration": 8,
    "start_time": "2021-11-03T15:30:40.897Z"
   },
   {
    "duration": 204,
    "start_time": "2021-11-03T15:30:40.906Z"
   },
   {
    "duration": 7,
    "start_time": "2021-11-03T15:30:41.112Z"
   },
   {
    "duration": 305,
    "start_time": "2021-11-03T15:30:41.121Z"
   },
   {
    "duration": 18,
    "start_time": "2021-11-03T15:30:41.428Z"
   },
   {
    "duration": 173,
    "start_time": "2021-11-03T15:30:41.448Z"
   },
   {
    "duration": 9,
    "start_time": "2021-11-03T15:30:41.623Z"
   },
   {
    "duration": 22,
    "start_time": "2021-11-03T15:30:41.634Z"
   },
   {
    "duration": 8,
    "start_time": "2021-11-03T15:30:41.658Z"
   },
   {
    "duration": 14,
    "start_time": "2021-11-03T15:30:41.667Z"
   },
   {
    "duration": 24,
    "start_time": "2021-11-03T15:30:41.683Z"
   },
   {
    "duration": 468,
    "start_time": "2021-11-03T15:30:41.709Z"
   },
   {
    "duration": 8,
    "start_time": "2021-11-03T15:30:42.182Z"
   },
   {
    "duration": 362,
    "start_time": "2021-11-03T15:30:42.193Z"
   },
   {
    "duration": 260,
    "start_time": "2021-11-03T15:30:42.556Z"
   },
   {
    "duration": 4,
    "start_time": "2021-11-03T15:30:42.817Z"
   },
   {
    "duration": 28,
    "start_time": "2021-11-03T15:30:42.822Z"
   },
   {
    "duration": 351,
    "start_time": "2021-11-03T15:30:42.851Z"
   },
   {
    "duration": 413,
    "start_time": "2021-11-03T15:30:43.204Z"
   },
   {
    "duration": -32,
    "start_time": "2021-11-03T15:30:43.651Z"
   },
   {
    "duration": -44,
    "start_time": "2021-11-03T15:30:43.664Z"
   },
   {
    "duration": -70,
    "start_time": "2021-11-03T15:30:43.691Z"
   },
   {
    "duration": -80,
    "start_time": "2021-11-03T15:30:43.702Z"
   },
   {
    "duration": -86,
    "start_time": "2021-11-03T15:30:43.709Z"
   },
   {
    "duration": -95,
    "start_time": "2021-11-03T15:30:43.719Z"
   },
   {
    "duration": -101,
    "start_time": "2021-11-03T15:30:43.726Z"
   },
   {
    "duration": -108,
    "start_time": "2021-11-03T15:30:43.734Z"
   },
   {
    "duration": -114,
    "start_time": "2021-11-03T15:30:43.741Z"
   },
   {
    "duration": -122,
    "start_time": "2021-11-03T15:30:43.750Z"
   },
   {
    "duration": -128,
    "start_time": "2021-11-03T15:30:43.757Z"
   },
   {
    "duration": -135,
    "start_time": "2021-11-03T15:30:43.765Z"
   },
   {
    "duration": -141,
    "start_time": "2021-11-03T15:30:43.773Z"
   },
   {
    "duration": -150,
    "start_time": "2021-11-03T15:30:43.782Z"
   },
   {
    "duration": -167,
    "start_time": "2021-11-03T15:30:43.800Z"
   },
   {
    "duration": -171,
    "start_time": "2021-11-03T15:30:43.805Z"
   },
   {
    "duration": -174,
    "start_time": "2021-11-03T15:30:43.809Z"
   },
   {
    "duration": -178,
    "start_time": "2021-11-03T15:30:43.814Z"
   },
   {
    "duration": -181,
    "start_time": "2021-11-03T15:30:43.818Z"
   },
   {
    "duration": -184,
    "start_time": "2021-11-03T15:30:43.822Z"
   },
   {
    "duration": -186,
    "start_time": "2021-11-03T15:30:43.825Z"
   },
   {
    "duration": -190,
    "start_time": "2021-11-03T15:30:43.830Z"
   },
   {
    "duration": -193,
    "start_time": "2021-11-03T15:30:43.834Z"
   },
   {
    "duration": -196,
    "start_time": "2021-11-03T15:30:43.838Z"
   },
   {
    "duration": -199,
    "start_time": "2021-11-03T15:30:43.842Z"
   },
   {
    "duration": -202,
    "start_time": "2021-11-03T15:30:43.846Z"
   },
   {
    "duration": -205,
    "start_time": "2021-11-03T15:30:43.850Z"
   },
   {
    "duration": -208,
    "start_time": "2021-11-03T15:30:43.854Z"
   },
   {
    "duration": -210,
    "start_time": "2021-11-03T15:30:43.857Z"
   },
   {
    "duration": 5,
    "start_time": "2021-11-03T15:33:45.365Z"
   },
   {
    "duration": 6,
    "start_time": "2021-11-03T15:35:46.447Z"
   },
   {
    "duration": 8,
    "start_time": "2021-11-03T15:35:58.392Z"
   },
   {
    "duration": 10,
    "start_time": "2021-11-03T15:37:40.673Z"
   },
   {
    "duration": 12,
    "start_time": "2021-11-03T15:38:08.474Z"
   },
   {
    "duration": 14,
    "start_time": "2021-11-03T15:38:17.217Z"
   },
   {
    "duration": 14,
    "start_time": "2021-11-03T15:38:25.456Z"
   },
   {
    "duration": 6807,
    "start_time": "2021-11-03T15:46:44.764Z"
   },
   {
    "duration": 12126,
    "start_time": "2021-11-03T15:47:04.315Z"
   },
   {
    "duration": 272,
    "start_time": "2021-11-03T15:47:21.186Z"
   },
   {
    "duration": 172,
    "start_time": "2021-11-03T15:47:41.000Z"
   },
   {
    "duration": 183,
    "start_time": "2021-11-03T15:47:58.363Z"
   },
   {
    "duration": 287,
    "start_time": "2021-11-03T15:48:31.200Z"
   },
   {
    "duration": 314,
    "start_time": "2021-11-03T15:49:07.732Z"
   },
   {
    "duration": 166,
    "start_time": "2021-11-03T15:50:27.678Z"
   },
   {
    "duration": 167,
    "start_time": "2021-11-03T15:50:37.799Z"
   },
   {
    "duration": 172,
    "start_time": "2021-11-03T15:51:20.343Z"
   },
   {
    "duration": 516,
    "start_time": "2021-11-03T15:53:42.716Z"
   },
   {
    "duration": 438,
    "start_time": "2021-11-03T15:54:55.923Z"
   },
   {
    "duration": 1623,
    "start_time": "2021-11-03T15:55:03.307Z"
   },
   {
    "duration": 167,
    "start_time": "2021-11-03T15:55:11.282Z"
   },
   {
    "duration": 215,
    "start_time": "2021-11-03T15:57:21.236Z"
   },
   {
    "duration": 193,
    "start_time": "2021-11-03T15:57:37.910Z"
   },
   {
    "duration": 305,
    "start_time": "2021-11-03T15:57:58.625Z"
   },
   {
    "duration": 288,
    "start_time": "2021-11-03T15:58:09.850Z"
   },
   {
    "duration": 10,
    "start_time": "2021-11-03T15:58:51.254Z"
   },
   {
    "duration": 10,
    "start_time": "2021-11-03T15:59:02.931Z"
   },
   {
    "duration": 374,
    "start_time": "2021-11-03T16:00:00.892Z"
   },
   {
    "duration": 335,
    "start_time": "2021-11-03T16:01:04.682Z"
   },
   {
    "duration": 341,
    "start_time": "2021-11-03T16:02:57.889Z"
   },
   {
    "duration": 461,
    "start_time": "2021-11-03T16:03:04.385Z"
   },
   {
    "duration": 330,
    "start_time": "2021-11-03T16:03:36.218Z"
   },
   {
    "duration": 286,
    "start_time": "2021-11-03T16:05:36.037Z"
   },
   {
    "duration": 342,
    "start_time": "2021-11-03T16:07:06.838Z"
   },
   {
    "duration": 331,
    "start_time": "2021-11-03T16:07:28.455Z"
   },
   {
    "duration": 346,
    "start_time": "2021-11-03T16:07:33.761Z"
   },
   {
    "duration": 295,
    "start_time": "2021-11-03T16:08:16.825Z"
   },
   {
    "duration": 3799,
    "start_time": "2021-11-03T16:30:11.479Z"
   },
   {
    "duration": 1187,
    "start_time": "2021-11-03T16:31:10.612Z"
   },
   {
    "duration": 1629,
    "start_time": "2021-11-03T16:31:27.814Z"
   },
   {
    "duration": 88,
    "start_time": "2021-11-03T16:47:48.798Z"
   },
   {
    "duration": 46,
    "start_time": "2021-11-03T16:47:55.064Z"
   },
   {
    "duration": 286,
    "start_time": "2021-11-03T17:35:13.808Z"
   },
   {
    "duration": 32,
    "start_time": "2021-11-03T17:35:19.172Z"
   },
   {
    "duration": 6,
    "start_time": "2021-11-03T17:35:22.392Z"
   },
   {
    "duration": 9,
    "start_time": "2021-11-03T17:35:40.974Z"
   },
   {
    "duration": 7870,
    "start_time": "2021-11-03T17:37:56.966Z"
   },
   {
    "duration": 8,
    "start_time": "2021-11-03T17:38:13.437Z"
   },
   {
    "duration": 14,
    "start_time": "2021-11-03T17:40:23.870Z"
   },
   {
    "duration": 7,
    "start_time": "2021-11-03T17:41:04.587Z"
   },
   {
    "duration": 4,
    "start_time": "2021-11-03T17:43:05.499Z"
   },
   {
    "duration": 340,
    "start_time": "2021-11-03T17:47:49.803Z"
   },
   {
    "duration": 404,
    "start_time": "2021-11-03T17:48:15.006Z"
   },
   {
    "duration": 324,
    "start_time": "2021-11-03T17:48:31.452Z"
   },
   {
    "duration": 6,
    "start_time": "2021-11-03T17:49:34.979Z"
   },
   {
    "duration": 262,
    "start_time": "2021-11-03T17:53:54.837Z"
   },
   {
    "duration": 7,
    "start_time": "2021-11-03T17:54:32.383Z"
   },
   {
    "duration": 14,
    "start_time": "2021-11-03T17:54:40.375Z"
   },
   {
    "duration": 9,
    "start_time": "2021-11-03T17:55:01.237Z"
   },
   {
    "duration": 1124,
    "start_time": "2021-11-03T18:00:51.913Z"
   },
   {
    "duration": 15,
    "start_time": "2021-11-03T18:00:57.526Z"
   },
   {
    "duration": 12,
    "start_time": "2021-11-03T18:01:01.605Z"
   },
   {
    "duration": 19,
    "start_time": "2021-11-03T18:01:10.997Z"
   },
   {
    "duration": 12,
    "start_time": "2021-11-03T18:01:14.228Z"
   },
   {
    "duration": 1829,
    "start_time": "2021-11-03T18:07:11.259Z"
   },
   {
    "duration": 317,
    "start_time": "2021-11-03T18:08:01.806Z"
   },
   {
    "duration": 37,
    "start_time": "2021-11-03T18:08:42.119Z"
   },
   {
    "duration": 291,
    "start_time": "2021-11-03T18:11:30.007Z"
   },
   {
    "duration": 333,
    "start_time": "2021-11-03T18:11:37.111Z"
   },
   {
    "duration": 5,
    "start_time": "2021-11-03T18:12:03.247Z"
   },
   {
    "duration": 32,
    "start_time": "2021-11-03T18:12:16.261Z"
   },
   {
    "duration": 6597,
    "start_time": "2021-11-03T18:18:51.622Z"
   },
   {
    "duration": 7393,
    "start_time": "2021-11-03T18:19:00.654Z"
   },
   {
    "duration": 10,
    "start_time": "2021-11-03T18:19:38.594Z"
   },
   {
    "duration": 10,
    "start_time": "2021-11-03T18:19:56.983Z"
   },
   {
    "duration": 7162,
    "start_time": "2021-11-03T18:21:15.714Z"
   },
   {
    "duration": 9,
    "start_time": "2021-11-03T18:21:29.205Z"
   },
   {
    "duration": 376,
    "start_time": "2021-11-03T18:30:07.499Z"
   },
   {
    "duration": 261,
    "start_time": "2021-11-03T18:30:25.834Z"
   },
   {
    "duration": 275,
    "start_time": "2021-11-03T18:30:55.854Z"
   },
   {
    "duration": 10,
    "start_time": "2021-11-03T18:31:21.569Z"
   },
   {
    "duration": 351,
    "start_time": "2021-11-03T18:32:09.653Z"
   },
   {
    "duration": 9,
    "start_time": "2021-11-03T18:32:17.696Z"
   },
   {
    "duration": 36,
    "start_time": "2021-11-03T18:34:29.277Z"
   },
   {
    "duration": 34,
    "start_time": "2021-11-03T18:35:04.912Z"
   },
   {
    "duration": 290,
    "start_time": "2021-11-03T18:37:22.878Z"
   },
   {
    "duration": 20,
    "start_time": "2021-11-03T18:38:19.964Z"
   },
   {
    "duration": 23,
    "start_time": "2021-11-03T18:38:56.737Z"
   },
   {
    "duration": 22,
    "start_time": "2021-11-03T18:39:22.126Z"
   },
   {
    "duration": 17,
    "start_time": "2021-11-03T18:40:26.523Z"
   },
   {
    "duration": 22,
    "start_time": "2021-11-03T18:40:59.049Z"
   },
   {
    "duration": 11,
    "start_time": "2021-11-03T18:41:02.430Z"
   },
   {
    "duration": 31,
    "start_time": "2021-11-03T18:41:05.120Z"
   },
   {
    "duration": 22,
    "start_time": "2021-11-03T18:47:40.488Z"
   },
   {
    "duration": 12,
    "start_time": "2021-11-03T18:47:43.000Z"
   },
   {
    "duration": 21,
    "start_time": "2021-11-03T18:47:45.894Z"
   },
   {
    "duration": 20,
    "start_time": "2021-11-03T18:47:53.155Z"
   },
   {
    "duration": 18,
    "start_time": "2021-11-03T18:47:55.340Z"
   },
   {
    "duration": 20,
    "start_time": "2021-11-03T18:47:58.004Z"
   },
   {
    "duration": 19,
    "start_time": "2021-11-03T18:48:18.215Z"
   },
   {
    "duration": 18,
    "start_time": "2021-11-03T18:48:19.842Z"
   },
   {
    "duration": 20,
    "start_time": "2021-11-03T18:48:22.800Z"
   },
   {
    "duration": 20,
    "start_time": "2021-11-03T19:05:23.183Z"
   },
   {
    "duration": 24,
    "start_time": "2021-11-03T19:06:05.410Z"
   },
   {
    "duration": 20,
    "start_time": "2021-11-03T19:07:08.901Z"
   },
   {
    "duration": 11,
    "start_time": "2021-11-03T19:07:12.758Z"
   },
   {
    "duration": 27,
    "start_time": "2021-11-03T19:07:15.553Z"
   },
   {
    "duration": 52,
    "start_time": "2021-11-03T19:07:21.831Z"
   },
   {
    "duration": 12,
    "start_time": "2021-11-03T19:07:21.886Z"
   },
   {
    "duration": 54,
    "start_time": "2021-11-03T19:07:21.901Z"
   },
   {
    "duration": 24,
    "start_time": "2021-11-03T19:07:21.959Z"
   },
   {
    "duration": 3,
    "start_time": "2021-11-03T19:07:21.986Z"
   },
   {
    "duration": 57,
    "start_time": "2021-11-03T19:07:21.991Z"
   },
   {
    "duration": 25,
    "start_time": "2021-11-03T19:07:22.051Z"
   },
   {
    "duration": 22,
    "start_time": "2021-11-03T19:07:22.079Z"
   },
   {
    "duration": 47,
    "start_time": "2021-11-03T19:07:22.104Z"
   },
   {
    "duration": 31,
    "start_time": "2021-11-03T19:07:22.155Z"
   },
   {
    "duration": 9,
    "start_time": "2021-11-03T19:07:22.188Z"
   },
   {
    "duration": 224,
    "start_time": "2021-11-03T19:07:22.199Z"
   },
   {
    "duration": 20,
    "start_time": "2021-11-03T19:07:22.424Z"
   },
   {
    "duration": 328,
    "start_time": "2021-11-03T19:07:22.446Z"
   },
   {
    "duration": 7,
    "start_time": "2021-11-03T19:07:22.776Z"
   },
   {
    "duration": 192,
    "start_time": "2021-11-03T19:07:22.785Z"
   },
   {
    "duration": 9,
    "start_time": "2021-11-03T19:07:22.979Z"
   },
   {
    "duration": 7,
    "start_time": "2021-11-03T19:07:22.990Z"
   },
   {
    "duration": 6,
    "start_time": "2021-11-03T19:07:22.999Z"
   },
   {
    "duration": 9,
    "start_time": "2021-11-03T19:07:23.007Z"
   },
   {
    "duration": 31,
    "start_time": "2021-11-03T19:07:23.017Z"
   },
   {
    "duration": 525,
    "start_time": "2021-11-03T19:07:23.051Z"
   },
   {
    "duration": 10,
    "start_time": "2021-11-03T19:07:23.581Z"
   },
   {
    "duration": 364,
    "start_time": "2021-11-03T19:07:23.593Z"
   },
   {
    "duration": 371,
    "start_time": "2021-11-03T19:07:23.960Z"
   },
   {
    "duration": 20,
    "start_time": "2021-11-03T19:07:24.333Z"
   },
   {
    "duration": 369,
    "start_time": "2021-11-03T19:07:24.355Z"
   },
   {
    "duration": 51,
    "start_time": "2021-11-03T19:07:24.726Z"
   },
   {
    "duration": 3,
    "start_time": "2021-11-03T19:07:24.778Z"
   },
   {
    "duration": 11,
    "start_time": "2021-11-03T19:07:24.783Z"
   },
   {
    "duration": 11,
    "start_time": "2021-11-03T19:07:24.796Z"
   },
   {
    "duration": 46,
    "start_time": "2021-11-03T19:07:24.809Z"
   },
   {
    "duration": 6,
    "start_time": "2021-11-03T19:07:24.858Z"
   },
   {
    "duration": 9,
    "start_time": "2021-11-03T19:07:24.867Z"
   },
   {
    "duration": 8,
    "start_time": "2021-11-03T19:07:24.878Z"
   },
   {
    "duration": 12,
    "start_time": "2021-11-03T19:07:24.888Z"
   },
   {
    "duration": 5,
    "start_time": "2021-11-03T19:07:24.901Z"
   },
   {
    "duration": 4,
    "start_time": "2021-11-03T19:07:24.946Z"
   },
   {
    "duration": 5,
    "start_time": "2021-11-03T19:07:24.954Z"
   },
   {
    "duration": 4,
    "start_time": "2021-11-03T19:07:24.962Z"
   },
   {
    "duration": 6,
    "start_time": "2021-11-03T19:07:24.968Z"
   },
   {
    "duration": 6,
    "start_time": "2021-11-03T19:07:24.976Z"
   },
   {
    "duration": 10,
    "start_time": "2021-11-03T19:07:24.984Z"
   },
   {
    "duration": 9,
    "start_time": "2021-11-03T19:07:24.996Z"
   },
   {
    "duration": 10,
    "start_time": "2021-11-03T19:07:25.006Z"
   },
   {
    "duration": 27,
    "start_time": "2021-11-03T19:07:25.018Z"
   },
   {
    "duration": 5,
    "start_time": "2021-11-03T19:07:25.047Z"
   },
   {
    "duration": 6,
    "start_time": "2021-11-03T19:07:25.055Z"
   },
   {
    "duration": 6,
    "start_time": "2021-11-03T19:07:25.063Z"
   },
   {
    "duration": 244,
    "start_time": "2021-11-03T19:07:24.826Z"
   },
   {
    "duration": 241,
    "start_time": "2021-11-03T19:07:24.830Z"
   },
   {
    "duration": 232,
    "start_time": "2021-11-03T19:07:24.841Z"
   },
   {
    "duration": 227,
    "start_time": "2021-11-03T19:07:24.846Z"
   },
   {
    "duration": 219,
    "start_time": "2021-11-03T19:07:24.855Z"
   },
   {
    "duration": 215,
    "start_time": "2021-11-03T19:07:24.860Z"
   },
   {
    "duration": 204,
    "start_time": "2021-11-03T19:07:24.872Z"
   },
   {
    "duration": 45,
    "start_time": "2021-11-03T19:08:16.172Z"
   },
   {
    "duration": 9,
    "start_time": "2021-11-03T19:08:16.219Z"
   },
   {
    "duration": 10,
    "start_time": "2021-11-03T19:08:16.230Z"
   },
   {
    "duration": 23,
    "start_time": "2021-11-03T19:08:16.242Z"
   },
   {
    "duration": 2,
    "start_time": "2021-11-03T19:08:16.267Z"
   },
   {
    "duration": 13,
    "start_time": "2021-11-03T19:08:16.271Z"
   },
   {
    "duration": 13,
    "start_time": "2021-11-03T19:08:16.286Z"
   },
   {
    "duration": 66,
    "start_time": "2021-11-03T19:08:16.301Z"
   },
   {
    "duration": 14,
    "start_time": "2021-11-03T19:08:16.369Z"
   },
   {
    "duration": 21,
    "start_time": "2021-11-03T19:08:16.385Z"
   },
   {
    "duration": 48,
    "start_time": "2021-11-03T19:08:16.408Z"
   },
   {
    "duration": 201,
    "start_time": "2021-11-03T19:08:16.459Z"
   },
   {
    "duration": 8,
    "start_time": "2021-11-03T19:08:16.662Z"
   },
   {
    "duration": 329,
    "start_time": "2021-11-03T19:08:16.672Z"
   },
   {
    "duration": 7,
    "start_time": "2021-11-03T19:08:17.002Z"
   },
   {
    "duration": 219,
    "start_time": "2021-11-03T19:08:17.010Z"
   },
   {
    "duration": 22,
    "start_time": "2021-11-03T19:08:17.231Z"
   },
   {
    "duration": 8,
    "start_time": "2021-11-03T19:08:17.256Z"
   },
   {
    "duration": 12,
    "start_time": "2021-11-03T19:08:17.266Z"
   },
   {
    "duration": 10,
    "start_time": "2021-11-03T19:08:17.280Z"
   },
   {
    "duration": 9,
    "start_time": "2021-11-03T19:08:17.291Z"
   },
   {
    "duration": 481,
    "start_time": "2021-11-03T19:08:17.302Z"
   },
   {
    "duration": 9,
    "start_time": "2021-11-03T19:08:17.787Z"
   },
   {
    "duration": 309,
    "start_time": "2021-11-03T19:08:17.798Z"
   },
   {
    "duration": 372,
    "start_time": "2021-11-03T19:08:18.108Z"
   },
   {
    "duration": 10,
    "start_time": "2021-11-03T19:08:18.482Z"
   },
   {
    "duration": 325,
    "start_time": "2021-11-03T19:08:18.493Z"
   },
   {
    "duration": 49,
    "start_time": "2021-11-03T19:08:18.820Z"
   },
   {
    "duration": 2,
    "start_time": "2021-11-03T19:08:18.871Z"
   },
   {
    "duration": 35,
    "start_time": "2021-11-03T19:08:18.875Z"
   },
   {
    "duration": 9,
    "start_time": "2021-11-03T19:08:18.912Z"
   },
   {
    "duration": 11,
    "start_time": "2021-11-03T19:08:18.922Z"
   },
   {
    "duration": 4,
    "start_time": "2021-11-03T19:08:18.935Z"
   },
   {
    "duration": 10,
    "start_time": "2021-11-03T19:08:18.940Z"
   },
   {
    "duration": 10,
    "start_time": "2021-11-03T19:08:18.953Z"
   },
   {
    "duration": 10,
    "start_time": "2021-11-03T19:08:18.965Z"
   },
   {
    "duration": 6,
    "start_time": "2021-11-03T19:08:18.977Z"
   },
   {
    "duration": 6,
    "start_time": "2021-11-03T19:08:18.984Z"
   },
   {
    "duration": 7,
    "start_time": "2021-11-03T19:08:18.991Z"
   },
   {
    "duration": 46,
    "start_time": "2021-11-03T19:08:18.999Z"
   },
   {
    "duration": 10,
    "start_time": "2021-11-03T19:08:19.047Z"
   },
   {
    "duration": 7,
    "start_time": "2021-11-03T19:08:19.059Z"
   },
   {
    "duration": 6,
    "start_time": "2021-11-03T19:08:19.067Z"
   },
   {
    "duration": 7,
    "start_time": "2021-11-03T19:08:19.075Z"
   },
   {
    "duration": 9,
    "start_time": "2021-11-03T19:08:19.084Z"
   },
   {
    "duration": 12,
    "start_time": "2021-11-03T19:08:19.094Z"
   },
   {
    "duration": 9,
    "start_time": "2021-11-03T19:08:19.108Z"
   },
   {
    "duration": 6,
    "start_time": "2021-11-03T19:08:19.118Z"
   },
   {
    "duration": 6,
    "start_time": "2021-11-03T19:08:19.126Z"
   },
   {
    "duration": 14,
    "start_time": "2021-11-03T19:08:19.133Z"
   },
   {
    "duration": 1021,
    "start_time": "2021-11-03T19:08:19.149Z"
   },
   {
    "duration": 21,
    "start_time": "2021-11-03T19:08:20.172Z"
   },
   {
    "duration": 15,
    "start_time": "2021-11-03T19:08:20.194Z"
   },
   {
    "duration": 37,
    "start_time": "2021-11-03T19:08:20.211Z"
   },
   {
    "duration": 277,
    "start_time": "2021-11-03T19:08:20.250Z"
   },
   {
    "duration": 297,
    "start_time": "2021-11-03T19:08:20.232Z"
   },
   {
    "duration": 20,
    "start_time": "2021-11-03T19:09:20.138Z"
   },
   {
    "duration": 13,
    "start_time": "2021-11-03T19:09:59.545Z"
   },
   {
    "duration": 3,
    "start_time": "2021-11-03T21:12:00.047Z"
   },
   {
    "duration": 31,
    "start_time": "2021-11-03T21:12:02.497Z"
   },
   {
    "duration": 69,
    "start_time": "2021-11-03T21:12:06.624Z"
   },
   {
    "duration": 13,
    "start_time": "2021-11-03T21:12:06.696Z"
   },
   {
    "duration": 39,
    "start_time": "2021-11-03T21:12:06.712Z"
   },
   {
    "duration": 22,
    "start_time": "2021-11-03T21:12:06.754Z"
   },
   {
    "duration": 3,
    "start_time": "2021-11-03T21:12:06.779Z"
   },
   {
    "duration": 12,
    "start_time": "2021-11-03T21:12:06.783Z"
   },
   {
    "duration": 13,
    "start_time": "2021-11-03T21:12:06.797Z"
   },
   {
    "duration": 20,
    "start_time": "2021-11-03T21:12:06.846Z"
   },
   {
    "duration": 14,
    "start_time": "2021-11-03T21:12:06.867Z"
   },
   {
    "duration": 19,
    "start_time": "2021-11-03T21:12:06.883Z"
   },
   {
    "duration": 8,
    "start_time": "2021-11-03T21:12:06.904Z"
   },
   {
    "duration": 168,
    "start_time": "2021-11-03T21:12:06.945Z"
   },
   {
    "duration": 7,
    "start_time": "2021-11-03T21:12:07.114Z"
   },
   {
    "duration": 304,
    "start_time": "2021-11-03T21:12:07.122Z"
   },
   {
    "duration": 6,
    "start_time": "2021-11-03T21:12:07.428Z"
   },
   {
    "duration": 575,
    "start_time": "2021-11-03T21:12:07.436Z"
   },
   {
    "duration": 10,
    "start_time": "2021-11-03T21:12:08.012Z"
   },
   {
    "duration": 4,
    "start_time": "2021-11-03T21:12:08.024Z"
   },
   {
    "duration": 18,
    "start_time": "2021-11-03T21:12:08.030Z"
   },
   {
    "duration": 10,
    "start_time": "2021-11-03T21:12:08.050Z"
   },
   {
    "duration": 10,
    "start_time": "2021-11-03T21:12:08.062Z"
   },
   {
    "duration": 487,
    "start_time": "2021-11-03T21:12:08.074Z"
   },
   {
    "duration": 9,
    "start_time": "2021-11-03T21:12:08.564Z"
   },
   {
    "duration": 299,
    "start_time": "2021-11-03T21:12:08.576Z"
   },
   {
    "duration": 361,
    "start_time": "2021-11-03T21:12:08.877Z"
   },
   {
    "duration": 11,
    "start_time": "2021-11-03T21:12:09.240Z"
   },
   {
    "duration": 315,
    "start_time": "2021-11-03T21:12:09.253Z"
   },
   {
    "duration": 37,
    "start_time": "2021-11-03T21:12:09.570Z"
   },
   {
    "duration": 8,
    "start_time": "2021-11-03T21:12:09.609Z"
   },
   {
    "duration": 36,
    "start_time": "2021-11-03T21:12:09.619Z"
   },
   {
    "duration": 29,
    "start_time": "2021-11-03T21:12:09.656Z"
   },
   {
    "duration": 18,
    "start_time": "2021-11-03T21:12:09.687Z"
   },
   {
    "duration": 11,
    "start_time": "2021-11-03T21:12:09.707Z"
   },
   {
    "duration": 17,
    "start_time": "2021-11-03T21:12:09.720Z"
   },
   {
    "duration": 26,
    "start_time": "2021-11-03T21:12:09.739Z"
   },
   {
    "duration": 18,
    "start_time": "2021-11-03T21:12:09.767Z"
   },
   {
    "duration": 12,
    "start_time": "2021-11-03T21:12:09.787Z"
   },
   {
    "duration": 13,
    "start_time": "2021-11-03T21:12:09.801Z"
   },
   {
    "duration": 23,
    "start_time": "2021-11-03T21:12:09.816Z"
   },
   {
    "duration": 19,
    "start_time": "2021-11-03T21:12:09.841Z"
   },
   {
    "duration": 10,
    "start_time": "2021-11-03T21:12:09.863Z"
   },
   {
    "duration": 20,
    "start_time": "2021-11-03T21:12:09.874Z"
   },
   {
    "duration": 12,
    "start_time": "2021-11-03T21:12:09.897Z"
   },
   {
    "duration": 16,
    "start_time": "2021-11-03T21:12:09.911Z"
   },
   {
    "duration": 18,
    "start_time": "2021-11-03T21:12:09.929Z"
   },
   {
    "duration": 22,
    "start_time": "2021-11-03T21:12:09.949Z"
   },
   {
    "duration": 17,
    "start_time": "2021-11-03T21:12:09.973Z"
   },
   {
    "duration": 19,
    "start_time": "2021-11-03T21:12:09.991Z"
   },
   {
    "duration": 20,
    "start_time": "2021-11-03T21:12:10.013Z"
   },
   {
    "duration": 21,
    "start_time": "2021-11-03T21:12:10.035Z"
   },
   {
    "duration": 944,
    "start_time": "2021-11-03T21:12:10.058Z"
   },
   {
    "duration": 18,
    "start_time": "2021-11-03T21:12:11.004Z"
   },
   {
    "duration": 2,
    "start_time": "2021-11-03T21:12:11.024Z"
   },
   {
    "duration": 40,
    "start_time": "2021-11-03T21:12:11.028Z"
   },
   {
    "duration": 10,
    "start_time": "2021-11-03T21:12:11.070Z"
   },
   {
    "duration": 28,
    "start_time": "2021-11-03T21:12:11.082Z"
   },
   {
    "duration": 11,
    "start_time": "2021-11-03T21:12:11.111Z"
   },
   {
    "duration": 34,
    "start_time": "2021-11-03T21:12:11.126Z"
   },
   {
    "duration": 15,
    "start_time": "2021-11-03T21:12:11.161Z"
   },
   {
    "duration": 62,
    "start_time": "2021-11-03T21:12:33.749Z"
   },
   {
    "duration": 19,
    "start_time": "2021-11-03T21:12:52.975Z"
   },
   {
    "duration": 21,
    "start_time": "2021-11-03T21:12:55.465Z"
   },
   {
    "duration": 9,
    "start_time": "2021-11-03T21:14:41.062Z"
   },
   {
    "duration": 3,
    "start_time": "2021-11-03T21:15:20.688Z"
   },
   {
    "duration": 47,
    "start_time": "2021-11-03T21:15:28.502Z"
   },
   {
    "duration": 9,
    "start_time": "2021-11-03T21:15:28.551Z"
   },
   {
    "duration": 9,
    "start_time": "2021-11-03T21:15:28.562Z"
   },
   {
    "duration": 15,
    "start_time": "2021-11-03T21:15:28.573Z"
   },
   {
    "duration": 2,
    "start_time": "2021-11-03T21:15:28.590Z"
   },
   {
    "duration": 51,
    "start_time": "2021-11-03T21:15:28.593Z"
   },
   {
    "duration": 11,
    "start_time": "2021-11-03T21:15:28.647Z"
   },
   {
    "duration": 21,
    "start_time": "2021-11-03T21:15:28.661Z"
   },
   {
    "duration": 15,
    "start_time": "2021-11-03T21:15:28.684Z"
   },
   {
    "duration": 61,
    "start_time": "2021-11-03T21:15:28.701Z"
   },
   {
    "duration": 8,
    "start_time": "2021-11-03T21:15:28.763Z"
   },
   {
    "duration": 195,
    "start_time": "2021-11-03T21:15:28.772Z"
   },
   {
    "duration": 8,
    "start_time": "2021-11-03T21:15:28.968Z"
   },
   {
    "duration": 406,
    "start_time": "2021-11-03T21:15:28.978Z"
   },
   {
    "duration": 6,
    "start_time": "2021-11-03T21:15:29.386Z"
   },
   {
    "duration": 178,
    "start_time": "2021-11-03T21:15:29.394Z"
   },
   {
    "duration": 9,
    "start_time": "2021-11-03T21:15:29.574Z"
   },
   {
    "duration": 7,
    "start_time": "2021-11-03T21:15:29.585Z"
   },
   {
    "duration": 5,
    "start_time": "2021-11-03T21:15:29.594Z"
   },
   {
    "duration": 8,
    "start_time": "2021-11-03T21:15:29.601Z"
   },
   {
    "duration": 10,
    "start_time": "2021-11-03T21:15:29.610Z"
   },
   {
    "duration": 473,
    "start_time": "2021-11-03T21:15:29.622Z"
   },
   {
    "duration": 11,
    "start_time": "2021-11-03T21:15:30.100Z"
   },
   {
    "duration": 365,
    "start_time": "2021-11-03T21:15:30.114Z"
   },
   {
    "duration": 374,
    "start_time": "2021-11-03T21:15:30.481Z"
   },
   {
    "duration": 11,
    "start_time": "2021-11-03T21:15:30.857Z"
   },
   {
    "duration": 309,
    "start_time": "2021-11-03T21:15:30.870Z"
   },
   {
    "duration": 35,
    "start_time": "2021-11-03T21:15:31.181Z"
   },
   {
    "duration": 22,
    "start_time": "2021-11-03T21:15:31.219Z"
   },
   {
    "duration": 25,
    "start_time": "2021-11-03T21:15:31.243Z"
   },
   {
    "duration": 14,
    "start_time": "2021-11-03T21:15:31.270Z"
   },
   {
    "duration": 57,
    "start_time": "2021-11-03T21:15:31.286Z"
   },
   {
    "duration": 11,
    "start_time": "2021-11-03T21:15:31.344Z"
   },
   {
    "duration": 23,
    "start_time": "2021-11-03T21:15:31.356Z"
   },
   {
    "duration": 25,
    "start_time": "2021-11-03T21:15:31.380Z"
   },
   {
    "duration": 25,
    "start_time": "2021-11-03T21:15:31.406Z"
   },
   {
    "duration": 21,
    "start_time": "2021-11-03T21:15:31.433Z"
   },
   {
    "duration": 30,
    "start_time": "2021-11-03T21:15:31.456Z"
   },
   {
    "duration": 25,
    "start_time": "2021-11-03T21:15:31.487Z"
   },
   {
    "duration": 34,
    "start_time": "2021-11-03T21:15:31.514Z"
   },
   {
    "duration": 27,
    "start_time": "2021-11-03T21:15:31.549Z"
   },
   {
    "duration": 30,
    "start_time": "2021-11-03T21:15:31.578Z"
   },
   {
    "duration": 26,
    "start_time": "2021-11-03T21:15:31.609Z"
   },
   {
    "duration": 33,
    "start_time": "2021-11-03T21:15:31.636Z"
   },
   {
    "duration": 37,
    "start_time": "2021-11-03T21:15:31.671Z"
   },
   {
    "duration": 32,
    "start_time": "2021-11-03T21:15:31.710Z"
   },
   {
    "duration": 28,
    "start_time": "2021-11-03T21:15:31.744Z"
   },
   {
    "duration": 27,
    "start_time": "2021-11-03T21:15:31.773Z"
   },
   {
    "duration": 27,
    "start_time": "2021-11-03T21:15:31.802Z"
   },
   {
    "duration": 36,
    "start_time": "2021-11-03T21:15:31.831Z"
   },
   {
    "duration": 618,
    "start_time": "2021-11-03T21:15:31.869Z"
   },
   {
    "duration": 3,
    "start_time": "2021-11-03T21:15:32.488Z"
   },
   {
    "duration": 270,
    "start_time": "2021-11-03T21:15:32.493Z"
   },
   {
    "duration": -137,
    "start_time": "2021-11-03T21:15:32.902Z"
   },
   {
    "duration": -148,
    "start_time": "2021-11-03T21:15:32.914Z"
   },
   {
    "duration": -155,
    "start_time": "2021-11-03T21:15:32.922Z"
   },
   {
    "duration": -164,
    "start_time": "2021-11-03T21:15:32.932Z"
   },
   {
    "duration": -171,
    "start_time": "2021-11-03T21:15:32.940Z"
   },
   {
    "duration": -179,
    "start_time": "2021-11-03T21:15:32.949Z"
   },
   {
    "duration": -186,
    "start_time": "2021-11-03T21:15:32.957Z"
   },
   {
    "duration": -193,
    "start_time": "2021-11-03T21:15:32.966Z"
   },
   {
    "duration": 18,
    "start_time": "2021-11-03T21:15:50.505Z"
   },
   {
    "duration": 46,
    "start_time": "2021-11-03T21:15:54.929Z"
   },
   {
    "duration": 9,
    "start_time": "2021-11-03T21:15:54.977Z"
   },
   {
    "duration": 14,
    "start_time": "2021-11-03T21:15:54.988Z"
   },
   {
    "duration": 48,
    "start_time": "2021-11-03T21:15:55.004Z"
   },
   {
    "duration": 2,
    "start_time": "2021-11-03T21:15:55.054Z"
   },
   {
    "duration": 14,
    "start_time": "2021-11-03T21:15:55.058Z"
   },
   {
    "duration": 17,
    "start_time": "2021-11-03T21:15:55.074Z"
   },
   {
    "duration": 50,
    "start_time": "2021-11-03T21:15:55.094Z"
   },
   {
    "duration": 16,
    "start_time": "2021-11-03T21:15:55.147Z"
   },
   {
    "duration": 20,
    "start_time": "2021-11-03T21:15:55.165Z"
   },
   {
    "duration": 10,
    "start_time": "2021-11-03T21:15:55.187Z"
   },
   {
    "duration": 185,
    "start_time": "2021-11-03T21:15:55.199Z"
   },
   {
    "duration": 7,
    "start_time": "2021-11-03T21:15:55.386Z"
   },
   {
    "duration": 309,
    "start_time": "2021-11-03T21:15:55.395Z"
   },
   {
    "duration": 6,
    "start_time": "2021-11-03T21:15:55.706Z"
   },
   {
    "duration": 183,
    "start_time": "2021-11-03T21:15:55.714Z"
   },
   {
    "duration": 10,
    "start_time": "2021-11-03T21:15:55.899Z"
   },
   {
    "duration": 12,
    "start_time": "2021-11-03T21:15:55.910Z"
   },
   {
    "duration": 13,
    "start_time": "2021-11-03T21:15:55.924Z"
   },
   {
    "duration": 15,
    "start_time": "2021-11-03T21:15:55.939Z"
   },
   {
    "duration": 12,
    "start_time": "2021-11-03T21:15:55.956Z"
   },
   {
    "duration": 513,
    "start_time": "2021-11-03T21:15:55.970Z"
   },
   {
    "duration": 11,
    "start_time": "2021-11-03T21:15:56.487Z"
   },
   {
    "duration": 377,
    "start_time": "2021-11-03T21:15:56.500Z"
   },
   {
    "duration": 370,
    "start_time": "2021-11-03T21:15:56.878Z"
   },
   {
    "duration": 12,
    "start_time": "2021-11-03T21:15:57.250Z"
   },
   {
    "duration": 493,
    "start_time": "2021-11-03T21:15:57.264Z"
   },
   {
    "duration": 38,
    "start_time": "2021-11-03T21:15:57.760Z"
   },
   {
    "duration": 2,
    "start_time": "2021-11-03T21:15:57.800Z"
   },
   {
    "duration": 16,
    "start_time": "2021-11-03T21:15:57.804Z"
   },
   {
    "duration": 28,
    "start_time": "2021-11-03T21:15:57.822Z"
   },
   {
    "duration": 9,
    "start_time": "2021-11-03T21:15:57.852Z"
   },
   {
    "duration": 4,
    "start_time": "2021-11-03T21:15:57.863Z"
   },
   {
    "duration": 12,
    "start_time": "2021-11-03T21:15:57.868Z"
   },
   {
    "duration": 12,
    "start_time": "2021-11-03T21:15:57.882Z"
   },
   {
    "duration": 11,
    "start_time": "2021-11-03T21:15:57.895Z"
   },
   {
    "duration": 37,
    "start_time": "2021-11-03T21:15:57.908Z"
   },
   {
    "duration": 5,
    "start_time": "2021-11-03T21:15:57.948Z"
   },
   {
    "duration": 6,
    "start_time": "2021-11-03T21:15:57.955Z"
   },
   {
    "duration": 6,
    "start_time": "2021-11-03T21:15:57.963Z"
   },
   {
    "duration": 5,
    "start_time": "2021-11-03T21:15:57.971Z"
   },
   {
    "duration": 7,
    "start_time": "2021-11-03T21:15:57.977Z"
   },
   {
    "duration": 4,
    "start_time": "2021-11-03T21:15:57.986Z"
   },
   {
    "duration": 5,
    "start_time": "2021-11-03T21:15:57.992Z"
   },
   {
    "duration": 5,
    "start_time": "2021-11-03T21:15:57.998Z"
   },
   {
    "duration": 39,
    "start_time": "2021-11-03T21:15:58.005Z"
   },
   {
    "duration": 3,
    "start_time": "2021-11-03T21:15:58.046Z"
   },
   {
    "duration": 7,
    "start_time": "2021-11-03T21:15:58.050Z"
   },
   {
    "duration": 5,
    "start_time": "2021-11-03T21:15:58.058Z"
   },
   {
    "duration": 10,
    "start_time": "2021-11-03T21:15:58.064Z"
   },
   {
    "duration": 700,
    "start_time": "2021-11-03T21:15:58.076Z"
   },
   {
    "duration": 3,
    "start_time": "2021-11-03T21:15:58.778Z"
   },
   {
    "duration": 22,
    "start_time": "2021-11-03T21:15:58.782Z"
   },
   {
    "duration": 2,
    "start_time": "2021-11-03T21:15:58.805Z"
   },
   {
    "duration": 22,
    "start_time": "2021-11-03T21:15:58.809Z"
   },
   {
    "duration": 27,
    "start_time": "2021-11-03T21:15:58.833Z"
   },
   {
    "duration": 10,
    "start_time": "2021-11-03T21:15:58.861Z"
   },
   {
    "duration": 21,
    "start_time": "2021-11-03T21:15:58.873Z"
   },
   {
    "duration": 11,
    "start_time": "2021-11-03T21:15:58.895Z"
   },
   {
    "duration": 48,
    "start_time": "2021-11-03T21:15:58.908Z"
   },
   {
    "duration": 10,
    "start_time": "2021-11-03T21:15:58.958Z"
   },
   {
    "duration": 261,
    "start_time": "2021-11-03T21:22:26.490Z"
   },
   {
    "duration": 44,
    "start_time": "2021-11-03T21:22:33.335Z"
   },
   {
    "duration": 8,
    "start_time": "2021-11-03T21:22:33.381Z"
   },
   {
    "duration": 9,
    "start_time": "2021-11-03T21:22:33.391Z"
   },
   {
    "duration": 16,
    "start_time": "2021-11-03T21:22:33.401Z"
   },
   {
    "duration": 3,
    "start_time": "2021-11-03T21:22:33.444Z"
   },
   {
    "duration": 11,
    "start_time": "2021-11-03T21:22:33.449Z"
   },
   {
    "duration": 11,
    "start_time": "2021-11-03T21:22:33.461Z"
   },
   {
    "duration": 18,
    "start_time": "2021-11-03T21:22:33.474Z"
   },
   {
    "duration": 13,
    "start_time": "2021-11-03T21:22:33.493Z"
   },
   {
    "duration": 50,
    "start_time": "2021-11-03T21:22:33.507Z"
   },
   {
    "duration": 8,
    "start_time": "2021-11-03T21:22:33.559Z"
   },
   {
    "duration": 176,
    "start_time": "2021-11-03T21:22:33.568Z"
   },
   {
    "duration": 7,
    "start_time": "2021-11-03T21:22:33.745Z"
   },
   {
    "duration": 290,
    "start_time": "2021-11-03T21:22:33.754Z"
   },
   {
    "duration": 6,
    "start_time": "2021-11-03T21:22:34.046Z"
   },
   {
    "duration": 163,
    "start_time": "2021-11-03T21:22:34.054Z"
   },
   {
    "duration": 9,
    "start_time": "2021-11-03T21:22:34.219Z"
   },
   {
    "duration": 17,
    "start_time": "2021-11-03T21:22:34.229Z"
   },
   {
    "duration": 7,
    "start_time": "2021-11-03T21:22:34.248Z"
   },
   {
    "duration": 8,
    "start_time": "2021-11-03T21:22:34.258Z"
   },
   {
    "duration": 12,
    "start_time": "2021-11-03T21:22:34.268Z"
   },
   {
    "duration": 458,
    "start_time": "2021-11-03T21:22:34.282Z"
   },
   {
    "duration": 9,
    "start_time": "2021-11-03T21:22:34.745Z"
   },
   {
    "duration": 297,
    "start_time": "2021-11-03T21:22:34.757Z"
   },
   {
    "duration": 334,
    "start_time": "2021-11-03T21:22:35.056Z"
   },
   {
    "duration": 11,
    "start_time": "2021-11-03T21:22:35.392Z"
   },
   {
    "duration": 397,
    "start_time": "2021-11-03T21:22:35.405Z"
   },
   {
    "duration": 440,
    "start_time": "2021-11-03T21:22:35.804Z"
   },
   {
    "duration": 2,
    "start_time": "2021-11-03T21:22:36.246Z"
   },
   {
    "duration": 42,
    "start_time": "2021-11-03T21:22:36.250Z"
   },
   {
    "duration": 30,
    "start_time": "2021-11-03T21:22:36.295Z"
   },
   {
    "duration": 16,
    "start_time": "2021-11-03T21:22:36.328Z"
   },
   {
    "duration": 5,
    "start_time": "2021-11-03T21:22:36.346Z"
   },
   {
    "duration": 9,
    "start_time": "2021-11-03T21:22:36.353Z"
   },
   {
    "duration": 16,
    "start_time": "2021-11-03T21:22:36.364Z"
   },
   {
    "duration": 18,
    "start_time": "2021-11-03T21:22:36.382Z"
   },
   {
    "duration": 11,
    "start_time": "2021-11-03T21:22:36.403Z"
   },
   {
    "duration": 5,
    "start_time": "2021-11-03T21:22:36.417Z"
   },
   {
    "duration": 21,
    "start_time": "2021-11-03T21:22:36.424Z"
   },
   {
    "duration": 5,
    "start_time": "2021-11-03T21:22:36.447Z"
   },
   {
    "duration": 6,
    "start_time": "2021-11-03T21:22:36.454Z"
   },
   {
    "duration": 13,
    "start_time": "2021-11-03T21:22:36.462Z"
   },
   {
    "duration": 13,
    "start_time": "2021-11-03T21:22:36.477Z"
   },
   {
    "duration": 7,
    "start_time": "2021-11-03T21:22:36.492Z"
   },
   {
    "duration": 6,
    "start_time": "2021-11-03T21:22:36.501Z"
   },
   {
    "duration": 7,
    "start_time": "2021-11-03T21:22:36.509Z"
   },
   {
    "duration": 6,
    "start_time": "2021-11-03T21:22:36.518Z"
   },
   {
    "duration": 26,
    "start_time": "2021-11-03T21:22:36.526Z"
   },
   {
    "duration": 6,
    "start_time": "2021-11-03T21:22:36.555Z"
   },
   {
    "duration": 9,
    "start_time": "2021-11-03T21:22:36.563Z"
   },
   {
    "duration": 862,
    "start_time": "2021-11-03T21:22:36.575Z"
   },
   {
    "duration": 253,
    "start_time": "2021-11-03T21:22:37.439Z"
   },
   {
    "duration": -1302,
    "start_time": "2021-11-03T21:22:38.996Z"
   },
   {
    "duration": -1310,
    "start_time": "2021-11-03T21:22:39.005Z"
   },
   {
    "duration": -1321,
    "start_time": "2021-11-03T21:22:39.017Z"
   },
   {
    "duration": -1330,
    "start_time": "2021-11-03T21:22:39.027Z"
   },
   {
    "duration": -1343,
    "start_time": "2021-11-03T21:22:39.041Z"
   },
   {
    "duration": -1351,
    "start_time": "2021-11-03T21:22:39.050Z"
   },
   {
    "duration": -1361,
    "start_time": "2021-11-03T21:22:39.061Z"
   },
   {
    "duration": -1368,
    "start_time": "2021-11-03T21:22:39.069Z"
   },
   {
    "duration": -1378,
    "start_time": "2021-11-03T21:22:39.080Z"
   },
   {
    "duration": -1385,
    "start_time": "2021-11-03T21:22:39.088Z"
   },
   {
    "duration": 283,
    "start_time": "2021-11-03T21:23:00.535Z"
   },
   {
    "duration": 264,
    "start_time": "2021-11-03T21:23:14.239Z"
   },
   {
    "duration": 1211,
    "start_time": "2021-11-03T21:23:55.545Z"
   },
   {
    "duration": 10,
    "start_time": "2021-11-03T21:23:56.759Z"
   },
   {
    "duration": 11,
    "start_time": "2021-11-03T21:23:56.772Z"
   },
   {
    "duration": 24,
    "start_time": "2021-11-03T21:23:56.785Z"
   },
   {
    "duration": 3,
    "start_time": "2021-11-03T21:23:56.811Z"
   },
   {
    "duration": 35,
    "start_time": "2021-11-03T21:23:56.815Z"
   },
   {
    "duration": 14,
    "start_time": "2021-11-03T21:23:56.853Z"
   },
   {
    "duration": 24,
    "start_time": "2021-11-03T21:23:56.869Z"
   },
   {
    "duration": 15,
    "start_time": "2021-11-03T21:23:56.895Z"
   },
   {
    "duration": 55,
    "start_time": "2021-11-03T21:23:56.911Z"
   },
   {
    "duration": 9,
    "start_time": "2021-11-03T21:23:56.968Z"
   },
   {
    "duration": 186,
    "start_time": "2021-11-03T21:23:56.979Z"
   },
   {
    "duration": 6,
    "start_time": "2021-11-03T21:23:57.167Z"
   },
   {
    "duration": 315,
    "start_time": "2021-11-03T21:23:57.175Z"
   },
   {
    "duration": 6,
    "start_time": "2021-11-03T21:23:57.491Z"
   },
   {
    "duration": 182,
    "start_time": "2021-11-03T21:23:57.498Z"
   },
   {
    "duration": 10,
    "start_time": "2021-11-03T21:23:57.682Z"
   },
   {
    "duration": 8,
    "start_time": "2021-11-03T21:23:57.694Z"
   },
   {
    "duration": 7,
    "start_time": "2021-11-03T21:23:57.703Z"
   },
   {
    "duration": 7,
    "start_time": "2021-11-03T21:23:57.711Z"
   },
   {
    "duration": 11,
    "start_time": "2021-11-03T21:23:57.719Z"
   },
   {
    "duration": 454,
    "start_time": "2021-11-03T21:23:57.745Z"
   },
   {
    "duration": 10,
    "start_time": "2021-11-03T21:23:58.202Z"
   },
   {
    "duration": 303,
    "start_time": "2021-11-03T21:23:58.214Z"
   },
   {
    "duration": 360,
    "start_time": "2021-11-03T21:23:58.519Z"
   },
   {
    "duration": 9,
    "start_time": "2021-11-03T21:23:58.881Z"
   },
   {
    "duration": 391,
    "start_time": "2021-11-03T21:23:58.892Z"
   },
   {
    "duration": 36,
    "start_time": "2021-11-03T21:23:59.285Z"
   },
   {
    "duration": 4,
    "start_time": "2021-11-03T21:23:59.323Z"
   },
   {
    "duration": 28,
    "start_time": "2021-11-03T21:23:59.328Z"
   },
   {
    "duration": 13,
    "start_time": "2021-11-03T21:23:59.359Z"
   },
   {
    "duration": 16,
    "start_time": "2021-11-03T21:23:59.374Z"
   },
   {
    "duration": 5,
    "start_time": "2021-11-03T21:23:59.392Z"
   },
   {
    "duration": 9,
    "start_time": "2021-11-03T21:23:59.398Z"
   },
   {
    "duration": 41,
    "start_time": "2021-11-03T21:23:59.409Z"
   },
   {
    "duration": 11,
    "start_time": "2021-11-03T21:23:59.452Z"
   },
   {
    "duration": 3,
    "start_time": "2021-11-03T21:23:59.465Z"
   },
   {
    "duration": 7,
    "start_time": "2021-11-03T21:23:59.470Z"
   },
   {
    "duration": 5,
    "start_time": "2021-11-03T21:23:59.479Z"
   },
   {
    "duration": 4,
    "start_time": "2021-11-03T21:23:59.486Z"
   },
   {
    "duration": 9,
    "start_time": "2021-11-03T21:23:59.492Z"
   },
   {
    "duration": 5,
    "start_time": "2021-11-03T21:23:59.503Z"
   },
   {
    "duration": 4,
    "start_time": "2021-11-03T21:23:59.509Z"
   },
   {
    "duration": 6,
    "start_time": "2021-11-03T21:23:59.515Z"
   },
   {
    "duration": 22,
    "start_time": "2021-11-03T21:23:59.522Z"
   },
   {
    "duration": 5,
    "start_time": "2021-11-03T21:23:59.547Z"
   },
   {
    "duration": 16,
    "start_time": "2021-11-03T21:23:59.554Z"
   },
   {
    "duration": 4,
    "start_time": "2021-11-03T21:23:59.572Z"
   },
   {
    "duration": 6,
    "start_time": "2021-11-03T21:23:59.578Z"
   },
   {
    "duration": 8,
    "start_time": "2021-11-03T21:23:59.585Z"
   },
   {
    "duration": 844,
    "start_time": "2021-11-03T21:23:59.594Z"
   },
   {
    "duration": 423,
    "start_time": "2021-11-03T21:24:00.440Z"
   },
   {
    "duration": -29,
    "start_time": "2021-11-03T21:24:00.893Z"
   },
   {
    "duration": -37,
    "start_time": "2021-11-03T21:24:00.902Z"
   },
   {
    "duration": -44,
    "start_time": "2021-11-03T21:24:00.910Z"
   },
   {
    "duration": -52,
    "start_time": "2021-11-03T21:24:00.919Z"
   },
   {
    "duration": -60,
    "start_time": "2021-11-03T21:24:00.928Z"
   },
   {
    "duration": -68,
    "start_time": "2021-11-03T21:24:00.937Z"
   },
   {
    "duration": -74,
    "start_time": "2021-11-03T21:24:00.944Z"
   },
   {
    "duration": -83,
    "start_time": "2021-11-03T21:24:00.955Z"
   },
   {
    "duration": -91,
    "start_time": "2021-11-03T21:24:00.964Z"
   },
   {
    "duration": -100,
    "start_time": "2021-11-03T21:24:00.974Z"
   },
   {
    "duration": 270,
    "start_time": "2021-11-03T21:24:12.899Z"
   },
   {
    "duration": 269,
    "start_time": "2021-11-03T21:24:41.732Z"
   },
   {
    "duration": 4,
    "start_time": "2021-11-03T21:24:53.815Z"
   },
   {
    "duration": 18,
    "start_time": "2021-11-03T21:25:05.927Z"
   },
   {
    "duration": 18,
    "start_time": "2021-11-03T21:25:29.780Z"
   },
   {
    "duration": 21,
    "start_time": "2021-11-03T21:26:15.901Z"
   },
   {
    "duration": 21,
    "start_time": "2021-11-03T21:26:29.338Z"
   },
   {
    "duration": 4,
    "start_time": "2021-11-03T21:26:37.268Z"
   },
   {
    "duration": 18,
    "start_time": "2021-11-03T21:26:42.605Z"
   },
   {
    "duration": 22,
    "start_time": "2021-11-03T21:26:54.034Z"
   },
   {
    "duration": 12,
    "start_time": "2021-11-03T21:27:05.995Z"
   },
   {
    "duration": 14,
    "start_time": "2021-11-03T21:27:18.461Z"
   },
   {
    "duration": 15,
    "start_time": "2021-11-03T21:27:21.393Z"
   },
   {
    "duration": 17,
    "start_time": "2021-11-03T21:27:44.211Z"
   },
   {
    "duration": 15,
    "start_time": "2021-11-03T21:27:46.710Z"
   },
   {
    "duration": 12,
    "start_time": "2021-11-03T21:27:49.812Z"
   },
   {
    "duration": 48,
    "start_time": "2021-11-03T21:28:20.096Z"
   },
   {
    "duration": 13,
    "start_time": "2021-11-03T21:28:20.147Z"
   },
   {
    "duration": 14,
    "start_time": "2021-11-03T21:28:20.163Z"
   },
   {
    "duration": 25,
    "start_time": "2021-11-03T21:28:20.178Z"
   },
   {
    "duration": 2,
    "start_time": "2021-11-03T21:28:20.205Z"
   },
   {
    "duration": 40,
    "start_time": "2021-11-03T21:28:20.208Z"
   },
   {
    "duration": 11,
    "start_time": "2021-11-03T21:28:20.252Z"
   },
   {
    "duration": 24,
    "start_time": "2021-11-03T21:28:20.265Z"
   },
   {
    "duration": 13,
    "start_time": "2021-11-03T21:28:20.291Z"
   },
   {
    "duration": 63,
    "start_time": "2021-11-03T21:28:20.306Z"
   },
   {
    "duration": 9,
    "start_time": "2021-11-03T21:28:20.371Z"
   },
   {
    "duration": 183,
    "start_time": "2021-11-03T21:28:20.381Z"
   },
   {
    "duration": 7,
    "start_time": "2021-11-03T21:28:20.565Z"
   },
   {
    "duration": 311,
    "start_time": "2021-11-03T21:28:20.574Z"
   },
   {
    "duration": 5,
    "start_time": "2021-11-03T21:28:20.887Z"
   },
   {
    "duration": 181,
    "start_time": "2021-11-03T21:28:20.894Z"
   },
   {
    "duration": 9,
    "start_time": "2021-11-03T21:28:21.076Z"
   },
   {
    "duration": 8,
    "start_time": "2021-11-03T21:28:21.087Z"
   },
   {
    "duration": 8,
    "start_time": "2021-11-03T21:28:21.097Z"
   },
   {
    "duration": 9,
    "start_time": "2021-11-03T21:28:21.106Z"
   },
   {
    "duration": 10,
    "start_time": "2021-11-03T21:28:21.117Z"
   },
   {
    "duration": 519,
    "start_time": "2021-11-03T21:28:21.129Z"
   },
   {
    "duration": 13,
    "start_time": "2021-11-03T21:28:21.654Z"
   },
   {
    "duration": 319,
    "start_time": "2021-11-03T21:28:21.670Z"
   },
   {
    "duration": 469,
    "start_time": "2021-11-03T21:28:21.991Z"
   },
   {
    "duration": 11,
    "start_time": "2021-11-03T21:28:22.461Z"
   },
   {
    "duration": 322,
    "start_time": "2021-11-03T21:28:22.473Z"
   },
   {
    "duration": 33,
    "start_time": "2021-11-03T21:28:22.797Z"
   },
   {
    "duration": 5,
    "start_time": "2021-11-03T21:28:22.844Z"
   },
   {
    "duration": 13,
    "start_time": "2021-11-03T21:28:22.852Z"
   },
   {
    "duration": 9,
    "start_time": "2021-11-03T21:28:22.866Z"
   },
   {
    "duration": 9,
    "start_time": "2021-11-03T21:28:22.876Z"
   },
   {
    "duration": 6,
    "start_time": "2021-11-03T21:28:22.886Z"
   },
   {
    "duration": 7,
    "start_time": "2021-11-03T21:28:22.894Z"
   },
   {
    "duration": 8,
    "start_time": "2021-11-03T21:28:22.902Z"
   },
   {
    "duration": 37,
    "start_time": "2021-11-03T21:28:22.912Z"
   },
   {
    "duration": 9,
    "start_time": "2021-11-03T21:28:22.952Z"
   },
   {
    "duration": 5,
    "start_time": "2021-11-03T21:28:22.963Z"
   },
   {
    "duration": 7,
    "start_time": "2021-11-03T21:28:22.970Z"
   },
   {
    "duration": 6,
    "start_time": "2021-11-03T21:28:22.978Z"
   },
   {
    "duration": 5,
    "start_time": "2021-11-03T21:28:22.986Z"
   },
   {
    "duration": 5,
    "start_time": "2021-11-03T21:28:22.993Z"
   },
   {
    "duration": 5,
    "start_time": "2021-11-03T21:28:22.999Z"
   },
   {
    "duration": 4,
    "start_time": "2021-11-03T21:28:23.006Z"
   },
   {
    "duration": 5,
    "start_time": "2021-11-03T21:28:23.012Z"
   },
   {
    "duration": 4,
    "start_time": "2021-11-03T21:28:23.019Z"
   },
   {
    "duration": 4,
    "start_time": "2021-11-03T21:28:23.045Z"
   },
   {
    "duration": 4,
    "start_time": "2021-11-03T21:28:23.053Z"
   },
   {
    "duration": 10,
    "start_time": "2021-11-03T21:28:23.059Z"
   },
   {
    "duration": 7,
    "start_time": "2021-11-03T21:28:23.071Z"
   },
   {
    "duration": 707,
    "start_time": "2021-11-03T21:28:23.080Z"
   },
   {
    "duration": 12,
    "start_time": "2021-11-03T21:28:23.789Z"
   },
   {
    "duration": 3,
    "start_time": "2021-11-03T21:28:23.803Z"
   },
   {
    "duration": 20,
    "start_time": "2021-11-03T21:28:23.807Z"
   },
   {
    "duration": 2,
    "start_time": "2021-11-03T21:28:23.828Z"
   },
   {
    "duration": 21,
    "start_time": "2021-11-03T21:28:23.832Z"
   },
   {
    "duration": 17,
    "start_time": "2021-11-03T21:28:23.855Z"
   },
   {
    "duration": 12,
    "start_time": "2021-11-03T21:28:23.874Z"
   },
   {
    "duration": 29,
    "start_time": "2021-11-03T21:28:23.888Z"
   },
   {
    "duration": 30,
    "start_time": "2021-11-03T21:28:23.919Z"
   },
   {
    "duration": 17,
    "start_time": "2021-11-03T21:28:23.952Z"
   },
   {
    "duration": 12,
    "start_time": "2021-11-03T21:28:23.971Z"
   },
   {
    "duration": 21,
    "start_time": "2021-11-03T21:29:16.643Z"
   },
   {
    "duration": 15,
    "start_time": "2021-11-03T21:29:19.103Z"
   },
   {
    "duration": 11,
    "start_time": "2021-11-03T21:29:36.167Z"
   },
   {
    "duration": 14,
    "start_time": "2021-11-03T21:29:39.878Z"
   },
   {
    "duration": 14,
    "start_time": "2021-11-03T21:29:43.412Z"
   },
   {
    "duration": 18,
    "start_time": "2021-11-03T21:29:48.252Z"
   },
   {
    "duration": 19,
    "start_time": "2021-11-03T21:29:53.536Z"
   },
   {
    "duration": 19,
    "start_time": "2021-11-03T21:29:57.934Z"
   },
   {
    "duration": 12,
    "start_time": "2021-11-03T21:30:01.877Z"
   },
   {
    "duration": 14,
    "start_time": "2021-11-03T21:30:05.304Z"
   },
   {
    "duration": 11,
    "start_time": "2021-11-03T21:30:10.261Z"
   },
   {
    "duration": 19,
    "start_time": "2021-11-03T21:30:33.851Z"
   },
   {
    "duration": 21,
    "start_time": "2021-11-03T21:30:45.648Z"
   },
   {
    "duration": 15,
    "start_time": "2021-11-03T21:31:49.601Z"
   },
   {
    "duration": 16,
    "start_time": "2021-11-03T21:31:55.225Z"
   },
   {
    "duration": 17,
    "start_time": "2021-11-03T21:32:23.433Z"
   },
   {
    "duration": 14,
    "start_time": "2021-11-03T21:32:29.226Z"
   },
   {
    "duration": 16,
    "start_time": "2021-11-03T21:34:58.521Z"
   },
   {
    "duration": 11,
    "start_time": "2021-11-03T21:35:04.820Z"
   },
   {
    "duration": 15,
    "start_time": "2021-11-03T21:35:08.326Z"
   },
   {
    "duration": 318,
    "start_time": "2021-11-03T21:35:35.241Z"
   },
   {
    "duration": 15,
    "start_time": "2021-11-03T21:36:00.502Z"
   },
   {
    "duration": 14,
    "start_time": "2021-11-03T21:36:07.012Z"
   },
   {
    "duration": 308,
    "start_time": "2021-11-03T21:37:54.072Z"
   },
   {
    "duration": 28,
    "start_time": "2021-11-03T21:38:24.745Z"
   },
   {
    "duration": 14,
    "start_time": "2021-11-03T21:38:34.598Z"
   },
   {
    "duration": 54,
    "start_time": "2021-11-03T21:39:17.117Z"
   },
   {
    "duration": 12,
    "start_time": "2021-11-03T21:39:17.173Z"
   },
   {
    "duration": 10,
    "start_time": "2021-11-03T21:39:17.188Z"
   },
   {
    "duration": 50,
    "start_time": "2021-11-03T21:39:17.201Z"
   },
   {
    "duration": 3,
    "start_time": "2021-11-03T21:39:17.252Z"
   },
   {
    "duration": 13,
    "start_time": "2021-11-03T21:39:17.256Z"
   },
   {
    "duration": 12,
    "start_time": "2021-11-03T21:39:17.271Z"
   },
   {
    "duration": 20,
    "start_time": "2021-11-03T21:39:17.286Z"
   },
   {
    "duration": 49,
    "start_time": "2021-11-03T21:39:17.308Z"
   },
   {
    "duration": 19,
    "start_time": "2021-11-03T21:39:17.358Z"
   },
   {
    "duration": 9,
    "start_time": "2021-11-03T21:39:17.378Z"
   },
   {
    "duration": 176,
    "start_time": "2021-11-03T21:39:17.388Z"
   },
   {
    "duration": 7,
    "start_time": "2021-11-03T21:39:17.565Z"
   },
   {
    "duration": 298,
    "start_time": "2021-11-03T21:39:17.574Z"
   },
   {
    "duration": 8,
    "start_time": "2021-11-03T21:39:17.874Z"
   },
   {
    "duration": 176,
    "start_time": "2021-11-03T21:39:17.884Z"
   },
   {
    "duration": 10,
    "start_time": "2021-11-03T21:39:18.062Z"
   },
   {
    "duration": 8,
    "start_time": "2021-11-03T21:39:18.073Z"
   },
   {
    "duration": 10,
    "start_time": "2021-11-03T21:39:18.082Z"
   },
   {
    "duration": 9,
    "start_time": "2021-11-03T21:39:18.094Z"
   },
   {
    "duration": 11,
    "start_time": "2021-11-03T21:39:18.104Z"
   },
   {
    "duration": 559,
    "start_time": "2021-11-03T21:39:18.117Z"
   },
   {
    "duration": 9,
    "start_time": "2021-11-03T21:39:18.680Z"
   },
   {
    "duration": 291,
    "start_time": "2021-11-03T21:39:18.692Z"
   },
   {
    "duration": 344,
    "start_time": "2021-11-03T21:39:18.985Z"
   },
   {
    "duration": 14,
    "start_time": "2021-11-03T21:39:19.332Z"
   },
   {
    "duration": 293,
    "start_time": "2021-11-03T21:39:19.348Z"
   },
   {
    "duration": 32,
    "start_time": "2021-11-03T21:39:19.644Z"
   },
   {
    "duration": 6,
    "start_time": "2021-11-03T21:39:19.678Z"
   },
   {
    "duration": 15,
    "start_time": "2021-11-03T21:39:19.685Z"
   },
   {
    "duration": 14,
    "start_time": "2021-11-03T21:39:19.701Z"
   },
   {
    "duration": 10,
    "start_time": "2021-11-03T21:39:19.716Z"
   },
   {
    "duration": 16,
    "start_time": "2021-11-03T21:39:19.728Z"
   },
   {
    "duration": 6,
    "start_time": "2021-11-03T21:39:19.746Z"
   },
   {
    "duration": 8,
    "start_time": "2021-11-03T21:39:19.753Z"
   },
   {
    "duration": 9,
    "start_time": "2021-11-03T21:39:19.763Z"
   },
   {
    "duration": 3,
    "start_time": "2021-11-03T21:39:19.774Z"
   },
   {
    "duration": 4,
    "start_time": "2021-11-03T21:39:19.779Z"
   },
   {
    "duration": 8,
    "start_time": "2021-11-03T21:39:19.785Z"
   },
   {
    "duration": 6,
    "start_time": "2021-11-03T21:39:19.794Z"
   },
   {
    "duration": 5,
    "start_time": "2021-11-03T21:39:19.802Z"
   },
   {
    "duration": 5,
    "start_time": "2021-11-03T21:39:19.809Z"
   },
   {
    "duration": 6,
    "start_time": "2021-11-03T21:39:19.816Z"
   },
   {
    "duration": 21,
    "start_time": "2021-11-03T21:39:19.824Z"
   },
   {
    "duration": 8,
    "start_time": "2021-11-03T21:39:19.847Z"
   },
   {
    "duration": 13,
    "start_time": "2021-11-03T21:39:19.856Z"
   },
   {
    "duration": 8,
    "start_time": "2021-11-03T21:39:19.871Z"
   },
   {
    "duration": 7,
    "start_time": "2021-11-03T21:39:19.881Z"
   },
   {
    "duration": 22,
    "start_time": "2021-11-03T21:39:19.889Z"
   },
   {
    "duration": 13,
    "start_time": "2021-11-03T21:39:19.912Z"
   },
   {
    "duration": 784,
    "start_time": "2021-11-03T21:39:19.926Z"
   },
   {
    "duration": 11,
    "start_time": "2021-11-03T21:39:20.712Z"
   },
   {
    "duration": 5,
    "start_time": "2021-11-03T21:39:20.725Z"
   },
   {
    "duration": 36,
    "start_time": "2021-11-03T21:39:20.731Z"
   },
   {
    "duration": 2,
    "start_time": "2021-11-03T21:39:20.769Z"
   },
   {
    "duration": 18,
    "start_time": "2021-11-03T21:39:20.773Z"
   },
   {
    "duration": 14,
    "start_time": "2021-11-03T21:39:20.793Z"
   },
   {
    "duration": 12,
    "start_time": "2021-11-03T21:39:20.808Z"
   },
   {
    "duration": 35,
    "start_time": "2021-11-03T21:39:20.821Z"
   },
   {
    "duration": 11,
    "start_time": "2021-11-03T21:39:20.857Z"
   },
   {
    "duration": 20,
    "start_time": "2021-11-03T21:39:20.870Z"
   },
   {
    "duration": 7,
    "start_time": "2021-11-03T21:39:20.891Z"
   },
   {
    "duration": 10,
    "start_time": "2021-11-03T21:40:04.543Z"
   },
   {
    "duration": 3,
    "start_time": "2021-11-03T21:40:09.661Z"
   },
   {
    "duration": 26,
    "start_time": "2021-11-03T21:40:12.835Z"
   },
   {
    "duration": 15,
    "start_time": "2021-11-03T21:40:21.154Z"
   },
   {
    "duration": 57,
    "start_time": "2021-11-03T21:41:00.627Z"
   },
   {
    "duration": 8,
    "start_time": "2021-11-03T21:41:00.686Z"
   },
   {
    "duration": 27,
    "start_time": "2021-11-03T21:41:00.696Z"
   },
   {
    "duration": 40,
    "start_time": "2021-11-03T21:41:00.725Z"
   },
   {
    "duration": 4,
    "start_time": "2021-11-03T21:41:00.766Z"
   },
   {
    "duration": 18,
    "start_time": "2021-11-03T21:41:00.771Z"
   },
   {
    "duration": 18,
    "start_time": "2021-11-03T21:41:00.791Z"
   },
   {
    "duration": 47,
    "start_time": "2021-11-03T21:41:00.812Z"
   },
   {
    "duration": 16,
    "start_time": "2021-11-03T21:41:00.862Z"
   },
   {
    "duration": 21,
    "start_time": "2021-11-03T21:41:00.879Z"
   },
   {
    "duration": 9,
    "start_time": "2021-11-03T21:41:00.901Z"
   },
   {
    "duration": 207,
    "start_time": "2021-11-03T21:41:00.912Z"
   },
   {
    "duration": 9,
    "start_time": "2021-11-03T21:41:01.121Z"
   },
   {
    "duration": 307,
    "start_time": "2021-11-03T21:41:01.132Z"
   },
   {
    "duration": 7,
    "start_time": "2021-11-03T21:41:01.441Z"
   },
   {
    "duration": 191,
    "start_time": "2021-11-03T21:41:01.450Z"
   },
   {
    "duration": 15,
    "start_time": "2021-11-03T21:41:01.643Z"
   },
   {
    "duration": 46,
    "start_time": "2021-11-03T21:41:01.660Z"
   },
   {
    "duration": 30,
    "start_time": "2021-11-03T21:41:01.707Z"
   },
   {
    "duration": 34,
    "start_time": "2021-11-03T21:41:01.739Z"
   },
   {
    "duration": 30,
    "start_time": "2021-11-03T21:41:01.774Z"
   },
   {
    "duration": 488,
    "start_time": "2021-11-03T21:41:01.806Z"
   },
   {
    "duration": 9,
    "start_time": "2021-11-03T21:41:02.298Z"
   },
   {
    "duration": 365,
    "start_time": "2021-11-03T21:41:02.309Z"
   },
   {
    "duration": 594,
    "start_time": "2021-11-03T21:41:02.675Z"
   },
   {
    "duration": 9,
    "start_time": "2021-11-03T21:41:03.271Z"
   },
   {
    "duration": 314,
    "start_time": "2021-11-03T21:41:03.282Z"
   },
   {
    "duration": 38,
    "start_time": "2021-11-03T21:41:03.597Z"
   },
   {
    "duration": 4,
    "start_time": "2021-11-03T21:41:03.649Z"
   },
   {
    "duration": 29,
    "start_time": "2021-11-03T21:41:03.655Z"
   },
   {
    "duration": 15,
    "start_time": "2021-11-03T21:41:03.686Z"
   },
   {
    "duration": 19,
    "start_time": "2021-11-03T21:41:03.703Z"
   },
   {
    "duration": 21,
    "start_time": "2021-11-03T21:41:03.724Z"
   },
   {
    "duration": 23,
    "start_time": "2021-11-03T21:41:03.747Z"
   },
   {
    "duration": 19,
    "start_time": "2021-11-03T21:41:03.772Z"
   },
   {
    "duration": 18,
    "start_time": "2021-11-03T21:41:03.793Z"
   },
   {
    "duration": 9,
    "start_time": "2021-11-03T21:41:03.813Z"
   },
   {
    "duration": 29,
    "start_time": "2021-11-03T21:41:03.824Z"
   },
   {
    "duration": 13,
    "start_time": "2021-11-03T21:41:03.855Z"
   },
   {
    "duration": 22,
    "start_time": "2021-11-03T21:41:03.869Z"
   },
   {
    "duration": 18,
    "start_time": "2021-11-03T21:41:03.894Z"
   },
   {
    "duration": 15,
    "start_time": "2021-11-03T21:41:03.914Z"
   },
   {
    "duration": 20,
    "start_time": "2021-11-03T21:41:03.931Z"
   },
   {
    "duration": 14,
    "start_time": "2021-11-03T21:41:03.953Z"
   },
   {
    "duration": 11,
    "start_time": "2021-11-03T21:41:03.969Z"
   },
   {
    "duration": 15,
    "start_time": "2021-11-03T21:41:03.982Z"
   },
   {
    "duration": 6,
    "start_time": "2021-11-03T21:41:03.999Z"
   },
   {
    "duration": 12,
    "start_time": "2021-11-03T21:41:04.007Z"
   },
   {
    "duration": 6,
    "start_time": "2021-11-03T21:41:04.021Z"
   },
   {
    "duration": 23,
    "start_time": "2021-11-03T21:41:04.029Z"
   },
   {
    "duration": 733,
    "start_time": "2021-11-03T21:41:04.055Z"
   },
   {
    "duration": 2,
    "start_time": "2021-11-03T21:41:04.790Z"
   },
   {
    "duration": 8,
    "start_time": "2021-11-03T21:41:04.793Z"
   },
   {
    "duration": 287,
    "start_time": "2021-11-03T21:41:04.803Z"
   },
   {
    "duration": -98,
    "start_time": "2021-11-03T21:41:05.190Z"
   },
   {
    "duration": -110,
    "start_time": "2021-11-03T21:41:05.203Z"
   },
   {
    "duration": -125,
    "start_time": "2021-11-03T21:41:05.219Z"
   },
   {
    "duration": -135,
    "start_time": "2021-11-03T21:41:05.230Z"
   },
   {
    "duration": -143,
    "start_time": "2021-11-03T21:41:05.239Z"
   },
   {
    "duration": -152,
    "start_time": "2021-11-03T21:41:05.249Z"
   },
   {
    "duration": -161,
    "start_time": "2021-11-03T21:41:05.259Z"
   },
   {
    "duration": -173,
    "start_time": "2021-11-03T21:41:05.272Z"
   },
   {
    "duration": 268,
    "start_time": "2021-11-03T21:41:20.282Z"
   },
   {
    "duration": 27,
    "start_time": "2021-11-03T21:41:30.111Z"
   },
   {
    "duration": 47,
    "start_time": "2021-11-03T21:41:35.881Z"
   },
   {
    "duration": 8,
    "start_time": "2021-11-03T21:41:35.930Z"
   },
   {
    "duration": 16,
    "start_time": "2021-11-03T21:41:35.939Z"
   },
   {
    "duration": 20,
    "start_time": "2021-11-03T21:41:35.957Z"
   },
   {
    "duration": 3,
    "start_time": "2021-11-03T21:41:35.978Z"
   },
   {
    "duration": 12,
    "start_time": "2021-11-03T21:41:35.982Z"
   },
   {
    "duration": 17,
    "start_time": "2021-11-03T21:41:35.995Z"
   },
   {
    "duration": 38,
    "start_time": "2021-11-03T21:41:36.015Z"
   },
   {
    "duration": 15,
    "start_time": "2021-11-03T21:41:36.055Z"
   },
   {
    "duration": 21,
    "start_time": "2021-11-03T21:41:36.071Z"
   },
   {
    "duration": 10,
    "start_time": "2021-11-03T21:41:36.093Z"
   },
   {
    "duration": 192,
    "start_time": "2021-11-03T21:41:36.104Z"
   },
   {
    "duration": 6,
    "start_time": "2021-11-03T21:41:36.297Z"
   },
   {
    "duration": 291,
    "start_time": "2021-11-03T21:41:36.304Z"
   },
   {
    "duration": 6,
    "start_time": "2021-11-03T21:41:36.596Z"
   },
   {
    "duration": 166,
    "start_time": "2021-11-03T21:41:36.604Z"
   },
   {
    "duration": 10,
    "start_time": "2021-11-03T21:41:36.772Z"
   },
   {
    "duration": 10,
    "start_time": "2021-11-03T21:41:36.783Z"
   },
   {
    "duration": 28,
    "start_time": "2021-11-03T21:41:36.794Z"
   },
   {
    "duration": 28,
    "start_time": "2021-11-03T21:41:36.823Z"
   },
   {
    "duration": 31,
    "start_time": "2021-11-03T21:41:36.852Z"
   },
   {
    "duration": 472,
    "start_time": "2021-11-03T21:41:36.885Z"
   },
   {
    "duration": 8,
    "start_time": "2021-11-03T21:41:37.361Z"
   },
   {
    "duration": 303,
    "start_time": "2021-11-03T21:41:37.371Z"
   },
   {
    "duration": 347,
    "start_time": "2021-11-03T21:41:37.676Z"
   },
   {
    "duration": 9,
    "start_time": "2021-11-03T21:41:38.025Z"
   },
   {
    "duration": 285,
    "start_time": "2021-11-03T21:41:38.045Z"
   },
   {
    "duration": 41,
    "start_time": "2021-11-03T21:41:38.332Z"
   },
   {
    "duration": 2,
    "start_time": "2021-11-03T21:41:38.374Z"
   },
   {
    "duration": 12,
    "start_time": "2021-11-03T21:41:38.378Z"
   },
   {
    "duration": 9,
    "start_time": "2021-11-03T21:41:38.392Z"
   },
   {
    "duration": 14,
    "start_time": "2021-11-03T21:41:38.403Z"
   },
   {
    "duration": 4,
    "start_time": "2021-11-03T21:41:38.419Z"
   },
   {
    "duration": 24,
    "start_time": "2021-11-03T21:41:38.424Z"
   },
   {
    "duration": 10,
    "start_time": "2021-11-03T21:41:38.450Z"
   },
   {
    "duration": 9,
    "start_time": "2021-11-03T21:41:38.461Z"
   },
   {
    "duration": 12,
    "start_time": "2021-11-03T21:41:38.471Z"
   },
   {
    "duration": 5,
    "start_time": "2021-11-03T21:41:38.484Z"
   },
   {
    "duration": 7,
    "start_time": "2021-11-03T21:41:38.491Z"
   },
   {
    "duration": 6,
    "start_time": "2021-11-03T21:41:38.500Z"
   },
   {
    "duration": 4,
    "start_time": "2021-11-03T21:41:38.507Z"
   },
   {
    "duration": 5,
    "start_time": "2021-11-03T21:41:38.512Z"
   },
   {
    "duration": 13,
    "start_time": "2021-11-03T21:41:38.518Z"
   },
   {
    "duration": 13,
    "start_time": "2021-11-03T21:41:38.532Z"
   },
   {
    "duration": 14,
    "start_time": "2021-11-03T21:41:38.546Z"
   },
   {
    "duration": 9,
    "start_time": "2021-11-03T21:41:38.561Z"
   },
   {
    "duration": 7,
    "start_time": "2021-11-03T21:41:38.571Z"
   },
   {
    "duration": 5,
    "start_time": "2021-11-03T21:41:38.580Z"
   },
   {
    "duration": 5,
    "start_time": "2021-11-03T21:41:38.586Z"
   },
   {
    "duration": 11,
    "start_time": "2021-11-03T21:41:38.592Z"
   },
   {
    "duration": 1269,
    "start_time": "2021-11-03T21:41:38.605Z"
   },
   {
    "duration": 2,
    "start_time": "2021-11-03T21:41:39.875Z"
   },
   {
    "duration": 14,
    "start_time": "2021-11-03T21:41:39.879Z"
   },
   {
    "duration": 41,
    "start_time": "2021-11-03T21:41:39.895Z"
   },
   {
    "duration": 2,
    "start_time": "2021-11-03T21:41:39.938Z"
   },
   {
    "duration": 23,
    "start_time": "2021-11-03T21:41:39.941Z"
   },
   {
    "duration": 22,
    "start_time": "2021-11-03T21:41:39.966Z"
   },
   {
    "duration": 12,
    "start_time": "2021-11-03T21:41:39.989Z"
   },
   {
    "duration": 43,
    "start_time": "2021-11-03T21:41:40.003Z"
   },
   {
    "duration": 10,
    "start_time": "2021-11-03T21:41:40.048Z"
   },
   {
    "duration": 24,
    "start_time": "2021-11-03T21:41:40.059Z"
   },
   {
    "duration": 9,
    "start_time": "2021-11-03T21:41:40.084Z"
   },
   {
    "duration": 11,
    "start_time": "2021-11-03T21:41:53.118Z"
   },
   {
    "duration": 23,
    "start_time": "2021-11-03T21:42:33.111Z"
   },
   {
    "duration": 16,
    "start_time": "2021-11-03T21:42:40.101Z"
   },
   {
    "duration": 15,
    "start_time": "2021-11-03T21:42:42.914Z"
   },
   {
    "duration": 11,
    "start_time": "2021-11-03T21:42:50.561Z"
   },
   {
    "duration": 14,
    "start_time": "2021-11-03T21:42:53.446Z"
   },
   {
    "duration": 1116,
    "start_time": "2021-11-06T10:04:26.111Z"
   },
   {
    "duration": 8,
    "start_time": "2021-11-06T10:04:27.229Z"
   },
   {
    "duration": 11,
    "start_time": "2021-11-06T10:04:27.239Z"
   },
   {
    "duration": 14,
    "start_time": "2021-11-06T10:04:27.252Z"
   },
   {
    "duration": 2,
    "start_time": "2021-11-06T10:04:27.267Z"
   },
   {
    "duration": 14,
    "start_time": "2021-11-06T10:04:27.291Z"
   },
   {
    "duration": 9,
    "start_time": "2021-11-06T10:04:27.307Z"
   },
   {
    "duration": 19,
    "start_time": "2021-11-06T10:04:27.319Z"
   },
   {
    "duration": 12,
    "start_time": "2021-11-06T10:04:27.340Z"
   },
   {
    "duration": 55,
    "start_time": "2021-11-06T10:04:27.353Z"
   },
   {
    "duration": 8,
    "start_time": "2021-11-06T10:04:27.410Z"
   },
   {
    "duration": 177,
    "start_time": "2021-11-06T10:04:27.419Z"
   },
   {
    "duration": 9,
    "start_time": "2021-11-06T10:04:27.599Z"
   },
   {
    "duration": 315,
    "start_time": "2021-11-06T10:04:27.610Z"
   },
   {
    "duration": 5,
    "start_time": "2021-11-06T10:04:27.927Z"
   },
   {
    "duration": 183,
    "start_time": "2021-11-06T10:04:27.934Z"
   },
   {
    "duration": 9,
    "start_time": "2021-11-06T10:04:28.119Z"
   },
   {
    "duration": 4,
    "start_time": "2021-11-06T10:04:28.129Z"
   },
   {
    "duration": 7,
    "start_time": "2021-11-06T10:04:28.135Z"
   },
   {
    "duration": 13,
    "start_time": "2021-11-06T10:04:28.143Z"
   },
   {
    "duration": 13,
    "start_time": "2021-11-06T10:04:28.157Z"
   },
   {
    "duration": 465,
    "start_time": "2021-11-06T10:04:28.172Z"
   },
   {
    "duration": 8,
    "start_time": "2021-11-06T10:04:28.641Z"
   },
   {
    "duration": 328,
    "start_time": "2021-11-06T10:04:28.651Z"
   },
   {
    "duration": 384,
    "start_time": "2021-11-06T10:04:28.980Z"
   },
   {
    "duration": 8,
    "start_time": "2021-11-06T10:04:29.366Z"
   },
   {
    "duration": 375,
    "start_time": "2021-11-06T10:04:29.376Z"
   },
   {
    "duration": 40,
    "start_time": "2021-11-06T10:04:29.752Z"
   },
   {
    "duration": 5,
    "start_time": "2021-11-06T10:04:29.795Z"
   },
   {
    "duration": 12,
    "start_time": "2021-11-06T10:04:29.803Z"
   },
   {
    "duration": 9,
    "start_time": "2021-11-06T10:04:29.817Z"
   },
   {
    "duration": 8,
    "start_time": "2021-11-06T10:04:29.828Z"
   },
   {
    "duration": 4,
    "start_time": "2021-11-06T10:04:29.838Z"
   },
   {
    "duration": 6,
    "start_time": "2021-11-06T10:04:29.843Z"
   },
   {
    "duration": 42,
    "start_time": "2021-11-06T10:04:29.850Z"
   },
   {
    "duration": 12,
    "start_time": "2021-11-06T10:04:29.895Z"
   },
   {
    "duration": 5,
    "start_time": "2021-11-06T10:04:29.909Z"
   },
   {
    "duration": 5,
    "start_time": "2021-11-06T10:04:29.915Z"
   },
   {
    "duration": 4,
    "start_time": "2021-11-06T10:04:29.921Z"
   },
   {
    "duration": 5,
    "start_time": "2021-11-06T10:04:29.926Z"
   },
   {
    "duration": 7,
    "start_time": "2021-11-06T10:04:29.932Z"
   },
   {
    "duration": 5,
    "start_time": "2021-11-06T10:04:29.940Z"
   },
   {
    "duration": 5,
    "start_time": "2021-11-06T10:04:29.946Z"
   },
   {
    "duration": 7,
    "start_time": "2021-11-06T10:04:29.952Z"
   },
   {
    "duration": 5,
    "start_time": "2021-11-06T10:04:29.961Z"
   },
   {
    "duration": 4,
    "start_time": "2021-11-06T10:04:29.967Z"
   },
   {
    "duration": 19,
    "start_time": "2021-11-06T10:04:29.973Z"
   },
   {
    "duration": 4,
    "start_time": "2021-11-06T10:04:29.994Z"
   },
   {
    "duration": 11,
    "start_time": "2021-11-06T10:04:30.000Z"
   },
   {
    "duration": 5,
    "start_time": "2021-11-06T10:04:30.013Z"
   },
   {
    "duration": 1226,
    "start_time": "2021-11-06T10:04:30.020Z"
   },
   {
    "duration": 9,
    "start_time": "2021-11-06T10:04:31.248Z"
   },
   {
    "duration": 3,
    "start_time": "2021-11-06T10:04:31.259Z"
   },
   {
    "duration": 29,
    "start_time": "2021-11-06T10:04:31.263Z"
   },
   {
    "duration": 3,
    "start_time": "2021-11-06T10:04:31.295Z"
   },
   {
    "duration": 22,
    "start_time": "2021-11-06T10:04:31.300Z"
   },
   {
    "duration": 14,
    "start_time": "2021-11-06T10:04:31.323Z"
   },
   {
    "duration": 10,
    "start_time": "2021-11-06T10:04:31.338Z"
   },
   {
    "duration": 17,
    "start_time": "2021-11-06T10:04:31.349Z"
   },
   {
    "duration": 37,
    "start_time": "2021-11-06T10:04:31.367Z"
   },
   {
    "duration": 12,
    "start_time": "2021-11-06T10:04:31.407Z"
   },
   {
    "duration": 7,
    "start_time": "2021-11-06T10:04:31.421Z"
   },
   {
    "duration": 15,
    "start_time": "2021-11-06T10:07:43.176Z"
   },
   {
    "duration": 14,
    "start_time": "2021-11-06T10:08:03.929Z"
   },
   {
    "duration": 13,
    "start_time": "2021-11-06T10:08:50.239Z"
   },
   {
    "duration": 14,
    "start_time": "2021-11-06T10:08:55.213Z"
   },
   {
    "duration": 14,
    "start_time": "2021-11-06T10:09:03.774Z"
   },
   {
    "duration": 17,
    "start_time": "2021-11-06T10:09:50.033Z"
   },
   {
    "duration": 20,
    "start_time": "2021-11-06T10:19:13.830Z"
   },
   {
    "duration": 326,
    "start_time": "2021-11-06T10:21:26.974Z"
   },
   {
    "duration": 192,
    "start_time": "2021-11-06T10:21:49.801Z"
   },
   {
    "duration": 15,
    "start_time": "2021-11-06T10:22:02.681Z"
   },
   {
    "duration": 16,
    "start_time": "2021-11-06T10:22:45.916Z"
   },
   {
    "duration": 191,
    "start_time": "2021-11-06T10:25:32.833Z"
   },
   {
    "duration": 4393,
    "start_time": "2021-11-06T10:26:53.429Z"
   },
   {
    "duration": 191,
    "start_time": "2021-11-06T10:27:39.880Z"
   },
   {
    "duration": 14,
    "start_time": "2021-11-06T10:28:03.368Z"
   },
   {
    "duration": 12,
    "start_time": "2021-11-06T10:28:15.372Z"
   },
   {
    "duration": 188,
    "start_time": "2021-11-06T10:28:44.499Z"
   },
   {
    "duration": 13,
    "start_time": "2021-11-06T10:28:51.169Z"
   },
   {
    "duration": 15,
    "start_time": "2021-11-06T10:30:13.251Z"
   },
   {
    "duration": 12,
    "start_time": "2021-11-06T10:30:55.573Z"
   },
   {
    "duration": 17,
    "start_time": "2021-11-06T10:31:18.342Z"
   },
   {
    "duration": 13,
    "start_time": "2021-11-06T10:31:57.180Z"
   },
   {
    "duration": 3,
    "start_time": "2021-11-06T10:35:21.141Z"
   },
   {
    "duration": 2,
    "start_time": "2021-11-06T10:35:24.461Z"
   },
   {
    "duration": 194,
    "start_time": "2021-11-06T10:36:45.866Z"
   },
   {
    "duration": 15,
    "start_time": "2021-11-06T10:37:02.303Z"
   },
   {
    "duration": 64,
    "start_time": "2021-11-06T10:37:59.429Z"
   },
   {
    "duration": 17,
    "start_time": "2021-11-06T10:38:04.504Z"
   },
   {
    "duration": 17,
    "start_time": "2021-11-06T10:38:31.761Z"
   },
   {
    "duration": 18,
    "start_time": "2021-11-06T10:38:55.500Z"
   },
   {
    "duration": 13,
    "start_time": "2021-11-06T10:39:34.807Z"
   },
   {
    "duration": 24,
    "start_time": "2021-11-06T10:39:57.681Z"
   },
   {
    "duration": 13,
    "start_time": "2021-11-06T10:55:33.052Z"
   },
   {
    "duration": 63,
    "start_time": "2021-11-06T11:25:37.036Z"
   },
   {
    "duration": 413,
    "start_time": "2021-11-06T11:25:49.596Z"
   },
   {
    "duration": 396,
    "start_time": "2021-11-06T11:27:05.972Z"
   },
   {
    "duration": 359,
    "start_time": "2021-11-06T11:31:17.582Z"
   },
   {
    "duration": 2,
    "start_time": "2021-11-06T12:24:36.500Z"
   },
   {
    "duration": 3,
    "start_time": "2021-11-06T12:30:48.076Z"
   },
   {
    "duration": 57,
    "start_time": "2021-11-06T12:30:48.081Z"
   },
   {
    "duration": 9,
    "start_time": "2021-11-06T12:30:48.140Z"
   },
   {
    "duration": 16,
    "start_time": "2021-11-06T12:30:48.151Z"
   },
   {
    "duration": 3,
    "start_time": "2021-11-06T12:30:48.169Z"
   },
   {
    "duration": 10,
    "start_time": "2021-11-06T12:30:48.192Z"
   },
   {
    "duration": 16,
    "start_time": "2021-11-06T12:30:48.204Z"
   },
   {
    "duration": 22,
    "start_time": "2021-11-06T12:30:48.222Z"
   },
   {
    "duration": 13,
    "start_time": "2021-11-06T12:30:48.245Z"
   },
   {
    "duration": 43,
    "start_time": "2021-11-06T12:30:48.260Z"
   },
   {
    "duration": 9,
    "start_time": "2021-11-06T12:30:48.304Z"
   },
   {
    "duration": 179,
    "start_time": "2021-11-06T12:30:48.315Z"
   },
   {
    "duration": 6,
    "start_time": "2021-11-06T12:30:48.496Z"
   },
   {
    "duration": 292,
    "start_time": "2021-11-06T12:30:48.504Z"
   },
   {
    "duration": 6,
    "start_time": "2021-11-06T12:30:48.797Z"
   },
   {
    "duration": 175,
    "start_time": "2021-11-06T12:30:48.805Z"
   },
   {
    "duration": 15,
    "start_time": "2021-11-06T12:30:48.982Z"
   },
   {
    "duration": 7,
    "start_time": "2021-11-06T12:30:48.998Z"
   },
   {
    "duration": 6,
    "start_time": "2021-11-06T12:30:49.008Z"
   },
   {
    "duration": 8,
    "start_time": "2021-11-06T12:30:49.016Z"
   },
   {
    "duration": 12,
    "start_time": "2021-11-06T12:30:49.026Z"
   },
   {
    "duration": 477,
    "start_time": "2021-11-06T12:30:49.040Z"
   },
   {
    "duration": 9,
    "start_time": "2021-11-06T12:30:49.519Z"
   },
   {
    "duration": 287,
    "start_time": "2021-11-06T12:30:49.529Z"
   },
   {
    "duration": 384,
    "start_time": "2021-11-06T12:30:49.817Z"
   },
   {
    "duration": 9,
    "start_time": "2021-11-06T12:30:50.203Z"
   },
   {
    "duration": 310,
    "start_time": "2021-11-06T12:30:50.214Z"
   },
   {
    "duration": 549,
    "start_time": "2021-11-06T12:30:50.526Z"
   },
   {
    "duration": 14,
    "start_time": "2021-11-06T12:30:51.077Z"
   },
   {
    "duration": 9,
    "start_time": "2021-11-06T12:30:51.093Z"
   },
   {
    "duration": 13,
    "start_time": "2021-11-06T12:30:51.104Z"
   },
   {
    "duration": 4,
    "start_time": "2021-11-06T12:30:51.119Z"
   },
   {
    "duration": 7,
    "start_time": "2021-11-06T12:30:51.124Z"
   },
   {
    "duration": 8,
    "start_time": "2021-11-06T12:30:51.132Z"
   },
   {
    "duration": 9,
    "start_time": "2021-11-06T12:30:51.142Z"
   },
   {
    "duration": 1134,
    "start_time": "2021-11-06T12:30:51.152Z"
   },
   {
    "duration": 9,
    "start_time": "2021-11-06T12:30:52.288Z"
   },
   {
    "duration": 2,
    "start_time": "2021-11-06T12:30:52.299Z"
   },
   {
    "duration": 27,
    "start_time": "2021-11-06T12:30:52.302Z"
   },
   {
    "duration": 3,
    "start_time": "2021-11-06T12:30:52.330Z"
   },
   {
    "duration": 16,
    "start_time": "2021-11-06T12:30:52.334Z"
   },
   {
    "duration": 12,
    "start_time": "2021-11-06T12:30:52.352Z"
   },
   {
    "duration": 27,
    "start_time": "2021-11-06T12:30:52.365Z"
   },
   {
    "duration": 21,
    "start_time": "2021-11-06T12:30:52.393Z"
   },
   {
    "duration": 11,
    "start_time": "2021-11-06T12:30:52.416Z"
   },
   {
    "duration": 15,
    "start_time": "2021-11-06T12:30:52.428Z"
   },
   {
    "duration": 7,
    "start_time": "2021-11-06T12:30:52.445Z"
   },
   {
    "duration": 46,
    "start_time": "2021-11-06T12:30:52.454Z"
   },
   {
    "duration": 11,
    "start_time": "2021-11-06T12:30:52.502Z"
   },
   {
    "duration": 11,
    "start_time": "2021-11-06T12:30:52.515Z"
   },
   {
    "duration": 11,
    "start_time": "2021-11-06T12:30:52.527Z"
   },
   {
    "duration": 10,
    "start_time": "2021-11-06T12:30:52.540Z"
   },
   {
    "duration": 402,
    "start_time": "2021-11-06T12:30:52.552Z"
   },
   {
    "duration": 164,
    "start_time": "2021-11-06T12:35:54.182Z"
   },
   {
    "duration": 6,
    "start_time": "2021-11-06T12:40:51.048Z"
   },
   {
    "duration": 173,
    "start_time": "2021-11-06T12:40:51.915Z"
   },
   {
    "duration": 456,
    "start_time": "2021-11-06T12:45:11.721Z"
   },
   {
    "duration": 3,
    "start_time": "2021-11-06T12:45:27.659Z"
   },
   {
    "duration": 53,
    "start_time": "2021-11-06T12:45:27.664Z"
   },
   {
    "duration": 8,
    "start_time": "2021-11-06T12:45:27.719Z"
   },
   {
    "duration": 16,
    "start_time": "2021-11-06T12:45:27.728Z"
   },
   {
    "duration": 2,
    "start_time": "2021-11-06T12:45:27.745Z"
   },
   {
    "duration": 11,
    "start_time": "2021-11-06T12:45:27.749Z"
   },
   {
    "duration": 32,
    "start_time": "2021-11-06T12:45:27.761Z"
   },
   {
    "duration": 20,
    "start_time": "2021-11-06T12:45:27.795Z"
   },
   {
    "duration": 17,
    "start_time": "2021-11-06T12:45:27.816Z"
   },
   {
    "duration": 7,
    "start_time": "2021-11-06T12:45:27.835Z"
   },
   {
    "duration": 197,
    "start_time": "2021-11-06T12:45:27.843Z"
   },
   {
    "duration": 6,
    "start_time": "2021-11-06T12:45:28.041Z"
   },
   {
    "duration": 314,
    "start_time": "2021-11-06T12:45:28.049Z"
   },
   {
    "duration": 6,
    "start_time": "2021-11-06T12:45:28.364Z"
   },
   {
    "duration": 169,
    "start_time": "2021-11-06T12:45:28.372Z"
   },
   {
    "duration": 10,
    "start_time": "2021-11-06T12:45:28.544Z"
   },
   {
    "duration": 5,
    "start_time": "2021-11-06T12:45:28.556Z"
   },
   {
    "duration": 9,
    "start_time": "2021-11-06T12:45:28.563Z"
   },
   {
    "duration": 433,
    "start_time": "2021-11-06T12:45:28.574Z"
   },
   {
    "duration": 8,
    "start_time": "2021-11-06T12:45:29.009Z"
   },
   {
    "duration": 292,
    "start_time": "2021-11-06T12:45:29.019Z"
   },
   {
    "duration": 352,
    "start_time": "2021-11-06T12:45:29.312Z"
   },
   {
    "duration": 9,
    "start_time": "2021-11-06T12:45:29.665Z"
   },
   {
    "duration": 295,
    "start_time": "2021-11-06T12:45:29.676Z"
   },
   {
    "duration": 39,
    "start_time": "2021-11-06T12:45:29.972Z"
   },
   {
    "duration": 7,
    "start_time": "2021-11-06T12:45:30.012Z"
   },
   {
    "duration": 30,
    "start_time": "2021-11-06T12:45:30.020Z"
   },
   {
    "duration": 11,
    "start_time": "2021-11-06T12:45:30.052Z"
   },
   {
    "duration": 6,
    "start_time": "2021-11-06T12:45:30.065Z"
   },
   {
    "duration": 14,
    "start_time": "2021-11-06T12:45:30.074Z"
   },
   {
    "duration": 13,
    "start_time": "2021-11-06T12:45:30.089Z"
   },
   {
    "duration": 19,
    "start_time": "2021-11-06T12:45:30.104Z"
   },
   {
    "duration": 1211,
    "start_time": "2021-11-06T12:45:30.124Z"
   },
   {
    "duration": 10,
    "start_time": "2021-11-06T12:45:31.336Z"
   },
   {
    "duration": 12,
    "start_time": "2021-11-06T12:45:31.347Z"
   },
   {
    "duration": 30,
    "start_time": "2021-11-06T12:45:31.361Z"
   },
   {
    "duration": 2,
    "start_time": "2021-11-06T12:45:31.393Z"
   },
   {
    "duration": 20,
    "start_time": "2021-11-06T12:45:31.397Z"
   },
   {
    "duration": 13,
    "start_time": "2021-11-06T12:45:31.418Z"
   },
   {
    "duration": 11,
    "start_time": "2021-11-06T12:45:31.433Z"
   },
   {
    "duration": 16,
    "start_time": "2021-11-06T12:45:31.445Z"
   },
   {
    "duration": 33,
    "start_time": "2021-11-06T12:45:31.463Z"
   },
   {
    "duration": 14,
    "start_time": "2021-11-06T12:45:31.497Z"
   },
   {
    "duration": 7,
    "start_time": "2021-11-06T12:45:31.512Z"
   },
   {
    "duration": 29,
    "start_time": "2021-11-06T12:45:31.520Z"
   },
   {
    "duration": 10,
    "start_time": "2021-11-06T12:45:31.551Z"
   },
   {
    "duration": 12,
    "start_time": "2021-11-06T12:45:31.563Z"
   },
   {
    "duration": 23,
    "start_time": "2021-11-06T12:45:31.576Z"
   },
   {
    "duration": 13,
    "start_time": "2021-11-06T12:45:31.600Z"
   },
   {
    "duration": 381,
    "start_time": "2021-11-06T12:45:31.614Z"
   },
   {
    "duration": 484,
    "start_time": "2021-11-06T12:55:48.019Z"
   },
   {
    "duration": 474,
    "start_time": "2021-11-06T12:56:02.145Z"
   },
   {
    "duration": 303,
    "start_time": "2021-11-06T12:56:12.853Z"
   },
   {
    "duration": 431,
    "start_time": "2021-11-06T12:56:33.180Z"
   },
   {
    "duration": 320,
    "start_time": "2021-11-06T13:04:16.739Z"
   },
   {
    "duration": 348,
    "start_time": "2021-11-06T13:04:27.256Z"
   },
   {
    "duration": 353,
    "start_time": "2021-11-06T13:04:33.911Z"
   },
   {
    "duration": 1427,
    "start_time": "2021-11-06T13:04:44.194Z"
   },
   {
    "duration": 962,
    "start_time": "2021-11-06T13:04:48.396Z"
   },
   {
    "duration": 376,
    "start_time": "2021-11-06T13:05:12.955Z"
   },
   {
    "duration": 342,
    "start_time": "2021-11-06T13:05:20.952Z"
   },
   {
    "duration": 178,
    "start_time": "2021-11-06T13:11:36.078Z"
   },
   {
    "duration": 200,
    "start_time": "2021-11-06T13:11:46.788Z"
   },
   {
    "duration": 454,
    "start_time": "2021-11-06T13:13:05.553Z"
   },
   {
    "duration": 34,
    "start_time": "2021-11-06T13:18:07.119Z"
   },
   {
    "duration": 7,
    "start_time": "2021-11-06T13:18:57.900Z"
   },
   {
    "duration": 8,
    "start_time": "2021-11-06T13:21:22.798Z"
   },
   {
    "duration": 10,
    "start_time": "2021-11-06T13:22:16.859Z"
   },
   {
    "duration": 18,
    "start_time": "2021-11-06T13:26:49.730Z"
   },
   {
    "duration": 19,
    "start_time": "2021-11-06T13:27:41.226Z"
   },
   {
    "duration": 20,
    "start_time": "2021-11-06T13:36:13.870Z"
   },
   {
    "duration": 18,
    "start_time": "2021-11-06T13:37:56.105Z"
   },
   {
    "duration": 4685,
    "start_time": "2021-11-06T13:38:31.184Z"
   },
   {
    "duration": 24,
    "start_time": "2021-11-06T13:38:47.687Z"
   },
   {
    "duration": 19,
    "start_time": "2021-11-06T13:39:02.736Z"
   },
   {
    "duration": 17,
    "start_time": "2021-11-06T13:39:10.463Z"
   },
   {
    "duration": 152,
    "start_time": "2021-11-06T13:41:05.461Z"
   },
   {
    "duration": 148,
    "start_time": "2021-11-06T13:41:43.275Z"
   },
   {
    "duration": 173,
    "start_time": "2021-11-06T13:43:01.888Z"
   },
   {
    "duration": 168,
    "start_time": "2021-11-06T13:43:08.036Z"
   },
   {
    "duration": 197,
    "start_time": "2021-11-06T13:43:14.953Z"
   },
   {
    "duration": 182,
    "start_time": "2021-11-06T13:43:32.008Z"
   },
   {
    "duration": 13,
    "start_time": "2021-11-06T13:49:13.577Z"
   },
   {
    "duration": 16,
    "start_time": "2021-11-06T13:49:19.477Z"
   },
   {
    "duration": 13,
    "start_time": "2021-11-06T13:51:04.690Z"
   },
   {
    "duration": 14,
    "start_time": "2021-11-06T13:51:08.816Z"
   },
   {
    "duration": 285,
    "start_time": "2021-11-06T13:52:21.750Z"
   },
   {
    "duration": 12,
    "start_time": "2021-11-06T13:52:52.436Z"
   },
   {
    "duration": 13,
    "start_time": "2021-11-06T13:53:01.032Z"
   },
   {
    "duration": 13,
    "start_time": "2021-11-06T13:53:09.101Z"
   },
   {
    "duration": 173,
    "start_time": "2021-11-06T13:56:52.199Z"
   },
   {
    "duration": 17,
    "start_time": "2021-11-06T13:57:04.918Z"
   },
   {
    "duration": 17,
    "start_time": "2021-11-06T14:02:30.938Z"
   },
   {
    "duration": 13,
    "start_time": "2021-11-06T14:05:34.490Z"
   },
   {
    "duration": 14,
    "start_time": "2021-11-06T14:05:54.545Z"
   },
   {
    "duration": 548,
    "start_time": "2021-11-06T14:10:15.506Z"
   },
   {
    "duration": 378,
    "start_time": "2021-11-06T14:10:32.777Z"
   },
   {
    "duration": 390,
    "start_time": "2021-11-06T14:14:03.979Z"
   },
   {
    "duration": 532,
    "start_time": "2021-11-06T14:14:09.559Z"
   },
   {
    "duration": 380,
    "start_time": "2021-11-06T14:14:17.687Z"
   },
   {
    "duration": 496,
    "start_time": "2021-11-06T14:17:08.167Z"
   },
   {
    "duration": 474,
    "start_time": "2021-11-06T14:19:48.814Z"
   },
   {
    "duration": 549,
    "start_time": "2021-11-06T14:20:04.693Z"
   },
   {
    "duration": 518,
    "start_time": "2021-11-06T14:21:10.586Z"
   },
   {
    "duration": 548,
    "start_time": "2021-11-06T14:21:34.743Z"
   },
   {
    "duration": 514,
    "start_time": "2021-11-06T14:22:47.192Z"
   },
   {
    "duration": 500,
    "start_time": "2021-11-06T14:23:10.531Z"
   },
   {
    "duration": 533,
    "start_time": "2021-11-06T14:25:05.963Z"
   },
   {
    "duration": 13,
    "start_time": "2021-11-06T14:26:21.431Z"
   },
   {
    "duration": 558,
    "start_time": "2021-11-06T14:28:15.263Z"
   },
   {
    "duration": 14,
    "start_time": "2021-11-06T14:28:25.993Z"
   },
   {
    "duration": 517,
    "start_time": "2021-11-06T14:28:29.180Z"
   },
   {
    "duration": 3,
    "start_time": "2021-11-06T14:31:57.284Z"
   },
   {
    "duration": 4,
    "start_time": "2021-11-06T14:32:03.181Z"
   },
   {
    "duration": 3,
    "start_time": "2021-11-06T14:32:12.321Z"
   },
   {
    "duration": 3,
    "start_time": "2021-11-06T14:34:49.755Z"
   },
   {
    "duration": 3,
    "start_time": "2021-11-06T14:35:08.529Z"
   },
   {
    "duration": 499,
    "start_time": "2021-11-06T14:37:54.018Z"
   },
   {
    "duration": 535,
    "start_time": "2021-11-06T14:39:21.719Z"
   },
   {
    "duration": 606,
    "start_time": "2021-11-06T14:39:31.551Z"
   },
   {
    "duration": 537,
    "start_time": "2021-11-06T14:39:39.765Z"
   },
   {
    "duration": 156,
    "start_time": "2021-11-06T15:30:21.052Z"
   },
   {
    "duration": 228,
    "start_time": "2021-11-06T15:30:25.940Z"
   },
   {
    "duration": 382,
    "start_time": "2021-11-06T15:31:05.030Z"
   },
   {
    "duration": 213,
    "start_time": "2021-11-06T15:31:27.017Z"
   },
   {
    "duration": 1217,
    "start_time": "2021-11-06T15:32:06.684Z"
   },
   {
    "duration": 51,
    "start_time": "2021-11-06T15:32:07.903Z"
   },
   {
    "duration": 13,
    "start_time": "2021-11-06T15:32:07.957Z"
   },
   {
    "duration": 31,
    "start_time": "2021-11-06T15:32:07.972Z"
   },
   {
    "duration": 4,
    "start_time": "2021-11-06T15:32:08.005Z"
   },
   {
    "duration": 36,
    "start_time": "2021-11-06T15:32:08.011Z"
   },
   {
    "duration": 19,
    "start_time": "2021-11-06T15:32:08.048Z"
   },
   {
    "duration": 33,
    "start_time": "2021-11-06T15:32:08.069Z"
   },
   {
    "duration": 16,
    "start_time": "2021-11-06T15:32:08.104Z"
   },
   {
    "duration": 21,
    "start_time": "2021-11-06T15:32:08.122Z"
   },
   {
    "duration": 247,
    "start_time": "2021-11-06T15:32:08.144Z"
   },
   {
    "duration": 6,
    "start_time": "2021-11-06T15:32:08.393Z"
   },
   {
    "duration": 303,
    "start_time": "2021-11-06T15:32:08.400Z"
   },
   {
    "duration": 6,
    "start_time": "2021-11-06T15:32:08.704Z"
   },
   {
    "duration": 172,
    "start_time": "2021-11-06T15:32:08.712Z"
   },
   {
    "duration": 14,
    "start_time": "2021-11-06T15:32:08.885Z"
   },
   {
    "duration": 22,
    "start_time": "2021-11-06T15:32:08.900Z"
   },
   {
    "duration": 30,
    "start_time": "2021-11-06T15:32:08.924Z"
   },
   {
    "duration": 449,
    "start_time": "2021-11-06T15:32:08.955Z"
   },
   {
    "duration": 412,
    "start_time": "2021-11-06T15:32:09.405Z"
   },
   {
    "duration": 9,
    "start_time": "2021-11-06T15:32:09.819Z"
   },
   {
    "duration": 309,
    "start_time": "2021-11-06T15:32:09.829Z"
   },
   {
    "duration": 33,
    "start_time": "2021-11-06T15:32:10.141Z"
   },
   {
    "duration": 25,
    "start_time": "2021-11-06T15:32:10.176Z"
   },
   {
    "duration": 26,
    "start_time": "2021-11-06T15:32:10.203Z"
   },
   {
    "duration": 24,
    "start_time": "2021-11-06T15:32:10.230Z"
   },
   {
    "duration": 16,
    "start_time": "2021-11-06T15:32:10.256Z"
   },
   {
    "duration": 22,
    "start_time": "2021-11-06T15:32:10.274Z"
   },
   {
    "duration": 1086,
    "start_time": "2021-11-06T15:32:10.297Z"
   },
   {
    "duration": 11,
    "start_time": "2021-11-06T15:32:11.385Z"
   },
   {
    "duration": 17,
    "start_time": "2021-11-06T15:32:11.397Z"
   },
   {
    "duration": 49,
    "start_time": "2021-11-06T15:32:11.416Z"
   },
   {
    "duration": 18,
    "start_time": "2021-11-06T15:32:11.466Z"
   },
   {
    "duration": 26,
    "start_time": "2021-11-06T15:32:11.485Z"
   },
   {
    "duration": 25,
    "start_time": "2021-11-06T15:32:11.512Z"
   },
   {
    "duration": 34,
    "start_time": "2021-11-06T15:32:11.538Z"
   },
   {
    "duration": 28,
    "start_time": "2021-11-06T15:32:11.573Z"
   },
   {
    "duration": 185,
    "start_time": "2021-11-06T15:32:11.602Z"
   },
   {
    "duration": 16,
    "start_time": "2021-11-06T15:32:11.789Z"
   },
   {
    "duration": 23,
    "start_time": "2021-11-06T15:32:11.806Z"
   },
   {
    "duration": 32,
    "start_time": "2021-11-06T15:32:11.831Z"
   },
   {
    "duration": 24,
    "start_time": "2021-11-06T15:32:11.864Z"
   },
   {
    "duration": 30,
    "start_time": "2021-11-06T15:32:11.889Z"
   },
   {
    "duration": 531,
    "start_time": "2021-11-06T15:32:11.920Z"
   },
   {
    "duration": 3,
    "start_time": "2021-11-06T15:32:12.453Z"
   },
   {
    "duration": 158,
    "start_time": "2021-11-06T15:39:57.829Z"
   },
   {
    "duration": 499,
    "start_time": "2021-11-06T15:56:39.700Z"
   },
   {
    "duration": 1102,
    "start_time": "2021-11-06T16:10:18.598Z"
   },
   {
    "duration": 51,
    "start_time": "2021-11-06T16:10:19.701Z"
   },
   {
    "duration": 12,
    "start_time": "2021-11-06T16:10:19.754Z"
   },
   {
    "duration": 24,
    "start_time": "2021-11-06T16:10:19.768Z"
   },
   {
    "duration": 2,
    "start_time": "2021-11-06T16:10:19.794Z"
   },
   {
    "duration": 10,
    "start_time": "2021-11-06T16:10:19.798Z"
   },
   {
    "duration": 10,
    "start_time": "2021-11-06T16:10:19.810Z"
   },
   {
    "duration": 19,
    "start_time": "2021-11-06T16:10:19.822Z"
   },
   {
    "duration": 18,
    "start_time": "2021-11-06T16:10:19.843Z"
   },
   {
    "duration": 9,
    "start_time": "2021-11-06T16:10:19.891Z"
   },
   {
    "duration": 250,
    "start_time": "2021-11-06T16:10:19.902Z"
   },
   {
    "duration": 7,
    "start_time": "2021-11-06T16:10:20.153Z"
   },
   {
    "duration": 304,
    "start_time": "2021-11-06T16:10:20.161Z"
   },
   {
    "duration": 6,
    "start_time": "2021-11-06T16:10:20.466Z"
   },
   {
    "duration": 174,
    "start_time": "2021-11-06T16:10:20.474Z"
   },
   {
    "duration": 11,
    "start_time": "2021-11-06T16:10:20.650Z"
   },
   {
    "duration": 7,
    "start_time": "2021-11-06T16:10:20.663Z"
   },
   {
    "duration": 20,
    "start_time": "2021-11-06T16:10:20.672Z"
   },
   {
    "duration": 455,
    "start_time": "2021-11-06T16:10:20.694Z"
   },
   {
    "duration": 416,
    "start_time": "2021-11-06T16:10:21.150Z"
   },
   {
    "duration": 8,
    "start_time": "2021-11-06T16:10:21.568Z"
   },
   {
    "duration": 316,
    "start_time": "2021-11-06T16:10:21.578Z"
   },
   {
    "duration": 31,
    "start_time": "2021-11-06T16:10:21.898Z"
   },
   {
    "duration": 6,
    "start_time": "2021-11-06T16:10:21.931Z"
   },
   {
    "duration": 13,
    "start_time": "2021-11-06T16:10:21.938Z"
   },
   {
    "duration": 13,
    "start_time": "2021-11-06T16:10:21.952Z"
   },
   {
    "duration": 24,
    "start_time": "2021-11-06T16:10:21.967Z"
   },
   {
    "duration": 6,
    "start_time": "2021-11-06T16:10:21.993Z"
   },
   {
    "duration": 1171,
    "start_time": "2021-11-06T16:10:22.001Z"
   },
   {
    "duration": 9,
    "start_time": "2021-11-06T16:10:23.174Z"
   },
   {
    "duration": 16,
    "start_time": "2021-11-06T16:10:23.185Z"
   },
   {
    "duration": 41,
    "start_time": "2021-11-06T16:10:23.202Z"
   },
   {
    "duration": 22,
    "start_time": "2021-11-06T16:10:23.245Z"
   },
   {
    "duration": 17,
    "start_time": "2021-11-06T16:10:23.269Z"
   },
   {
    "duration": 19,
    "start_time": "2021-11-06T16:10:23.288Z"
   },
   {
    "duration": 24,
    "start_time": "2021-11-06T16:10:23.309Z"
   },
   {
    "duration": 31,
    "start_time": "2021-11-06T16:10:23.334Z"
   },
   {
    "duration": 189,
    "start_time": "2021-11-06T16:10:23.367Z"
   },
   {
    "duration": 19,
    "start_time": "2021-11-06T16:10:23.559Z"
   },
   {
    "duration": 11,
    "start_time": "2021-11-06T16:10:23.592Z"
   },
   {
    "duration": 24,
    "start_time": "2021-11-06T16:10:23.605Z"
   },
   {
    "duration": 20,
    "start_time": "2021-11-06T16:10:23.631Z"
   },
   {
    "duration": 25,
    "start_time": "2021-11-06T16:10:23.652Z"
   },
   {
    "duration": 525,
    "start_time": "2021-11-06T16:10:23.678Z"
   },
   {
    "duration": 3,
    "start_time": "2021-11-06T16:10:24.205Z"
   },
   {
    "duration": 486,
    "start_time": "2021-11-06T16:11:12.823Z"
   },
   {
    "duration": 1130,
    "start_time": "2021-11-06T16:11:24.986Z"
   },
   {
    "duration": 51,
    "start_time": "2021-11-06T16:11:26.117Z"
   },
   {
    "duration": 12,
    "start_time": "2021-11-06T16:11:26.170Z"
   },
   {
    "duration": 18,
    "start_time": "2021-11-06T16:11:26.183Z"
   },
   {
    "duration": 2,
    "start_time": "2021-11-06T16:11:26.202Z"
   },
   {
    "duration": 11,
    "start_time": "2021-11-06T16:11:26.205Z"
   },
   {
    "duration": 10,
    "start_time": "2021-11-06T16:11:26.218Z"
   },
   {
    "duration": 22,
    "start_time": "2021-11-06T16:11:26.230Z"
   },
   {
    "duration": 48,
    "start_time": "2021-11-06T16:11:26.255Z"
   },
   {
    "duration": 8,
    "start_time": "2021-11-06T16:11:26.304Z"
   },
   {
    "duration": 230,
    "start_time": "2021-11-06T16:11:26.314Z"
   },
   {
    "duration": 6,
    "start_time": "2021-11-06T16:11:26.546Z"
   },
   {
    "duration": 295,
    "start_time": "2021-11-06T16:11:26.553Z"
   },
   {
    "duration": 6,
    "start_time": "2021-11-06T16:11:26.849Z"
   },
   {
    "duration": 175,
    "start_time": "2021-11-06T16:11:26.857Z"
   },
   {
    "duration": 11,
    "start_time": "2021-11-06T16:11:27.034Z"
   },
   {
    "duration": 6,
    "start_time": "2021-11-06T16:11:27.046Z"
   },
   {
    "duration": 10,
    "start_time": "2021-11-06T16:11:27.053Z"
   },
   {
    "duration": 465,
    "start_time": "2021-11-06T16:11:27.065Z"
   },
   {
    "duration": 411,
    "start_time": "2021-11-06T16:11:27.531Z"
   },
   {
    "duration": 9,
    "start_time": "2021-11-06T16:11:27.943Z"
   },
   {
    "duration": 296,
    "start_time": "2021-11-06T16:11:27.954Z"
   },
   {
    "duration": 42,
    "start_time": "2021-11-06T16:11:28.253Z"
   },
   {
    "duration": 7,
    "start_time": "2021-11-06T16:11:28.298Z"
   },
   {
    "duration": 11,
    "start_time": "2021-11-06T16:11:28.306Z"
   },
   {
    "duration": 10,
    "start_time": "2021-11-06T16:11:28.318Z"
   },
   {
    "duration": 5,
    "start_time": "2021-11-06T16:11:28.330Z"
   },
   {
    "duration": 7,
    "start_time": "2021-11-06T16:11:28.336Z"
   },
   {
    "duration": 864,
    "start_time": "2021-11-06T16:11:28.344Z"
   },
   {
    "duration": 9,
    "start_time": "2021-11-06T16:11:29.209Z"
   },
   {
    "duration": 2,
    "start_time": "2021-11-06T16:11:29.220Z"
   },
   {
    "duration": 24,
    "start_time": "2021-11-06T16:11:29.223Z"
   },
   {
    "duration": 12,
    "start_time": "2021-11-06T16:11:29.248Z"
   },
   {
    "duration": 33,
    "start_time": "2021-11-06T16:11:29.261Z"
   },
   {
    "duration": 10,
    "start_time": "2021-11-06T16:11:29.296Z"
   },
   {
    "duration": 12,
    "start_time": "2021-11-06T16:11:29.307Z"
   },
   {
    "duration": 18,
    "start_time": "2021-11-06T16:11:29.321Z"
   },
   {
    "duration": 204,
    "start_time": "2021-11-06T16:11:29.341Z"
   },
   {
    "duration": 17,
    "start_time": "2021-11-06T16:11:29.546Z"
   },
   {
    "duration": 10,
    "start_time": "2021-11-06T16:11:29.565Z"
   },
   {
    "duration": 22,
    "start_time": "2021-11-06T16:11:29.576Z"
   },
   {
    "duration": 11,
    "start_time": "2021-11-06T16:11:29.599Z"
   },
   {
    "duration": 11,
    "start_time": "2021-11-06T16:11:29.611Z"
   },
   {
    "duration": 567,
    "start_time": "2021-11-06T16:11:29.624Z"
   },
   {
    "duration": 3,
    "start_time": "2021-11-06T16:11:30.193Z"
   },
   {
    "duration": 1765,
    "start_time": "2021-11-06T16:16:16.588Z"
   },
   {
    "duration": 66,
    "start_time": "2021-11-06T16:16:18.356Z"
   },
   {
    "duration": 41,
    "start_time": "2021-11-06T16:16:18.426Z"
   },
   {
    "duration": 26,
    "start_time": "2021-11-06T16:16:18.471Z"
   },
   {
    "duration": 4,
    "start_time": "2021-11-06T16:16:18.500Z"
   },
   {
    "duration": 54,
    "start_time": "2021-11-06T16:16:18.507Z"
   },
   {
    "duration": 19,
    "start_time": "2021-11-06T16:16:18.564Z"
   },
   {
    "duration": 61,
    "start_time": "2021-11-06T16:16:18.586Z"
   },
   {
    "duration": 38,
    "start_time": "2021-11-06T16:16:18.656Z"
   },
   {
    "duration": 13,
    "start_time": "2021-11-06T16:16:18.696Z"
   },
   {
    "duration": 563,
    "start_time": "2021-11-06T16:16:18.711Z"
   },
   {
    "duration": 8,
    "start_time": "2021-11-06T16:16:19.277Z"
   },
   {
    "duration": 593,
    "start_time": "2021-11-06T16:16:19.288Z"
   },
   {
    "duration": 8,
    "start_time": "2021-11-06T16:16:19.883Z"
   },
   {
    "duration": 335,
    "start_time": "2021-11-06T16:16:19.894Z"
   },
   {
    "duration": 31,
    "start_time": "2021-11-06T16:16:20.233Z"
   },
   {
    "duration": 14,
    "start_time": "2021-11-06T16:16:20.268Z"
   },
   {
    "duration": 16,
    "start_time": "2021-11-06T16:16:20.285Z"
   },
   {
    "duration": 808,
    "start_time": "2021-11-06T16:16:20.304Z"
   },
   {
    "duration": 811,
    "start_time": "2021-11-06T16:16:21.114Z"
   },
   {
    "duration": 23,
    "start_time": "2021-11-06T16:16:21.927Z"
   },
   {
    "duration": 593,
    "start_time": "2021-11-06T16:16:21.955Z"
   },
   {
    "duration": 57,
    "start_time": "2021-11-06T16:16:22.557Z"
   },
   {
    "duration": 32,
    "start_time": "2021-11-06T16:16:22.617Z"
   },
   {
    "duration": 25,
    "start_time": "2021-11-06T16:16:22.655Z"
   },
   {
    "duration": 10,
    "start_time": "2021-11-06T16:16:22.682Z"
   },
   {
    "duration": 13,
    "start_time": "2021-11-06T16:16:22.695Z"
   },
   {
    "duration": 52,
    "start_time": "2021-11-06T16:16:22.710Z"
   },
   {
    "duration": 930,
    "start_time": "2021-11-06T16:16:22.765Z"
   },
   {
    "duration": 13,
    "start_time": "2021-11-06T16:16:23.697Z"
   },
   {
    "duration": 27,
    "start_time": "2021-11-06T16:16:23.713Z"
   },
   {
    "duration": 47,
    "start_time": "2021-11-06T16:16:23.744Z"
   },
   {
    "duration": 21,
    "start_time": "2021-11-06T16:16:23.794Z"
   },
   {
    "duration": 57,
    "start_time": "2021-11-06T16:16:23.817Z"
   },
   {
    "duration": 30,
    "start_time": "2021-11-06T16:16:23.877Z"
   },
   {
    "duration": 55,
    "start_time": "2021-11-06T16:16:23.909Z"
   },
   {
    "duration": 37,
    "start_time": "2021-11-06T16:16:23.967Z"
   },
   {
    "duration": 380,
    "start_time": "2021-11-06T16:16:24.006Z"
   },
   {
    "duration": 56,
    "start_time": "2021-11-06T16:16:24.389Z"
   },
   {
    "duration": 23,
    "start_time": "2021-11-06T16:16:24.448Z"
   },
   {
    "duration": 16,
    "start_time": "2021-11-06T16:16:24.473Z"
   },
   {
    "duration": 47,
    "start_time": "2021-11-06T16:16:24.491Z"
   },
   {
    "duration": 21,
    "start_time": "2021-11-06T16:16:24.554Z"
   },
   {
    "duration": 1026,
    "start_time": "2021-11-06T16:16:24.578Z"
   },
   {
    "duration": 4,
    "start_time": "2021-11-06T16:16:25.606Z"
   },
   {
    "duration": 21,
    "start_time": "2021-11-06T17:20:22.588Z"
   },
   {
    "duration": 4,
    "start_time": "2021-11-06T17:20:45.495Z"
   },
   {
    "duration": 295,
    "start_time": "2021-11-06T17:20:45.502Z"
   },
   {
    "duration": 9,
    "start_time": "2021-11-06T17:20:45.799Z"
   },
   {
    "duration": 15,
    "start_time": "2021-11-06T17:20:45.810Z"
   },
   {
    "duration": 3,
    "start_time": "2021-11-06T17:20:45.826Z"
   },
   {
    "duration": 10,
    "start_time": "2021-11-06T17:20:45.830Z"
   },
   {
    "duration": 12,
    "start_time": "2021-11-06T17:20:45.842Z"
   },
   {
    "duration": 43,
    "start_time": "2021-11-06T17:20:45.856Z"
   },
   {
    "duration": 18,
    "start_time": "2021-11-06T17:20:45.902Z"
   },
   {
    "duration": 8,
    "start_time": "2021-11-06T17:20:45.921Z"
   },
   {
    "duration": 239,
    "start_time": "2021-11-06T17:20:45.931Z"
   },
   {
    "duration": 6,
    "start_time": "2021-11-06T17:20:46.172Z"
   },
   {
    "duration": 294,
    "start_time": "2021-11-06T17:20:46.191Z"
   },
   {
    "duration": 6,
    "start_time": "2021-11-06T17:20:46.487Z"
   },
   {
    "duration": 171,
    "start_time": "2021-11-06T17:20:46.494Z"
   },
   {
    "duration": 12,
    "start_time": "2021-11-06T17:20:46.666Z"
   },
   {
    "duration": 6,
    "start_time": "2021-11-06T17:20:46.692Z"
   },
   {
    "duration": 11,
    "start_time": "2021-11-06T17:20:46.699Z"
   },
   {
    "duration": 469,
    "start_time": "2021-11-06T17:20:46.712Z"
   },
   {
    "duration": 454,
    "start_time": "2021-11-06T17:20:47.182Z"
   },
   {
    "duration": 9,
    "start_time": "2021-11-06T17:20:47.637Z"
   },
   {
    "duration": 300,
    "start_time": "2021-11-06T17:20:47.648Z"
   },
   {
    "duration": 42,
    "start_time": "2021-11-06T17:20:47.949Z"
   },
   {
    "duration": 6,
    "start_time": "2021-11-06T17:20:47.994Z"
   },
   {
    "duration": 11,
    "start_time": "2021-11-06T17:20:48.002Z"
   },
   {
    "duration": 13,
    "start_time": "2021-11-06T17:20:48.014Z"
   },
   {
    "duration": 10,
    "start_time": "2021-11-06T17:20:48.028Z"
   },
   {
    "duration": 8,
    "start_time": "2021-11-06T17:20:48.039Z"
   },
   {
    "duration": 1078,
    "start_time": "2021-11-06T17:20:48.048Z"
   },
   {
    "duration": 10,
    "start_time": "2021-11-06T17:20:49.127Z"
   },
   {
    "duration": 3,
    "start_time": "2021-11-06T17:20:49.138Z"
   },
   {
    "duration": 24,
    "start_time": "2021-11-06T17:20:49.142Z"
   },
   {
    "duration": 13,
    "start_time": "2021-11-06T17:20:49.167Z"
   },
   {
    "duration": 16,
    "start_time": "2021-11-06T17:20:49.181Z"
   },
   {
    "duration": 10,
    "start_time": "2021-11-06T17:20:49.199Z"
   },
   {
    "duration": 15,
    "start_time": "2021-11-06T17:20:49.211Z"
   },
   {
    "duration": 8,
    "start_time": "2021-11-06T17:20:49.227Z"
   },
   {
    "duration": 18,
    "start_time": "2021-11-06T17:20:49.237Z"
   },
   {
    "duration": 229,
    "start_time": "2021-11-06T17:20:49.256Z"
   },
   {
    "duration": 22,
    "start_time": "2021-11-06T17:20:49.486Z"
   },
   {
    "duration": 10,
    "start_time": "2021-11-06T17:20:49.509Z"
   },
   {
    "duration": 9,
    "start_time": "2021-11-06T17:20:49.521Z"
   },
   {
    "duration": 10,
    "start_time": "2021-11-06T17:20:49.532Z"
   },
   {
    "duration": 10,
    "start_time": "2021-11-06T17:20:49.543Z"
   },
   {
    "duration": 597,
    "start_time": "2021-11-06T17:20:49.555Z"
   },
   {
    "duration": 3,
    "start_time": "2021-11-06T17:20:50.154Z"
   },
   {
    "duration": 12,
    "start_time": "2021-11-06T17:21:17.255Z"
   },
   {
    "duration": 11,
    "start_time": "2021-11-06T17:21:33.185Z"
   },
   {
    "duration": 272,
    "start_time": "2021-11-06T17:22:55.998Z"
   },
   {
    "duration": 30,
    "start_time": "2021-11-06T17:23:27.500Z"
   },
   {
    "duration": 33,
    "start_time": "2021-11-06T17:26:51.867Z"
   },
   {
    "duration": 10,
    "start_time": "2021-11-06T17:28:47.697Z"
   },
   {
    "duration": 3,
    "start_time": "2021-11-06T17:28:51.136Z"
   },
   {
    "duration": 52,
    "start_time": "2021-11-06T17:28:51.140Z"
   },
   {
    "duration": 15,
    "start_time": "2021-11-06T17:28:51.194Z"
   },
   {
    "duration": 16,
    "start_time": "2021-11-06T17:28:51.210Z"
   },
   {
    "duration": 2,
    "start_time": "2021-11-06T17:28:51.228Z"
   },
   {
    "duration": 11,
    "start_time": "2021-11-06T17:28:51.232Z"
   },
   {
    "duration": 50,
    "start_time": "2021-11-06T17:28:51.245Z"
   },
   {
    "duration": 22,
    "start_time": "2021-11-06T17:28:51.298Z"
   },
   {
    "duration": 19,
    "start_time": "2021-11-06T17:28:51.322Z"
   },
   {
    "duration": 9,
    "start_time": "2021-11-06T17:28:51.343Z"
   },
   {
    "duration": 294,
    "start_time": "2021-11-06T17:28:51.354Z"
   },
   {
    "duration": 8,
    "start_time": "2021-11-06T17:28:51.650Z"
   },
   {
    "duration": 346,
    "start_time": "2021-11-06T17:28:51.660Z"
   },
   {
    "duration": 6,
    "start_time": "2021-11-06T17:28:52.008Z"
   },
   {
    "duration": 196,
    "start_time": "2021-11-06T17:28:52.016Z"
   },
   {
    "duration": 11,
    "start_time": "2021-11-06T17:28:52.214Z"
   },
   {
    "duration": 10,
    "start_time": "2021-11-06T17:28:52.226Z"
   },
   {
    "duration": 9,
    "start_time": "2021-11-06T17:28:52.237Z"
   },
   {
    "duration": 500,
    "start_time": "2021-11-06T17:28:52.250Z"
   },
   {
    "duration": 489,
    "start_time": "2021-11-06T17:28:52.752Z"
   },
   {
    "duration": 9,
    "start_time": "2021-11-06T17:28:53.243Z"
   },
   {
    "duration": 325,
    "start_time": "2021-11-06T17:28:53.254Z"
   },
   {
    "duration": 45,
    "start_time": "2021-11-06T17:28:53.581Z"
   },
   {
    "duration": 12,
    "start_time": "2021-11-06T17:28:53.628Z"
   },
   {
    "duration": 20,
    "start_time": "2021-11-06T17:28:53.641Z"
   },
   {
    "duration": 11,
    "start_time": "2021-11-06T17:28:53.663Z"
   },
   {
    "duration": 16,
    "start_time": "2021-11-06T17:28:53.676Z"
   },
   {
    "duration": 17,
    "start_time": "2021-11-06T17:28:53.695Z"
   },
   {
    "duration": 1161,
    "start_time": "2021-11-06T17:28:53.714Z"
   },
   {
    "duration": 9,
    "start_time": "2021-11-06T17:28:54.877Z"
   },
   {
    "duration": 4,
    "start_time": "2021-11-06T17:28:54.888Z"
   },
   {
    "duration": 29,
    "start_time": "2021-11-06T17:28:54.894Z"
   },
   {
    "duration": 12,
    "start_time": "2021-11-06T17:28:54.925Z"
   },
   {
    "duration": 13,
    "start_time": "2021-11-06T17:28:54.939Z"
   },
   {
    "duration": 12,
    "start_time": "2021-11-06T17:28:54.954Z"
   },
   {
    "duration": 41,
    "start_time": "2021-11-06T17:28:54.967Z"
   },
   {
    "duration": 8,
    "start_time": "2021-11-06T17:28:55.010Z"
   },
   {
    "duration": 20,
    "start_time": "2021-11-06T17:28:55.019Z"
   },
   {
    "duration": 225,
    "start_time": "2021-11-06T17:28:55.041Z"
   },
   {
    "duration": 32,
    "start_time": "2021-11-06T17:28:55.268Z"
   },
   {
    "duration": 13,
    "start_time": "2021-11-06T17:28:55.302Z"
   },
   {
    "duration": 11,
    "start_time": "2021-11-06T17:28:55.317Z"
   },
   {
    "duration": 12,
    "start_time": "2021-11-06T17:28:55.329Z"
   },
   {
    "duration": 13,
    "start_time": "2021-11-06T17:28:55.342Z"
   },
   {
    "duration": 572,
    "start_time": "2021-11-06T17:28:55.357Z"
   },
   {
    "duration": 4,
    "start_time": "2021-11-06T17:28:55.931Z"
   },
   {
    "duration": 3,
    "start_time": "2021-11-06T17:32:16.407Z"
   },
   {
    "duration": 3,
    "start_time": "2021-11-06T18:18:46.240Z"
   },
   {
    "duration": 65,
    "start_time": "2021-11-06T18:18:46.245Z"
   },
   {
    "duration": 9,
    "start_time": "2021-11-06T18:18:46.312Z"
   },
   {
    "duration": 16,
    "start_time": "2021-11-06T18:18:46.323Z"
   },
   {
    "duration": 2,
    "start_time": "2021-11-06T18:18:46.341Z"
   },
   {
    "duration": 12,
    "start_time": "2021-11-06T18:18:46.344Z"
   },
   {
    "duration": 46,
    "start_time": "2021-11-06T18:18:46.358Z"
   },
   {
    "duration": 20,
    "start_time": "2021-11-06T18:18:46.408Z"
   },
   {
    "duration": 18,
    "start_time": "2021-11-06T18:18:46.430Z"
   },
   {
    "duration": 9,
    "start_time": "2021-11-06T18:18:46.449Z"
   },
   {
    "duration": 262,
    "start_time": "2021-11-06T18:18:46.459Z"
   },
   {
    "duration": 6,
    "start_time": "2021-11-06T18:18:46.723Z"
   },
   {
    "duration": 321,
    "start_time": "2021-11-06T18:18:46.731Z"
   },
   {
    "duration": 6,
    "start_time": "2021-11-06T18:18:47.054Z"
   },
   {
    "duration": 184,
    "start_time": "2021-11-06T18:18:47.062Z"
   },
   {
    "duration": 12,
    "start_time": "2021-11-06T18:18:47.248Z"
   },
   {
    "duration": 8,
    "start_time": "2021-11-06T18:18:47.261Z"
   },
   {
    "duration": 21,
    "start_time": "2021-11-06T18:18:47.271Z"
   },
   {
    "duration": 455,
    "start_time": "2021-11-06T18:18:47.295Z"
   },
   {
    "duration": 491,
    "start_time": "2021-11-06T18:18:47.751Z"
   },
   {
    "duration": 9,
    "start_time": "2021-11-06T18:18:48.244Z"
   },
   {
    "duration": 325,
    "start_time": "2021-11-06T18:18:48.255Z"
   },
   {
    "duration": 50,
    "start_time": "2021-11-06T18:18:48.583Z"
   },
   {
    "duration": 9,
    "start_time": "2021-11-06T18:18:48.635Z"
   },
   {
    "duration": 17,
    "start_time": "2021-11-06T18:18:48.646Z"
   },
   {
    "duration": 18,
    "start_time": "2021-11-06T18:18:48.664Z"
   },
   {
    "duration": 19,
    "start_time": "2021-11-06T18:18:48.684Z"
   },
   {
    "duration": 7,
    "start_time": "2021-11-06T18:18:48.705Z"
   },
   {
    "duration": 1079,
    "start_time": "2021-11-06T18:18:48.714Z"
   },
   {
    "duration": 18,
    "start_time": "2021-11-06T18:18:49.795Z"
   },
   {
    "duration": 3,
    "start_time": "2021-11-06T18:18:49.815Z"
   },
   {
    "duration": 34,
    "start_time": "2021-11-06T18:18:49.820Z"
   },
   {
    "duration": 21,
    "start_time": "2021-11-06T18:18:49.892Z"
   },
   {
    "duration": 12,
    "start_time": "2021-11-06T18:18:49.915Z"
   },
   {
    "duration": 12,
    "start_time": "2021-11-06T18:18:49.929Z"
   },
   {
    "duration": 16,
    "start_time": "2021-11-06T18:18:49.942Z"
   },
   {
    "duration": 6,
    "start_time": "2021-11-06T18:18:49.959Z"
   },
   {
    "duration": 19,
    "start_time": "2021-11-06T18:18:49.966Z"
   },
   {
    "duration": 207,
    "start_time": "2021-11-06T18:18:49.992Z"
   },
   {
    "duration": 25,
    "start_time": "2021-11-06T18:18:50.201Z"
   },
   {
    "duration": 11,
    "start_time": "2021-11-06T18:18:50.228Z"
   },
   {
    "duration": 11,
    "start_time": "2021-11-06T18:18:50.240Z"
   },
   {
    "duration": 11,
    "start_time": "2021-11-06T18:18:50.252Z"
   },
   {
    "duration": 10,
    "start_time": "2021-11-06T18:18:50.265Z"
   },
   {
    "duration": 745,
    "start_time": "2021-11-06T18:18:50.276Z"
   },
   {
    "duration": 3,
    "start_time": "2021-11-06T18:18:51.023Z"
   },
   {
    "duration": 465,
    "start_time": "2021-11-06T19:05:39.349Z"
   },
   {
    "duration": 1096,
    "start_time": "2021-11-06T19:12:37.827Z"
   },
   {
    "duration": 50,
    "start_time": "2021-11-06T19:12:38.925Z"
   },
   {
    "duration": 11,
    "start_time": "2021-11-06T19:12:38.977Z"
   },
   {
    "duration": 20,
    "start_time": "2021-11-06T19:12:38.991Z"
   },
   {
    "duration": 2,
    "start_time": "2021-11-06T19:12:39.013Z"
   },
   {
    "duration": 12,
    "start_time": "2021-11-06T19:12:39.016Z"
   },
   {
    "duration": 12,
    "start_time": "2021-11-06T19:12:39.030Z"
   },
   {
    "duration": 20,
    "start_time": "2021-11-06T19:12:39.043Z"
   },
   {
    "duration": 45,
    "start_time": "2021-11-06T19:12:39.065Z"
   },
   {
    "duration": 8,
    "start_time": "2021-11-06T19:12:39.113Z"
   },
   {
    "duration": 249,
    "start_time": "2021-11-06T19:12:39.122Z"
   },
   {
    "duration": 7,
    "start_time": "2021-11-06T19:12:39.373Z"
   },
   {
    "duration": 317,
    "start_time": "2021-11-06T19:12:39.392Z"
   },
   {
    "duration": 6,
    "start_time": "2021-11-06T19:12:39.711Z"
   },
   {
    "duration": 182,
    "start_time": "2021-11-06T19:12:39.719Z"
   },
   {
    "duration": 11,
    "start_time": "2021-11-06T19:12:39.904Z"
   },
   {
    "duration": 5,
    "start_time": "2021-11-06T19:12:39.917Z"
   },
   {
    "duration": 9,
    "start_time": "2021-11-06T19:12:39.923Z"
   },
   {
    "duration": 490,
    "start_time": "2021-11-06T19:12:39.934Z"
   },
   {
    "duration": 441,
    "start_time": "2021-11-06T19:12:40.426Z"
   },
   {
    "duration": 9,
    "start_time": "2021-11-06T19:12:40.869Z"
   },
   {
    "duration": 319,
    "start_time": "2021-11-06T19:12:40.880Z"
   },
   {
    "duration": 34,
    "start_time": "2021-11-06T19:12:41.202Z"
   },
   {
    "duration": 6,
    "start_time": "2021-11-06T19:12:41.238Z"
   },
   {
    "duration": 9,
    "start_time": "2021-11-06T19:12:41.245Z"
   },
   {
    "duration": 8,
    "start_time": "2021-11-06T19:12:41.255Z"
   },
   {
    "duration": 7,
    "start_time": "2021-11-06T19:12:41.292Z"
   },
   {
    "duration": 12,
    "start_time": "2021-11-06T19:12:41.303Z"
   },
   {
    "duration": 1432,
    "start_time": "2021-11-06T19:12:41.316Z"
   },
   {
    "duration": 10,
    "start_time": "2021-11-06T19:12:42.750Z"
   },
   {
    "duration": 3,
    "start_time": "2021-11-06T19:12:42.761Z"
   },
   {
    "duration": 24,
    "start_time": "2021-11-06T19:12:42.766Z"
   },
   {
    "duration": 18,
    "start_time": "2021-11-06T19:12:42.793Z"
   },
   {
    "duration": 13,
    "start_time": "2021-11-06T19:12:42.813Z"
   },
   {
    "duration": 9,
    "start_time": "2021-11-06T19:12:42.828Z"
   },
   {
    "duration": 15,
    "start_time": "2021-11-06T19:12:42.839Z"
   },
   {
    "duration": 6,
    "start_time": "2021-11-06T19:12:42.855Z"
   },
   {
    "duration": 26,
    "start_time": "2021-11-06T19:12:42.891Z"
   },
   {
    "duration": 224,
    "start_time": "2021-11-06T19:12:42.918Z"
   },
   {
    "duration": 17,
    "start_time": "2021-11-06T19:12:43.144Z"
   },
   {
    "duration": 10,
    "start_time": "2021-11-06T19:12:43.163Z"
   },
   {
    "duration": 31,
    "start_time": "2021-11-06T19:12:43.174Z"
   },
   {
    "duration": 10,
    "start_time": "2021-11-06T19:12:43.207Z"
   },
   {
    "duration": 11,
    "start_time": "2021-11-06T19:12:43.218Z"
   },
   {
    "duration": 604,
    "start_time": "2021-11-06T19:12:43.230Z"
   },
   {
    "duration": 4,
    "start_time": "2021-11-06T19:12:43.835Z"
   }
  ],
  "kernelspec": {
   "display_name": "Python 3",
   "language": "python",
   "name": "python3"
  },
  "language_info": {
   "codemirror_mode": {
    "name": "ipython",
    "version": 3
   },
   "file_extension": ".py",
   "mimetype": "text/x-python",
   "name": "python",
   "nbconvert_exporter": "python",
   "pygments_lexer": "ipython3",
   "version": "3.8.8"
  },
  "toc": {
   "base_numbering": 1,
   "nav_menu": {},
   "number_sections": true,
   "sideBar": true,
   "skip_h1_title": true,
   "title_cell": "Содержание",
   "title_sidebar": "Contents",
   "toc_cell": true,
   "toc_position": {},
   "toc_section_display": true,
   "toc_window_display": false
  }
 },
 "nbformat": 4,
 "nbformat_minor": 2
}
